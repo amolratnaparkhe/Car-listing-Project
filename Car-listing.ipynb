{
 "cells": [
  {
   "cell_type": "markdown",
   "metadata": {},
   "source": [
    "# Predicting the price of a used car(SUV/Sedan) in Greater Cleveland area.\n"
   ]
  },
  {
   "cell_type": "code",
   "execution_count": 1,
   "metadata": {},
   "outputs": [],
   "source": [
    "import numpy as np\n",
    "import pandas as pd\n",
    "import matplotlib.pyplot as plt\n",
    "import seaborn as sns\n",
    "from scipy.stats import norm\n",
    "%matplotlib inline"
   ]
  },
  {
   "cell_type": "code",
   "execution_count": null,
   "metadata": {},
   "outputs": [],
   "source": []
  },
  {
   "cell_type": "code",
   "execution_count": 141,
   "metadata": {},
   "outputs": [],
   "source": [
    "sns.set_style(\"whitegrid\")"
   ]
  },
  {
   "cell_type": "code",
   "execution_count": 3,
   "metadata": {},
   "outputs": [
    {
     "data": {
      "text/html": [
       "<div>\n",
       "<style scoped>\n",
       "    .dataframe tbody tr th:only-of-type {\n",
       "        vertical-align: middle;\n",
       "    }\n",
       "\n",
       "    .dataframe tbody tr th {\n",
       "        vertical-align: top;\n",
       "    }\n",
       "\n",
       "    .dataframe thead th {\n",
       "        text-align: right;\n",
       "    }\n",
       "</style>\n",
       "<table border=\"1\" class=\"dataframe\">\n",
       "  <thead>\n",
       "    <tr style=\"text-align: right;\">\n",
       "      <th></th>\n",
       "      <th>Id</th>\n",
       "      <th>Accidents</th>\n",
       "      <th>Body_type</th>\n",
       "      <th>Year</th>\n",
       "      <th>Fuel_economy_combined</th>\n",
       "      <th>Days_on_market</th>\n",
       "      <th>Rating</th>\n",
       "      <th>Distance</th>\n",
       "      <th>Color</th>\n",
       "      <th>Drivetrain</th>\n",
       "      <th>Engine</th>\n",
       "      <th>Make</th>\n",
       "      <th>Mileage</th>\n",
       "      <th>Model</th>\n",
       "      <th>Transmission</th>\n",
       "      <th>Additional_features</th>\n",
       "      <th>Previous_owners</th>\n",
       "      <th>Price_drops</th>\n",
       "      <th>Photos</th>\n",
       "      <th>Seats</th>\n",
       "      <th>Seller_type</th>\n",
       "      <th>Trim</th>\n",
       "      <th>Price</th>\n",
       "    </tr>\n",
       "  </thead>\n",
       "  <tbody>\n",
       "    <tr>\n",
       "      <th>0</th>\n",
       "      <td>271936521</td>\n",
       "      <td>0</td>\n",
       "      <td>Sedan</td>\n",
       "      <td>2017</td>\n",
       "      <td>29 MPG</td>\n",
       "      <td>37</td>\n",
       "      <td>GREAT_PRICE</td>\n",
       "      <td>97.736984</td>\n",
       "      <td>BLACK</td>\n",
       "      <td>FRONT_WHEEL_DRIVE</td>\n",
       "      <td>I4</td>\n",
       "      <td>Chevrolet</td>\n",
       "      <td>49516</td>\n",
       "      <td>Sonic</td>\n",
       "      <td>Automatic</td>\n",
       "      <td>5</td>\n",
       "      <td>2</td>\n",
       "      <td>NaN</td>\n",
       "      <td>True</td>\n",
       "      <td>5</td>\n",
       "      <td>DEALER</td>\n",
       "      <td>LT Sedan FWD</td>\n",
       "      <td>7495.0</td>\n",
       "    </tr>\n",
       "    <tr>\n",
       "      <th>1</th>\n",
       "      <td>273738682</td>\n",
       "      <td>0</td>\n",
       "      <td>Sedan</td>\n",
       "      <td>2009</td>\n",
       "      <td>27 MPG</td>\n",
       "      <td>10</td>\n",
       "      <td>GREAT_PRICE</td>\n",
       "      <td>171.23712</td>\n",
       "      <td>SILVER</td>\n",
       "      <td>FRONT_WHEEL_DRIVE</td>\n",
       "      <td>I4</td>\n",
       "      <td>Chevrolet</td>\n",
       "      <td>132196</td>\n",
       "      <td>Malibu</td>\n",
       "      <td>Automatic</td>\n",
       "      <td>5</td>\n",
       "      <td>2</td>\n",
       "      <td>NaN</td>\n",
       "      <td>True</td>\n",
       "      <td>5</td>\n",
       "      <td>DEALER</td>\n",
       "      <td>LTZ FWD</td>\n",
       "      <td>3997.0</td>\n",
       "    </tr>\n",
       "    <tr>\n",
       "      <th>2</th>\n",
       "      <td>272560966</td>\n",
       "      <td>2</td>\n",
       "      <td>Sedan</td>\n",
       "      <td>2015</td>\n",
       "      <td>26 MPG</td>\n",
       "      <td>28</td>\n",
       "      <td>GREAT_PRICE</td>\n",
       "      <td>116.38247</td>\n",
       "      <td>BROWN</td>\n",
       "      <td>FRONT_WHEEL_DRIVE</td>\n",
       "      <td>I4</td>\n",
       "      <td>Chevrolet</td>\n",
       "      <td>20833</td>\n",
       "      <td>Impala</td>\n",
       "      <td>Automatic</td>\n",
       "      <td>6</td>\n",
       "      <td>1</td>\n",
       "      <td>NaN</td>\n",
       "      <td>True</td>\n",
       "      <td>5</td>\n",
       "      <td>DEALER</td>\n",
       "      <td>LTZ 1LZ FWD</td>\n",
       "      <td>15995.0</td>\n",
       "    </tr>\n",
       "    <tr>\n",
       "      <th>3</th>\n",
       "      <td>268734916</td>\n",
       "      <td>2</td>\n",
       "      <td>Sedan</td>\n",
       "      <td>2012</td>\n",
       "      <td>NaN</td>\n",
       "      <td>97</td>\n",
       "      <td>GREAT_PRICE</td>\n",
       "      <td>13.022558</td>\n",
       "      <td>BLACK</td>\n",
       "      <td>REAR_WHEEL_DRIVE</td>\n",
       "      <td>V6</td>\n",
       "      <td>Chevrolet</td>\n",
       "      <td>71347</td>\n",
       "      <td>Caprice</td>\n",
       "      <td>6-Speed Automatic</td>\n",
       "      <td>1</td>\n",
       "      <td>1</td>\n",
       "      <td>NaN</td>\n",
       "      <td>True</td>\n",
       "      <td>5</td>\n",
       "      <td>DEALER</td>\n",
       "      <td>Police Sedan RWD</td>\n",
       "      <td>5995.0</td>\n",
       "    </tr>\n",
       "    <tr>\n",
       "      <th>4</th>\n",
       "      <td>269505576</td>\n",
       "      <td>0</td>\n",
       "      <td>Sedan</td>\n",
       "      <td>2017</td>\n",
       "      <td>31 MPG</td>\n",
       "      <td>86</td>\n",
       "      <td>GREAT_PRICE</td>\n",
       "      <td>126.89147</td>\n",
       "      <td>SILVER</td>\n",
       "      <td>FRONT_WHEEL_DRIVE</td>\n",
       "      <td>I4</td>\n",
       "      <td>Chevrolet</td>\n",
       "      <td>31152</td>\n",
       "      <td>Malibu</td>\n",
       "      <td>6-Speed Automatic</td>\n",
       "      <td>4</td>\n",
       "      <td>1</td>\n",
       "      <td>NaN</td>\n",
       "      <td>True</td>\n",
       "      <td>5</td>\n",
       "      <td>DEALER</td>\n",
       "      <td>LT FWD</td>\n",
       "      <td>12925.0</td>\n",
       "    </tr>\n",
       "  </tbody>\n",
       "</table>\n",
       "</div>"
      ],
      "text/plain": [
       "          Id Accidents Body_type  Year Fuel_economy_combined Days_on_market  \\\n",
       "0  271936521         0     Sedan  2017                29 MPG             37   \n",
       "1  273738682         0     Sedan  2009                27 MPG             10   \n",
       "2  272560966         2     Sedan  2015                26 MPG             28   \n",
       "3  268734916         2     Sedan  2012                   NaN             97   \n",
       "4  269505576         0     Sedan  2017                31 MPG             86   \n",
       "\n",
       "        Rating   Distance   Color         Drivetrain Engine       Make  \\\n",
       "0  GREAT_PRICE  97.736984   BLACK  FRONT_WHEEL_DRIVE     I4  Chevrolet   \n",
       "1  GREAT_PRICE  171.23712  SILVER  FRONT_WHEEL_DRIVE     I4  Chevrolet   \n",
       "2  GREAT_PRICE  116.38247   BROWN  FRONT_WHEEL_DRIVE     I4  Chevrolet   \n",
       "3  GREAT_PRICE  13.022558   BLACK   REAR_WHEEL_DRIVE     V6  Chevrolet   \n",
       "4  GREAT_PRICE  126.89147  SILVER  FRONT_WHEEL_DRIVE     I4  Chevrolet   \n",
       "\n",
       "  Mileage    Model       Transmission Additional_features Previous_owners  \\\n",
       "0   49516    Sonic          Automatic                   5               2   \n",
       "1  132196   Malibu          Automatic                   5               2   \n",
       "2   20833   Impala          Automatic                   6               1   \n",
       "3   71347  Caprice  6-Speed Automatic                   1               1   \n",
       "4   31152   Malibu  6-Speed Automatic                   4               1   \n",
       "\n",
       "  Price_drops Photos Seats Seller_type              Trim    Price  \n",
       "0         NaN   True     5      DEALER      LT Sedan FWD   7495.0  \n",
       "1         NaN   True     5      DEALER           LTZ FWD   3997.0  \n",
       "2         NaN   True     5      DEALER       LTZ 1LZ FWD  15995.0  \n",
       "3         NaN   True     5      DEALER  Police Sedan RWD   5995.0  \n",
       "4         NaN   True     5      DEALER            LT FWD  12925.0  "
      ]
     },
     "execution_count": 3,
     "metadata": {},
     "output_type": "execute_result"
    }
   ],
   "source": [
    "df = pd.read_csv(\"vehicles.csv\")\n",
    "pd.set_option('display.max_columns', None)\n",
    "df.head()"
   ]
  },
  {
   "cell_type": "code",
   "execution_count": 4,
   "metadata": {},
   "outputs": [
    {
     "data": {
      "text/plain": [
       "(19084, 23)"
      ]
     },
     "execution_count": 4,
     "metadata": {},
     "output_type": "execute_result"
    }
   ],
   "source": [
    "df.shape"
   ]
  },
  {
   "cell_type": "code",
   "execution_count": 5,
   "metadata": {},
   "outputs": [
    {
     "data": {
      "text/plain": [
       "Index(['Id', 'Accidents', 'Body_type', 'Year', 'Fuel_economy_combined',\n",
       "       'Days_on_market', 'Rating', 'Distance', 'Color', 'Drivetrain', 'Engine',\n",
       "       'Make', 'Mileage', 'Model', 'Transmission', 'Additional_features',\n",
       "       'Previous_owners', 'Price_drops', 'Photos', 'Seats', 'Seller_type',\n",
       "       'Trim', 'Price'],\n",
       "      dtype='object')"
      ]
     },
     "execution_count": 5,
     "metadata": {},
     "output_type": "execute_result"
    }
   ],
   "source": [
    "df.columns"
   ]
  },
  {
   "cell_type": "code",
   "execution_count": 6,
   "metadata": {},
   "outputs": [
    {
     "data": {
      "text/html": [
       "<div>\n",
       "<style scoped>\n",
       "    .dataframe tbody tr th:only-of-type {\n",
       "        vertical-align: middle;\n",
       "    }\n",
       "\n",
       "    .dataframe tbody tr th {\n",
       "        vertical-align: top;\n",
       "    }\n",
       "\n",
       "    .dataframe thead th {\n",
       "        text-align: right;\n",
       "    }\n",
       "</style>\n",
       "<table border=\"1\" class=\"dataframe\">\n",
       "  <thead>\n",
       "    <tr style=\"text-align: right;\">\n",
       "      <th></th>\n",
       "      <th>Id</th>\n",
       "      <th>Accidents</th>\n",
       "      <th>Body_type</th>\n",
       "      <th>Year</th>\n",
       "      <th>Fuel_economy_combined</th>\n",
       "      <th>Days_on_market</th>\n",
       "      <th>Rating</th>\n",
       "      <th>Distance</th>\n",
       "      <th>Color</th>\n",
       "      <th>Drivetrain</th>\n",
       "      <th>Engine</th>\n",
       "      <th>Make</th>\n",
       "      <th>Mileage</th>\n",
       "      <th>Model</th>\n",
       "      <th>Transmission</th>\n",
       "      <th>Additional_features</th>\n",
       "      <th>Previous_owners</th>\n",
       "      <th>Price_drops</th>\n",
       "      <th>Photos</th>\n",
       "      <th>Seats</th>\n",
       "      <th>Seller_type</th>\n",
       "      <th>Trim</th>\n",
       "      <th>Price</th>\n",
       "    </tr>\n",
       "  </thead>\n",
       "  <tbody>\n",
       "    <tr>\n",
       "      <th>count</th>\n",
       "      <td>19084</td>\n",
       "      <td>19006</td>\n",
       "      <td>19070</td>\n",
       "      <td>19084</td>\n",
       "      <td>17001</td>\n",
       "      <td>19084</td>\n",
       "      <td>18597</td>\n",
       "      <td>19084</td>\n",
       "      <td>19084</td>\n",
       "      <td>18023</td>\n",
       "      <td>18831</td>\n",
       "      <td>19084</td>\n",
       "      <td>19036</td>\n",
       "      <td>19084</td>\n",
       "      <td>18882</td>\n",
       "      <td>19084</td>\n",
       "      <td>18779</td>\n",
       "      <td>2018</td>\n",
       "      <td>17744</td>\n",
       "      <td>18809</td>\n",
       "      <td>19084</td>\n",
       "      <td>18894</td>\n",
       "      <td>18786</td>\n",
       "    </tr>\n",
       "    <tr>\n",
       "      <th>unique</th>\n",
       "      <td>18463</td>\n",
       "      <td>7</td>\n",
       "      <td>3</td>\n",
       "      <td>18</td>\n",
       "      <td>38</td>\n",
       "      <td>523</td>\n",
       "      <td>7</td>\n",
       "      <td>2235</td>\n",
       "      <td>15</td>\n",
       "      <td>6</td>\n",
       "      <td>9</td>\n",
       "      <td>13</td>\n",
       "      <td>16796</td>\n",
       "      <td>163</td>\n",
       "      <td>32</td>\n",
       "      <td>25</td>\n",
       "      <td>9</td>\n",
       "      <td>2</td>\n",
       "      <td>2</td>\n",
       "      <td>7</td>\n",
       "      <td>3</td>\n",
       "      <td>756</td>\n",
       "      <td>6524</td>\n",
       "    </tr>\n",
       "    <tr>\n",
       "      <th>top</th>\n",
       "      <td>Id</td>\n",
       "      <td>0</td>\n",
       "      <td>SUV / Crossover</td>\n",
       "      <td>2017</td>\n",
       "      <td>29 MPG</td>\n",
       "      <td>4</td>\n",
       "      <td>FAIR_PRICE</td>\n",
       "      <td>180.90224</td>\n",
       "      <td>BLACK</td>\n",
       "      <td>FRONT_WHEEL_DRIVE</td>\n",
       "      <td>I4</td>\n",
       "      <td>Kia</td>\n",
       "      <td>Mileage</td>\n",
       "      <td>Sorento</td>\n",
       "      <td>6-Speed Automatic</td>\n",
       "      <td>3</td>\n",
       "      <td>1</td>\n",
       "      <td>True</td>\n",
       "      <td>True</td>\n",
       "      <td>5</td>\n",
       "      <td>DEALER</td>\n",
       "      <td>LX</td>\n",
       "      <td>7995.0</td>\n",
       "    </tr>\n",
       "    <tr>\n",
       "      <th>freq</th>\n",
       "      <td>22</td>\n",
       "      <td>15723</td>\n",
       "      <td>10327</td>\n",
       "      <td>4866</td>\n",
       "      <td>1502</td>\n",
       "      <td>458</td>\n",
       "      <td>9929</td>\n",
       "      <td>118</td>\n",
       "      <td>3525</td>\n",
       "      <td>9030</td>\n",
       "      <td>13496</td>\n",
       "      <td>2400</td>\n",
       "      <td>22</td>\n",
       "      <td>757</td>\n",
       "      <td>5526</td>\n",
       "      <td>4794</td>\n",
       "      <td>11904</td>\n",
       "      <td>1996</td>\n",
       "      <td>17722</td>\n",
       "      <td>15909</td>\n",
       "      <td>19000</td>\n",
       "      <td>935</td>\n",
       "      <td>152</td>\n",
       "    </tr>\n",
       "  </tbody>\n",
       "</table>\n",
       "</div>"
      ],
      "text/plain": [
       "           Id Accidents        Body_type   Year Fuel_economy_combined  \\\n",
       "count   19084     19006            19070  19084                 17001   \n",
       "unique  18463         7                3     18                    38   \n",
       "top        Id         0  SUV / Crossover   2017                29 MPG   \n",
       "freq       22     15723            10327   4866                  1502   \n",
       "\n",
       "       Days_on_market      Rating   Distance  Color         Drivetrain Engine  \\\n",
       "count           19084       18597      19084  19084              18023  18831   \n",
       "unique            523           7       2235     15                  6      9   \n",
       "top                 4  FAIR_PRICE  180.90224  BLACK  FRONT_WHEEL_DRIVE     I4   \n",
       "freq              458        9929        118   3525               9030  13496   \n",
       "\n",
       "         Make  Mileage    Model       Transmission Additional_features  \\\n",
       "count   19084    19036    19084              18882               19084   \n",
       "unique     13    16796      163                 32                  25   \n",
       "top       Kia  Mileage  Sorento  6-Speed Automatic                   3   \n",
       "freq     2400       22      757               5526                4794   \n",
       "\n",
       "       Previous_owners Price_drops Photos  Seats Seller_type   Trim   Price  \n",
       "count            18779        2018  17744  18809       19084  18894   18786  \n",
       "unique               9           2      2      7           3    756    6524  \n",
       "top                  1        True   True      5      DEALER     LX  7995.0  \n",
       "freq             11904        1996  17722  15909       19000    935     152  "
      ]
     },
     "execution_count": 6,
     "metadata": {},
     "output_type": "execute_result"
    }
   ],
   "source": [
    "df.describe()"
   ]
  },
  {
   "cell_type": "code",
   "execution_count": 7,
   "metadata": {},
   "outputs": [
    {
     "name": "stdout",
     "output_type": "stream",
     "text": [
      "<class 'pandas.core.frame.DataFrame'>\n",
      "RangeIndex: 19084 entries, 0 to 19083\n",
      "Data columns (total 23 columns):\n",
      " #   Column                 Non-Null Count  Dtype \n",
      "---  ------                 --------------  ----- \n",
      " 0   Id                     19084 non-null  object\n",
      " 1   Accidents              19006 non-null  object\n",
      " 2   Body_type              19070 non-null  object\n",
      " 3   Year                   19084 non-null  object\n",
      " 4   Fuel_economy_combined  17001 non-null  object\n",
      " 5   Days_on_market         19084 non-null  object\n",
      " 6   Rating                 18597 non-null  object\n",
      " 7   Distance               19084 non-null  object\n",
      " 8   Color                  19084 non-null  object\n",
      " 9   Drivetrain             18023 non-null  object\n",
      " 10  Engine                 18831 non-null  object\n",
      " 11  Make                   19084 non-null  object\n",
      " 12  Mileage                19036 non-null  object\n",
      " 13  Model                  19084 non-null  object\n",
      " 14  Transmission           18882 non-null  object\n",
      " 15  Additional_features    19084 non-null  object\n",
      " 16  Previous_owners        18779 non-null  object\n",
      " 17  Price_drops            2018 non-null   object\n",
      " 18  Photos                 17744 non-null  object\n",
      " 19  Seats                  18809 non-null  object\n",
      " 20  Seller_type            19084 non-null  object\n",
      " 21  Trim                   18894 non-null  object\n",
      " 22  Price                  18786 non-null  object\n",
      "dtypes: object(23)\n",
      "memory usage: 3.3+ MB\n"
     ]
    }
   ],
   "source": [
    "df.info()"
   ]
  },
  {
   "cell_type": "markdown",
   "metadata": {},
   "source": [
    "### ID for each vehicle must be unique. Looks like we have a few duplicates"
   ]
  },
  {
   "cell_type": "code",
   "execution_count": 8,
   "metadata": {},
   "outputs": [
    {
     "data": {
      "text/plain": [
       "Id           22\n",
       "268593059     2\n",
       "272729237     2\n",
       "272163888     2\n",
       "273506580     2\n",
       "             ..\n",
       "252529672     1\n",
       "268260686     1\n",
       "247705001     1\n",
       "265324606     1\n",
       "274248474     1\n",
       "Name: Id, Length: 18463, dtype: int64"
      ]
     },
     "execution_count": 8,
     "metadata": {},
     "output_type": "execute_result"
    }
   ],
   "source": [
    "df[\"Id\"].value_counts()"
   ]
  },
  {
   "cell_type": "markdown",
   "metadata": {},
   "source": [
    " Looks like the labels also got scraped from each page!"
   ]
  },
  {
   "cell_type": "code",
   "execution_count": 9,
   "metadata": {},
   "outputs": [],
   "source": [
    "df.drop(index = df[df[\"Id\"] == \"Id\"].index,inplace=True)"
   ]
  },
  {
   "cell_type": "code",
   "execution_count": 10,
   "metadata": {},
   "outputs": [],
   "source": [
    "df.drop_duplicates(inplace=True)"
   ]
  },
  {
   "cell_type": "code",
   "execution_count": 11,
   "metadata": {},
   "outputs": [
    {
     "data": {
      "text/plain": [
       "Id                       object\n",
       "Accidents                object\n",
       "Body_type                object\n",
       "Year                     object\n",
       "Fuel_economy_combined    object\n",
       "Days_on_market           object\n",
       "Rating                   object\n",
       "Distance                 object\n",
       "Color                    object\n",
       "Drivetrain               object\n",
       "Engine                   object\n",
       "Make                     object\n",
       "Mileage                  object\n",
       "Model                    object\n",
       "Transmission             object\n",
       "Additional_features      object\n",
       "Previous_owners          object\n",
       "Price_drops              object\n",
       "Photos                   object\n",
       "Seats                    object\n",
       "Seller_type              object\n",
       "Trim                     object\n",
       "Price                    object\n",
       "dtype: object"
      ]
     },
     "execution_count": 11,
     "metadata": {},
     "output_type": "execute_result"
    }
   ],
   "source": [
    "df.dtypes"
   ]
  },
  {
   "cell_type": "markdown",
   "metadata": {},
   "source": [
    "### Some of them are numerical columns while some are categorical ones. We need to change the types before we could do any feature engineering. Pandas doesn't let us change the dtype to int when there are null values in the column. Let's change all the numerical columns to float type"
   ]
  },
  {
   "cell_type": "markdown",
   "metadata": {},
   "source": [
    "Numerical feature Fuel_economy_combined has MPG at the end. Let's get rid of the MPG from the column"
   ]
  },
  {
   "cell_type": "code",
   "execution_count": 12,
   "metadata": {},
   "outputs": [],
   "source": [
    "df[\"Fuel_economy_combined\"]=df[\"Fuel_economy_combined\"].str.replace(\"MPG\",\"\")"
   ]
  },
  {
   "cell_type": "code",
   "execution_count": 13,
   "metadata": {},
   "outputs": [],
   "source": [
    "columns_to_float = [\"Fuel_economy_combined\",\"Accidents\",\"Year\",\"Days_on_market\",\"Distance\",\"Mileage\",\n",
    "                    \"Additional_features\",\"Previous_owners\",\"Seats\",\"Price\"]"
   ]
  },
  {
   "cell_type": "code",
   "execution_count": 14,
   "metadata": {},
   "outputs": [],
   "source": [
    "df[columns_to_float] = df[columns_to_float].astype(np.float)\n",
    "# Use this instead"
   ]
  },
  {
   "cell_type": "code",
   "execution_count": null,
   "metadata": {},
   "outputs": [],
   "source": [
    "#df[\"Fuel_economy_combined\"] = df[\"Fuel_economy_combined\"].astype(np.float)\n",
    "#df[\"Accidents\"] = df[\"Accidents\"].astype(np.float)\n",
    "#df[\"Year\"] = df[\"Year\"].astype(np.float)\n",
    "#df[\"Days_on_market\"] = df[\"Days_on_market\"].astype(np.float)\n",
    "#df[\"Distance\"] = df[\"Distance\"].astype(np.float)\n",
    "#df[\"Mileage\"] = df[\"Mileage\"].astype(np.float)\n",
    "#df[\"Additional_features\"] = df[\"Additional_features\"].astype(np.float)\n",
    "#df[\"Previous_owners\"] = df[\"Previous_owners\"].astype(np.float)\n",
    "#df[\"Seats\"] = df[\"Seats\"].astype(np.float)\n",
    "#df[\"Price\"] = df[\"Price\"].astype(np.float)"
   ]
  },
  {
   "cell_type": "code",
   "execution_count": 15,
   "metadata": {},
   "outputs": [
    {
     "data": {
      "text/plain": [
       "Id                        object\n",
       "Accidents                float64\n",
       "Body_type                 object\n",
       "Year                     float64\n",
       "Fuel_economy_combined    float64\n",
       "Days_on_market           float64\n",
       "Rating                    object\n",
       "Distance                 float64\n",
       "Color                     object\n",
       "Drivetrain                object\n",
       "Engine                    object\n",
       "Make                      object\n",
       "Mileage                  float64\n",
       "Model                     object\n",
       "Transmission              object\n",
       "Additional_features      float64\n",
       "Previous_owners          float64\n",
       "Price_drops               object\n",
       "Photos                    object\n",
       "Seats                    float64\n",
       "Seller_type               object\n",
       "Trim                      object\n",
       "Price                    float64\n",
       "dtype: object"
      ]
     },
     "execution_count": 15,
     "metadata": {},
     "output_type": "execute_result"
    }
   ],
   "source": [
    "df.dtypes"
   ]
  },
  {
   "cell_type": "markdown",
   "metadata": {},
   "source": [
    "###  Missing values"
   ]
  },
  {
   "cell_type": "code",
   "execution_count": 16,
   "metadata": {},
   "outputs": [
    {
     "data": {
      "text/plain": [
       "<matplotlib.axes._subplots.AxesSubplot at 0x107a42110>"
      ]
     },
     "execution_count": 16,
     "metadata": {},
     "output_type": "execute_result"
    },
    {
     "data": {
      "image/png": "[encoded data removed]",
      "text/plain": [
       "<Figure size 1080x576 with 1 Axes>"
      ]
     },
     "metadata": {},
     "output_type": "display_data"
    }
   ],
   "source": [
    "# Let's look at the missing values\n",
    "plt.figure(figsize=(15,8))\n",
    "sns.heatmap(df.isnull(),cbar=False,cmap='viridis')"
   ]
  },
  {
   "cell_type": "code",
   "execution_count": 17,
   "metadata": {},
   "outputs": [],
   "source": [
    "df.drop(\"Price_drops\",axis=1,inplace=True) "
   ]
  },
  {
   "cell_type": "markdown",
   "metadata": {},
   "source": [
    "### Let's look at each of the columns and see how we can impute the missing values"
   ]
  },
  {
   "cell_type": "code",
   "execution_count": 18,
   "metadata": {},
   "outputs": [],
   "source": [
    "missing = df.isnull().sum().sort_values(ascending=False)"
   ]
  },
  {
   "cell_type": "code",
   "execution_count": null,
   "metadata": {},
   "outputs": [],
   "source": []
  },
  {
   "cell_type": "code",
   "execution_count": 19,
   "metadata": {},
   "outputs": [
    {
     "data": {
      "text/plain": [
       "Fuel_economy_combined    10.887228\n",
       "Photos                    7.057740\n",
       "Drivetrain                5.644026\n",
       "Rating                    2.637851\n",
       "Price                     1.614126\n",
       "Previous_owners           1.603293\n",
       "Seats                     1.359549\n",
       "Engine                    1.267468\n",
       "Transmission              1.083306\n",
       "Trim                      1.029141\n",
       "Accidents                 0.411656\n",
       "Mileage                   0.259994\n",
       "Body_type                 0.075831\n",
       "Model                     0.000000\n",
       "Make                      0.000000\n",
       "Color                     0.000000\n",
       "Distance                  0.000000\n",
       "Additional_features       0.000000\n",
       "Days_on_market            0.000000\n",
       "Seller_type               0.000000\n",
       "Year                      0.000000\n",
       "Id                        0.000000\n",
       "dtype: float64"
      ]
     },
     "execution_count": 19,
     "metadata": {},
     "output_type": "execute_result"
    }
   ],
   "source": [
    "missing/len(df)*100   # In terms of percentage"
   ]
  },
  {
   "cell_type": "markdown",
   "metadata": {},
   "source": [
    "###  Fuel economy"
   ]
  },
  {
   "cell_type": "code",
   "execution_count": 20,
   "metadata": {},
   "outputs": [
    {
     "data": {
      "text/plain": [
       "<matplotlib.axes._subplots.AxesSubplot at 0x119eb98d0>"
      ]
     },
     "execution_count": 20,
     "metadata": {},
     "output_type": "execute_result"
    },
    {
     "data": {
      "image/png": "[encoded data removed]",
      "text/plain": [
       "<Figure size 432x288 with 1 Axes>"
      ]
     },
     "metadata": {},
     "output_type": "display_data"
    }
   ],
   "source": [
    "#Fuel economy\n",
    "sns.distplot(df[\"Fuel_economy_combined\"],fit = norm)"
   ]
  },
  {
   "cell_type": "code",
   "execution_count": 21,
   "metadata": {},
   "outputs": [
    {
     "data": {
      "text/plain": [
       "27.238208120593242"
      ]
     },
     "execution_count": 21,
     "metadata": {},
     "output_type": "execute_result"
    }
   ],
   "source": [
    "# Looks more or less normally distributed. We can impute the missing values with the mean\n",
    "df[\"Fuel_economy_combined\"].mean()"
   ]
  },
  {
   "cell_type": "code",
   "execution_count": 22,
   "metadata": {},
   "outputs": [],
   "source": [
    "df['Fuel_economy_combined'].fillna(df[\"Fuel_economy_combined\"].mean(),inplace = True)"
   ]
  },
  {
   "cell_type": "markdown",
   "metadata": {},
   "source": [
    "### Photos"
   ]
  },
  {
   "cell_type": "code",
   "execution_count": 23,
   "metadata": {},
   "outputs": [],
   "source": [
    "df[\"Photos\"].fillna(0,inplace = True)"
   ]
  },
  {
   "cell_type": "code",
   "execution_count": 24,
   "metadata": {},
   "outputs": [],
   "source": [
    "df[\"Photos\"].replace(\"True\",1,inplace=True)"
   ]
  },
  {
   "cell_type": "markdown",
   "metadata": {},
   "source": [
    "###  Drivetrain"
   ]
  },
  {
   "cell_type": "code",
   "execution_count": 25,
   "metadata": {},
   "outputs": [
    {
     "data": {
      "text/plain": [
       "FRONT_WHEEL_DRIVE    8837\n",
       "ALL_WHEEL_DRIVE      7077\n",
       "FOUR_WHEEL_DRIVE     1465\n",
       "REAR_WHEEL_DRIVE       24\n",
       "FOUR_BY_TWO            17\n",
       "Name: Drivetrain, dtype: int64"
      ]
     },
     "execution_count": 25,
     "metadata": {},
     "output_type": "execute_result"
    }
   ],
   "source": [
    "df[\"Drivetrain\"].value_counts()"
   ]
  },
  {
   "cell_type": "markdown",
   "metadata": {},
   "source": [
    "Four wheel drive is same as all wheel drive. Also, Four by Two is similar to FWD or RWD and switches in between."
   ]
  },
  {
   "cell_type": "code",
   "execution_count": 26,
   "metadata": {},
   "outputs": [],
   "source": [
    "df[\"Drivetrain\"].replace(\"FOUR_WHEEL_DRIVE\",\"ALL_WHEEL_DRIVE\",inplace = True)\n",
    "df[\"Drivetrain\"].replace(\"FOUR_BY_TWO\",\"FRONT_WHEEL_DRIVE\",inplace = True)"
   ]
  },
  {
   "cell_type": "code",
   "execution_count": 27,
   "metadata": {},
   "outputs": [
    {
     "data": {
      "text/plain": [
       "<matplotlib.axes._subplots.AxesSubplot at 0x11a95ac50>"
      ]
     },
     "execution_count": 27,
     "metadata": {},
     "output_type": "execute_result"
    },
    {
     "data": {
      "image/png": "[encoded data removed]",
      "text/plain": [
       "<Figure size 432x288 with 1 Axes>"
      ]
     },
     "metadata": {},
     "output_type": "display_data"
    }
   ],
   "source": [
    "sns.boxplot(x = \"Drivetrain\",y =\"Price\",data =df)"
   ]
  },
  {
   "cell_type": "code",
   "execution_count": null,
   "metadata": {},
   "outputs": [],
   "source": []
  },
  {
   "cell_type": "code",
   "execution_count": 28,
   "metadata": {},
   "outputs": [],
   "source": [
    "#ok, that's why\n",
    "df[\"Drivetrain\"].replace(\"REAR_WHEEL_DRIVE\",\"FRONT_WHEEL_DRIVE\",inplace = True)"
   ]
  },
  {
   "cell_type": "code",
   "execution_count": 29,
   "metadata": {},
   "outputs": [
    {
     "data": {
      "text/plain": [
       "FRONT_WHEEL_DRIVE    8878\n",
       "ALL_WHEEL_DRIVE      8542\n",
       "Name: Drivetrain, dtype: int64"
      ]
     },
     "execution_count": 29,
     "metadata": {},
     "output_type": "execute_result"
    }
   ],
   "source": [
    "df[\"Drivetrain\"].value_counts()"
   ]
  },
  {
   "cell_type": "code",
   "execution_count": 30,
   "metadata": {},
   "outputs": [
    {
     "data": {
      "text/plain": [
       "1042"
      ]
     },
     "execution_count": 30,
     "metadata": {},
     "output_type": "execute_result"
    }
   ],
   "source": [
    "df[\"Drivetrain\"].isnull().sum() #check for missing values"
   ]
  },
  {
   "cell_type": "code",
   "execution_count": 31,
   "metadata": {},
   "outputs": [
    {
     "data": {
      "text/plain": [
       "Body_type        Drivetrain       \n",
       "SUV / Crossover  ALL_WHEEL_DRIVE      7498\n",
       "                 FRONT_WHEEL_DRIVE    1668\n",
       "Sedan            FRONT_WHEEL_DRIVE    7210\n",
       "                 ALL_WHEEL_DRIVE      1044\n",
       "Name: Drivetrain, dtype: int64"
      ]
     },
     "execution_count": 31,
     "metadata": {},
     "output_type": "execute_result"
    }
   ],
   "source": [
    "df.groupby(\"Body_type\")[\"Drivetrain\"].value_counts() # See how does the drivetrain stack up against the bodytype"
   ]
  },
  {
   "cell_type": "markdown",
   "metadata": {},
   "source": [
    "Looks like more SUVs have AWD while sedans predominantly have FWD.\n",
    "So, let's impute the missing value with AWD when the bodytype is suv and FWD when sedan."
   ]
  },
  {
   "cell_type": "code",
   "execution_count": 33,
   "metadata": {},
   "outputs": [],
   "source": [
    "# Function to impute missing values in the drivetrain column based on the kind of bodytype\n",
    "def impute_drive_train(columns):\n",
    "    body_type = columns[0]\n",
    "    drive_train = columns[1]\n",
    "    if pd.isnull(drive_train):\n",
    "        if body_type == \"SUV / Crossover\":\n",
    "            return \"ALL_WHEEL_DRIVE\"\n",
    "        else:\n",
    "            return \"FRONT_WHEEL_DRIVE\"\n",
    "    else:\n",
    "        return drive_train    "
   ]
  },
  {
   "cell_type": "code",
   "execution_count": 34,
   "metadata": {},
   "outputs": [],
   "source": [
    "df[\"Drivetrain\"] = df[[\"Body_type\",\"Drivetrain\"]].apply(impute_drive_train,axis=1)"
   ]
  },
  {
   "cell_type": "code",
   "execution_count": 35,
   "metadata": {},
   "outputs": [
    {
     "data": {
      "text/plain": [
       "FRONT_WHEEL_DRIVE    9359\n",
       "ALL_WHEEL_DRIVE      9103\n",
       "Name: Drivetrain, dtype: int64"
      ]
     },
     "execution_count": 35,
     "metadata": {},
     "output_type": "execute_result"
    }
   ],
   "source": [
    "df[\"Drivetrain\"].value_counts()  # No need for this line"
   ]
  },
  {
   "cell_type": "markdown",
   "metadata": {},
   "source": [
    "###  Rating"
   ]
  },
  {
   "cell_type": "code",
   "execution_count": 36,
   "metadata": {},
   "outputs": [
    {
     "data": {
      "text/plain": [
       "FAIR_PRICE     9598\n",
       "GOOD_PRICE     6606\n",
       "GREAT_PRICE    1111\n",
       "POOR_PRICE      519\n",
       "OVERPRICED      114\n",
       "OUTLIER          27\n",
       "Name: Rating, dtype: int64"
      ]
     },
     "execution_count": 36,
     "metadata": {},
     "output_type": "execute_result"
    }
   ],
   "source": [
    "# Rating\n",
    "df[\"Rating\"].value_counts()"
   ]
  },
  {
   "cell_type": "code",
   "execution_count": 37,
   "metadata": {},
   "outputs": [
    {
     "data": {
      "text/plain": [
       "<matplotlib.axes._subplots.AxesSubplot at 0x11a95a150>"
      ]
     },
     "execution_count": 37,
     "metadata": {},
     "output_type": "execute_result"
    },
    {
     "data": {
      "image/png": "[encoded data removed]",
      "text/plain": [
       "<Figure size 576x432 with 1 Axes>"
      ]
     },
     "metadata": {},
     "output_type": "display_data"
    }
   ],
   "source": [
    "plt.figure(figsize=(8,6))\n",
    "sns.boxplot(x = \"Rating\",y = \"Price\",data =df)"
   ]
  },
  {
   "cell_type": "code",
   "execution_count": 38,
   "metadata": {},
   "outputs": [],
   "source": [
    "df[\"Rating\"].replace(dict.fromkeys([\"FAIR_PRICE\",\"GOOD_PRICE\",\"GREAT_PRICE\"],\"Great_Price\"),inplace = True)\n",
    "df[\"Rating\"].replace(dict.fromkeys([\"POOR_PRICE\",\"OVERPRICED\",\"OUTLIER\"],\"Poor_Price\"),inplace = True)"
   ]
  },
  {
   "cell_type": "code",
   "execution_count": 39,
   "metadata": {},
   "outputs": [],
   "source": [
    "df[\"Rating\"].fillna(\"Great_Price\",inplace=True)"
   ]
  },
  {
   "cell_type": "markdown",
   "metadata": {},
   "source": [
    "###  Previous owners"
   ]
  },
  {
   "cell_type": "code",
   "execution_count": null,
   "metadata": {},
   "outputs": [],
   "source": []
  },
  {
   "cell_type": "code",
   "execution_count": 40,
   "metadata": {},
   "outputs": [
    {
     "data": {
      "text/plain": [
       "<matplotlib.axes._subplots.AxesSubplot at 0x11adc43d0>"
      ]
     },
     "execution_count": 40,
     "metadata": {},
     "output_type": "execute_result"
    },
    {
     "data": {
      "image/png": "[encoded data removed]",
      "text/plain": [
       "<Figure size 432x288 with 1 Axes>"
      ]
     },
     "metadata": {},
     "output_type": "display_data"
    }
   ],
   "source": [
    "sns.distplot(df[\"Previous_owners\"])"
   ]
  },
  {
   "cell_type": "code",
   "execution_count": 41,
   "metadata": {},
   "outputs": [
    {
     "data": {
      "text/plain": [
       "1.0    11522\n",
       "2.0     4671\n",
       "3.0     1485\n",
       "4.0      371\n",
       "5.0       86\n",
       "6.0       24\n",
       "7.0        6\n",
       "8.0        1\n",
       "Name: Previous_owners, dtype: int64"
      ]
     },
     "execution_count": 41,
     "metadata": {},
     "output_type": "execute_result"
    }
   ],
   "source": [
    "df[\"Previous_owners\"].value_counts()"
   ]
  },
  {
   "cell_type": "code",
   "execution_count": 42,
   "metadata": {},
   "outputs": [],
   "source": [
    "df[\"Previous_owners\"].fillna(1.0,inplace=True)"
   ]
  },
  {
   "cell_type": "markdown",
   "metadata": {},
   "source": [
    "## The rest of the columns have less than 2 % of missing values. Let's drop the rows with the missing values."
   ]
  },
  {
   "cell_type": "code",
   "execution_count": 43,
   "metadata": {},
   "outputs": [],
   "source": [
    "df.dropna(inplace=True)"
   ]
  },
  {
   "cell_type": "code",
   "execution_count": 44,
   "metadata": {},
   "outputs": [
    {
     "data": {
      "text/plain": [
       "<matplotlib.axes._subplots.AxesSubplot at 0x11a7e5450>"
      ]
     },
     "execution_count": 44,
     "metadata": {},
     "output_type": "execute_result"
    },
    {
     "data": {
      "image/png": "[encoded data removed]",
      "text/plain": [
       "<Figure size 720x576 with 1 Axes>"
      ]
     },
     "metadata": {},
     "output_type": "display_data"
    }
   ],
   "source": [
    "plt.figure(figsize=(10,8))\n",
    "sns.heatmap(df.isnull(),cbar=False,cmap='viridis') # Checking one more time for any missing value."
   ]
  },
  {
   "cell_type": "code",
   "execution_count": null,
   "metadata": {},
   "outputs": [],
   "source": []
  },
  {
   "cell_type": "code",
   "execution_count": null,
   "metadata": {},
   "outputs": [],
   "source": []
  },
  {
   "cell_type": "code",
   "execution_count": null,
   "metadata": {},
   "outputs": [],
   "source": []
  },
  {
   "cell_type": "markdown",
   "metadata": {},
   "source": [
    "## Categorical features\n",
    "* Engine\n",
    "* Drivetrain : Done already!\n",
    "* Transmission\n",
    "* Trim\n",
    "* Photos\n",
    "* Rating : Done already!\n",
    "* Color\n",
    "* Make\n",
    "* Model\n",
    "* Bodytype"
   ]
  },
  {
   "cell_type": "markdown",
   "metadata": {},
   "source": [
    "### Engine"
   ]
  },
  {
   "cell_type": "code",
   "execution_count": 45,
   "metadata": {},
   "outputs": [
    {
     "data": {
      "text/plain": [
       "I4    12493\n",
       "V6     2952\n",
       "H4     1635\n",
       "V8      218\n",
       "I5       75\n",
       "I3       61\n",
       "H6       40\n",
       "I6        6\n",
       "Name: Engine, dtype: int64"
      ]
     },
     "execution_count": 45,
     "metadata": {},
     "output_type": "execute_result"
    }
   ],
   "source": [
    "# Engine\n",
    "df[\"Engine\"].value_counts()"
   ]
  },
  {
   "cell_type": "code",
   "execution_count": 46,
   "metadata": {},
   "outputs": [],
   "source": [
    "df[\"Engine\"].replace(dict.fromkeys([\"I3\",\"I5\",\"I4\"],\"I4\"),inplace = True)\n",
    "df[\"Engine\"].replace(dict.fromkeys([\"V6\",\"V8\",\"I6\"],\"V6\"),inplace = True)\n",
    "df[\"Engine\"].replace(dict.fromkeys([\"H4\",\"H6\"],\"H4\"),inplace = True)"
   ]
  },
  {
   "cell_type": "markdown",
   "metadata": {},
   "source": [
    "### Transmission"
   ]
  },
  {
   "cell_type": "code",
   "execution_count": 47,
   "metadata": {},
   "outputs": [
    {
     "data": {
      "text/plain": [
       "6-Speed Automatic                     5111\n",
       "Automatic                             5019\n",
       "Continuously Variable Transmission    4039\n",
       "6-Speed Automatic Overdrive            650\n",
       "5-Speed Automatic                      608\n",
       "8-Speed Automatic                      421\n",
       "4-Speed Automatic                      336\n",
       "9-Speed Automatic                      273\n",
       "6-Speed Manual                         199\n",
       "6-Speed Dual Clutch                    173\n",
       "5-Speed Automatic Overdrive            167\n",
       "5-Speed Manual                         121\n",
       "Manual                                 102\n",
       "7-Speed Automatic                       92\n",
       "4-Speed Automatic Overdrive             43\n",
       "7-Speed CVT                             37\n",
       "6-Speed CVT                             18\n",
       "6-Speed Manual Overdrive                15\n",
       "9-Speed Automatic Overdrive             14\n",
       "8-Speed CVT                              9\n",
       "8-Speed Automatic Overdrive              7\n",
       "5-Speed Manual Overdrive                 6\n",
       "1-Speed Automatic                        4\n",
       "1-Speed CVT                              3\n",
       "7-Speed Dual Clutch                      3\n",
       "7-Speed Automatic Overdrive              3\n",
       "4-Speed Manual                           2\n",
       "2-Speed Automatic                        2\n",
       "7-Speed Manual                           1\n",
       "4-Speed CVT                              1\n",
       "1-Speed Dual Clutch                      1\n",
       "Name: Transmission, dtype: int64"
      ]
     },
     "execution_count": 47,
     "metadata": {},
     "output_type": "execute_result"
    }
   ],
   "source": [
    "df[\"Transmission\"].value_counts()"
   ]
  },
  {
   "cell_type": "markdown",
   "metadata": {},
   "source": [
    "Lots of different names for the same kinds of transmission.\n",
    "The three main categories are:\n",
    "1. Automatic\n",
    "2. Manual\n",
    "3. Continuous Variable Transmission(CVT)"
   ]
  },
  {
   "cell_type": "markdown",
   "metadata": {},
   "source": [
    "Let's create a mask for each of them"
   ]
  },
  {
   "cell_type": "code",
   "execution_count": 48,
   "metadata": {},
   "outputs": [
    {
     "name": "stderr",
     "output_type": "stream",
     "text": [
      "/Users/axr524/anaconda2/envs/scrape_env/lib/python3.7/site-packages/pandas/core/strings.py:1954: UserWarning: This pattern has match groups. To actually get the groups, use str.extract.\n",
      "  return func(self, *args, **kwargs)\n"
     ]
    }
   ],
   "source": [
    "mask_automatic = df[\"Transmission\"].value_counts().index.str.contains(\"Automatic\",case=False,regex=False)\n",
    "mask_manual = df[\"Transmission\"].value_counts().index.str.contains(\"(Manual|Clutch)\",case=False,regex=True)\n",
    "mask_cvt = df[\"Transmission\"].value_counts().index.str.contains(\"(Continuous|CVT)\",case=False,regex=True)"
   ]
  },
  {
   "cell_type": "code",
   "execution_count": 49,
   "metadata": {},
   "outputs": [],
   "source": [
    "auto_list = df[\"Transmission\"].value_counts().index[mask_automatic].tolist()\n",
    "manual_list = df[\"Transmission\"].value_counts().index[mask_manual].tolist()\n",
    "cvt_list = df[\"Transmission\"].value_counts().index[mask_cvt].tolist()"
   ]
  },
  {
   "cell_type": "code",
   "execution_count": 50,
   "metadata": {},
   "outputs": [],
   "source": [
    "df[\"Transmission\"].replace(dict.fromkeys(auto_list,\"Automatic\"),inplace = True)\n",
    "df[\"Transmission\"].replace(dict.fromkeys(manual_list,\"Manual\"),inplace = True)\n",
    "df[\"Transmission\"].replace(dict.fromkeys(cvt_list,\"CVT\"),inplace = True)"
   ]
  },
  {
   "cell_type": "code",
   "execution_count": 51,
   "metadata": {},
   "outputs": [
    {
     "data": {
      "text/plain": [
       "Automatic    12750\n",
       "CVT           4107\n",
       "Manual         623\n",
       "Name: Transmission, dtype: int64"
      ]
     },
     "execution_count": 51,
     "metadata": {},
     "output_type": "execute_result"
    }
   ],
   "source": [
    "df[\"Transmission\"].value_counts()"
   ]
  },
  {
   "cell_type": "code",
   "execution_count": 52,
   "metadata": {},
   "outputs": [
    {
     "data": {
      "image/png": "[encoded data removed]",
      "text/plain": [
       "<Figure size 720x432 with 1 Axes>"
      ]
     },
     "metadata": {},
     "output_type": "display_data"
    }
   ],
   "source": [
    "plt.figure(figsize=(10,6))\n",
    "sns.boxplot(df[\"Transmission\"],df[\"Price\"])\n",
    "plt.xticks(rotation=0)\n",
    "plt.tight_layout()"
   ]
  },
  {
   "cell_type": "markdown",
   "metadata": {},
   "source": [
    "### Seller type"
   ]
  },
  {
   "cell_type": "code",
   "execution_count": 53,
   "metadata": {},
   "outputs": [
    {
     "data": {
      "text/plain": [
       "DEALER     17423\n",
       "PRIVATE       57\n",
       "Name: Seller_type, dtype: int64"
      ]
     },
     "execution_count": 53,
     "metadata": {},
     "output_type": "execute_result"
    }
   ],
   "source": [
    "df[\"Seller_type\"].value_counts()"
   ]
  },
  {
   "cell_type": "code",
   "execution_count": 54,
   "metadata": {},
   "outputs": [
    {
     "data": {
      "text/plain": [
       "<matplotlib.axes._subplots.AxesSubplot at 0x11b11eb50>"
      ]
     },
     "execution_count": 54,
     "metadata": {},
     "output_type": "execute_result"
    },
    {
     "data": {
      "image/png": "[encoded data removed]",
      "text/plain": [
       "<Figure size 432x288 with 1 Axes>"
      ]
     },
     "metadata": {},
     "output_type": "display_data"
    }
   ],
   "source": [
    "sns.boxplot(x = \"Seller_type\",y = \"Price\", data = df)"
   ]
  },
  {
   "cell_type": "markdown",
   "metadata": {},
   "source": [
    "The spread of price when buying from a dealer is quite large which is expected. However, regardless of the other factors, a vehicle bought from a private party is almost always lower, interesting!"
   ]
  },
  {
   "cell_type": "markdown",
   "metadata": {},
   "source": [
    "### Photos\n",
    "Having photos on the website could potentially be a variable when it comes to the pricing. Let's see!"
   ]
  },
  {
   "cell_type": "code",
   "execution_count": 87,
   "metadata": {},
   "outputs": [
    {
     "data": {
      "text/plain": [
       "<matplotlib.axes._subplots.AxesSubplot at 0x1240c70d0>"
      ]
     },
     "execution_count": 87,
     "metadata": {},
     "output_type": "execute_result"
    },
    {
     "data": {
      "image/png": "[encoded data removed]",
      "text/plain": [
       "<Figure size 432x288 with 1 Axes>"
      ]
     },
     "metadata": {},
     "output_type": "display_data"
    }
   ],
   "source": [
    "sns.boxplot(x = \"Photos\", y = \"Price\", data = df)"
   ]
  },
  {
   "cell_type": "code",
   "execution_count": 88,
   "metadata": {},
   "outputs": [],
   "source": [
    "df.drop(\"Photos\",axis=1,inplace=True)  # No useful information, let's drop it!"
   ]
  },
  {
   "cell_type": "markdown",
   "metadata": {},
   "source": [
    "## Make, Model and Trim levels"
   ]
  },
  {
   "cell_type": "markdown",
   "metadata": {},
   "source": [
    "### Make"
   ]
  },
  {
   "cell_type": "code",
   "execution_count": 55,
   "metadata": {},
   "outputs": [
    {
     "data": {
      "text/plain": [
       "Hyundai       1776\n",
       "Chevrolet     1771\n",
       "Honda         1757\n",
       "Kia           1752\n",
       "Ford          1729\n",
       "Toyota        1715\n",
       "Subaru        1675\n",
       "Nissan        1674\n",
       "Mazda         1219\n",
       "Volkswagen     864\n",
       "Jeep           861\n",
       "Mitsubishi     687\n",
       "Name: Make, dtype: int64"
      ]
     },
     "execution_count": 55,
     "metadata": {},
     "output_type": "execute_result"
    }
   ],
   "source": [
    "df['Make'].value_counts()"
   ]
  },
  {
   "cell_type": "code",
   "execution_count": 56,
   "metadata": {},
   "outputs": [
    {
     "data": {
      "text/plain": [
       "<matplotlib.axes._subplots.AxesSubplot at 0x11ab41650>"
      ]
     },
     "execution_count": 56,
     "metadata": {},
     "output_type": "execute_result"
    },
    {
     "data": {
      "image/png": "[encoded data removed]",
      "text/plain": [
       "<Figure size 1080x576 with 1 Axes>"
      ]
     },
     "metadata": {},
     "output_type": "display_data"
    }
   ],
   "source": [
    "plt.figure(figsize=(15,8))\n",
    "sns.boxplot(df[\"Make\"],df[\"Price\"],hue = df[\"Body_type\"])"
   ]
  },
  {
   "cell_type": "markdown",
   "metadata": {},
   "source": [
    "### Almost all the automakers are represented in both the sedan as well as the suv segment except Jeep which only builds suvs and Volkswagen which is known for building sedans."
   ]
  },
  {
   "cell_type": "markdown",
   "metadata": {},
   "source": [
    "### For almost all the makes, the respective SUVs tend to be slightly expensive as compared with their sedans."
   ]
  },
  {
   "cell_type": "code",
   "execution_count": 57,
   "metadata": {},
   "outputs": [
    {
     "data": {
      "text/plain": [
       "Make\n",
       "Jeep          16982.505226\n",
       "Subaru        16306.595224\n",
       "Mazda         16191.030353\n",
       "Toyota        15297.636735\n",
       "Honda         14723.656801\n",
       "Ford          13997.481781\n",
       "Mitsubishi    13961.628821\n",
       "Nissan        13691.411589\n",
       "Chevrolet     13596.844720\n",
       "Kia           13447.441210\n",
       "Hyundai       12887.360360\n",
       "Volkswagen    11639.137731\n",
       "Name: Price, dtype: float64"
      ]
     },
     "execution_count": 57,
     "metadata": {},
     "output_type": "execute_result"
    },
    {
     "data": {
      "text/plain": [
       "<Figure size 720x432 with 0 Axes>"
      ]
     },
     "metadata": {},
     "output_type": "display_data"
    }
   ],
   "source": [
    "plt.figure(figsize=(10,6))\n",
    "df.groupby(\"Make\")[\"Price\"].mean().sort_values(ascending = False)"
   ]
  },
  {
   "cell_type": "markdown",
   "metadata": {},
   "source": [
    "Except for Jeep and Volkswagen, the mean price for the rest of the automakers is hovering in the 13k to 16k mark."
   ]
  },
  {
   "cell_type": "markdown",
   "metadata": {},
   "source": [
    "Since Jeep sells suvs, it's obvious that the average price of their vehicles are the highest.\n",
    "Similarly, Volkawagen is at the bottom because it sells only sedans."
   ]
  },
  {
   "cell_type": "markdown",
   "metadata": {},
   "source": [
    "Each carmaker has a trim level! We need to change it to numeric values so that we can make use of them."
   ]
  },
  {
   "cell_type": "markdown",
   "metadata": {},
   "source": [
    "### Trim levels"
   ]
  },
  {
   "cell_type": "code",
   "execution_count": 58,
   "metadata": {},
   "outputs": [],
   "source": [
    "df[\"Trim_copy\"] = df[\"Trim\"].copy()"
   ]
  },
  {
   "cell_type": "code",
   "execution_count": 59,
   "metadata": {},
   "outputs": [
    {
     "name": "stdout",
     "output_type": "stream",
     "text": [
      "The make is: Chevrolet and the trims are: ['LT Sedan FWD', 'LTZ FWD', 'LTZ 1LZ FWD', 'Police Sedan RWD', 'LT FWD', 'LTZ 2LZ FWD', '1LT FWD', 'LS Sedan FWD', 'LS FWD', 'LT Diesel Sedan FWD', '2LT FWD', 'Premier Sedan FWD', 'LS Fleet FWD', '1LT Sedan FWD', 'Limited LT FWD', 'Premier FWD', 'Eco 1SA FWD', 'LTZ Sedan FWD', '2LT Sedan FWD', 'LT Fleet FWD', 'Diesel Sedan FWD', 'LT Fleet Sedan FWD', 'Limited LTZ FWD', 'LTZ 1LZ Sedan FWD', 'Limited LS FWD', '3LT FWD', 'L Sedan FWD', 'L FWD', 'FWD', 'Unmarked Police FWD', 'Eco Sedan FWD', '2LS Sedan FWD', 'RS Sedan FWD', 'LT AWD', 'LS AWD', 'Z71 4WD', '1LT AWD', 'LTZ AWD', '1.5T LT AWD', '2LT AWD', 'LTZ 4WD', 'LT 4WD', '1.5T LS AWD', 'Premier AWD', '1500 LT 4WD', '1.5T LT FWD', 'RS AWD', '1500 LS 4WD', '1500 LT RWD', '1.5T Premier AWD', '2.0T Premier AWD', '1.6T Diesel Premier FWD', '1500 LTZ RWD', 'LS 4WD', '1500 LTZ 4WD', 'LS Fleet 4WD', '2LS', 'LT', '2.0T LT AWD', '2.0T LT FWD', 'LT Cloth FWD', '3SS AWD', 'LT Leather AWD', 'RS FWD', '2LT 4WD', '1500 Premier 4WD', '1.5T Premier FWD', 'Premier 4WD', 'LTZ', '2.0T Premier FWD', '4WD', '1.5T LS FWD', 'Sport AWD', 'LT RWD']\n",
      "-------------------------------------------------------------------------------------------------------------------\n",
      "The make is: Ford and the trims are: ['SE', 'Titanium AWD', 'SEL AWD', 'Titanium FWD', 'SEL', 'SE FWD', 'SE AWD', 'FWD', 'Limited AWD', 'SEL V6 AWD', 'SHO AWD', 'S', 'SEL FWD', 'Platinum', 'Sport', 'Limited FWD', 'Titanium', 'S FWD', 'Sport AWD', 'Limited', 'Platinum AWD', 'SEL V6', 'SES', 'SE Luxury', 'Sport V6', 'SE V6', 'Sport V6 AWD', 'XLT 4WD', 'Limited EcoBoost AWD', 'Base', 'XLT', 'Limited 4WD', 'EL Limited 4WD', 'XLT AWD', 'Base 4WD', 'Sport 4WD', 'King Ranch 4WD', 'Titanium AWD with Ecoboost', 'SES AWD', 'MAX XLT 4WD', 'Platinum 4WD', 'XLT V6 AWD', 'Limited V6 AWD', 'S AWD', 'Limited AWD with Ecoboost', 'Eddie Bauer V6 4WD', 'MAX Limited 4WD', 'ST AWD', 'AWD', 'XLS AWD', 'XLT FWD', 'Eddie Bauer 4WD', 'Limited AWD w/ Ecoboost', 'Police Interceptor AWD', 'EL XLT 4WD']\n",
      "-------------------------------------------------------------------------------------------------------------------\n",
      "The make is: Honda and the trims are: ['EX-T', 'EX w/ Navigation', 'LX', 'EX-L', 'LX FWD', 'EX Sedan FWD', 'EX', 'LX-S', 'EX with Leather', '1.5T Sport FWD', 'Sport', 'EX V6 with Nav', 'Si', 'LX-P', 'EX-L V6', 'SE', 'Sport FWD', 'Touring Sedan FWD', 'EX FWD', 'V6 Touring FWD', 'DX-VP', '1.5T LX FWD', '1.5T EX FWD', 'Sedan', 'Sport SE FWD', 'Touring', 'Value Package', '2.0T EX-L FWD', 'Special Edition', '2.0T Sport FWD', 'V6 Touring', 'LX with Honda Sensing', '1.5T Touring FWD', 'Si with Summer Tires', 'EX-L FWD', 'EX with Navigation', 'EX with Honda Sensing', 'EX FWD with Honda Sensing', 'LX Sedan FWD', 'EX V6', 'SI', 'HF', 'EX-L V6 with Nav', '1.5T EX-L FWD', 'EX-L with Navigation', 'V6 EX-L FWD', 'FWD with Navigation', '2.0T Touring FWD', 'FWD with Leather', 'EX-L FWD with Navigation and Honda Sensing', 'GX', 'SI with Summer Tires', 'FWD', 'LX FWD with Honda Sensing', 'EX-L with Nav', 'Si FWD', 'EX-L with Honda Sensing', 'EX-L AWD', 'EX AWD', 'LX AWD', 'EX-L AWD with Navigation', 'LX 4WD', 'Touring AWD', 'Touring 4WD', 'EX-L V6 AWD w/ Navi', 'EX-L 4WD', 'SE AWD', 'EX 4WD', 'EX-L V6 with Navi', 'Sport AWD', 'EX-L AWD with RES', '4 Dr EX-L 4X4', 'EX-L with DVD 4WD', 'Touring with Nav and DVD 4WD', 'EX-L V6 AWD', 'Elite AWD', 'EX-L AWD with Navigation and RES', 'Touring with Navi 4WD', 'EX-L 4WD with Navigation', 'EX-L with Nav AWD', 'EX-L with Nav 4WD', 'SE 4WD', 'EX-P AWD', 'EX-L V6 AWD with Navi', 'Touring 8-Seat AWD', 'Touring FWD', 'EX-L AWD with Honda Sensing', 'Touring with Nav 4WD', 'EX-L AWD with Nav', 'Touring 7-Seat AWD']\n",
      "-------------------------------------------------------------------------------------------------------------------\n",
      "The make is: Hyundai and the trims are: ['GLS Sedan FWD', 'Sport FWD', 'SE Value Edition Sedan FWD', 'SE Sedan FWD', 'SEL Sedan FWD', 'V6 SE FWD', 'Signature RWD', 'Limited FWD', 'SE FWD', 'Limited Sedan FWD', 'Sport Sedan FWD', 'GLS FWD', '3.8 RWD', '3.8 AWD', 'Value Edition Sedan FWD', 'FWD', 'SEL FWD', 'GL FWD', '5.0 RWD', '2.0T SE FWD', '2.0T Sport FWD with Black Leather Interior', '2.0T Sport FWD', 'Limited FWD with Blue Pearl Interior', '5.0 R-Spec RWD', '2.0T Limited FWD', 'V6 Limited FWD', '2018.5 Sport+ FWD', 'Eco FWD', '2.0T Ultimate AWD', '2.4L AWD', '3.5L Limited FWD', '3.3L SE AWD', '3.5L Limited AWD', '1.6T Limited FWD', '3.3L Limited AWD', '2.4L FWD', 'The Walking Dead Edition AWD', '2.4L SEL Plus AWD', '2.0T FWD', 'Limited AWD', '2.7L GLS AWD', 'GLS AWD', '1.6T Eco AWD', 'SE AWD', 'SEL AWD', 'SE Ultimate FWD', '1.6T Limited AWD', 'Value FWD', '3.3L SE FWD', '3.3L Limited FWD', '2.0L SE AWD', 'GL 2WD', '2.0L SE AWD with Beige Seats', '2.0L SEL Plus AWD', '2.4L SEL AWD', '1.6T Sport AWD with Beige Seats', '1.6T Sport AWD', '2.0L SE Plus AWD', '2.0L SE FWD', '2.0T AWD', '4 Dr SE 4X4', '2.4L GLS AWD', '1.6T Night AWD', '1.6T Eco FWD', 'Limited Ultimate AWD', '2.7L GLS FWD', '2.4L GLS FWD', '2.4L SE AWD', 'SE', '3.5L SE AWD', '2.0L SEL FWD', 'Limited', '1.6T Value AWD', '2.0L SEL AWD', '3.5L SE FWD', '1.6T Sport FWD', 'GLS 4WD', 'GLS', 'Value AWD', '2.0T Ultimate FWD', 'Ultimate AWD', '2.4L SE FWD', '1.6T Value FWD', '2.0L SE FWD with Beige Seats', 'Ultimate FWD', 'SE Ultimate AWD', '2.4L Ultimate AWD', '2.4L Limited FWD', '2.0L SE Plus FWD', '2.4L Sport AWD', '3.5L LX AWD', '4 Dr GLS', '1.6T Night FWD']\n",
      "-------------------------------------------------------------------------------------------------------------------\n",
      "The make is: Kia and the trims are: ['Premium', 'EX', 'LX', 'LXS FWD', 'S', 'SX Turbo', 'SXL Turbo', 'SX', 'LX FWD', 'Technology FWD', 'S FWD', 'Limited', 'Premium AWD', 'GT2 AWD', 'EX Turbo', 'FE FWD', 'SX V6', 'LX Turbo', 'GT1 AWD', 'V6 Premium', 'Premium FWD', 'SX Turbo FWD', 'LX AWD', 'LX 4WD', 'EX AWD', 'L FWD', 'EX V6 AWD', 'SX Limited AWD', 'EX V6 4WD', 'LX V6 AWD', 'SX AWD', '2.0T EX AWD', 'SX Turbo AWD', 'SX V6 AWD', 'LX V6', 'Touring', 'FE', 'LX V6 4WD', 'EX V6', 'SX 4WD', 'LX V6 FWD', 'L', 'SX Limited V6 AWD', 'GT-Line FWD', 'EX FWD', 'Touring Launch Edition', 'Base', 'S V6 FWD', 'LX V6 4X4', 'EX 4WD', 'EX V6 FWD', 'V6 SX Limited AWD', 'SX Limited', 'S AWD']\n",
      "-------------------------------------------------------------------------------------------------------------------\n",
      "The make is: Mazda and the trims are: ['i Sport', 'i Grand Touring', 'i Touring', 'Touring Sedan FWD', '2017.5 Touring Sedan FWD', 'Grand Touring', 'Touring FWD', 'Hatchback FWD', 'Sport Sedan FWD', 'Sedan FWD', 'i SV', 'Sport', 'i Sport Sport', 'Grand Touring Sedan FWD', 's Sport', 'Touring', 's Grand Touring', 'Grand Touring FWD', 'Premium Sedan FWD', 'Select Sedan FWD', 'Grand Touring Reserve Sedan FWD', '2017.5 Grand Touring Sedan FWD', 'i Touring with R Production', 's Touring', 'i Touring Value', 'i Touring Plus', '2017.5 Sport Sedan FWD', 'Select Sedan AWD', 's', 's 4dr Sedan', 'i 4dr Sedan', 'i Sport - Grand Touring', 's Sport - Touring', 'i Sport - Sport', 'Grand Touring Reserve FWD', 'Preferred Sedan FWD', 'Signature Sedan FWD', 'Signature FWD', 'Sport AWD', 'Touring AWD', 'Grand Touring AWD', 'Signature AWD', 's AWD', 's Grand Touring 4WD', 'Sport FWD', 'Grand Select AWD', 'Grand Select', 'Signature Diesel AWD', 's Grand Touring AWD', 'Sport 4WD', 'i Grand Touring 4WD', 'Premium AWD', 'Touring 4WD', 'Grand Touring 4WD', 's Touring AWD', 's 4WD']\n",
      "-------------------------------------------------------------------------------------------------------------------\n",
      "The make is: Mitsubishi and the trims are: ['SE', 'ES FWD', 'ES', 'MR', 'SE FWD', 'SE AWC', 'ES AWD', 'SE AWD', 'GSR', 'AWD Final Edition', 'SEL AWD', 'GT', 'Ralliart', 'GTS', 'IX', 'RF FWD', 'FE', 'Sport V6', 'DE', 'Limited AWD', 'GT AWD', 'SE S-AWC AWD', 'ES AWC AWD', 'LS AWD', 'LE AWD', 'SEL FWD', 'SE 4WD', '2.4 ES AWD', 'SEL S-AWC AWD', '2.4 ES', 'LE S-AWC AWD', 'LS', 'XLS AWD', 'GT S-AWC AWD', 'LE', 'SEL', 'XLS', 'LS 4WD', 'Limited 4WD', 'LE FWD', 'ES 4WD']\n",
      "-------------------------------------------------------------------------------------------------------------------\n",
      "The make is: Nissan and the trims are: ['2.5 SR FWD', '2.5 S', 'SV FWD', 'S Plus FWD', 'SV', 'S', 'SR Turbo FWD', '2.5 SL', 'SL', '1.6 SL', '2.5 SV', '3.5 SL', 'S Plus', '2.0 SR', '2.5 SR', '2.5 SR AWD', '2.5', '2017.5 SV FWD', 'SR', 'FE+ S', 'SR FWD', '2.5 SL FWD', '2.0 S', '2017.5 2.5 SV', 'SL FWD', '2018.5 SV', 'Platinum FWD', '2.0', 'S FWD', 'SR Turbo', '2.5 S FWD', '1.6 S', '2017.5 2.5 SR', '2017.5 2.5 S', '1.6 SV', '1.6 S Plus', '3.5 SR', 'FWD', '2017.5 2.5 SL', 'S 1.8', '2.5 SV FWD', '2.5 S AWD', '2.5 SV AWD', 'FE+ 2.0 S', '2.5 Platinum FWD', 'NISMO FWD', 'NISMO', '2.5 Platinum AWD', 'X 4WD', 'SV AWD', 'Platinum 4WD', 'LE 4X4', 'S AWD', 'SL AWD', 'S Krom Edition AWD', '2017.5 SL', '2017.5 Platinum', '2017.5 Platinum AWD', 'Platinum', 'SL 4WD', 'SV 4WD', 'LE AWD', '2017.5 SL AWD', '2017.5 SV AWD', '2018.5 SL AWD', '2017.5 S AWD', 'Platinum AWD', 'S 4WD', '2018.5 SV AWD', 'Silver Edition 4WD', 'Pro-4X', 'SV with SL AWD', 'SE 4X4', 'SL 4X4', 'SE 4WD', '2018.5 S FWD', 'Platinum Edition AWD', 'Off Road', 'S 4X4', 'SE AWD', 'NISMO AWD', 'Titanium 4WD', 'LE V6 4WD', '2018.5 S AWD', 'Base', '2017.5 S', '2017.5 S FWD']\n",
      "-------------------------------------------------------------------------------------------------------------------\n",
      "The make is: Subaru and the trims are: ['Sedan', 'Premium Package', 'Limited', '2.5i', '2.0i Premium', '2.0i Sedan AWD', '2.5i Premium', '3.6R Limited', '2.0i Sport', '2.5i Limited', 'Premium', '3.6R Limited AWD', '2.5i Special Edition', '2.0i', '2.5i Premium AWD', 'Base', 'AWD', '2.0i Sport Sedan AWD', '2.5i Sport AWD', '2.0i Premium Sedan AWD', 'Limited AWD', '2.5i Limited AWD', 'Premium AWD', '2.5 i Limited', '2.0i Limited', 'Limited with Wing Spoiler', '2.5i Sport', '2.5 i Special Edition', 'Limited with Low Profile Spoiler', '2.5 i', '2.5 RS', 'Limited Sedan AWD', 'Limited AWD with Low Profile Spoiler', '2.0i Limited Sedan AWD', 'Turbo AWD', 'Base AWD', '2.5i AWD', '2.5GT Limited', 'Type RA AWD', 'Limited AWD with Wing Spoiler', 'Sedan AWD', '2.5 RS Sport', '2.5i Premium Package', '2.5 GT Limited', 'S209 AWD', '2.5i Limited Sedan AWD', '3.6R Premium', 'Limited 7-Passenger AWD', '2.0i Premium AWD', '2.5X Premium', '2.5i Touring', 'Touring 7-Passenger AWD', '2.5 X', '2.0XT Touring', '5-Passenger', '2.5 X Limited', '2.5X Limited', '2.0i Limited AWD', '2.0XT Premium', '2.5i Touring AWD', '2.5 X Premium', 'Premium 8-Passenger AWD', '4 Dr Limited 7-Passenger AWD', 'LTD 5-Passenger', 'Touring AWD', '2.0i Base AWD', '2.5 X Premium Package', 'Premium 7-Passenger AWD', '2.5X', '2.5XT Touring', '2.5 X L.L. Bean Edition', '8-Passenger AWD', 'Sports 2.5X', '2.5 X Sports', '5-Passenger Special Edition', 'Limited 8-Passenger AWD', 'LTD 7-Passenger', 'Limited 5 Passenger', 'Onyx Edition XT AWD', 'Limited 5-Passenger', 'Touring', '2.5 XT Limited']\n",
      "-------------------------------------------------------------------------------------------------------------------\n",
      "The make is: Toyota and the trims are: ['Limited', 'LE', 'SE', 'XSE FWD', 'Sedan', 'LE FWD', 'L', 'XL', 'FWD', 'XLE V6', 'S', 'CE', 'XLE', 'SE FWD', 'Base', 'XLE FWD', 'XSE', 'Limited FWD', 'S Premium', 'LE Eco', 'XLE Touring FWD', 'XSE V6', 'L Sedan FWD', 'Touring FWD', 'XLS', 'S Plus', 'LE Premium', 'LE V6', 'XLE Premium', 'Touring', 'SE V6', 'LE Plus', 'XLE Premium FWD', 'XSE V6 FWD', '50th Anniversary Edition', 'LE Sedan FWD', 'SE Sport', 'SE Sport Limited Edition', 'XLE Touring', 'XLE Plus', 'S Special Edition', 'L FWD', 'SR5 4WD', 'AWD', 'Limited V6 4WD', 'V6 AWD', 'LE AWD', 'XLE AWD', 'Limited Platinum AWD', 'Base 4WD', 'SE AWD', 'Base V6 4WD', 'TRD Off-Road Premium 4WD', 'Limited AWD', 'SR5 Premium 4WD', 'Sport V6 AWD', '4WD', 'TRD Pro 4WD', 'Limited V6 AWD', 'Limited 4WD', 'SR5 V6 4WD', 'LE i4', 'V6 XLE AWD', 'SR5 V6', 'Limited Platinum', 'LE Plus AWD', 'Platinum FFV 4WD', 'Sport 4WD', 'XLE V6 AWD', 'V6 Limited AWD', 'SR5 FFV 4WD', 'Adventure AWD', 'V6 4x4 SR5', 'Sport', 'SE V6 AWD', 'SR5', 'Plus V6 AWD', 'TRD Off-Road 4WD', 'Trail Premium 4WD', 'Limited FFV 4WD', 'Platinum 4WD', 'XSE AWD', 'V6 4x2 SR5', 'I4 AWD', 'LE i4 FWD', 'Sport AWD', '4 Dr Limited V8 4WD', 'LE V6 AWD', 'Base AWD', 'Sport V6 4WD', 'SE V6 4WD', 'Limited V6', 'SR5 5.7L 4WD', 'TRD Off-Road AWD', 'Base V6', 'Sport V6', '2WD', 'Limited Nightshade 4WD']\n",
      "-------------------------------------------------------------------------------------------------------------------\n",
      "The make is: Volkswagen and the trims are: ['TDI SEL Premium', 'TDI', '1.4T S FWD', 'TDI SE', 'S', '2.0T Luxury FWD', 'SE 1.8', 'TDI with Premium', '1.8T S', '1.4T SE FWD', 'SE', '1.4T Wolfsburg Edition FWD', '2.0T Sport FWD', 'SEL Premium', '2.0T SEL FWD', 'SE with Sunroof and Nav', 'SE with Sunroof', '1.8T Sport FWD', '1.8T SE', '1.8T SEL FWD', 'Wolfsburg Edition', '1.4T R-Line FWD', '2.0T GLI FWD', 'TDI SE with Sunroof', '2.0T SE FWD', 'SE with Connectivity', 'SEL V6 Premium', 'Base', 'S 1.8', 'VR6 4Motion', '1.8T SE with Technology Pkg', '2.0T Wolfsburg FWD', 'TDI with Premium and Nav', '1.8T SE with Technology', 'TDI SE with Sunroof and Nav', 'SEL', 'GLI Autobahn', 'TDI S', '1.8T SEL Premium', 'Wolfsburg Edition 1.8', 'Komfort', 'Limited Edition', '2.0T R-Line FWD', 'R-Line', 'GLI', '2.0T SEL Premium 4Motion AWD with R-Line', '1.8T SEL', 'TDI SEL', '1.4T S FWD with Technology', '2.0T Lux Plus FWD', '1.8T SEL Premium FWD', '2.0T S FWD', 'VR6 Executive 4Motion AWD', '1.8T R-Line', 'V6 SEL Premium', '2.0T Lux FWD', 'SEL Premium FWD', '2.0T Sport Plus FWD', '2.0T GLI SE FWD', 'S with Appearance', '2.0T SEL 4Motion AWD', '2.0T GLI SEL FWD', 'GLI Autobahn with Nav', '2.0T Trend FWD', 'SE with Connectivity and Sunroof', 'TDI SE with Connectivity', 'SEL with Sunroof', 'TDI Value Edition', '2.0T SEL Premium FWD', '2.0T Executive FWD', '1.4T SE FWD with Connectivity', '1.8T SE Sport FWD', '1.4T SEL FWD']\n",
      "-------------------------------------------------------------------------------------------------------------------\n",
      "The make is: Jeep and the trims are: ['Trailhawk 4WD', 'Altitude 4WD', 'Limited 4WD', 'X High Altitude 4WD', 'SRT 4WD', 'Laredo 4WD', 'Laredo E 4WD', 'Latitude 4WD', 'Latitude FWD', 'Overland 4WD', 'Sport Altitude 4WD', 'High Altitude Edition 4WD', 'Sport 4WD', 'High Altitude FWD', 'X 4WD', 'Sport', 'Sterling Edition 4WD', 'Sport FWD', 'X Sport', 'Sahara 4WD', '70th Anniversary 4WD', 'Latitude', 'Summit 4WD', 'High Altitude 4WD', 'Trailhawk L Plus 4WD', 'Trackhawk 4WD', 'SE', 'Sport SE FWD', 'Latitude Plus 4WD', 'X', 'High Altitude Edition', 'North Edition 4WD', 'Upland 4WD', 'Base 4WD', 'Limited FWD', 'Laredo', 'Rubicon 4WD', 'X High Altitude', 'Altitude', 'Latitude X 4WD', 'Trailhawk Elite 4WD', 'Sport Jet 4WD', 'Limited 75th Anniversary 4WD', 'X Sport SE 4WD', 'Limited', 'Sport 75th Anniversary', 'Limited 4X4', 'Laredo X 4WD', '75th Anniversary Edition 4WD', 'Latitude 75th Anniversary 4WD', 'Limited RWD', 'Sahara', 'Overland Summit 4WD', 'Deserthawk 4WD', 'Altitude Edition 4WD', 'Laredo 75th Anniversary 4WD', 'Limited Jet 4WD', 'Renegade 4WD', 'Rubicon', 'Unlimited', 'X Latitude', 'Limited X 4WD', 'Backcountry 4WD', 'Base 4X4']\n",
      "-------------------------------------------------------------------------------------------------------------------\n"
     ]
    }
   ],
   "source": [
    "# Look for various trims across make\n",
    "for make in df[\"Make\"].unique():\n",
    "    print(\"The make is: {} and the trims are: {}\".format(make,df[df[\"Make\"] == make][\"Trim\"].unique().tolist()))\n",
    "    print(\"-\"*115)"
   ]
  },
  {
   "cell_type": "markdown",
   "metadata": {},
   "source": [
    "## 3 levels of trims for each make"
   ]
  },
  {
   "cell_type": "markdown",
   "metadata": {},
   "source": [
    "### Masks for each trim"
   ]
  },
  {
   "cell_type": "code",
   "execution_count": 60,
   "metadata": {},
   "outputs": [
    {
     "name": "stderr",
     "output_type": "stream",
     "text": [
      "/Users/axr524/anaconda2/envs/scrape_env/lib/python3.7/site-packages/pandas/core/strings.py:1954: UserWarning: This pattern has match groups. To actually get the groups, use str.extract.\n",
      "  return func(self, *args, **kwargs)\n"
     ]
    }
   ],
   "source": [
    "mask_1 = df[\"Trim_copy\"].value_counts().index.str.contains(\n",
    "    \"(LX|SportSi|Gx|L|LE|Sedan|Base|LS|RS|FWD|XLT|value|ES|SR|Latitude)\",\n",
    "    case=False,regex=True)   # Mask for base trim"
   ]
  },
  {
   "cell_type": "code",
   "execution_count": 61,
   "metadata": {},
   "outputs": [],
   "source": [
    "mask_2 = df[\"Trim_copy\"].value_counts().index.str.contains(\n",
    "    \"(EX|Navigation|RES|SE|S|LT|Hybrid|SEL|ST|Signature|SX|SV|SL|Altitude)\",\n",
    "    case=False,regex=True) # Mask for mid trim"
   ]
  },
  {
   "cell_type": "code",
   "execution_count": 62,
   "metadata": {},
   "outputs": [],
   "source": [
    "mask_3 = df[\"Trim_copy\"].value_counts().index.str.contains(\n",
    "    \"(Touring|EX-T|Elite|XLE|XSE|Limited|Edition|Premier|Titanium|Luxury|Premium|Ultimate|Grand|GT|Platinum|GLI|2.0T|Trailhawk|Overland)\",\n",
    "    case=False,regex=True)  # Mask for high trim"
   ]
  },
  {
   "cell_type": "markdown",
   "metadata": {},
   "source": [
    "### Some of the values are shared among the 3 masks"
   ]
  },
  {
   "cell_type": "markdown",
   "metadata": {},
   "source": [
    "<img src=\"venn.png\">"
   ]
  },
  {
   "cell_type": "markdown",
   "metadata": {},
   "source": [
    "### Here, we're going to replace the trim levels with the respective numbers:\n",
    "* Values that belong to 100: 1\n",
    "* Values that belong to 010: 3\n",
    "* Values that belong to 001: 5\n",
    "* Values that belong to 110: 2 : Mean of 100 and 010\n",
    "* Values that belong to 101: 3 : Mean of 100 and 001\n",
    "* Values that belong to 001: 4 : Mean of 010 and 001\n",
    "* Values that belong to 111: 3 : Mean of 100 and 101 and 001\n",
    "* Values that belong to 000: 5 : These are usually the models which have fancy names and are mostly higher trim."
   ]
  },
  {
   "cell_type": "code",
   "execution_count": 63,
   "metadata": {},
   "outputs": [
    {
     "data": {
      "text/plain": [
       "738"
      ]
     },
     "execution_count": 63,
     "metadata": {},
     "output_type": "execute_result"
    }
   ],
   "source": [
    "len(df[\"Trim_copy\"].value_counts())   #Omega  # This sample space is divided into 8 parts."
   ]
  },
  {
   "cell_type": "code",
   "execution_count": 64,
   "metadata": {},
   "outputs": [
    {
     "data": {
      "text/plain": [
       "510"
      ]
     },
     "execution_count": 64,
     "metadata": {},
     "output_type": "execute_result"
    }
   ],
   "source": [
    "len(df[\"Trim_copy\"].value_counts().index[mask_1])  # Mask1"
   ]
  },
  {
   "cell_type": "code",
   "execution_count": 65,
   "metadata": {},
   "outputs": [
    {
     "data": {
      "text/plain": [
       "486"
      ]
     },
     "execution_count": 65,
     "metadata": {},
     "output_type": "execute_result"
    }
   ],
   "source": [
    "len(df[\"Trim_copy\"].value_counts().index[mask_2]) # Mask2"
   ]
  },
  {
   "cell_type": "code",
   "execution_count": 66,
   "metadata": {},
   "outputs": [
    {
     "data": {
      "text/plain": [
       "261"
      ]
     },
     "execution_count": 66,
     "metadata": {},
     "output_type": "execute_result"
    }
   ],
   "source": [
    "len(df[\"Trim_copy\"].value_counts().index[mask_3]) # Mask3"
   ]
  },
  {
   "cell_type": "code",
   "execution_count": 67,
   "metadata": {},
   "outputs": [],
   "source": [
    "list_111 = df[\"Trim_copy\"].value_counts().index[(mask_1)&(mask_2)&(mask_3)].tolist()        # 111\n",
    "list_110 = df[\"Trim_copy\"].value_counts().index[(~mask_3)&((mask_1)&(mask_2))].tolist()     # 110\n",
    "list_101 = df[\"Trim_copy\"].value_counts().index[(~mask_2)&((mask_1)&(mask_3))].tolist()     # 101\n",
    "list_011 = df[\"Trim_copy\"].value_counts().index[(~mask_1)&((mask_3)&(mask_2))].tolist()     # 011\n",
    "list_100 = df[\"Trim_copy\"].value_counts().index[(mask_1)&(~((mask_2)|(mask_3)))].tolist()   # 100\n",
    "list_010 = df[\"Trim_copy\"].value_counts().index[(mask_2)&(~((mask_1)|(mask_3)))].tolist()   # 010\n",
    "list_001 = df[\"Trim_copy\"].value_counts().index[(mask_3)&(~((mask_2)|(mask_1)))].tolist()   # 001\n",
    "list_000 = df[\"Trim_copy\"].value_counts().index[~((mask_1)|(mask_2)|(mask_3))].tolist()     # 000"
   ]
  },
  {
   "cell_type": "code",
   "execution_count": 68,
   "metadata": {},
   "outputs": [],
   "source": [
    "df[\"Trim_copy\"].replace(dict.fromkeys(list_100,1),inplace = True)\n",
    "df[\"Trim_copy\"].replace(dict.fromkeys(list_010,3),inplace = True)\n",
    "df[\"Trim_copy\"].replace(dict.fromkeys(list_001,5),inplace = True)\n",
    "df[\"Trim_copy\"].replace(dict.fromkeys(list_110,2),inplace = True)\n",
    "df[\"Trim_copy\"].replace(dict.fromkeys(list_101,3),inplace = True)\n",
    "df[\"Trim_copy\"].replace(dict.fromkeys(list_011,4),inplace = True)\n",
    "df[\"Trim_copy\"].replace(dict.fromkeys(list_111,3),inplace = True)\n",
    "df[\"Trim_copy\"].replace(dict.fromkeys(list_000,5),inplace = True)"
   ]
  },
  {
   "cell_type": "code",
   "execution_count": 69,
   "metadata": {},
   "outputs": [
    {
     "data": {
      "text/plain": [
       "3    6398\n",
       "2    5789\n",
       "1    2631\n",
       "5    2525\n",
       "4     137\n",
       "Name: Trim_copy, dtype: int64"
      ]
     },
     "execution_count": 69,
     "metadata": {},
     "output_type": "execute_result"
    }
   ],
   "source": [
    "df[\"Trim_copy\"].value_counts()"
   ]
  },
  {
   "cell_type": "code",
   "execution_count": 70,
   "metadata": {},
   "outputs": [
    {
     "data": {
      "text/plain": [
       "<matplotlib.axes._subplots.AxesSubplot at 0x11be8cb90>"
      ]
     },
     "execution_count": 70,
     "metadata": {},
     "output_type": "execute_result"
    },
    {
     "data": {
      "image/png": "[encoded data removed]",
      "text/plain": [
       "<Figure size 432x288 with 1 Axes>"
      ]
     },
     "metadata": {},
     "output_type": "display_data"
    }
   ],
   "source": [
    "sns.boxplot(x = \"Trim_copy\", y = \"Price\", data = df)"
   ]
  },
  {
   "cell_type": "code",
   "execution_count": 71,
   "metadata": {},
   "outputs": [
    {
     "data": {
      "text/plain": [
       "Trim_copy\n",
       "4    18775.248175\n",
       "5    16390.430099\n",
       "3    14564.190059\n",
       "2    13775.485403\n",
       "1    12994.316990\n",
       "Name: Price, dtype: float64"
      ]
     },
     "execution_count": 71,
     "metadata": {},
     "output_type": "execute_result"
    }
   ],
   "source": [
    "df.groupby(\"Trim_copy\")[\"Price\"].mean().sort_values(ascending=False)"
   ]
  },
  {
   "cell_type": "markdown",
   "metadata": {},
   "source": [
    "### Model\n",
    "Usually there are three levels of size for each bodytype: sedan as well as suv.\n",
    "And, for the same trim, the Price usually goes up with the level. Let's see!"
   ]
  },
  {
   "cell_type": "code",
   "execution_count": 86,
   "metadata": {},
   "outputs": [
    {
     "name": "stdout",
     "output_type": "stream",
     "text": [
      "The make is: Chevrolet and the models are: ['Sonic', 'Malibu', 'Impala', 'Caprice', 'Cruze', 'Cruze Limited', 'Impala Limited', 'Cobalt', 'Volt', 'Aveo', 'Equinox', 'Tahoe', 'Traverse', 'Trax', 'Blazer', 'Suburban', 'Trailblazer', 'Captiva Sport', 'Trailblazer EXT', 'Tahoe Hybrid']\n",
      "-------------------------------------------------------------------------------------------------------------------\n",
      "The make is: Ford and the models are: ['Fusion', 'Focus', 'Fusion Hybrid', 'Taurus', 'Fiesta', 'Fusion Energi', 'Escape', 'Explorer', 'Edge', 'Flex', 'Expedition', 'EcoSport', 'Taurus X']\n",
      "-------------------------------------------------------------------------------------------------------------------\n",
      "The make is: Honda and the models are: ['Civic', 'Accord', 'Insight', 'Accord Hybrid', 'Civic Hybrid', 'CR-V', 'HR-V', 'Pilot', 'Crosstour', 'Element', 'Accord Crosstour', 'Passport']\n",
      "-------------------------------------------------------------------------------------------------------------------\n",
      "The make is: Hyundai and the models are: ['Accent', 'Sonata', 'Elantra', 'Equus', 'Sonata Hybrid Plug-In ', 'Sonata Hybrid', 'Genesis', 'Azera', 'Santa Fe', 'Santa Fe Sport', 'Tucson', 'Kona', 'Santa Fe XL', 'Veracruz', 'Palisade']\n",
      "-------------------------------------------------------------------------------------------------------------------\n",
      "The make is: Kia and the models are: ['Cadenza', 'Optima', 'Forte', 'Spectra', 'Rio', 'Optima Hybrid', 'Stinger', 'K900', 'Sportage', 'Sorento', 'Soul', 'Telluride', 'Niro', 'Seltos', 'Rondo', 'Borrego']\n",
      "-------------------------------------------------------------------------------------------------------------------\n",
      "The make is: Mazda and the models are: ['MAZDA6', 'MAZDA3', 'CX-5', 'CX-9', 'CX-3', 'CX-7', 'Tribute', 'CX-30']\n",
      "-------------------------------------------------------------------------------------------------------------------\n",
      "The make is: Mitsubishi and the models are: ['Mirage G4', 'Lancer', 'Lancer Evolution', 'Galant', 'Outlander', 'Outlander Sport', 'Eclipse Cross', 'Endeavor', 'Outlander Hybrid Plug-in ', 'Montero']\n",
      "-------------------------------------------------------------------------------------------------------------------\n",
      "The make is: Nissan and the models are: ['Altima', 'Sentra', 'Versa', 'Maxima', 'Altima Hybrid', 'Xterra', 'Juke', 'Pathfinder', 'Armada', 'Rogue', 'Murano', 'Rogue Select', 'Rogue Sport', 'Kicks', 'Pathfinder Hybrid', 'Murano CrossCabriolet', 'Rogue Hybrid']\n",
      "-------------------------------------------------------------------------------------------------------------------\n",
      "The make is: Subaru and the models are: ['WRX', 'Impreza WRX', 'Legacy', 'Impreza', 'WRX STI', 'Impreza WRX STI', 'Outback', 'Ascent', 'Forester', 'Crosstrek', 'XV Crosstrek', 'Tribeca', 'B9 Tribeca', 'XV Crosstrek Hybrid', 'Crosstrek Hybrid']\n",
      "-------------------------------------------------------------------------------------------------------------------\n",
      "The make is: Toyota and the models are: ['Avalon', 'Corolla', 'Camry', 'Yaris iA', 'Camry Hybrid', 'Yaris', 'Avalon Hybrid', 'Corolla Hybrid', '4Runner', 'RAV4', 'Venza', 'Highlander', 'RAV4 Hybrid', 'FJ Cruiser', 'C-HR', 'Highlander Hybrid', 'Sequoia', 'Land Cruiser']\n",
      "-------------------------------------------------------------------------------------------------------------------\n",
      "The make is: Volkswagen and the models are: ['Passat', 'Jetta', 'CC', 'Arteon', 'Jetta Hybrid']\n",
      "-------------------------------------------------------------------------------------------------------------------\n",
      "The make is: Jeep and the models are: ['Cherokee', 'Grand Cherokee', 'Compass', 'Renegade', 'Patriot', 'Liberty', 'Wrangler Unlimited', 'Wrangler', 'Commander']\n",
      "-------------------------------------------------------------------------------------------------------------------\n"
     ]
    }
   ],
   "source": [
    "for make in df[\"Make\"].unique():\n",
    "    print(\"The make is: {} and the models are: {}\".format(make,df[df[\"Make\"] == make][\"Model\"].unique().tolist()))\n",
    "    print(\"-\"*115)"
   ]
  },
  {
   "cell_type": "markdown",
   "metadata": {},
   "source": [
    "### We'll have to use the same procedure which we used for the Trim levels."
   ]
  },
  {
   "cell_type": "code",
   "execution_count": 89,
   "metadata": {},
   "outputs": [
    {
     "name": "stderr",
     "output_type": "stream",
     "text": [
      "/Users/axr524/anaconda2/envs/scrape_env/lib/python3.7/site-packages/pandas/core/strings.py:1954: UserWarning: This pattern has match groups. To actually get the groups, use str.extract.\n",
      "  return func(self, *args, **kwargs)\n"
     ]
    }
   ],
   "source": [
    "mask_compact = df[\"Model\"].value_counts().index.str.contains(\n",
    "    \"(Sonic|Cruze|Equinox|Volt|Trailblazer|Trax|Fiesta|Edge|EcoSport|Escape|Civic|HR-V|Element|Accent|Elantra|Kona|Tucson|Forte|Soul|Rio|Niro|Sportage|Seltos|Mazda3|CX-3|CX-30|Mirage|Lancer|Eclipse|Galant|Sentra|Versa|Rogue|Xterra|Juke|Kicks|Impreza|Crosstrek|Corolla|Yaris|C-HR|Jetta|Renegade|Compass)\",\n",
    "    case=False,regex=True)   # Mask for compact size"
   ]
  },
  {
   "cell_type": "code",
   "execution_count": 90,
   "metadata": {},
   "outputs": [],
   "source": [
    "mask_mid = df[\"Model\"].value_counts().index.str.contains(\n",
    "    \"(Malibu|Traverse|Tahoe|Fusion|Explorer|Accord|Insight|CR-V|Passport|Sonata|Santa Fe|Optima|Sorento|Mazda6|CX-5|CX-7|Tribute|Outlander|Altima|Murano|Legacy|Forester|Outback|WRX|Tribeca|Camry|Rav-4|Highlander|4Runner|Passat|CC|Wrangler|Cherokee)\",\n",
    "    case=False,regex=True)   # Mask for mid size"
   ]
  },
  {
   "cell_type": "code",
   "execution_count": 91,
   "metadata": {},
   "outputs": [],
   "source": [
    "mask_full = df[\"Model\"].value_counts().index.str.contains(\n",
    "    \"(Impala|Suburban|Taurus|Flex|Expedition|Pilot|Palisade|Cadenza|Stinger|Telluride|CX-9|Endeavor|Montero|Maxima|Pathfinder|Armada|Ascent|Avalon|Land Cruiser|Sequoia|Cruiser|Arteon|Grand Cherokee)\",\n",
    "    case=False,regex=True)   # Mask for full size"
   ]
  },
  {
   "cell_type": "code",
   "execution_count": 131,
   "metadata": {},
   "outputs": [],
   "source": [
    "df[\"Model_copy\"] = df[\"Model\"].copy()"
   ]
  },
  {
   "cell_type": "code",
   "execution_count": 132,
   "metadata": {},
   "outputs": [],
   "source": [
    "model_list_111 = df[\"Model_copy\"].value_counts().index[(mask_compact)&(mask_mid)&(mask_full)].tolist()        # 111\n",
    "model_list_110 = df[\"Model_copy\"].value_counts().index[(~mask_full)&((mask_compact)&(mask_mid))].tolist()     # 110\n",
    "model_list_101 = df[\"Model_copy\"].value_counts().index[(~mask_mid)&((mask_compact)&(mask_full))].tolist()     # 101\n",
    "model_list_011 = df[\"Model_copy\"].value_counts().index[(~mask_compact)&((mask_full)&(mask_mid))].tolist()     # 011\n",
    "model_list_100 = df[\"Model_copy\"].value_counts().index[(mask_compact)&(~((mask_mid)|(mask_full)))].tolist()   # 100\n",
    "model_list_010 = df[\"Model_copy\"].value_counts().index[(mask_mid)&(~((mask_compact)|(mask_full)))].tolist()   # 010\n",
    "model_list_001 = df[\"Model_copy\"].value_counts().index[(mask_full)&(~((mask_mid)|(mask_compact)))].tolist()   # 001\n",
    "model_list_000 = df[\"Model_copy\"].value_counts().index[~((mask_compact)|(mask_mid)|(mask_full))].tolist()     # 000"
   ]
  },
  {
   "cell_type": "code",
   "execution_count": 133,
   "metadata": {},
   "outputs": [],
   "source": [
    "df[\"Model_copy\"].replace(dict.fromkeys(model_list_100,1),inplace = True)\n",
    "df[\"Model_copy\"].replace(dict.fromkeys(model_list_010,3),inplace = True)\n",
    "df[\"Model_copy\"].replace(dict.fromkeys(model_list_001,5),inplace = True)\n",
    "df[\"Model_copy\"].replace(dict.fromkeys(model_list_110,3),inplace = True)\n",
    "df[\"Model_copy\"].replace(dict.fromkeys(model_list_101,3),inplace = True)\n",
    "df[\"Model_copy\"].replace(dict.fromkeys(model_list_011,4),inplace = True)\n",
    "df[\"Model_copy\"].replace(dict.fromkeys(model_list_111,3),inplace = True)\n",
    "df[\"Model_copy\"].replace(dict.fromkeys(model_list_000,2),inplace = True)"
   ]
  },
  {
   "cell_type": "code",
   "execution_count": 134,
   "metadata": {},
   "outputs": [
    {
     "data": {
      "text/plain": [
       "<matplotlib.axes._subplots.AxesSubplot at 0x12704ea10>"
      ]
     },
     "execution_count": 134,
     "metadata": {},
     "output_type": "execute_result"
    },
    {
     "data": {
      "image/png": "[encoded data removed]",
      "text/plain": [
       "<Figure size 432x288 with 1 Axes>"
      ]
     },
     "metadata": {},
     "output_type": "display_data"
    }
   ],
   "source": [
    "sns.boxplot(x=\"Model_copy\",y = \"Price\", data = df)"
   ]
  },
  {
   "cell_type": "markdown",
   "metadata": {},
   "source": [
    "### Color"
   ]
  },
  {
   "cell_type": "code",
   "execution_count": 72,
   "metadata": {},
   "outputs": [
    {
     "data": {
      "text/plain": [
       "BLACK      18.529748\n",
       "SILVER     16.744851\n",
       "WHITE      15.331808\n",
       "GRAY       14.073227\n",
       "BLUE       11.195652\n",
       "RED        10.783753\n",
       "UNKNOWN     9.914188\n",
       "BROWN       1.315789\n",
       "GREEN       0.972540\n",
       "GOLD        0.411899\n",
       "ORANGE      0.314645\n",
       "TEAL        0.274600\n",
       "PURPLE      0.097254\n",
       "YELLOW      0.040046\n",
       "Name: Color, dtype: float64"
      ]
     },
     "execution_count": 72,
     "metadata": {},
     "output_type": "execute_result"
    }
   ],
   "source": [
    "df[\"Color\"].value_counts()/len(df)*100"
   ]
  },
  {
   "cell_type": "code",
   "execution_count": 73,
   "metadata": {},
   "outputs": [
    {
     "data": {
      "text/plain": [
       "<matplotlib.axes._subplots.AxesSubplot at 0x106c43c90>"
      ]
     },
     "execution_count": 73,
     "metadata": {},
     "output_type": "execute_result"
    },
    {
     "data": {
      "image/png": "[encoded data removed]",
      "text/plain": [
       "<Figure size 720x432 with 1 Axes>"
      ]
     },
     "metadata": {},
     "output_type": "display_data"
    }
   ],
   "source": [
    "plt.figure(figsize=(10,6))\n",
    "sns.boxplot(df[\"Color\"],df[\"Price\"])"
   ]
  },
  {
   "cell_type": "markdown",
   "metadata": {},
   "source": [
    "## Color doesn't seem to affect the sales much here in our case.\n",
    "## Let's drop it "
   ]
  },
  {
   "cell_type": "code",
   "execution_count": 74,
   "metadata": {},
   "outputs": [],
   "source": [
    "df.drop(\"Color\",axis=1,inplace=True)"
   ]
  },
  {
   "cell_type": "code",
   "execution_count": null,
   "metadata": {},
   "outputs": [],
   "source": []
  },
  {
   "cell_type": "markdown",
   "metadata": {},
   "source": [
    "## Now on to the numerical features\n",
    "* Accidents\n",
    "* Year\n",
    "* Fuel economy\n",
    "* Distance\n",
    "* Days on market\n",
    "* Mileage\n",
    "* Additional features (eg: heated seats, push-button start, etc.)\n",
    "* Previous owners\n",
    "* Seats"
   ]
  },
  {
   "cell_type": "markdown",
   "metadata": {},
   "source": [
    "We'll analyze all of these features and see which ones affect the price the most."
   ]
  },
  {
   "cell_type": "code",
   "execution_count": 75,
   "metadata": {},
   "outputs": [
    {
     "data": {
      "text/plain": [
       "<matplotlib.axes._subplots.AxesSubplot at 0x11bf6f990>"
      ]
     },
     "execution_count": 75,
     "metadata": {},
     "output_type": "execute_result"
    },
    {
     "data": {
      "image/png": "[encoded data removed]",
      "text/plain": [
       "<Figure size 1080x720 with 2 Axes>"
      ]
     },
     "metadata": {},
     "output_type": "display_data"
    }
   ],
   "source": [
    "plt.figure(figsize = (15,10))\n",
    "sns.heatmap(df.corr(),annot=True,linewidths=1,cmap = \"coolwarm\")"
   ]
  },
  {
   "cell_type": "code",
   "execution_count": 76,
   "metadata": {},
   "outputs": [
    {
     "data": {
      "text/plain": [
       "Price                    1.000000\n",
       "Year                     0.678290\n",
       "Additional_features      0.447112\n",
       "Seats                    0.240168\n",
       "Trim_copy                0.167583\n",
       "Distance                 0.111819\n",
       "Photos                   0.035993\n",
       "Days_on_market          -0.012846\n",
       "Fuel_economy_combined   -0.130001\n",
       "Accidents               -0.158132\n",
       "Previous_owners         -0.441762\n",
       "Mileage                 -0.670072\n",
       "Name: Price, dtype: float64"
      ]
     },
     "execution_count": 76,
     "metadata": {},
     "output_type": "execute_result"
    }
   ],
   "source": [
    "df.corr()[\"Price\"].sort_values(ascending = False) # Understand each of these blocks"
   ]
  },
  {
   "cell_type": "markdown",
   "metadata": {},
   "source": [
    "## Price\n",
    "### This is our target variable. \n",
    "It has positive strong correlation with some features while strongly negative with some. We'll drop the columns such as Distance and days on market since they don't really correlate with the Price column."
   ]
  },
  {
   "cell_type": "code",
   "execution_count": 77,
   "metadata": {},
   "outputs": [
    {
     "data": {
      "text/plain": [
       "<matplotlib.axes._subplots.AxesSubplot at 0x122245a90>"
      ]
     },
     "execution_count": 77,
     "metadata": {},
     "output_type": "execute_result"
    },
    {
     "data": {
      "image/png": "[encoded data removed]",
      "text/plain": [
       "<Figure size 432x288 with 1 Axes>"
      ]
     },
     "metadata": {},
     "output_type": "display_data"
    }
   ],
   "source": [
    "sns.distplot(df[\"Price\"],fit=norm)"
   ]
  },
  {
   "cell_type": "code",
   "execution_count": 78,
   "metadata": {},
   "outputs": [
    {
     "data": {
      "text/plain": [
       "18666    73495.0\n",
       "12462    69995.0\n",
       "6723     60777.0\n",
       "9442     58800.0\n",
       "18185    57750.0\n",
       "          ...   \n",
       "140       1987.0\n",
       "7564      1800.0\n",
       "13252     1800.0\n",
       "3670      1595.0\n",
       "13076     1000.0\n",
       "Name: Price, Length: 17480, dtype: float64"
      ]
     },
     "execution_count": 78,
     "metadata": {},
     "output_type": "execute_result"
    }
   ],
   "source": [
    "df[\"Price\"].sort_values(ascending=False)"
   ]
  },
  {
   "cell_type": "markdown",
   "metadata": {},
   "source": [
    "### Outliers"
   ]
  },
  {
   "cell_type": "code",
   "execution_count": 79,
   "metadata": {},
   "outputs": [
    {
     "data": {
      "text/html": [
       "<div>\n",
       "<style scoped>\n",
       "    .dataframe tbody tr th:only-of-type {\n",
       "        vertical-align: middle;\n",
       "    }\n",
       "\n",
       "    .dataframe tbody tr th {\n",
       "        vertical-align: top;\n",
       "    }\n",
       "\n",
       "    .dataframe thead th {\n",
       "        text-align: right;\n",
       "    }\n",
       "</style>\n",
       "<table border=\"1\" class=\"dataframe\">\n",
       "  <thead>\n",
       "    <tr style=\"text-align: right;\">\n",
       "      <th></th>\n",
       "      <th>Id</th>\n",
       "      <th>Accidents</th>\n",
       "      <th>Body_type</th>\n",
       "      <th>Year</th>\n",
       "      <th>Fuel_economy_combined</th>\n",
       "      <th>Days_on_market</th>\n",
       "      <th>Rating</th>\n",
       "      <th>Distance</th>\n",
       "      <th>Drivetrain</th>\n",
       "      <th>Engine</th>\n",
       "      <th>Make</th>\n",
       "      <th>Mileage</th>\n",
       "      <th>Model</th>\n",
       "      <th>Transmission</th>\n",
       "      <th>Additional_features</th>\n",
       "      <th>Previous_owners</th>\n",
       "      <th>Photos</th>\n",
       "      <th>Seats</th>\n",
       "      <th>Seller_type</th>\n",
       "      <th>Trim</th>\n",
       "      <th>Price</th>\n",
       "      <th>Trim_copy</th>\n",
       "    </tr>\n",
       "  </thead>\n",
       "  <tbody>\n",
       "    <tr>\n",
       "      <th>6567</th>\n",
       "      <td>266403647</td>\n",
       "      <td>0.0</td>\n",
       "      <td>Sedan</td>\n",
       "      <td>2018.0</td>\n",
       "      <td>19.000000</td>\n",
       "      <td>121.0</td>\n",
       "      <td>Great_Price</td>\n",
       "      <td>114.235290</td>\n",
       "      <td>ALL_WHEEL_DRIVE</td>\n",
       "      <td>H4</td>\n",
       "      <td>Subaru</td>\n",
       "      <td>10867.0</td>\n",
       "      <td>WRX STI</td>\n",
       "      <td>Manual</td>\n",
       "      <td>3.0</td>\n",
       "      <td>2.0</td>\n",
       "      <td>1</td>\n",
       "      <td>5.0</td>\n",
       "      <td>DEALER</td>\n",
       "      <td>Type RA AWD</td>\n",
       "      <td>41288.0</td>\n",
       "      <td>5</td>\n",
       "    </tr>\n",
       "    <tr>\n",
       "      <th>6648</th>\n",
       "      <td>249142526</td>\n",
       "      <td>0.0</td>\n",
       "      <td>Sedan</td>\n",
       "      <td>2018.0</td>\n",
       "      <td>19.000000</td>\n",
       "      <td>312.0</td>\n",
       "      <td>Great_Price</td>\n",
       "      <td>55.662600</td>\n",
       "      <td>ALL_WHEEL_DRIVE</td>\n",
       "      <td>H4</td>\n",
       "      <td>Subaru</td>\n",
       "      <td>7765.0</td>\n",
       "      <td>WRX STI</td>\n",
       "      <td>Manual</td>\n",
       "      <td>4.0</td>\n",
       "      <td>1.0</td>\n",
       "      <td>1</td>\n",
       "      <td>5.0</td>\n",
       "      <td>DEALER</td>\n",
       "      <td>Type RA AWD</td>\n",
       "      <td>42980.0</td>\n",
       "      <td>5</td>\n",
       "    </tr>\n",
       "    <tr>\n",
       "      <th>6723</th>\n",
       "      <td>270324045</td>\n",
       "      <td>0.0</td>\n",
       "      <td>Sedan</td>\n",
       "      <td>2019.0</td>\n",
       "      <td>27.238208</td>\n",
       "      <td>72.0</td>\n",
       "      <td>Great_Price</td>\n",
       "      <td>112.785126</td>\n",
       "      <td>ALL_WHEEL_DRIVE</td>\n",
       "      <td>H4</td>\n",
       "      <td>Subaru</td>\n",
       "      <td>3540.0</td>\n",
       "      <td>WRX STI</td>\n",
       "      <td>Manual</td>\n",
       "      <td>4.0</td>\n",
       "      <td>1.0</td>\n",
       "      <td>1</td>\n",
       "      <td>5.0</td>\n",
       "      <td>DEALER</td>\n",
       "      <td>S209 AWD</td>\n",
       "      <td>60777.0</td>\n",
       "      <td>3</td>\n",
       "    </tr>\n",
       "    <tr>\n",
       "      <th>8840</th>\n",
       "      <td>273844413</td>\n",
       "      <td>0.0</td>\n",
       "      <td>SUV / Crossover</td>\n",
       "      <td>2020.0</td>\n",
       "      <td>17.000000</td>\n",
       "      <td>9.0</td>\n",
       "      <td>Great_Price</td>\n",
       "      <td>180.902240</td>\n",
       "      <td>ALL_WHEEL_DRIVE</td>\n",
       "      <td>V6</td>\n",
       "      <td>Chevrolet</td>\n",
       "      <td>10675.0</td>\n",
       "      <td>Suburban</td>\n",
       "      <td>Automatic</td>\n",
       "      <td>7.0</td>\n",
       "      <td>1.0</td>\n",
       "      <td>1</td>\n",
       "      <td>8.0</td>\n",
       "      <td>DEALER</td>\n",
       "      <td>1500 LT 4WD</td>\n",
       "      <td>47998.0</td>\n",
       "      <td>2</td>\n",
       "    </tr>\n",
       "    <tr>\n",
       "      <th>8966</th>\n",
       "      <td>255437032</td>\n",
       "      <td>1.0</td>\n",
       "      <td>SUV / Crossover</td>\n",
       "      <td>2019.0</td>\n",
       "      <td>17.000000</td>\n",
       "      <td>247.0</td>\n",
       "      <td>Great_Price</td>\n",
       "      <td>104.687950</td>\n",
       "      <td>ALL_WHEEL_DRIVE</td>\n",
       "      <td>V6</td>\n",
       "      <td>Chevrolet</td>\n",
       "      <td>17208.0</td>\n",
       "      <td>Suburban</td>\n",
       "      <td>Automatic</td>\n",
       "      <td>7.0</td>\n",
       "      <td>1.0</td>\n",
       "      <td>1</td>\n",
       "      <td>8.0</td>\n",
       "      <td>DEALER</td>\n",
       "      <td>1500 LT 4WD</td>\n",
       "      <td>41995.0</td>\n",
       "      <td>2</td>\n",
       "    </tr>\n",
       "    <tr>\n",
       "      <th>9098</th>\n",
       "      <td>274457256</td>\n",
       "      <td>0.0</td>\n",
       "      <td>SUV / Crossover</td>\n",
       "      <td>2020.0</td>\n",
       "      <td>27.238208</td>\n",
       "      <td>1.0</td>\n",
       "      <td>Great_Price</td>\n",
       "      <td>180.902240</td>\n",
       "      <td>ALL_WHEEL_DRIVE</td>\n",
       "      <td>V6</td>\n",
       "      <td>Chevrolet</td>\n",
       "      <td>15653.0</td>\n",
       "      <td>Suburban</td>\n",
       "      <td>Automatic</td>\n",
       "      <td>8.0</td>\n",
       "      <td>1.0</td>\n",
       "      <td>1</td>\n",
       "      <td>8.0</td>\n",
       "      <td>DEALER</td>\n",
       "      <td>1500 LT 4WD</td>\n",
       "      <td>47998.0</td>\n",
       "      <td>2</td>\n",
       "    </tr>\n",
       "    <tr>\n",
       "      <th>9101</th>\n",
       "      <td>274083541</td>\n",
       "      <td>0.0</td>\n",
       "      <td>SUV / Crossover</td>\n",
       "      <td>2020.0</td>\n",
       "      <td>17.000000</td>\n",
       "      <td>6.0</td>\n",
       "      <td>Great_Price</td>\n",
       "      <td>180.902240</td>\n",
       "      <td>ALL_WHEEL_DRIVE</td>\n",
       "      <td>V6</td>\n",
       "      <td>Chevrolet</td>\n",
       "      <td>10903.0</td>\n",
       "      <td>Suburban</td>\n",
       "      <td>Automatic</td>\n",
       "      <td>7.0</td>\n",
       "      <td>1.0</td>\n",
       "      <td>1</td>\n",
       "      <td>8.0</td>\n",
       "      <td>DEALER</td>\n",
       "      <td>1500 LT 4WD</td>\n",
       "      <td>48998.0</td>\n",
       "      <td>2</td>\n",
       "    </tr>\n",
       "    <tr>\n",
       "      <th>9103</th>\n",
       "      <td>274457216</td>\n",
       "      <td>0.0</td>\n",
       "      <td>SUV / Crossover</td>\n",
       "      <td>2020.0</td>\n",
       "      <td>27.238208</td>\n",
       "      <td>1.0</td>\n",
       "      <td>Great_Price</td>\n",
       "      <td>180.902240</td>\n",
       "      <td>ALL_WHEEL_DRIVE</td>\n",
       "      <td>V6</td>\n",
       "      <td>Chevrolet</td>\n",
       "      <td>10940.0</td>\n",
       "      <td>Suburban</td>\n",
       "      <td>Automatic</td>\n",
       "      <td>7.0</td>\n",
       "      <td>2.0</td>\n",
       "      <td>1</td>\n",
       "      <td>8.0</td>\n",
       "      <td>DEALER</td>\n",
       "      <td>1500 LT 4WD</td>\n",
       "      <td>48998.0</td>\n",
       "      <td>2</td>\n",
       "    </tr>\n",
       "    <tr>\n",
       "      <th>9124</th>\n",
       "      <td>264777637</td>\n",
       "      <td>0.0</td>\n",
       "      <td>SUV / Crossover</td>\n",
       "      <td>2019.0</td>\n",
       "      <td>27.238208</td>\n",
       "      <td>140.0</td>\n",
       "      <td>Great_Price</td>\n",
       "      <td>139.752520</td>\n",
       "      <td>ALL_WHEEL_DRIVE</td>\n",
       "      <td>V6</td>\n",
       "      <td>Chevrolet</td>\n",
       "      <td>9830.0</td>\n",
       "      <td>Suburban</td>\n",
       "      <td>Automatic</td>\n",
       "      <td>13.0</td>\n",
       "      <td>1.0</td>\n",
       "      <td>1</td>\n",
       "      <td>8.0</td>\n",
       "      <td>DEALER</td>\n",
       "      <td>1500 Premier 4WD</td>\n",
       "      <td>54164.0</td>\n",
       "      <td>5</td>\n",
       "    </tr>\n",
       "    <tr>\n",
       "      <th>9161</th>\n",
       "      <td>273844393</td>\n",
       "      <td>0.0</td>\n",
       "      <td>SUV / Crossover</td>\n",
       "      <td>2020.0</td>\n",
       "      <td>17.000000</td>\n",
       "      <td>9.0</td>\n",
       "      <td>Great_Price</td>\n",
       "      <td>180.902240</td>\n",
       "      <td>ALL_WHEEL_DRIVE</td>\n",
       "      <td>V6</td>\n",
       "      <td>Chevrolet</td>\n",
       "      <td>11558.0</td>\n",
       "      <td>Suburban</td>\n",
       "      <td>Automatic</td>\n",
       "      <td>6.0</td>\n",
       "      <td>1.0</td>\n",
       "      <td>1</td>\n",
       "      <td>8.0</td>\n",
       "      <td>DEALER</td>\n",
       "      <td>1500 LT 4WD</td>\n",
       "      <td>48998.0</td>\n",
       "      <td>2</td>\n",
       "    </tr>\n",
       "    <tr>\n",
       "      <th>9250</th>\n",
       "      <td>269110785</td>\n",
       "      <td>0.0</td>\n",
       "      <td>SUV / Crossover</td>\n",
       "      <td>2019.0</td>\n",
       "      <td>27.238208</td>\n",
       "      <td>92.0</td>\n",
       "      <td>Great_Price</td>\n",
       "      <td>106.242220</td>\n",
       "      <td>ALL_WHEEL_DRIVE</td>\n",
       "      <td>V6</td>\n",
       "      <td>Chevrolet</td>\n",
       "      <td>10434.0</td>\n",
       "      <td>Suburban</td>\n",
       "      <td>Automatic</td>\n",
       "      <td>12.0</td>\n",
       "      <td>1.0</td>\n",
       "      <td>1</td>\n",
       "      <td>8.0</td>\n",
       "      <td>DEALER</td>\n",
       "      <td>1500 Premier 4WD</td>\n",
       "      <td>54499.0</td>\n",
       "      <td>5</td>\n",
       "    </tr>\n",
       "    <tr>\n",
       "      <th>9278</th>\n",
       "      <td>274369780</td>\n",
       "      <td>0.0</td>\n",
       "      <td>SUV / Crossover</td>\n",
       "      <td>2020.0</td>\n",
       "      <td>27.238208</td>\n",
       "      <td>2.0</td>\n",
       "      <td>Great_Price</td>\n",
       "      <td>62.371197</td>\n",
       "      <td>ALL_WHEEL_DRIVE</td>\n",
       "      <td>V6</td>\n",
       "      <td>Chevrolet</td>\n",
       "      <td>14793.0</td>\n",
       "      <td>Suburban</td>\n",
       "      <td>Automatic</td>\n",
       "      <td>6.0</td>\n",
       "      <td>1.0</td>\n",
       "      <td>1</td>\n",
       "      <td>9.0</td>\n",
       "      <td>DEALER</td>\n",
       "      <td>1500 LS 4WD</td>\n",
       "      <td>40457.0</td>\n",
       "      <td>2</td>\n",
       "    </tr>\n",
       "    <tr>\n",
       "      <th>9329</th>\n",
       "      <td>265946081</td>\n",
       "      <td>0.0</td>\n",
       "      <td>SUV / Crossover</td>\n",
       "      <td>2019.0</td>\n",
       "      <td>17.000000</td>\n",
       "      <td>126.0</td>\n",
       "      <td>Great_Price</td>\n",
       "      <td>187.944820</td>\n",
       "      <td>ALL_WHEEL_DRIVE</td>\n",
       "      <td>V6</td>\n",
       "      <td>Chevrolet</td>\n",
       "      <td>14312.0</td>\n",
       "      <td>Suburban</td>\n",
       "      <td>Automatic</td>\n",
       "      <td>9.0</td>\n",
       "      <td>1.0</td>\n",
       "      <td>1</td>\n",
       "      <td>8.0</td>\n",
       "      <td>DEALER</td>\n",
       "      <td>1500 Premier 4WD</td>\n",
       "      <td>53900.0</td>\n",
       "      <td>5</td>\n",
       "    </tr>\n",
       "    <tr>\n",
       "      <th>9368</th>\n",
       "      <td>273254124</td>\n",
       "      <td>0.0</td>\n",
       "      <td>SUV / Crossover</td>\n",
       "      <td>2019.0</td>\n",
       "      <td>17.000000</td>\n",
       "      <td>17.0</td>\n",
       "      <td>Great_Price</td>\n",
       "      <td>139.699570</td>\n",
       "      <td>ALL_WHEEL_DRIVE</td>\n",
       "      <td>V6</td>\n",
       "      <td>Chevrolet</td>\n",
       "      <td>25666.0</td>\n",
       "      <td>Suburban</td>\n",
       "      <td>Automatic</td>\n",
       "      <td>10.0</td>\n",
       "      <td>1.0</td>\n",
       "      <td>1</td>\n",
       "      <td>8.0</td>\n",
       "      <td>DEALER</td>\n",
       "      <td>1500 LT 4WD</td>\n",
       "      <td>41399.0</td>\n",
       "      <td>2</td>\n",
       "    </tr>\n",
       "    <tr>\n",
       "      <th>9387</th>\n",
       "      <td>249228482</td>\n",
       "      <td>0.0</td>\n",
       "      <td>SUV / Crossover</td>\n",
       "      <td>2019.0</td>\n",
       "      <td>27.238208</td>\n",
       "      <td>311.0</td>\n",
       "      <td>Great_Price</td>\n",
       "      <td>176.512860</td>\n",
       "      <td>ALL_WHEEL_DRIVE</td>\n",
       "      <td>V6</td>\n",
       "      <td>Chevrolet</td>\n",
       "      <td>21928.0</td>\n",
       "      <td>Tahoe</td>\n",
       "      <td>Automatic</td>\n",
       "      <td>11.0</td>\n",
       "      <td>1.0</td>\n",
       "      <td>1</td>\n",
       "      <td>8.0</td>\n",
       "      <td>DEALER</td>\n",
       "      <td>Premier 4WD</td>\n",
       "      <td>54421.0</td>\n",
       "      <td>5</td>\n",
       "    </tr>\n",
       "    <tr>\n",
       "      <th>9423</th>\n",
       "      <td>273819302</td>\n",
       "      <td>0.0</td>\n",
       "      <td>SUV / Crossover</td>\n",
       "      <td>2019.0</td>\n",
       "      <td>17.000000</td>\n",
       "      <td>9.0</td>\n",
       "      <td>Great_Price</td>\n",
       "      <td>112.139120</td>\n",
       "      <td>ALL_WHEEL_DRIVE</td>\n",
       "      <td>V6</td>\n",
       "      <td>Chevrolet</td>\n",
       "      <td>7902.0</td>\n",
       "      <td>Suburban</td>\n",
       "      <td>Automatic</td>\n",
       "      <td>10.0</td>\n",
       "      <td>1.0</td>\n",
       "      <td>1</td>\n",
       "      <td>8.0</td>\n",
       "      <td>DEALER</td>\n",
       "      <td>1500 Premier 4WD</td>\n",
       "      <td>55000.0</td>\n",
       "      <td>5</td>\n",
       "    </tr>\n",
       "    <tr>\n",
       "      <th>9424</th>\n",
       "      <td>267836643</td>\n",
       "      <td>0.0</td>\n",
       "      <td>SUV / Crossover</td>\n",
       "      <td>2020.0</td>\n",
       "      <td>27.238208</td>\n",
       "      <td>106.0</td>\n",
       "      <td>Great_Price</td>\n",
       "      <td>26.095264</td>\n",
       "      <td>ALL_WHEEL_DRIVE</td>\n",
       "      <td>V6</td>\n",
       "      <td>Chevrolet</td>\n",
       "      <td>8302.0</td>\n",
       "      <td>Suburban</td>\n",
       "      <td>Automatic</td>\n",
       "      <td>11.0</td>\n",
       "      <td>1.0</td>\n",
       "      <td>1</td>\n",
       "      <td>8.0</td>\n",
       "      <td>DEALER</td>\n",
       "      <td>1500 Premier 4WD</td>\n",
       "      <td>54700.0</td>\n",
       "      <td>5</td>\n",
       "    </tr>\n",
       "    <tr>\n",
       "      <th>9442</th>\n",
       "      <td>263936757</td>\n",
       "      <td>0.0</td>\n",
       "      <td>SUV / Crossover</td>\n",
       "      <td>2020.0</td>\n",
       "      <td>17.000000</td>\n",
       "      <td>149.0</td>\n",
       "      <td>Great_Price</td>\n",
       "      <td>176.903380</td>\n",
       "      <td>ALL_WHEEL_DRIVE</td>\n",
       "      <td>V6</td>\n",
       "      <td>Chevrolet</td>\n",
       "      <td>267.0</td>\n",
       "      <td>Suburban</td>\n",
       "      <td>Automatic</td>\n",
       "      <td>9.0</td>\n",
       "      <td>1.0</td>\n",
       "      <td>1</td>\n",
       "      <td>8.0</td>\n",
       "      <td>DEALER</td>\n",
       "      <td>1500 Premier 4WD</td>\n",
       "      <td>58800.0</td>\n",
       "      <td>5</td>\n",
       "    </tr>\n",
       "    <tr>\n",
       "      <th>9453</th>\n",
       "      <td>274577098</td>\n",
       "      <td>0.0</td>\n",
       "      <td>SUV / Crossover</td>\n",
       "      <td>2019.0</td>\n",
       "      <td>17.000000</td>\n",
       "      <td>0.0</td>\n",
       "      <td>Great_Price</td>\n",
       "      <td>39.697147</td>\n",
       "      <td>ALL_WHEEL_DRIVE</td>\n",
       "      <td>V6</td>\n",
       "      <td>Chevrolet</td>\n",
       "      <td>15361.0</td>\n",
       "      <td>Suburban</td>\n",
       "      <td>Automatic</td>\n",
       "      <td>13.0</td>\n",
       "      <td>1.0</td>\n",
       "      <td>0</td>\n",
       "      <td>8.0</td>\n",
       "      <td>DEALER</td>\n",
       "      <td>1500 LT 4WD</td>\n",
       "      <td>43500.0</td>\n",
       "      <td>2</td>\n",
       "    </tr>\n",
       "    <tr>\n",
       "      <th>9457</th>\n",
       "      <td>273797349</td>\n",
       "      <td>1.0</td>\n",
       "      <td>SUV / Crossover</td>\n",
       "      <td>2019.0</td>\n",
       "      <td>27.238208</td>\n",
       "      <td>9.0</td>\n",
       "      <td>Great_Price</td>\n",
       "      <td>124.885700</td>\n",
       "      <td>ALL_WHEEL_DRIVE</td>\n",
       "      <td>V6</td>\n",
       "      <td>Chevrolet</td>\n",
       "      <td>17224.0</td>\n",
       "      <td>Tahoe</td>\n",
       "      <td>Automatic</td>\n",
       "      <td>12.0</td>\n",
       "      <td>1.0</td>\n",
       "      <td>1</td>\n",
       "      <td>8.0</td>\n",
       "      <td>DEALER</td>\n",
       "      <td>Premier 4WD</td>\n",
       "      <td>52365.0</td>\n",
       "      <td>5</td>\n",
       "    </tr>\n",
       "    <tr>\n",
       "      <th>9458</th>\n",
       "      <td>267293703</td>\n",
       "      <td>0.0</td>\n",
       "      <td>SUV / Crossover</td>\n",
       "      <td>2017.0</td>\n",
       "      <td>27.238208</td>\n",
       "      <td>112.0</td>\n",
       "      <td>Great_Price</td>\n",
       "      <td>181.005110</td>\n",
       "      <td>ALL_WHEEL_DRIVE</td>\n",
       "      <td>V6</td>\n",
       "      <td>Chevrolet</td>\n",
       "      <td>27867.0</td>\n",
       "      <td>Tahoe</td>\n",
       "      <td>Automatic</td>\n",
       "      <td>11.0</td>\n",
       "      <td>1.0</td>\n",
       "      <td>1</td>\n",
       "      <td>8.0</td>\n",
       "      <td>DEALER</td>\n",
       "      <td>Premier 4WD</td>\n",
       "      <td>43900.0</td>\n",
       "      <td>5</td>\n",
       "    </tr>\n",
       "    <tr>\n",
       "      <th>9468</th>\n",
       "      <td>273992964</td>\n",
       "      <td>0.0</td>\n",
       "      <td>SUV / Crossover</td>\n",
       "      <td>2019.0</td>\n",
       "      <td>17.000000</td>\n",
       "      <td>7.0</td>\n",
       "      <td>Great_Price</td>\n",
       "      <td>180.902240</td>\n",
       "      <td>ALL_WHEEL_DRIVE</td>\n",
       "      <td>V6</td>\n",
       "      <td>Chevrolet</td>\n",
       "      <td>19609.0</td>\n",
       "      <td>Suburban</td>\n",
       "      <td>Automatic</td>\n",
       "      <td>8.0</td>\n",
       "      <td>2.0</td>\n",
       "      <td>1</td>\n",
       "      <td>8.0</td>\n",
       "      <td>DEALER</td>\n",
       "      <td>1500 LT 4WD</td>\n",
       "      <td>42998.0</td>\n",
       "      <td>2</td>\n",
       "    </tr>\n",
       "    <tr>\n",
       "      <th>9552</th>\n",
       "      <td>266623968</td>\n",
       "      <td>0.0</td>\n",
       "      <td>SUV / Crossover</td>\n",
       "      <td>2019.0</td>\n",
       "      <td>27.238208</td>\n",
       "      <td>119.0</td>\n",
       "      <td>Great_Price</td>\n",
       "      <td>112.067215</td>\n",
       "      <td>ALL_WHEEL_DRIVE</td>\n",
       "      <td>V6</td>\n",
       "      <td>Chevrolet</td>\n",
       "      <td>14014.0</td>\n",
       "      <td>Suburban</td>\n",
       "      <td>Automatic</td>\n",
       "      <td>11.0</td>\n",
       "      <td>1.0</td>\n",
       "      <td>1</td>\n",
       "      <td>8.0</td>\n",
       "      <td>DEALER</td>\n",
       "      <td>1500 LT 4WD</td>\n",
       "      <td>44595.0</td>\n",
       "      <td>2</td>\n",
       "    </tr>\n",
       "    <tr>\n",
       "      <th>9575</th>\n",
       "      <td>272738861</td>\n",
       "      <td>0.0</td>\n",
       "      <td>SUV / Crossover</td>\n",
       "      <td>2017.0</td>\n",
       "      <td>19.000000</td>\n",
       "      <td>24.0</td>\n",
       "      <td>Great_Price</td>\n",
       "      <td>170.686040</td>\n",
       "      <td>ALL_WHEEL_DRIVE</td>\n",
       "      <td>V6</td>\n",
       "      <td>Chevrolet</td>\n",
       "      <td>48235.0</td>\n",
       "      <td>Tahoe</td>\n",
       "      <td>Automatic</td>\n",
       "      <td>8.0</td>\n",
       "      <td>1.0</td>\n",
       "      <td>1</td>\n",
       "      <td>8.0</td>\n",
       "      <td>DEALER</td>\n",
       "      <td>Premier 4WD</td>\n",
       "      <td>40588.0</td>\n",
       "      <td>5</td>\n",
       "    </tr>\n",
       "    <tr>\n",
       "      <th>9869</th>\n",
       "      <td>267972205</td>\n",
       "      <td>0.0</td>\n",
       "      <td>SUV / Crossover</td>\n",
       "      <td>2019.0</td>\n",
       "      <td>19.000000</td>\n",
       "      <td>105.0</td>\n",
       "      <td>Great_Price</td>\n",
       "      <td>180.929950</td>\n",
       "      <td>ALL_WHEEL_DRIVE</td>\n",
       "      <td>V6</td>\n",
       "      <td>Ford</td>\n",
       "      <td>18117.0</td>\n",
       "      <td>Expedition</td>\n",
       "      <td>Automatic</td>\n",
       "      <td>3.0</td>\n",
       "      <td>1.0</td>\n",
       "      <td>1</td>\n",
       "      <td>8.0</td>\n",
       "      <td>DEALER</td>\n",
       "      <td>Platinum 4WD</td>\n",
       "      <td>56000.0</td>\n",
       "      <td>3</td>\n",
       "    </tr>\n",
       "    <tr>\n",
       "      <th>9880</th>\n",
       "      <td>268629907</td>\n",
       "      <td>0.0</td>\n",
       "      <td>SUV / Crossover</td>\n",
       "      <td>2019.0</td>\n",
       "      <td>27.238208</td>\n",
       "      <td>98.0</td>\n",
       "      <td>Great_Price</td>\n",
       "      <td>147.160320</td>\n",
       "      <td>ALL_WHEEL_DRIVE</td>\n",
       "      <td>V6</td>\n",
       "      <td>Ford</td>\n",
       "      <td>33082.0</td>\n",
       "      <td>Expedition</td>\n",
       "      <td>Automatic</td>\n",
       "      <td>5.0</td>\n",
       "      <td>1.0</td>\n",
       "      <td>1</td>\n",
       "      <td>8.0</td>\n",
       "      <td>DEALER</td>\n",
       "      <td>MAX Limited 4WD</td>\n",
       "      <td>44579.0</td>\n",
       "      <td>3</td>\n",
       "    </tr>\n",
       "    <tr>\n",
       "      <th>9891</th>\n",
       "      <td>273844399</td>\n",
       "      <td>0.0</td>\n",
       "      <td>SUV / Crossover</td>\n",
       "      <td>2019.0</td>\n",
       "      <td>19.000000</td>\n",
       "      <td>9.0</td>\n",
       "      <td>Great_Price</td>\n",
       "      <td>180.902240</td>\n",
       "      <td>ALL_WHEEL_DRIVE</td>\n",
       "      <td>V6</td>\n",
       "      <td>Ford</td>\n",
       "      <td>30149.0</td>\n",
       "      <td>Expedition</td>\n",
       "      <td>Automatic</td>\n",
       "      <td>4.0</td>\n",
       "      <td>1.0</td>\n",
       "      <td>1</td>\n",
       "      <td>8.0</td>\n",
       "      <td>DEALER</td>\n",
       "      <td>Limited 4WD</td>\n",
       "      <td>45498.0</td>\n",
       "      <td>3</td>\n",
       "    </tr>\n",
       "    <tr>\n",
       "      <th>10043</th>\n",
       "      <td>271371423</td>\n",
       "      <td>0.0</td>\n",
       "      <td>SUV / Crossover</td>\n",
       "      <td>2019.0</td>\n",
       "      <td>19.000000</td>\n",
       "      <td>49.0</td>\n",
       "      <td>Great_Price</td>\n",
       "      <td>155.488480</td>\n",
       "      <td>ALL_WHEEL_DRIVE</td>\n",
       "      <td>V6</td>\n",
       "      <td>Ford</td>\n",
       "      <td>23771.0</td>\n",
       "      <td>Expedition</td>\n",
       "      <td>Automatic</td>\n",
       "      <td>1.0</td>\n",
       "      <td>1.0</td>\n",
       "      <td>1</td>\n",
       "      <td>8.0</td>\n",
       "      <td>DEALER</td>\n",
       "      <td>Limited 4WD</td>\n",
       "      <td>47500.0</td>\n",
       "      <td>3</td>\n",
       "    </tr>\n",
       "    <tr>\n",
       "      <th>10056</th>\n",
       "      <td>271784097</td>\n",
       "      <td>0.0</td>\n",
       "      <td>SUV / Crossover</td>\n",
       "      <td>2020.0</td>\n",
       "      <td>21.000000</td>\n",
       "      <td>41.0</td>\n",
       "      <td>Great_Price</td>\n",
       "      <td>154.725920</td>\n",
       "      <td>ALL_WHEEL_DRIVE</td>\n",
       "      <td>V6</td>\n",
       "      <td>Ford</td>\n",
       "      <td>2025.0</td>\n",
       "      <td>Explorer</td>\n",
       "      <td>Automatic</td>\n",
       "      <td>9.0</td>\n",
       "      <td>1.0</td>\n",
       "      <td>1</td>\n",
       "      <td>7.0</td>\n",
       "      <td>DEALER</td>\n",
       "      <td>Platinum AWD</td>\n",
       "      <td>51995.0</td>\n",
       "      <td>3</td>\n",
       "    </tr>\n",
       "    <tr>\n",
       "      <th>10104</th>\n",
       "      <td>265268292</td>\n",
       "      <td>0.0</td>\n",
       "      <td>SUV / Crossover</td>\n",
       "      <td>2019.0</td>\n",
       "      <td>19.000000</td>\n",
       "      <td>134.0</td>\n",
       "      <td>Great_Price</td>\n",
       "      <td>192.676360</td>\n",
       "      <td>ALL_WHEEL_DRIVE</td>\n",
       "      <td>V6</td>\n",
       "      <td>Ford</td>\n",
       "      <td>20869.0</td>\n",
       "      <td>Expedition</td>\n",
       "      <td>Automatic</td>\n",
       "      <td>6.0</td>\n",
       "      <td>1.0</td>\n",
       "      <td>1</td>\n",
       "      <td>8.0</td>\n",
       "      <td>DEALER</td>\n",
       "      <td>Limited 4WD</td>\n",
       "      <td>48995.0</td>\n",
       "      <td>3</td>\n",
       "    </tr>\n",
       "    <tr>\n",
       "      <th>10132</th>\n",
       "      <td>269082771</td>\n",
       "      <td>0.0</td>\n",
       "      <td>SUV / Crossover</td>\n",
       "      <td>2019.0</td>\n",
       "      <td>19.000000</td>\n",
       "      <td>93.0</td>\n",
       "      <td>Great_Price</td>\n",
       "      <td>180.929950</td>\n",
       "      <td>ALL_WHEEL_DRIVE</td>\n",
       "      <td>V6</td>\n",
       "      <td>Ford</td>\n",
       "      <td>19620.0</td>\n",
       "      <td>Expedition</td>\n",
       "      <td>Automatic</td>\n",
       "      <td>8.0</td>\n",
       "      <td>1.0</td>\n",
       "      <td>1</td>\n",
       "      <td>8.0</td>\n",
       "      <td>DEALER</td>\n",
       "      <td>Platinum 4WD</td>\n",
       "      <td>56537.0</td>\n",
       "      <td>3</td>\n",
       "    </tr>\n",
       "    <tr>\n",
       "      <th>10143</th>\n",
       "      <td>274137821</td>\n",
       "      <td>0.0</td>\n",
       "      <td>SUV / Crossover</td>\n",
       "      <td>2019.0</td>\n",
       "      <td>19.000000</td>\n",
       "      <td>5.0</td>\n",
       "      <td>Great_Price</td>\n",
       "      <td>164.642040</td>\n",
       "      <td>ALL_WHEEL_DRIVE</td>\n",
       "      <td>V6</td>\n",
       "      <td>Ford</td>\n",
       "      <td>25585.0</td>\n",
       "      <td>Expedition</td>\n",
       "      <td>Automatic</td>\n",
       "      <td>1.0</td>\n",
       "      <td>1.0</td>\n",
       "      <td>1</td>\n",
       "      <td>8.0</td>\n",
       "      <td>DEALER</td>\n",
       "      <td>Limited 4WD</td>\n",
       "      <td>47495.0</td>\n",
       "      <td>3</td>\n",
       "    </tr>\n",
       "    <tr>\n",
       "      <th>10150</th>\n",
       "      <td>273992989</td>\n",
       "      <td>0.0</td>\n",
       "      <td>SUV / Crossover</td>\n",
       "      <td>2019.0</td>\n",
       "      <td>19.000000</td>\n",
       "      <td>7.0</td>\n",
       "      <td>Great_Price</td>\n",
       "      <td>180.902240</td>\n",
       "      <td>ALL_WHEEL_DRIVE</td>\n",
       "      <td>V6</td>\n",
       "      <td>Ford</td>\n",
       "      <td>32690.0</td>\n",
       "      <td>Expedition</td>\n",
       "      <td>Automatic</td>\n",
       "      <td>4.0</td>\n",
       "      <td>1.0</td>\n",
       "      <td>1</td>\n",
       "      <td>8.0</td>\n",
       "      <td>DEALER</td>\n",
       "      <td>Limited 4WD</td>\n",
       "      <td>45498.0</td>\n",
       "      <td>3</td>\n",
       "    </tr>\n",
       "    <tr>\n",
       "      <th>10207</th>\n",
       "      <td>267514894</td>\n",
       "      <td>0.0</td>\n",
       "      <td>SUV / Crossover</td>\n",
       "      <td>2019.0</td>\n",
       "      <td>19.000000</td>\n",
       "      <td>109.0</td>\n",
       "      <td>Great_Price</td>\n",
       "      <td>110.554310</td>\n",
       "      <td>ALL_WHEEL_DRIVE</td>\n",
       "      <td>V6</td>\n",
       "      <td>Ford</td>\n",
       "      <td>13265.0</td>\n",
       "      <td>Expedition</td>\n",
       "      <td>Automatic</td>\n",
       "      <td>7.0</td>\n",
       "      <td>1.0</td>\n",
       "      <td>1</td>\n",
       "      <td>8.0</td>\n",
       "      <td>DEALER</td>\n",
       "      <td>Limited 4WD</td>\n",
       "      <td>51873.0</td>\n",
       "      <td>3</td>\n",
       "    </tr>\n",
       "    <tr>\n",
       "      <th>10296</th>\n",
       "      <td>272494822</td>\n",
       "      <td>0.0</td>\n",
       "      <td>SUV / Crossover</td>\n",
       "      <td>2019.0</td>\n",
       "      <td>19.000000</td>\n",
       "      <td>29.0</td>\n",
       "      <td>Great_Price</td>\n",
       "      <td>164.642040</td>\n",
       "      <td>ALL_WHEEL_DRIVE</td>\n",
       "      <td>V6</td>\n",
       "      <td>Ford</td>\n",
       "      <td>28092.0</td>\n",
       "      <td>Expedition</td>\n",
       "      <td>Automatic</td>\n",
       "      <td>4.0</td>\n",
       "      <td>1.0</td>\n",
       "      <td>1</td>\n",
       "      <td>8.0</td>\n",
       "      <td>DEALER</td>\n",
       "      <td>Limited 4WD</td>\n",
       "      <td>46998.0</td>\n",
       "      <td>3</td>\n",
       "    </tr>\n",
       "    <tr>\n",
       "      <th>10351</th>\n",
       "      <td>267774419</td>\n",
       "      <td>0.0</td>\n",
       "      <td>SUV / Crossover</td>\n",
       "      <td>2019.0</td>\n",
       "      <td>19.000000</td>\n",
       "      <td>107.0</td>\n",
       "      <td>Great_Price</td>\n",
       "      <td>59.628360</td>\n",
       "      <td>ALL_WHEEL_DRIVE</td>\n",
       "      <td>V6</td>\n",
       "      <td>Ford</td>\n",
       "      <td>21578.0</td>\n",
       "      <td>Expedition</td>\n",
       "      <td>Automatic</td>\n",
       "      <td>5.0</td>\n",
       "      <td>1.0</td>\n",
       "      <td>1</td>\n",
       "      <td>8.0</td>\n",
       "      <td>DEALER</td>\n",
       "      <td>Limited 4WD</td>\n",
       "      <td>48990.0</td>\n",
       "      <td>3</td>\n",
       "    </tr>\n",
       "    <tr>\n",
       "      <th>10378</th>\n",
       "      <td>266208664</td>\n",
       "      <td>0.0</td>\n",
       "      <td>SUV / Crossover</td>\n",
       "      <td>2019.0</td>\n",
       "      <td>18.000000</td>\n",
       "      <td>122.0</td>\n",
       "      <td>Great_Price</td>\n",
       "      <td>149.023740</td>\n",
       "      <td>ALL_WHEEL_DRIVE</td>\n",
       "      <td>V6</td>\n",
       "      <td>Ford</td>\n",
       "      <td>32529.0</td>\n",
       "      <td>Expedition</td>\n",
       "      <td>Automatic</td>\n",
       "      <td>4.0</td>\n",
       "      <td>1.0</td>\n",
       "      <td>1</td>\n",
       "      <td>8.0</td>\n",
       "      <td>DEALER</td>\n",
       "      <td>MAX Limited 4WD</td>\n",
       "      <td>45450.0</td>\n",
       "      <td>3</td>\n",
       "    </tr>\n",
       "    <tr>\n",
       "      <th>10437</th>\n",
       "      <td>272449839</td>\n",
       "      <td>0.0</td>\n",
       "      <td>SUV / Crossover</td>\n",
       "      <td>2020.0</td>\n",
       "      <td>23.000000</td>\n",
       "      <td>29.0</td>\n",
       "      <td>Great_Price</td>\n",
       "      <td>59.925484</td>\n",
       "      <td>ALL_WHEEL_DRIVE</td>\n",
       "      <td>I4</td>\n",
       "      <td>Ford</td>\n",
       "      <td>5349.0</td>\n",
       "      <td>Explorer</td>\n",
       "      <td>Automatic</td>\n",
       "      <td>6.0</td>\n",
       "      <td>1.0</td>\n",
       "      <td>1</td>\n",
       "      <td>7.0</td>\n",
       "      <td>DEALER</td>\n",
       "      <td>Limited AWD</td>\n",
       "      <td>42500.0</td>\n",
       "      <td>3</td>\n",
       "    </tr>\n",
       "    <tr>\n",
       "      <th>10491</th>\n",
       "      <td>272494820</td>\n",
       "      <td>0.0</td>\n",
       "      <td>SUV / Crossover</td>\n",
       "      <td>2019.0</td>\n",
       "      <td>19.000000</td>\n",
       "      <td>29.0</td>\n",
       "      <td>Great_Price</td>\n",
       "      <td>164.642040</td>\n",
       "      <td>ALL_WHEEL_DRIVE</td>\n",
       "      <td>V6</td>\n",
       "      <td>Ford</td>\n",
       "      <td>29041.0</td>\n",
       "      <td>Expedition</td>\n",
       "      <td>Automatic</td>\n",
       "      <td>3.0</td>\n",
       "      <td>1.0</td>\n",
       "      <td>1</td>\n",
       "      <td>8.0</td>\n",
       "      <td>DEALER</td>\n",
       "      <td>Limited 4WD</td>\n",
       "      <td>46998.0</td>\n",
       "      <td>3</td>\n",
       "    </tr>\n",
       "    <tr>\n",
       "      <th>11207</th>\n",
       "      <td>270947103</td>\n",
       "      <td>0.0</td>\n",
       "      <td>SUV / Crossover</td>\n",
       "      <td>2020.0</td>\n",
       "      <td>22.000000</td>\n",
       "      <td>57.0</td>\n",
       "      <td>Great_Price</td>\n",
       "      <td>177.866850</td>\n",
       "      <td>ALL_WHEEL_DRIVE</td>\n",
       "      <td>V6</td>\n",
       "      <td>Honda</td>\n",
       "      <td>2772.0</td>\n",
       "      <td>Pilot</td>\n",
       "      <td>Automatic</td>\n",
       "      <td>8.0</td>\n",
       "      <td>1.0</td>\n",
       "      <td>1</td>\n",
       "      <td>7.0</td>\n",
       "      <td>DEALER</td>\n",
       "      <td>Elite AWD</td>\n",
       "      <td>41683.0</td>\n",
       "      <td>3</td>\n",
       "    </tr>\n",
       "    <tr>\n",
       "      <th>11259</th>\n",
       "      <td>268326251</td>\n",
       "      <td>1.0</td>\n",
       "      <td>SUV / Crossover</td>\n",
       "      <td>2020.0</td>\n",
       "      <td>22.000000</td>\n",
       "      <td>101.0</td>\n",
       "      <td>Great_Price</td>\n",
       "      <td>121.128280</td>\n",
       "      <td>ALL_WHEEL_DRIVE</td>\n",
       "      <td>V6</td>\n",
       "      <td>Honda</td>\n",
       "      <td>3794.0</td>\n",
       "      <td>Pilot</td>\n",
       "      <td>Automatic</td>\n",
       "      <td>8.0</td>\n",
       "      <td>1.0</td>\n",
       "      <td>1</td>\n",
       "      <td>7.0</td>\n",
       "      <td>DEALER</td>\n",
       "      <td>Elite AWD</td>\n",
       "      <td>40999.0</td>\n",
       "      <td>3</td>\n",
       "    </tr>\n",
       "    <tr>\n",
       "      <th>12462</th>\n",
       "      <td>273918423</td>\n",
       "      <td>0.0</td>\n",
       "      <td>SUV / Crossover</td>\n",
       "      <td>2018.0</td>\n",
       "      <td>14.000000</td>\n",
       "      <td>8.0</td>\n",
       "      <td>Great_Price</td>\n",
       "      <td>108.220290</td>\n",
       "      <td>ALL_WHEEL_DRIVE</td>\n",
       "      <td>V6</td>\n",
       "      <td>Jeep</td>\n",
       "      <td>6970.0</td>\n",
       "      <td>Grand Cherokee</td>\n",
       "      <td>Automatic</td>\n",
       "      <td>9.0</td>\n",
       "      <td>1.0</td>\n",
       "      <td>1</td>\n",
       "      <td>5.0</td>\n",
       "      <td>DEALER</td>\n",
       "      <td>Trackhawk 4WD</td>\n",
       "      <td>69995.0</td>\n",
       "      <td>5</td>\n",
       "    </tr>\n",
       "    <tr>\n",
       "      <th>12593</th>\n",
       "      <td>265620552</td>\n",
       "      <td>0.0</td>\n",
       "      <td>SUV / Crossover</td>\n",
       "      <td>2019.0</td>\n",
       "      <td>21.000000</td>\n",
       "      <td>129.0</td>\n",
       "      <td>Great_Price</td>\n",
       "      <td>192.993350</td>\n",
       "      <td>ALL_WHEEL_DRIVE</td>\n",
       "      <td>V6</td>\n",
       "      <td>Jeep</td>\n",
       "      <td>7654.0</td>\n",
       "      <td>Grand Cherokee</td>\n",
       "      <td>Automatic</td>\n",
       "      <td>9.0</td>\n",
       "      <td>2.0</td>\n",
       "      <td>1</td>\n",
       "      <td>5.0</td>\n",
       "      <td>DEALER</td>\n",
       "      <td>Summit 4WD</td>\n",
       "      <td>40999.0</td>\n",
       "      <td>3</td>\n",
       "    </tr>\n",
       "    <tr>\n",
       "      <th>12820</th>\n",
       "      <td>260385177</td>\n",
       "      <td>0.0</td>\n",
       "      <td>SUV / Crossover</td>\n",
       "      <td>2020.0</td>\n",
       "      <td>21.000000</td>\n",
       "      <td>191.0</td>\n",
       "      <td>Great_Price</td>\n",
       "      <td>139.752520</td>\n",
       "      <td>ALL_WHEEL_DRIVE</td>\n",
       "      <td>V6</td>\n",
       "      <td>Jeep</td>\n",
       "      <td>3117.0</td>\n",
       "      <td>Grand Cherokee</td>\n",
       "      <td>Automatic</td>\n",
       "      <td>7.0</td>\n",
       "      <td>2.0</td>\n",
       "      <td>1</td>\n",
       "      <td>5.0</td>\n",
       "      <td>DEALER</td>\n",
       "      <td>Summit 4WD</td>\n",
       "      <td>46515.0</td>\n",
       "      <td>3</td>\n",
       "    </tr>\n",
       "    <tr>\n",
       "      <th>13178</th>\n",
       "      <td>273906798</td>\n",
       "      <td>0.0</td>\n",
       "      <td>SUV / Crossover</td>\n",
       "      <td>2020.0</td>\n",
       "      <td>21.000000</td>\n",
       "      <td>8.0</td>\n",
       "      <td>Great_Price</td>\n",
       "      <td>133.027010</td>\n",
       "      <td>ALL_WHEEL_DRIVE</td>\n",
       "      <td>V6</td>\n",
       "      <td>Jeep</td>\n",
       "      <td>5627.0</td>\n",
       "      <td>Grand Cherokee</td>\n",
       "      <td>Automatic</td>\n",
       "      <td>8.0</td>\n",
       "      <td>1.0</td>\n",
       "      <td>1</td>\n",
       "      <td>5.0</td>\n",
       "      <td>DEALER</td>\n",
       "      <td>Limited X 4WD</td>\n",
       "      <td>40900.0</td>\n",
       "      <td>3</td>\n",
       "    </tr>\n",
       "    <tr>\n",
       "      <th>17968</th>\n",
       "      <td>273300279</td>\n",
       "      <td>0.0</td>\n",
       "      <td>SUV / Crossover</td>\n",
       "      <td>2020.0</td>\n",
       "      <td>23.000000</td>\n",
       "      <td>16.0</td>\n",
       "      <td>Great_Price</td>\n",
       "      <td>99.324615</td>\n",
       "      <td>ALL_WHEEL_DRIVE</td>\n",
       "      <td>H4</td>\n",
       "      <td>Subaru</td>\n",
       "      <td>4200.0</td>\n",
       "      <td>Ascent</td>\n",
       "      <td>CVT</td>\n",
       "      <td>8.0</td>\n",
       "      <td>1.0</td>\n",
       "      <td>0</td>\n",
       "      <td>7.0</td>\n",
       "      <td>DEALER</td>\n",
       "      <td>Touring 7-Passenger AWD</td>\n",
       "      <td>41382.0</td>\n",
       "      <td>4</td>\n",
       "    </tr>\n",
       "    <tr>\n",
       "      <th>18185</th>\n",
       "      <td>271728229</td>\n",
       "      <td>1.0</td>\n",
       "      <td>SUV / Crossover</td>\n",
       "      <td>2018.0</td>\n",
       "      <td>15.000000</td>\n",
       "      <td>42.0</td>\n",
       "      <td>Great_Price</td>\n",
       "      <td>23.211021</td>\n",
       "      <td>ALL_WHEEL_DRIVE</td>\n",
       "      <td>V6</td>\n",
       "      <td>Toyota</td>\n",
       "      <td>37387.0</td>\n",
       "      <td>Land Cruiser</td>\n",
       "      <td>Automatic</td>\n",
       "      <td>7.0</td>\n",
       "      <td>1.0</td>\n",
       "      <td>1</td>\n",
       "      <td>8.0</td>\n",
       "      <td>DEALER</td>\n",
       "      <td>AWD</td>\n",
       "      <td>57750.0</td>\n",
       "      <td>5</td>\n",
       "    </tr>\n",
       "    <tr>\n",
       "      <th>18286</th>\n",
       "      <td>273149520</td>\n",
       "      <td>0.0</td>\n",
       "      <td>SUV / Crossover</td>\n",
       "      <td>2017.0</td>\n",
       "      <td>15.000000</td>\n",
       "      <td>18.0</td>\n",
       "      <td>Great_Price</td>\n",
       "      <td>27.136044</td>\n",
       "      <td>ALL_WHEEL_DRIVE</td>\n",
       "      <td>V6</td>\n",
       "      <td>Toyota</td>\n",
       "      <td>41393.0</td>\n",
       "      <td>Sequoia</td>\n",
       "      <td>Automatic</td>\n",
       "      <td>8.0</td>\n",
       "      <td>1.0</td>\n",
       "      <td>0</td>\n",
       "      <td>7.0</td>\n",
       "      <td>DEALER</td>\n",
       "      <td>Platinum FFV 4WD</td>\n",
       "      <td>43574.0</td>\n",
       "      <td>3</td>\n",
       "    </tr>\n",
       "    <tr>\n",
       "      <th>18666</th>\n",
       "      <td>268215170</td>\n",
       "      <td>0.0</td>\n",
       "      <td>SUV / Crossover</td>\n",
       "      <td>2019.0</td>\n",
       "      <td>15.000000</td>\n",
       "      <td>102.0</td>\n",
       "      <td>Great_Price</td>\n",
       "      <td>154.725920</td>\n",
       "      <td>ALL_WHEEL_DRIVE</td>\n",
       "      <td>V6</td>\n",
       "      <td>Toyota</td>\n",
       "      <td>9028.0</td>\n",
       "      <td>Land Cruiser</td>\n",
       "      <td>Automatic</td>\n",
       "      <td>7.0</td>\n",
       "      <td>1.0</td>\n",
       "      <td>1</td>\n",
       "      <td>8.0</td>\n",
       "      <td>DEALER</td>\n",
       "      <td>AWD</td>\n",
       "      <td>73495.0</td>\n",
       "      <td>5</td>\n",
       "    </tr>\n",
       "    <tr>\n",
       "      <th>18944</th>\n",
       "      <td>274138271</td>\n",
       "      <td>0.0</td>\n",
       "      <td>SUV / Crossover</td>\n",
       "      <td>2017.0</td>\n",
       "      <td>15.000000</td>\n",
       "      <td>5.0</td>\n",
       "      <td>Great_Price</td>\n",
       "      <td>31.327790</td>\n",
       "      <td>ALL_WHEEL_DRIVE</td>\n",
       "      <td>V6</td>\n",
       "      <td>Toyota</td>\n",
       "      <td>76453.0</td>\n",
       "      <td>Land Cruiser</td>\n",
       "      <td>Automatic</td>\n",
       "      <td>3.0</td>\n",
       "      <td>1.0</td>\n",
       "      <td>1</td>\n",
       "      <td>8.0</td>\n",
       "      <td>DEALER</td>\n",
       "      <td>AWD</td>\n",
       "      <td>49920.0</td>\n",
       "      <td>5</td>\n",
       "    </tr>\n",
       "    <tr>\n",
       "      <th>18996</th>\n",
       "      <td>269445941</td>\n",
       "      <td>0.0</td>\n",
       "      <td>SUV / Crossover</td>\n",
       "      <td>2020.0</td>\n",
       "      <td>17.000000</td>\n",
       "      <td>87.0</td>\n",
       "      <td>Great_Price</td>\n",
       "      <td>108.279670</td>\n",
       "      <td>ALL_WHEEL_DRIVE</td>\n",
       "      <td>V6</td>\n",
       "      <td>Toyota</td>\n",
       "      <td>3992.0</td>\n",
       "      <td>4Runner</td>\n",
       "      <td>Automatic</td>\n",
       "      <td>9.0</td>\n",
       "      <td>1.0</td>\n",
       "      <td>1</td>\n",
       "      <td>5.0</td>\n",
       "      <td>DEALER</td>\n",
       "      <td>TRD Pro 4WD</td>\n",
       "      <td>47500.0</td>\n",
       "      <td>5</td>\n",
       "    </tr>\n",
       "  </tbody>\n",
       "</table>\n",
       "</div>"
      ],
      "text/plain": [
       "              Id  Accidents        Body_type    Year  Fuel_economy_combined  \\\n",
       "6567   266403647        0.0            Sedan  2018.0              19.000000   \n",
       "6648   249142526        0.0            Sedan  2018.0              19.000000   \n",
       "6723   270324045        0.0            Sedan  2019.0              27.238208   \n",
       "8840   273844413        0.0  SUV / Crossover  2020.0              17.000000   \n",
       "8966   255437032        1.0  SUV / Crossover  2019.0              17.000000   \n",
       "9098   274457256        0.0  SUV / Crossover  2020.0              27.238208   \n",
       "9101   274083541        0.0  SUV / Crossover  2020.0              17.000000   \n",
       "9103   274457216        0.0  SUV / Crossover  2020.0              27.238208   \n",
       "9124   264777637        0.0  SUV / Crossover  2019.0              27.238208   \n",
       "9161   273844393        0.0  SUV / Crossover  2020.0              17.000000   \n",
       "9250   269110785        0.0  SUV / Crossover  2019.0              27.238208   \n",
       "9278   274369780        0.0  SUV / Crossover  2020.0              27.238208   \n",
       "9329   265946081        0.0  SUV / Crossover  2019.0              17.000000   \n",
       "9368   273254124        0.0  SUV / Crossover  2019.0              17.000000   \n",
       "9387   249228482        0.0  SUV / Crossover  2019.0              27.238208   \n",
       "9423   273819302        0.0  SUV / Crossover  2019.0              17.000000   \n",
       "9424   267836643        0.0  SUV / Crossover  2020.0              27.238208   \n",
       "9442   263936757        0.0  SUV / Crossover  2020.0              17.000000   \n",
       "9453   274577098        0.0  SUV / Crossover  2019.0              17.000000   \n",
       "9457   273797349        1.0  SUV / Crossover  2019.0              27.238208   \n",
       "9458   267293703        0.0  SUV / Crossover  2017.0              27.238208   \n",
       "9468   273992964        0.0  SUV / Crossover  2019.0              17.000000   \n",
       "9552   266623968        0.0  SUV / Crossover  2019.0              27.238208   \n",
       "9575   272738861        0.0  SUV / Crossover  2017.0              19.000000   \n",
       "9869   267972205        0.0  SUV / Crossover  2019.0              19.000000   \n",
       "9880   268629907        0.0  SUV / Crossover  2019.0              27.238208   \n",
       "9891   273844399        0.0  SUV / Crossover  2019.0              19.000000   \n",
       "10043  271371423        0.0  SUV / Crossover  2019.0              19.000000   \n",
       "10056  271784097        0.0  SUV / Crossover  2020.0              21.000000   \n",
       "10104  265268292        0.0  SUV / Crossover  2019.0              19.000000   \n",
       "10132  269082771        0.0  SUV / Crossover  2019.0              19.000000   \n",
       "10143  274137821        0.0  SUV / Crossover  2019.0              19.000000   \n",
       "10150  273992989        0.0  SUV / Crossover  2019.0              19.000000   \n",
       "10207  267514894        0.0  SUV / Crossover  2019.0              19.000000   \n",
       "10296  272494822        0.0  SUV / Crossover  2019.0              19.000000   \n",
       "10351  267774419        0.0  SUV / Crossover  2019.0              19.000000   \n",
       "10378  266208664        0.0  SUV / Crossover  2019.0              18.000000   \n",
       "10437  272449839        0.0  SUV / Crossover  2020.0              23.000000   \n",
       "10491  272494820        0.0  SUV / Crossover  2019.0              19.000000   \n",
       "11207  270947103        0.0  SUV / Crossover  2020.0              22.000000   \n",
       "11259  268326251        1.0  SUV / Crossover  2020.0              22.000000   \n",
       "12462  273918423        0.0  SUV / Crossover  2018.0              14.000000   \n",
       "12593  265620552        0.0  SUV / Crossover  2019.0              21.000000   \n",
       "12820  260385177        0.0  SUV / Crossover  2020.0              21.000000   \n",
       "13178  273906798        0.0  SUV / Crossover  2020.0              21.000000   \n",
       "17968  273300279        0.0  SUV / Crossover  2020.0              23.000000   \n",
       "18185  271728229        1.0  SUV / Crossover  2018.0              15.000000   \n",
       "18286  273149520        0.0  SUV / Crossover  2017.0              15.000000   \n",
       "18666  268215170        0.0  SUV / Crossover  2019.0              15.000000   \n",
       "18944  274138271        0.0  SUV / Crossover  2017.0              15.000000   \n",
       "18996  269445941        0.0  SUV / Crossover  2020.0              17.000000   \n",
       "\n",
       "       Days_on_market       Rating    Distance       Drivetrain Engine  \\\n",
       "6567            121.0  Great_Price  114.235290  ALL_WHEEL_DRIVE     H4   \n",
       "6648            312.0  Great_Price   55.662600  ALL_WHEEL_DRIVE     H4   \n",
       "6723             72.0  Great_Price  112.785126  ALL_WHEEL_DRIVE     H4   \n",
       "8840              9.0  Great_Price  180.902240  ALL_WHEEL_DRIVE     V6   \n",
       "8966            247.0  Great_Price  104.687950  ALL_WHEEL_DRIVE     V6   \n",
       "9098              1.0  Great_Price  180.902240  ALL_WHEEL_DRIVE     V6   \n",
       "9101              6.0  Great_Price  180.902240  ALL_WHEEL_DRIVE     V6   \n",
       "9103              1.0  Great_Price  180.902240  ALL_WHEEL_DRIVE     V6   \n",
       "9124            140.0  Great_Price  139.752520  ALL_WHEEL_DRIVE     V6   \n",
       "9161              9.0  Great_Price  180.902240  ALL_WHEEL_DRIVE     V6   \n",
       "9250             92.0  Great_Price  106.242220  ALL_WHEEL_DRIVE     V6   \n",
       "9278              2.0  Great_Price   62.371197  ALL_WHEEL_DRIVE     V6   \n",
       "9329            126.0  Great_Price  187.944820  ALL_WHEEL_DRIVE     V6   \n",
       "9368             17.0  Great_Price  139.699570  ALL_WHEEL_DRIVE     V6   \n",
       "9387            311.0  Great_Price  176.512860  ALL_WHEEL_DRIVE     V6   \n",
       "9423              9.0  Great_Price  112.139120  ALL_WHEEL_DRIVE     V6   \n",
       "9424            106.0  Great_Price   26.095264  ALL_WHEEL_DRIVE     V6   \n",
       "9442            149.0  Great_Price  176.903380  ALL_WHEEL_DRIVE     V6   \n",
       "9453              0.0  Great_Price   39.697147  ALL_WHEEL_DRIVE     V6   \n",
       "9457              9.0  Great_Price  124.885700  ALL_WHEEL_DRIVE     V6   \n",
       "9458            112.0  Great_Price  181.005110  ALL_WHEEL_DRIVE     V6   \n",
       "9468              7.0  Great_Price  180.902240  ALL_WHEEL_DRIVE     V6   \n",
       "9552            119.0  Great_Price  112.067215  ALL_WHEEL_DRIVE     V6   \n",
       "9575             24.0  Great_Price  170.686040  ALL_WHEEL_DRIVE     V6   \n",
       "9869            105.0  Great_Price  180.929950  ALL_WHEEL_DRIVE     V6   \n",
       "9880             98.0  Great_Price  147.160320  ALL_WHEEL_DRIVE     V6   \n",
       "9891              9.0  Great_Price  180.902240  ALL_WHEEL_DRIVE     V6   \n",
       "10043            49.0  Great_Price  155.488480  ALL_WHEEL_DRIVE     V6   \n",
       "10056            41.0  Great_Price  154.725920  ALL_WHEEL_DRIVE     V6   \n",
       "10104           134.0  Great_Price  192.676360  ALL_WHEEL_DRIVE     V6   \n",
       "10132            93.0  Great_Price  180.929950  ALL_WHEEL_DRIVE     V6   \n",
       "10143             5.0  Great_Price  164.642040  ALL_WHEEL_DRIVE     V6   \n",
       "10150             7.0  Great_Price  180.902240  ALL_WHEEL_DRIVE     V6   \n",
       "10207           109.0  Great_Price  110.554310  ALL_WHEEL_DRIVE     V6   \n",
       "10296            29.0  Great_Price  164.642040  ALL_WHEEL_DRIVE     V6   \n",
       "10351           107.0  Great_Price   59.628360  ALL_WHEEL_DRIVE     V6   \n",
       "10378           122.0  Great_Price  149.023740  ALL_WHEEL_DRIVE     V6   \n",
       "10437            29.0  Great_Price   59.925484  ALL_WHEEL_DRIVE     I4   \n",
       "10491            29.0  Great_Price  164.642040  ALL_WHEEL_DRIVE     V6   \n",
       "11207            57.0  Great_Price  177.866850  ALL_WHEEL_DRIVE     V6   \n",
       "11259           101.0  Great_Price  121.128280  ALL_WHEEL_DRIVE     V6   \n",
       "12462             8.0  Great_Price  108.220290  ALL_WHEEL_DRIVE     V6   \n",
       "12593           129.0  Great_Price  192.993350  ALL_WHEEL_DRIVE     V6   \n",
       "12820           191.0  Great_Price  139.752520  ALL_WHEEL_DRIVE     V6   \n",
       "13178             8.0  Great_Price  133.027010  ALL_WHEEL_DRIVE     V6   \n",
       "17968            16.0  Great_Price   99.324615  ALL_WHEEL_DRIVE     H4   \n",
       "18185            42.0  Great_Price   23.211021  ALL_WHEEL_DRIVE     V6   \n",
       "18286            18.0  Great_Price   27.136044  ALL_WHEEL_DRIVE     V6   \n",
       "18666           102.0  Great_Price  154.725920  ALL_WHEEL_DRIVE     V6   \n",
       "18944             5.0  Great_Price   31.327790  ALL_WHEEL_DRIVE     V6   \n",
       "18996            87.0  Great_Price  108.279670  ALL_WHEEL_DRIVE     V6   \n",
       "\n",
       "            Make  Mileage           Model Transmission  Additional_features  \\\n",
       "6567      Subaru  10867.0         WRX STI       Manual                  3.0   \n",
       "6648      Subaru   7765.0         WRX STI       Manual                  4.0   \n",
       "6723      Subaru   3540.0         WRX STI       Manual                  4.0   \n",
       "8840   Chevrolet  10675.0        Suburban    Automatic                  7.0   \n",
       "8966   Chevrolet  17208.0        Suburban    Automatic                  7.0   \n",
       "9098   Chevrolet  15653.0        Suburban    Automatic                  8.0   \n",
       "9101   Chevrolet  10903.0        Suburban    Automatic                  7.0   \n",
       "9103   Chevrolet  10940.0        Suburban    Automatic                  7.0   \n",
       "9124   Chevrolet   9830.0        Suburban    Automatic                 13.0   \n",
       "9161   Chevrolet  11558.0        Suburban    Automatic                  6.0   \n",
       "9250   Chevrolet  10434.0        Suburban    Automatic                 12.0   \n",
       "9278   Chevrolet  14793.0        Suburban    Automatic                  6.0   \n",
       "9329   Chevrolet  14312.0        Suburban    Automatic                  9.0   \n",
       "9368   Chevrolet  25666.0        Suburban    Automatic                 10.0   \n",
       "9387   Chevrolet  21928.0           Tahoe    Automatic                 11.0   \n",
       "9423   Chevrolet   7902.0        Suburban    Automatic                 10.0   \n",
       "9424   Chevrolet   8302.0        Suburban    Automatic                 11.0   \n",
       "9442   Chevrolet    267.0        Suburban    Automatic                  9.0   \n",
       "9453   Chevrolet  15361.0        Suburban    Automatic                 13.0   \n",
       "9457   Chevrolet  17224.0           Tahoe    Automatic                 12.0   \n",
       "9458   Chevrolet  27867.0           Tahoe    Automatic                 11.0   \n",
       "9468   Chevrolet  19609.0        Suburban    Automatic                  8.0   \n",
       "9552   Chevrolet  14014.0        Suburban    Automatic                 11.0   \n",
       "9575   Chevrolet  48235.0           Tahoe    Automatic                  8.0   \n",
       "9869        Ford  18117.0      Expedition    Automatic                  3.0   \n",
       "9880        Ford  33082.0      Expedition    Automatic                  5.0   \n",
       "9891        Ford  30149.0      Expedition    Automatic                  4.0   \n",
       "10043       Ford  23771.0      Expedition    Automatic                  1.0   \n",
       "10056       Ford   2025.0        Explorer    Automatic                  9.0   \n",
       "10104       Ford  20869.0      Expedition    Automatic                  6.0   \n",
       "10132       Ford  19620.0      Expedition    Automatic                  8.0   \n",
       "10143       Ford  25585.0      Expedition    Automatic                  1.0   \n",
       "10150       Ford  32690.0      Expedition    Automatic                  4.0   \n",
       "10207       Ford  13265.0      Expedition    Automatic                  7.0   \n",
       "10296       Ford  28092.0      Expedition    Automatic                  4.0   \n",
       "10351       Ford  21578.0      Expedition    Automatic                  5.0   \n",
       "10378       Ford  32529.0      Expedition    Automatic                  4.0   \n",
       "10437       Ford   5349.0        Explorer    Automatic                  6.0   \n",
       "10491       Ford  29041.0      Expedition    Automatic                  3.0   \n",
       "11207      Honda   2772.0           Pilot    Automatic                  8.0   \n",
       "11259      Honda   3794.0           Pilot    Automatic                  8.0   \n",
       "12462       Jeep   6970.0  Grand Cherokee    Automatic                  9.0   \n",
       "12593       Jeep   7654.0  Grand Cherokee    Automatic                  9.0   \n",
       "12820       Jeep   3117.0  Grand Cherokee    Automatic                  7.0   \n",
       "13178       Jeep   5627.0  Grand Cherokee    Automatic                  8.0   \n",
       "17968     Subaru   4200.0          Ascent          CVT                  8.0   \n",
       "18185     Toyota  37387.0    Land Cruiser    Automatic                  7.0   \n",
       "18286     Toyota  41393.0         Sequoia    Automatic                  8.0   \n",
       "18666     Toyota   9028.0    Land Cruiser    Automatic                  7.0   \n",
       "18944     Toyota  76453.0    Land Cruiser    Automatic                  3.0   \n",
       "18996     Toyota   3992.0         4Runner    Automatic                  9.0   \n",
       "\n",
       "       Previous_owners  Photos  Seats Seller_type                     Trim  \\\n",
       "6567               2.0       1    5.0      DEALER              Type RA AWD   \n",
       "6648               1.0       1    5.0      DEALER              Type RA AWD   \n",
       "6723               1.0       1    5.0      DEALER                 S209 AWD   \n",
       "8840               1.0       1    8.0      DEALER              1500 LT 4WD   \n",
       "8966               1.0       1    8.0      DEALER              1500 LT 4WD   \n",
       "9098               1.0       1    8.0      DEALER              1500 LT 4WD   \n",
       "9101               1.0       1    8.0      DEALER              1500 LT 4WD   \n",
       "9103               2.0       1    8.0      DEALER              1500 LT 4WD   \n",
       "9124               1.0       1    8.0      DEALER         1500 Premier 4WD   \n",
       "9161               1.0       1    8.0      DEALER              1500 LT 4WD   \n",
       "9250               1.0       1    8.0      DEALER         1500 Premier 4WD   \n",
       "9278               1.0       1    9.0      DEALER              1500 LS 4WD   \n",
       "9329               1.0       1    8.0      DEALER         1500 Premier 4WD   \n",
       "9368               1.0       1    8.0      DEALER              1500 LT 4WD   \n",
       "9387               1.0       1    8.0      DEALER              Premier 4WD   \n",
       "9423               1.0       1    8.0      DEALER         1500 Premier 4WD   \n",
       "9424               1.0       1    8.0      DEALER         1500 Premier 4WD   \n",
       "9442               1.0       1    8.0      DEALER         1500 Premier 4WD   \n",
       "9453               1.0       0    8.0      DEALER              1500 LT 4WD   \n",
       "9457               1.0       1    8.0      DEALER              Premier 4WD   \n",
       "9458               1.0       1    8.0      DEALER              Premier 4WD   \n",
       "9468               2.0       1    8.0      DEALER              1500 LT 4WD   \n",
       "9552               1.0       1    8.0      DEALER              1500 LT 4WD   \n",
       "9575               1.0       1    8.0      DEALER              Premier 4WD   \n",
       "9869               1.0       1    8.0      DEALER             Platinum 4WD   \n",
       "9880               1.0       1    8.0      DEALER          MAX Limited 4WD   \n",
       "9891               1.0       1    8.0      DEALER              Limited 4WD   \n",
       "10043              1.0       1    8.0      DEALER              Limited 4WD   \n",
       "10056              1.0       1    7.0      DEALER             Platinum AWD   \n",
       "10104              1.0       1    8.0      DEALER              Limited 4WD   \n",
       "10132              1.0       1    8.0      DEALER             Platinum 4WD   \n",
       "10143              1.0       1    8.0      DEALER              Limited 4WD   \n",
       "10150              1.0       1    8.0      DEALER              Limited 4WD   \n",
       "10207              1.0       1    8.0      DEALER              Limited 4WD   \n",
       "10296              1.0       1    8.0      DEALER              Limited 4WD   \n",
       "10351              1.0       1    8.0      DEALER              Limited 4WD   \n",
       "10378              1.0       1    8.0      DEALER          MAX Limited 4WD   \n",
       "10437              1.0       1    7.0      DEALER              Limited AWD   \n",
       "10491              1.0       1    8.0      DEALER              Limited 4WD   \n",
       "11207              1.0       1    7.0      DEALER                Elite AWD   \n",
       "11259              1.0       1    7.0      DEALER                Elite AWD   \n",
       "12462              1.0       1    5.0      DEALER            Trackhawk 4WD   \n",
       "12593              2.0       1    5.0      DEALER               Summit 4WD   \n",
       "12820              2.0       1    5.0      DEALER               Summit 4WD   \n",
       "13178              1.0       1    5.0      DEALER            Limited X 4WD   \n",
       "17968              1.0       0    7.0      DEALER  Touring 7-Passenger AWD   \n",
       "18185              1.0       1    8.0      DEALER                      AWD   \n",
       "18286              1.0       0    7.0      DEALER         Platinum FFV 4WD   \n",
       "18666              1.0       1    8.0      DEALER                      AWD   \n",
       "18944              1.0       1    8.0      DEALER                      AWD   \n",
       "18996              1.0       1    5.0      DEALER              TRD Pro 4WD   \n",
       "\n",
       "         Price  Trim_copy  \n",
       "6567   41288.0          5  \n",
       "6648   42980.0          5  \n",
       "6723   60777.0          3  \n",
       "8840   47998.0          2  \n",
       "8966   41995.0          2  \n",
       "9098   47998.0          2  \n",
       "9101   48998.0          2  \n",
       "9103   48998.0          2  \n",
       "9124   54164.0          5  \n",
       "9161   48998.0          2  \n",
       "9250   54499.0          5  \n",
       "9278   40457.0          2  \n",
       "9329   53900.0          5  \n",
       "9368   41399.0          2  \n",
       "9387   54421.0          5  \n",
       "9423   55000.0          5  \n",
       "9424   54700.0          5  \n",
       "9442   58800.0          5  \n",
       "9453   43500.0          2  \n",
       "9457   52365.0          5  \n",
       "9458   43900.0          5  \n",
       "9468   42998.0          2  \n",
       "9552   44595.0          2  \n",
       "9575   40588.0          5  \n",
       "9869   56000.0          3  \n",
       "9880   44579.0          3  \n",
       "9891   45498.0          3  \n",
       "10043  47500.0          3  \n",
       "10056  51995.0          3  \n",
       "10104  48995.0          3  \n",
       "10132  56537.0          3  \n",
       "10143  47495.0          3  \n",
       "10150  45498.0          3  \n",
       "10207  51873.0          3  \n",
       "10296  46998.0          3  \n",
       "10351  48990.0          3  \n",
       "10378  45450.0          3  \n",
       "10437  42500.0          3  \n",
       "10491  46998.0          3  \n",
       "11207  41683.0          3  \n",
       "11259  40999.0          3  \n",
       "12462  69995.0          5  \n",
       "12593  40999.0          3  \n",
       "12820  46515.0          3  \n",
       "13178  40900.0          3  \n",
       "17968  41382.0          4  \n",
       "18185  57750.0          5  \n",
       "18286  43574.0          3  \n",
       "18666  73495.0          5  \n",
       "18944  49920.0          5  \n",
       "18996  47500.0          5  "
      ]
     },
     "execution_count": 79,
     "metadata": {},
     "output_type": "execute_result"
    }
   ],
   "source": [
    "df.loc[df[\"Price\"] > 40000]"
   ]
  },
  {
   "cell_type": "code",
   "execution_count": 80,
   "metadata": {},
   "outputs": [],
   "source": [
    "df.drop(index = df[df[\"Price\"] > 40000].index, inplace=True)"
   ]
  },
  {
   "cell_type": "markdown",
   "metadata": {},
   "source": [
    "### Additional features\n",
    "More the features in a vehicle, the expensive it gets!"
   ]
  },
  {
   "cell_type": "code",
   "execution_count": 146,
   "metadata": {},
   "outputs": [
    {
     "data": {
      "text/plain": [
       "<matplotlib.axes._subplots.AxesSubplot at 0x127fb5bd0>"
      ]
     },
     "execution_count": 146,
     "metadata": {},
     "output_type": "execute_result"
    },
    {
     "data": {
      "image/png": "[encoded data removed]",
      "text/plain": [
       "<Figure size 720x432 with 1 Axes>"
      ]
     },
     "metadata": {},
     "output_type": "display_data"
    }
   ],
   "source": [
    "plt.figure(figsize=(10,6))\n",
    "sns.boxplot(x = \"Additional_features\", y = \"Price\", data = df)"
   ]
  },
  {
   "cell_type": "markdown",
   "metadata": {},
   "source": [
    "We do see an upward trend in the Price as the number of features increase."
   ]
  },
  {
   "cell_type": "markdown",
   "metadata": {},
   "source": [
    "### Seats"
   ]
  },
  {
   "cell_type": "code",
   "execution_count": 142,
   "metadata": {},
   "outputs": [
    {
     "data": {
      "text/plain": [
       "<matplotlib.axes._subplots.AxesSubplot at 0x127c37b90>"
      ]
     },
     "execution_count": 142,
     "metadata": {},
     "output_type": "execute_result"
    },
    {
     "data": {
      "image/png": "[encoded data removed]",
      "text/plain": [
       "<Figure size 432x288 with 1 Axes>"
      ]
     },
     "metadata": {},
     "output_type": "display_data"
    }
   ],
   "source": [
    "sns.boxplot(x = \"Seats\", y = \"Price\", data = df)"
   ]
  },
  {
   "cell_type": "markdown",
   "metadata": {},
   "source": [
    "### Fuel economy"
   ]
  },
  {
   "cell_type": "code",
   "execution_count": 136,
   "metadata": {},
   "outputs": [],
   "source": [
    "sns.set_style(\"white\")"
   ]
  },
  {
   "cell_type": "code",
   "execution_count": 139,
   "metadata": {},
   "outputs": [
    {
     "data": {
      "text/plain": [
       "Body_type\n",
       "SUV / Crossover    24.695620\n",
       "Sedan              30.181195\n",
       "Name: Fuel_economy_combined, dtype: float64"
      ]
     },
     "execution_count": 139,
     "metadata": {},
     "output_type": "execute_result"
    }
   ],
   "source": [
    "df.groupby(\"Body_type\")[\"Fuel_economy_combined\"].mean()"
   ]
  },
  {
   "cell_type": "code",
   "execution_count": 135,
   "metadata": {},
   "outputs": [
    {
     "data": {
      "text/plain": [
       "<matplotlib.axes._subplots.AxesSubplot at 0x126f316d0>"
      ]
     },
     "execution_count": 135,
     "metadata": {},
     "output_type": "execute_result"
    },
    {
     "data": {
      "image/png": "[encoded data removed]",
      "text/plain": [
       "<Figure size 432x288 with 1 Axes>"
      ]
     },
     "metadata": {},
     "output_type": "display_data"
    }
   ],
   "source": [
    "sns.distplot(df[\"Fuel_economy_combined\"])"
   ]
  },
  {
   "cell_type": "code",
   "execution_count": 137,
   "metadata": {},
   "outputs": [
    {
     "data": {
      "text/plain": [
       "<seaborn.axisgrid.JointGrid at 0x127379310>"
      ]
     },
     "execution_count": 137,
     "metadata": {},
     "output_type": "execute_result"
    },
    {
     "data": {
      "image/png": "[encoded data removed]",
      "text/plain": [
       "<Figure size 432x432 with 3 Axes>"
      ]
     },
     "metadata": {},
     "output_type": "display_data"
    }
   ],
   "source": [
    "sns.jointplot(df[\"Fuel_economy_combined\"],df[\"Price\"])"
   ]
  },
  {
   "cell_type": "markdown",
   "metadata": {},
   "source": [
    "This is interesting! Contrary to my initial thought that vehicles with low fuel economy must be cheaper to buy,  the opposite is true! Actually, the bigger cars with additional features tend to have low fuel economy and are usually expensive."
   ]
  },
  {
   "cell_type": "markdown",
   "metadata": {},
   "source": [
    "### Accidents and Previous owners\n",
    "With the number of the accidents and previous owners, the value of the vehicle depreciates quickly. Let's see!"
   ]
  },
  {
   "cell_type": "code",
   "execution_count": 143,
   "metadata": {},
   "outputs": [
    {
     "data": {
      "text/plain": [
       "<matplotlib.axes._subplots.AxesSubplot at 0x12783b8d0>"
      ]
     },
     "execution_count": 143,
     "metadata": {},
     "output_type": "execute_result"
    },
    {
     "data": {
      "image/png": "[encoded data removed]",
      "text/plain": [
       "<Figure size 432x288 with 1 Axes>"
      ]
     },
     "metadata": {},
     "output_type": "display_data"
    }
   ],
   "source": [
    "sns.boxplot(x = \"Accidents\", y = \"Price\", data = df)"
   ]
  },
  {
   "cell_type": "code",
   "execution_count": 144,
   "metadata": {},
   "outputs": [
    {
     "data": {
      "text/plain": [
       "<matplotlib.axes._subplots.AxesSubplot at 0x12805cf50>"
      ]
     },
     "execution_count": 144,
     "metadata": {},
     "output_type": "execute_result"
    },
    {
     "data": {
      "image/png": "[encoded data removed]",
      "text/plain": [
       "<Figure size 432x288 with 1 Axes>"
      ]
     },
     "metadata": {},
     "output_type": "display_data"
    }
   ],
   "source": [
    "sns.boxplot(x = \"Previous_owners\", y = \"Price\", data = df)"
   ]
  },
  {
   "cell_type": "markdown",
   "metadata": {},
   "source": [
    "### Mileage\n",
    "The value of the vehicle should go down with mileage!"
   ]
  },
  {
   "cell_type": "code",
   "execution_count": 138,
   "metadata": {},
   "outputs": [
    {
     "data": {
      "text/plain": [
       "<seaborn.axisgrid.JointGrid at 0x1276e6710>"
      ]
     },
     "execution_count": 138,
     "metadata": {},
     "output_type": "execute_result"
    },
    {
     "data": {
      "image/png": "[encoded data removed]",
      "text/plain": [
       "<Figure size 432x432 with 3 Axes>"
      ]
     },
     "metadata": {},
     "output_type": "display_data"
    }
   ],
   "source": [
    "sns.jointplot(df[\"Mileage\"],df[\"Price\"])"
   ]
  }
 ],
 "metadata": {
  "kernelspec": {
   "display_name": "Python 3",
   "language": "python",
   "name": "python3"
  },
  "language_info": {
   "codemirror_mode": {
    "name": "ipython",
    "version": 3
   },
   "file_extension": ".py",
   "mimetype": "text/x-python",
   "name": "python",
   "nbconvert_exporter": "python",
   "pygments_lexer": "ipython3",
   "version": "3.7.7"
  }
 },
 "nbformat": 4,
 "nbformat_minor": 4
}
