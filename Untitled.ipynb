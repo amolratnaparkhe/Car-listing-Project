{
 "cells": [
  {
   "cell_type": "code",
   "execution_count": 1,
   "metadata": {},
   "outputs": [],
   "source": [
    "import numpy as np\n",
    "import pandas as pd\n",
    "import matplotlib.pyplot as plt\n",
    "import seaborn as sns\n",
    "from scipy.stats import norm\n",
    "%matplotlib inline"
   ]
  },
  {
   "cell_type": "code",
   "execution_count": null,
   "metadata": {},
   "outputs": [],
   "source": []
  },
  {
   "cell_type": "code",
   "execution_count": 2,
   "metadata": {},
   "outputs": [],
   "source": [
    "sns.set_style(\"whitegrid\")"
   ]
  },
  {
   "cell_type": "code",
   "execution_count": 7,
   "metadata": {},
   "outputs": [
    {
     "data": {
      "text/html": [
       "<div>\n",
       "<style scoped>\n",
       "    .dataframe tbody tr th:only-of-type {\n",
       "        vertical-align: middle;\n",
       "    }\n",
       "\n",
       "    .dataframe tbody tr th {\n",
       "        vertical-align: top;\n",
       "    }\n",
       "\n",
       "    .dataframe thead th {\n",
       "        text-align: right;\n",
       "    }\n",
       "</style>\n",
       "<table border=\"1\" class=\"dataframe\">\n",
       "  <thead>\n",
       "    <tr style=\"text-align: right;\">\n",
       "      <th></th>\n",
       "      <th>Id</th>\n",
       "      <th>Accidents</th>\n",
       "      <th>Body_type</th>\n",
       "      <th>Year</th>\n",
       "      <th>Fuel_economy_combined</th>\n",
       "      <th>Days_on_market</th>\n",
       "      <th>Rating</th>\n",
       "      <th>Distance</th>\n",
       "      <th>Color</th>\n",
       "      <th>Drivetrain</th>\n",
       "      <th>Engine</th>\n",
       "      <th>Make</th>\n",
       "      <th>Mileage</th>\n",
       "      <th>Model</th>\n",
       "      <th>Transmission</th>\n",
       "      <th>Additional_features</th>\n",
       "      <th>Previous_owners</th>\n",
       "      <th>Price_drops</th>\n",
       "      <th>Photos</th>\n",
       "      <th>Seats</th>\n",
       "      <th>Seller_type</th>\n",
       "      <th>Trim</th>\n",
       "      <th>Price</th>\n",
       "    </tr>\n",
       "  </thead>\n",
       "  <tbody>\n",
       "    <tr>\n",
       "      <th>0</th>\n",
       "      <td>271936521</td>\n",
       "      <td>0</td>\n",
       "      <td>Sedan</td>\n",
       "      <td>2017</td>\n",
       "      <td>29 MPG</td>\n",
       "      <td>37</td>\n",
       "      <td>GREAT_PRICE</td>\n",
       "      <td>97.736984</td>\n",
       "      <td>BLACK</td>\n",
       "      <td>FRONT_WHEEL_DRIVE</td>\n",
       "      <td>I4</td>\n",
       "      <td>Chevrolet</td>\n",
       "      <td>49516</td>\n",
       "      <td>Sonic</td>\n",
       "      <td>Automatic</td>\n",
       "      <td>5</td>\n",
       "      <td>2</td>\n",
       "      <td>NaN</td>\n",
       "      <td>True</td>\n",
       "      <td>5</td>\n",
       "      <td>DEALER</td>\n",
       "      <td>LT Sedan FWD</td>\n",
       "      <td>7495.0</td>\n",
       "    </tr>\n",
       "    <tr>\n",
       "      <th>1</th>\n",
       "      <td>273738682</td>\n",
       "      <td>0</td>\n",
       "      <td>Sedan</td>\n",
       "      <td>2009</td>\n",
       "      <td>27 MPG</td>\n",
       "      <td>10</td>\n",
       "      <td>GREAT_PRICE</td>\n",
       "      <td>171.23712</td>\n",
       "      <td>SILVER</td>\n",
       "      <td>FRONT_WHEEL_DRIVE</td>\n",
       "      <td>I4</td>\n",
       "      <td>Chevrolet</td>\n",
       "      <td>132196</td>\n",
       "      <td>Malibu</td>\n",
       "      <td>Automatic</td>\n",
       "      <td>5</td>\n",
       "      <td>2</td>\n",
       "      <td>NaN</td>\n",
       "      <td>True</td>\n",
       "      <td>5</td>\n",
       "      <td>DEALER</td>\n",
       "      <td>LTZ FWD</td>\n",
       "      <td>3997.0</td>\n",
       "    </tr>\n",
       "    <tr>\n",
       "      <th>2</th>\n",
       "      <td>272560966</td>\n",
       "      <td>2</td>\n",
       "      <td>Sedan</td>\n",
       "      <td>2015</td>\n",
       "      <td>26 MPG</td>\n",
       "      <td>28</td>\n",
       "      <td>GREAT_PRICE</td>\n",
       "      <td>116.38247</td>\n",
       "      <td>BROWN</td>\n",
       "      <td>FRONT_WHEEL_DRIVE</td>\n",
       "      <td>I4</td>\n",
       "      <td>Chevrolet</td>\n",
       "      <td>20833</td>\n",
       "      <td>Impala</td>\n",
       "      <td>Automatic</td>\n",
       "      <td>6</td>\n",
       "      <td>1</td>\n",
       "      <td>NaN</td>\n",
       "      <td>True</td>\n",
       "      <td>5</td>\n",
       "      <td>DEALER</td>\n",
       "      <td>LTZ 1LZ FWD</td>\n",
       "      <td>15995.0</td>\n",
       "    </tr>\n",
       "    <tr>\n",
       "      <th>3</th>\n",
       "      <td>268734916</td>\n",
       "      <td>2</td>\n",
       "      <td>Sedan</td>\n",
       "      <td>2012</td>\n",
       "      <td>NaN</td>\n",
       "      <td>97</td>\n",
       "      <td>GREAT_PRICE</td>\n",
       "      <td>13.022558</td>\n",
       "      <td>BLACK</td>\n",
       "      <td>REAR_WHEEL_DRIVE</td>\n",
       "      <td>V6</td>\n",
       "      <td>Chevrolet</td>\n",
       "      <td>71347</td>\n",
       "      <td>Caprice</td>\n",
       "      <td>6-Speed Automatic</td>\n",
       "      <td>1</td>\n",
       "      <td>1</td>\n",
       "      <td>NaN</td>\n",
       "      <td>True</td>\n",
       "      <td>5</td>\n",
       "      <td>DEALER</td>\n",
       "      <td>Police Sedan RWD</td>\n",
       "      <td>5995.0</td>\n",
       "    </tr>\n",
       "    <tr>\n",
       "      <th>4</th>\n",
       "      <td>269505576</td>\n",
       "      <td>0</td>\n",
       "      <td>Sedan</td>\n",
       "      <td>2017</td>\n",
       "      <td>31 MPG</td>\n",
       "      <td>86</td>\n",
       "      <td>GREAT_PRICE</td>\n",
       "      <td>126.89147</td>\n",
       "      <td>SILVER</td>\n",
       "      <td>FRONT_WHEEL_DRIVE</td>\n",
       "      <td>I4</td>\n",
       "      <td>Chevrolet</td>\n",
       "      <td>31152</td>\n",
       "      <td>Malibu</td>\n",
       "      <td>6-Speed Automatic</td>\n",
       "      <td>4</td>\n",
       "      <td>1</td>\n",
       "      <td>NaN</td>\n",
       "      <td>True</td>\n",
       "      <td>5</td>\n",
       "      <td>DEALER</td>\n",
       "      <td>LT FWD</td>\n",
       "      <td>12925.0</td>\n",
       "    </tr>\n",
       "  </tbody>\n",
       "</table>\n",
       "</div>"
      ],
      "text/plain": [
       "          Id Accidents Body_type  Year Fuel_economy_combined Days_on_market  \\\n",
       "0  271936521         0     Sedan  2017                29 MPG             37   \n",
       "1  273738682         0     Sedan  2009                27 MPG             10   \n",
       "2  272560966         2     Sedan  2015                26 MPG             28   \n",
       "3  268734916         2     Sedan  2012                   NaN             97   \n",
       "4  269505576         0     Sedan  2017                31 MPG             86   \n",
       "\n",
       "        Rating   Distance   Color         Drivetrain Engine       Make  \\\n",
       "0  GREAT_PRICE  97.736984   BLACK  FRONT_WHEEL_DRIVE     I4  Chevrolet   \n",
       "1  GREAT_PRICE  171.23712  SILVER  FRONT_WHEEL_DRIVE     I4  Chevrolet   \n",
       "2  GREAT_PRICE  116.38247   BROWN  FRONT_WHEEL_DRIVE     I4  Chevrolet   \n",
       "3  GREAT_PRICE  13.022558   BLACK   REAR_WHEEL_DRIVE     V6  Chevrolet   \n",
       "4  GREAT_PRICE  126.89147  SILVER  FRONT_WHEEL_DRIVE     I4  Chevrolet   \n",
       "\n",
       "  Mileage    Model       Transmission Additional_features Previous_owners  \\\n",
       "0   49516    Sonic          Automatic                   5               2   \n",
       "1  132196   Malibu          Automatic                   5               2   \n",
       "2   20833   Impala          Automatic                   6               1   \n",
       "3   71347  Caprice  6-Speed Automatic                   1               1   \n",
       "4   31152   Malibu  6-Speed Automatic                   4               1   \n",
       "\n",
       "  Price_drops Photos Seats Seller_type              Trim    Price  \n",
       "0         NaN   True     5      DEALER      LT Sedan FWD   7495.0  \n",
       "1         NaN   True     5      DEALER           LTZ FWD   3997.0  \n",
       "2         NaN   True     5      DEALER       LTZ 1LZ FWD  15995.0  \n",
       "3         NaN   True     5      DEALER  Police Sedan RWD   5995.0  \n",
       "4         NaN   True     5      DEALER            LT FWD  12925.0  "
      ]
     },
     "execution_count": 7,
     "metadata": {},
     "output_type": "execute_result"
    }
   ],
   "source": [
    "df = pd.read_csv(\"vehicles.csv\")\n",
    "pd.set_option('display.max_columns', None)\n",
    "df.head()"
   ]
  },
  {
   "cell_type": "code",
   "execution_count": 8,
   "metadata": {},
   "outputs": [
    {
     "data": {
      "text/plain": [
       "(19084, 23)"
      ]
     },
     "execution_count": 8,
     "metadata": {},
     "output_type": "execute_result"
    }
   ],
   "source": [
    "df.shape"
   ]
  },
  {
   "cell_type": "code",
   "execution_count": 9,
   "metadata": {},
   "outputs": [
    {
     "data": {
      "text/plain": [
       "Index(['Id', 'Accidents', 'Body_type', 'Year', 'Fuel_economy_combined',\n",
       "       'Days_on_market', 'Rating', 'Distance', 'Color', 'Drivetrain', 'Engine',\n",
       "       'Make', 'Mileage', 'Model', 'Transmission', 'Additional_features',\n",
       "       'Previous_owners', 'Price_drops', 'Photos', 'Seats', 'Seller_type',\n",
       "       'Trim', 'Price'],\n",
       "      dtype='object')"
      ]
     },
     "execution_count": 9,
     "metadata": {},
     "output_type": "execute_result"
    }
   ],
   "source": [
    "df.columns"
   ]
  },
  {
   "cell_type": "code",
   "execution_count": 10,
   "metadata": {},
   "outputs": [
    {
     "data": {
      "text/html": [
       "<div>\n",
       "<style scoped>\n",
       "    .dataframe tbody tr th:only-of-type {\n",
       "        vertical-align: middle;\n",
       "    }\n",
       "\n",
       "    .dataframe tbody tr th {\n",
       "        vertical-align: top;\n",
       "    }\n",
       "\n",
       "    .dataframe thead th {\n",
       "        text-align: right;\n",
       "    }\n",
       "</style>\n",
       "<table border=\"1\" class=\"dataframe\">\n",
       "  <thead>\n",
       "    <tr style=\"text-align: right;\">\n",
       "      <th></th>\n",
       "      <th>Id</th>\n",
       "      <th>Accidents</th>\n",
       "      <th>Body_type</th>\n",
       "      <th>Year</th>\n",
       "      <th>Fuel_economy_combined</th>\n",
       "      <th>Days_on_market</th>\n",
       "      <th>Rating</th>\n",
       "      <th>Distance</th>\n",
       "      <th>Color</th>\n",
       "      <th>Drivetrain</th>\n",
       "      <th>Engine</th>\n",
       "      <th>Make</th>\n",
       "      <th>Mileage</th>\n",
       "      <th>Model</th>\n",
       "      <th>Transmission</th>\n",
       "      <th>Additional_features</th>\n",
       "      <th>Previous_owners</th>\n",
       "      <th>Price_drops</th>\n",
       "      <th>Photos</th>\n",
       "      <th>Seats</th>\n",
       "      <th>Seller_type</th>\n",
       "      <th>Trim</th>\n",
       "      <th>Price</th>\n",
       "    </tr>\n",
       "  </thead>\n",
       "  <tbody>\n",
       "    <tr>\n",
       "      <th>count</th>\n",
       "      <td>19084</td>\n",
       "      <td>19006</td>\n",
       "      <td>19070</td>\n",
       "      <td>19084</td>\n",
       "      <td>17001</td>\n",
       "      <td>19084</td>\n",
       "      <td>18597</td>\n",
       "      <td>19084</td>\n",
       "      <td>19084</td>\n",
       "      <td>18023</td>\n",
       "      <td>18831</td>\n",
       "      <td>19084</td>\n",
       "      <td>19036</td>\n",
       "      <td>19084</td>\n",
       "      <td>18882</td>\n",
       "      <td>19084</td>\n",
       "      <td>18779</td>\n",
       "      <td>2018</td>\n",
       "      <td>17744</td>\n",
       "      <td>18809</td>\n",
       "      <td>19084</td>\n",
       "      <td>18894</td>\n",
       "      <td>18786</td>\n",
       "    </tr>\n",
       "    <tr>\n",
       "      <th>unique</th>\n",
       "      <td>18463</td>\n",
       "      <td>7</td>\n",
       "      <td>3</td>\n",
       "      <td>18</td>\n",
       "      <td>38</td>\n",
       "      <td>523</td>\n",
       "      <td>7</td>\n",
       "      <td>2235</td>\n",
       "      <td>15</td>\n",
       "      <td>6</td>\n",
       "      <td>9</td>\n",
       "      <td>13</td>\n",
       "      <td>16796</td>\n",
       "      <td>163</td>\n",
       "      <td>32</td>\n",
       "      <td>25</td>\n",
       "      <td>9</td>\n",
       "      <td>2</td>\n",
       "      <td>2</td>\n",
       "      <td>7</td>\n",
       "      <td>3</td>\n",
       "      <td>756</td>\n",
       "      <td>6524</td>\n",
       "    </tr>\n",
       "    <tr>\n",
       "      <th>top</th>\n",
       "      <td>Id</td>\n",
       "      <td>0</td>\n",
       "      <td>SUV / Crossover</td>\n",
       "      <td>2017</td>\n",
       "      <td>29 MPG</td>\n",
       "      <td>4</td>\n",
       "      <td>FAIR_PRICE</td>\n",
       "      <td>180.90224</td>\n",
       "      <td>BLACK</td>\n",
       "      <td>FRONT_WHEEL_DRIVE</td>\n",
       "      <td>I4</td>\n",
       "      <td>Kia</td>\n",
       "      <td>Mileage</td>\n",
       "      <td>Sorento</td>\n",
       "      <td>6-Speed Automatic</td>\n",
       "      <td>3</td>\n",
       "      <td>1</td>\n",
       "      <td>True</td>\n",
       "      <td>True</td>\n",
       "      <td>5</td>\n",
       "      <td>DEALER</td>\n",
       "      <td>LX</td>\n",
       "      <td>7995.0</td>\n",
       "    </tr>\n",
       "    <tr>\n",
       "      <th>freq</th>\n",
       "      <td>22</td>\n",
       "      <td>15723</td>\n",
       "      <td>10327</td>\n",
       "      <td>4866</td>\n",
       "      <td>1502</td>\n",
       "      <td>458</td>\n",
       "      <td>9929</td>\n",
       "      <td>118</td>\n",
       "      <td>3525</td>\n",
       "      <td>9030</td>\n",
       "      <td>13496</td>\n",
       "      <td>2400</td>\n",
       "      <td>22</td>\n",
       "      <td>757</td>\n",
       "      <td>5526</td>\n",
       "      <td>4794</td>\n",
       "      <td>11904</td>\n",
       "      <td>1996</td>\n",
       "      <td>17722</td>\n",
       "      <td>15909</td>\n",
       "      <td>19000</td>\n",
       "      <td>935</td>\n",
       "      <td>152</td>\n",
       "    </tr>\n",
       "  </tbody>\n",
       "</table>\n",
       "</div>"
      ],
      "text/plain": [
       "           Id Accidents        Body_type   Year Fuel_economy_combined  \\\n",
       "count   19084     19006            19070  19084                 17001   \n",
       "unique  18463         7                3     18                    38   \n",
       "top        Id         0  SUV / Crossover   2017                29 MPG   \n",
       "freq       22     15723            10327   4866                  1502   \n",
       "\n",
       "       Days_on_market      Rating   Distance  Color         Drivetrain Engine  \\\n",
       "count           19084       18597      19084  19084              18023  18831   \n",
       "unique            523           7       2235     15                  6      9   \n",
       "top                 4  FAIR_PRICE  180.90224  BLACK  FRONT_WHEEL_DRIVE     I4   \n",
       "freq              458        9929        118   3525               9030  13496   \n",
       "\n",
       "         Make  Mileage    Model       Transmission Additional_features  \\\n",
       "count   19084    19036    19084              18882               19084   \n",
       "unique     13    16796      163                 32                  25   \n",
       "top       Kia  Mileage  Sorento  6-Speed Automatic                   3   \n",
       "freq     2400       22      757               5526                4794   \n",
       "\n",
       "       Previous_owners Price_drops Photos  Seats Seller_type   Trim   Price  \n",
       "count            18779        2018  17744  18809       19084  18894   18786  \n",
       "unique               9           2      2      7           3    756    6524  \n",
       "top                  1        True   True      5      DEALER     LX  7995.0  \n",
       "freq             11904        1996  17722  15909       19000    935     152  "
      ]
     },
     "execution_count": 10,
     "metadata": {},
     "output_type": "execute_result"
    }
   ],
   "source": [
    "df.describe()"
   ]
  },
  {
   "cell_type": "code",
   "execution_count": 11,
   "metadata": {},
   "outputs": [
    {
     "name": "stdout",
     "output_type": "stream",
     "text": [
      "<class 'pandas.core.frame.DataFrame'>\n",
      "RangeIndex: 19084 entries, 0 to 19083\n",
      "Data columns (total 23 columns):\n",
      " #   Column                 Non-Null Count  Dtype \n",
      "---  ------                 --------------  ----- \n",
      " 0   Id                     19084 non-null  object\n",
      " 1   Accidents              19006 non-null  object\n",
      " 2   Body_type              19070 non-null  object\n",
      " 3   Year                   19084 non-null  object\n",
      " 4   Fuel_economy_combined  17001 non-null  object\n",
      " 5   Days_on_market         19084 non-null  object\n",
      " 6   Rating                 18597 non-null  object\n",
      " 7   Distance               19084 non-null  object\n",
      " 8   Color                  19084 non-null  object\n",
      " 9   Drivetrain             18023 non-null  object\n",
      " 10  Engine                 18831 non-null  object\n",
      " 11  Make                   19084 non-null  object\n",
      " 12  Mileage                19036 non-null  object\n",
      " 13  Model                  19084 non-null  object\n",
      " 14  Transmission           18882 non-null  object\n",
      " 15  Additional_features    19084 non-null  object\n",
      " 16  Previous_owners        18779 non-null  object\n",
      " 17  Price_drops            2018 non-null   object\n",
      " 18  Photos                 17744 non-null  object\n",
      " 19  Seats                  18809 non-null  object\n",
      " 20  Seller_type            19084 non-null  object\n",
      " 21  Trim                   18894 non-null  object\n",
      " 22  Price                  18786 non-null  object\n",
      "dtypes: object(23)\n",
      "memory usage: 3.3+ MB\n"
     ]
    }
   ],
   "source": [
    "df.info()"
   ]
  },
  {
   "cell_type": "code",
   "execution_count": null,
   "metadata": {},
   "outputs": [],
   "source": []
  },
  {
   "cell_type": "markdown",
   "metadata": {},
   "source": [
    "## ID for each vehicle must be unique. Looks like we have a few duplicates"
   ]
  },
  {
   "cell_type": "code",
   "execution_count": 12,
   "metadata": {},
   "outputs": [
    {
     "data": {
      "text/plain": [
       "Id           22\n",
       "272414782     2\n",
       "274389084     2\n",
       "274389108     2\n",
       "273762803     2\n",
       "             ..\n",
       "256533240     1\n",
       "274478254     1\n",
       "273683707     1\n",
       "271631860     1\n",
       "268806532     1\n",
       "Name: Id, Length: 18463, dtype: int64"
      ]
     },
     "execution_count": 12,
     "metadata": {},
     "output_type": "execute_result"
    }
   ],
   "source": [
    "df[\"Id\"].value_counts()"
   ]
  },
  {
   "cell_type": "markdown",
   "metadata": {},
   "source": [
    "Looks like the labels also got scraped for each of the vehicle kinds"
   ]
  },
  {
   "cell_type": "code",
   "execution_count": 13,
   "metadata": {},
   "outputs": [
    {
     "data": {
      "text/html": [
       "<div>\n",
       "<style scoped>\n",
       "    .dataframe tbody tr th:only-of-type {\n",
       "        vertical-align: middle;\n",
       "    }\n",
       "\n",
       "    .dataframe tbody tr th {\n",
       "        vertical-align: top;\n",
       "    }\n",
       "\n",
       "    .dataframe thead th {\n",
       "        text-align: right;\n",
       "    }\n",
       "</style>\n",
       "<table border=\"1\" class=\"dataframe\">\n",
       "  <thead>\n",
       "    <tr style=\"text-align: right;\">\n",
       "      <th></th>\n",
       "      <th>Id</th>\n",
       "      <th>Accidents</th>\n",
       "      <th>Body_type</th>\n",
       "      <th>Year</th>\n",
       "      <th>Fuel_economy_combined</th>\n",
       "      <th>Days_on_market</th>\n",
       "      <th>Rating</th>\n",
       "      <th>Distance</th>\n",
       "      <th>Color</th>\n",
       "      <th>Drivetrain</th>\n",
       "      <th>Engine</th>\n",
       "      <th>Make</th>\n",
       "      <th>Mileage</th>\n",
       "      <th>Model</th>\n",
       "      <th>Transmission</th>\n",
       "      <th>Additional_features</th>\n",
       "      <th>Previous_owners</th>\n",
       "      <th>Price_drops</th>\n",
       "      <th>Photos</th>\n",
       "      <th>Seats</th>\n",
       "      <th>Seller_type</th>\n",
       "      <th>Trim</th>\n",
       "      <th>Price</th>\n",
       "    </tr>\n",
       "  </thead>\n",
       "  <tbody>\n",
       "    <tr>\n",
       "      <th>900</th>\n",
       "      <td>Id</td>\n",
       "      <td>Accidents</td>\n",
       "      <td>Body_type</td>\n",
       "      <td>Year</td>\n",
       "      <td>Fuel_economy_combined</td>\n",
       "      <td>Days_on_market</td>\n",
       "      <td>Rating</td>\n",
       "      <td>Distance</td>\n",
       "      <td>Color</td>\n",
       "      <td>Drivetrain</td>\n",
       "      <td>Engine</td>\n",
       "      <td>Make</td>\n",
       "      <td>Mileage</td>\n",
       "      <td>Model</td>\n",
       "      <td>Transmission</td>\n",
       "      <td>Additional_features</td>\n",
       "      <td>Previous_owners</td>\n",
       "      <td>Price_drops</td>\n",
       "      <td>Photos</td>\n",
       "      <td>Seats</td>\n",
       "      <td>Seller_type</td>\n",
       "      <td>Trim</td>\n",
       "      <td>Price</td>\n",
       "    </tr>\n",
       "    <tr>\n",
       "      <th>1801</th>\n",
       "      <td>Id</td>\n",
       "      <td>Accidents</td>\n",
       "      <td>Body_type</td>\n",
       "      <td>Year</td>\n",
       "      <td>Fuel_economy_combined</td>\n",
       "      <td>Days_on_market</td>\n",
       "      <td>Rating</td>\n",
       "      <td>Distance</td>\n",
       "      <td>Color</td>\n",
       "      <td>Drivetrain</td>\n",
       "      <td>Engine</td>\n",
       "      <td>Make</td>\n",
       "      <td>Mileage</td>\n",
       "      <td>Model</td>\n",
       "      <td>Transmission</td>\n",
       "      <td>Additional_features</td>\n",
       "      <td>Previous_owners</td>\n",
       "      <td>Price_drops</td>\n",
       "      <td>Photos</td>\n",
       "      <td>Seats</td>\n",
       "      <td>Seller_type</td>\n",
       "      <td>Trim</td>\n",
       "      <td>Price</td>\n",
       "    </tr>\n",
       "    <tr>\n",
       "      <th>2702</th>\n",
       "      <td>Id</td>\n",
       "      <td>Accidents</td>\n",
       "      <td>Body_type</td>\n",
       "      <td>Year</td>\n",
       "      <td>Fuel_economy_combined</td>\n",
       "      <td>Days_on_market</td>\n",
       "      <td>Rating</td>\n",
       "      <td>Distance</td>\n",
       "      <td>Color</td>\n",
       "      <td>Drivetrain</td>\n",
       "      <td>Engine</td>\n",
       "      <td>Make</td>\n",
       "      <td>Mileage</td>\n",
       "      <td>Model</td>\n",
       "      <td>Transmission</td>\n",
       "      <td>Additional_features</td>\n",
       "      <td>Previous_owners</td>\n",
       "      <td>Price_drops</td>\n",
       "      <td>Photos</td>\n",
       "      <td>Seats</td>\n",
       "      <td>Seller_type</td>\n",
       "      <td>Trim</td>\n",
       "      <td>Price</td>\n",
       "    </tr>\n",
       "    <tr>\n",
       "      <th>3603</th>\n",
       "      <td>Id</td>\n",
       "      <td>Accidents</td>\n",
       "      <td>Body_type</td>\n",
       "      <td>Year</td>\n",
       "      <td>Fuel_economy_combined</td>\n",
       "      <td>Days_on_market</td>\n",
       "      <td>Rating</td>\n",
       "      <td>Distance</td>\n",
       "      <td>Color</td>\n",
       "      <td>Drivetrain</td>\n",
       "      <td>Engine</td>\n",
       "      <td>Make</td>\n",
       "      <td>Mileage</td>\n",
       "      <td>Model</td>\n",
       "      <td>Transmission</td>\n",
       "      <td>Additional_features</td>\n",
       "      <td>Previous_owners</td>\n",
       "      <td>Price_drops</td>\n",
       "      <td>Photos</td>\n",
       "      <td>Seats</td>\n",
       "      <td>Seller_type</td>\n",
       "      <td>Trim</td>\n",
       "      <td>Price</td>\n",
       "    </tr>\n",
       "    <tr>\n",
       "      <th>4504</th>\n",
       "      <td>Id</td>\n",
       "      <td>Accidents</td>\n",
       "      <td>Body_type</td>\n",
       "      <td>Year</td>\n",
       "      <td>Fuel_economy_combined</td>\n",
       "      <td>Days_on_market</td>\n",
       "      <td>Rating</td>\n",
       "      <td>Distance</td>\n",
       "      <td>Color</td>\n",
       "      <td>Drivetrain</td>\n",
       "      <td>Engine</td>\n",
       "      <td>Make</td>\n",
       "      <td>Mileage</td>\n",
       "      <td>Model</td>\n",
       "      <td>Transmission</td>\n",
       "      <td>Additional_features</td>\n",
       "      <td>Previous_owners</td>\n",
       "      <td>Price_drops</td>\n",
       "      <td>Photos</td>\n",
       "      <td>Seats</td>\n",
       "      <td>Seller_type</td>\n",
       "      <td>Trim</td>\n",
       "      <td>Price</td>\n",
       "    </tr>\n",
       "    <tr>\n",
       "      <th>4987</th>\n",
       "      <td>Id</td>\n",
       "      <td>Accidents</td>\n",
       "      <td>Body_type</td>\n",
       "      <td>Year</td>\n",
       "      <td>Fuel_economy_combined</td>\n",
       "      <td>Days_on_market</td>\n",
       "      <td>Rating</td>\n",
       "      <td>Distance</td>\n",
       "      <td>Color</td>\n",
       "      <td>Drivetrain</td>\n",
       "      <td>Engine</td>\n",
       "      <td>Make</td>\n",
       "      <td>Mileage</td>\n",
       "      <td>Model</td>\n",
       "      <td>Transmission</td>\n",
       "      <td>Additional_features</td>\n",
       "      <td>Previous_owners</td>\n",
       "      <td>Price_drops</td>\n",
       "      <td>Photos</td>\n",
       "      <td>Seats</td>\n",
       "      <td>Seller_type</td>\n",
       "      <td>Trim</td>\n",
       "      <td>Price</td>\n",
       "    </tr>\n",
       "    <tr>\n",
       "      <th>5132</th>\n",
       "      <td>Id</td>\n",
       "      <td>Accidents</td>\n",
       "      <td>Body_type</td>\n",
       "      <td>Year</td>\n",
       "      <td>Fuel_economy_combined</td>\n",
       "      <td>Days_on_market</td>\n",
       "      <td>Rating</td>\n",
       "      <td>Distance</td>\n",
       "      <td>Color</td>\n",
       "      <td>Drivetrain</td>\n",
       "      <td>Engine</td>\n",
       "      <td>Make</td>\n",
       "      <td>Mileage</td>\n",
       "      <td>Model</td>\n",
       "      <td>Transmission</td>\n",
       "      <td>Additional_features</td>\n",
       "      <td>Previous_owners</td>\n",
       "      <td>Price_drops</td>\n",
       "      <td>Photos</td>\n",
       "      <td>Seats</td>\n",
       "      <td>Seller_type</td>\n",
       "      <td>Trim</td>\n",
       "      <td>Price</td>\n",
       "    </tr>\n",
       "    <tr>\n",
       "      <th>6033</th>\n",
       "      <td>Id</td>\n",
       "      <td>Accidents</td>\n",
       "      <td>Body_type</td>\n",
       "      <td>Year</td>\n",
       "      <td>Fuel_economy_combined</td>\n",
       "      <td>Days_on_market</td>\n",
       "      <td>Rating</td>\n",
       "      <td>Distance</td>\n",
       "      <td>Color</td>\n",
       "      <td>Drivetrain</td>\n",
       "      <td>Engine</td>\n",
       "      <td>Make</td>\n",
       "      <td>Mileage</td>\n",
       "      <td>Model</td>\n",
       "      <td>Transmission</td>\n",
       "      <td>Additional_features</td>\n",
       "      <td>Previous_owners</td>\n",
       "      <td>Price_drops</td>\n",
       "      <td>Photos</td>\n",
       "      <td>Seats</td>\n",
       "      <td>Seller_type</td>\n",
       "      <td>Trim</td>\n",
       "      <td>Price</td>\n",
       "    </tr>\n",
       "    <tr>\n",
       "      <th>6934</th>\n",
       "      <td>Id</td>\n",
       "      <td>Accidents</td>\n",
       "      <td>Body_type</td>\n",
       "      <td>Year</td>\n",
       "      <td>Fuel_economy_combined</td>\n",
       "      <td>Days_on_market</td>\n",
       "      <td>Rating</td>\n",
       "      <td>Distance</td>\n",
       "      <td>Color</td>\n",
       "      <td>Drivetrain</td>\n",
       "      <td>Engine</td>\n",
       "      <td>Make</td>\n",
       "      <td>Mileage</td>\n",
       "      <td>Model</td>\n",
       "      <td>Transmission</td>\n",
       "      <td>Additional_features</td>\n",
       "      <td>Previous_owners</td>\n",
       "      <td>Price_drops</td>\n",
       "      <td>Photos</td>\n",
       "      <td>Seats</td>\n",
       "      <td>Seller_type</td>\n",
       "      <td>Trim</td>\n",
       "      <td>Price</td>\n",
       "    </tr>\n",
       "    <tr>\n",
       "      <th>7835</th>\n",
       "      <td>Id</td>\n",
       "      <td>Accidents</td>\n",
       "      <td>Body_type</td>\n",
       "      <td>Year</td>\n",
       "      <td>Fuel_economy_combined</td>\n",
       "      <td>Days_on_market</td>\n",
       "      <td>Rating</td>\n",
       "      <td>Distance</td>\n",
       "      <td>Color</td>\n",
       "      <td>Drivetrain</td>\n",
       "      <td>Engine</td>\n",
       "      <td>Make</td>\n",
       "      <td>Mileage</td>\n",
       "      <td>Model</td>\n",
       "      <td>Transmission</td>\n",
       "      <td>Additional_features</td>\n",
       "      <td>Previous_owners</td>\n",
       "      <td>Price_drops</td>\n",
       "      <td>Photos</td>\n",
       "      <td>Seats</td>\n",
       "      <td>Seller_type</td>\n",
       "      <td>Trim</td>\n",
       "      <td>Price</td>\n",
       "    </tr>\n",
       "    <tr>\n",
       "      <th>8736</th>\n",
       "      <td>Id</td>\n",
       "      <td>Accidents</td>\n",
       "      <td>Body_type</td>\n",
       "      <td>Year</td>\n",
       "      <td>Fuel_economy_combined</td>\n",
       "      <td>Days_on_market</td>\n",
       "      <td>Rating</td>\n",
       "      <td>Distance</td>\n",
       "      <td>Color</td>\n",
       "      <td>Drivetrain</td>\n",
       "      <td>Engine</td>\n",
       "      <td>Make</td>\n",
       "      <td>Mileage</td>\n",
       "      <td>Model</td>\n",
       "      <td>Transmission</td>\n",
       "      <td>Additional_features</td>\n",
       "      <td>Previous_owners</td>\n",
       "      <td>Price_drops</td>\n",
       "      <td>Photos</td>\n",
       "      <td>Seats</td>\n",
       "      <td>Seller_type</td>\n",
       "      <td>Trim</td>\n",
       "      <td>Price</td>\n",
       "    </tr>\n",
       "    <tr>\n",
       "      <th>9637</th>\n",
       "      <td>Id</td>\n",
       "      <td>Accidents</td>\n",
       "      <td>Body_type</td>\n",
       "      <td>Year</td>\n",
       "      <td>Fuel_economy_combined</td>\n",
       "      <td>Days_on_market</td>\n",
       "      <td>Rating</td>\n",
       "      <td>Distance</td>\n",
       "      <td>Color</td>\n",
       "      <td>Drivetrain</td>\n",
       "      <td>Engine</td>\n",
       "      <td>Make</td>\n",
       "      <td>Mileage</td>\n",
       "      <td>Model</td>\n",
       "      <td>Transmission</td>\n",
       "      <td>Additional_features</td>\n",
       "      <td>Previous_owners</td>\n",
       "      <td>Price_drops</td>\n",
       "      <td>Photos</td>\n",
       "      <td>Seats</td>\n",
       "      <td>Seller_type</td>\n",
       "      <td>Trim</td>\n",
       "      <td>Price</td>\n",
       "    </tr>\n",
       "    <tr>\n",
       "      <th>10538</th>\n",
       "      <td>Id</td>\n",
       "      <td>Accidents</td>\n",
       "      <td>Body_type</td>\n",
       "      <td>Year</td>\n",
       "      <td>Fuel_economy_combined</td>\n",
       "      <td>Days_on_market</td>\n",
       "      <td>Rating</td>\n",
       "      <td>Distance</td>\n",
       "      <td>Color</td>\n",
       "      <td>Drivetrain</td>\n",
       "      <td>Engine</td>\n",
       "      <td>Make</td>\n",
       "      <td>Mileage</td>\n",
       "      <td>Model</td>\n",
       "      <td>Transmission</td>\n",
       "      <td>Additional_features</td>\n",
       "      <td>Previous_owners</td>\n",
       "      <td>Price_drops</td>\n",
       "      <td>Photos</td>\n",
       "      <td>Seats</td>\n",
       "      <td>Seller_type</td>\n",
       "      <td>Trim</td>\n",
       "      <td>Price</td>\n",
       "    </tr>\n",
       "    <tr>\n",
       "      <th>11439</th>\n",
       "      <td>Id</td>\n",
       "      <td>Accidents</td>\n",
       "      <td>Body_type</td>\n",
       "      <td>Year</td>\n",
       "      <td>Fuel_economy_combined</td>\n",
       "      <td>Days_on_market</td>\n",
       "      <td>Rating</td>\n",
       "      <td>Distance</td>\n",
       "      <td>Color</td>\n",
       "      <td>Drivetrain</td>\n",
       "      <td>Engine</td>\n",
       "      <td>Make</td>\n",
       "      <td>Mileage</td>\n",
       "      <td>Model</td>\n",
       "      <td>Transmission</td>\n",
       "      <td>Additional_features</td>\n",
       "      <td>Previous_owners</td>\n",
       "      <td>Price_drops</td>\n",
       "      <td>Photos</td>\n",
       "      <td>Seats</td>\n",
       "      <td>Seller_type</td>\n",
       "      <td>Trim</td>\n",
       "      <td>Price</td>\n",
       "    </tr>\n",
       "    <tr>\n",
       "      <th>12340</th>\n",
       "      <td>Id</td>\n",
       "      <td>Accidents</td>\n",
       "      <td>Body_type</td>\n",
       "      <td>Year</td>\n",
       "      <td>Fuel_economy_combined</td>\n",
       "      <td>Days_on_market</td>\n",
       "      <td>Rating</td>\n",
       "      <td>Distance</td>\n",
       "      <td>Color</td>\n",
       "      <td>Drivetrain</td>\n",
       "      <td>Engine</td>\n",
       "      <td>Make</td>\n",
       "      <td>Mileage</td>\n",
       "      <td>Model</td>\n",
       "      <td>Transmission</td>\n",
       "      <td>Additional_features</td>\n",
       "      <td>Previous_owners</td>\n",
       "      <td>Price_drops</td>\n",
       "      <td>Photos</td>\n",
       "      <td>Seats</td>\n",
       "      <td>Seller_type</td>\n",
       "      <td>Trim</td>\n",
       "      <td>Price</td>\n",
       "    </tr>\n",
       "    <tr>\n",
       "      <th>13241</th>\n",
       "      <td>Id</td>\n",
       "      <td>Accidents</td>\n",
       "      <td>Body_type</td>\n",
       "      <td>Year</td>\n",
       "      <td>Fuel_economy_combined</td>\n",
       "      <td>Days_on_market</td>\n",
       "      <td>Rating</td>\n",
       "      <td>Distance</td>\n",
       "      <td>Color</td>\n",
       "      <td>Drivetrain</td>\n",
       "      <td>Engine</td>\n",
       "      <td>Make</td>\n",
       "      <td>Mileage</td>\n",
       "      <td>Model</td>\n",
       "      <td>Transmission</td>\n",
       "      <td>Additional_features</td>\n",
       "      <td>Previous_owners</td>\n",
       "      <td>Price_drops</td>\n",
       "      <td>Photos</td>\n",
       "      <td>Seats</td>\n",
       "      <td>Seller_type</td>\n",
       "      <td>Trim</td>\n",
       "      <td>Price</td>\n",
       "    </tr>\n",
       "    <tr>\n",
       "      <th>13842</th>\n",
       "      <td>Id</td>\n",
       "      <td>Accidents</td>\n",
       "      <td>Body_type</td>\n",
       "      <td>Year</td>\n",
       "      <td>Fuel_economy_combined</td>\n",
       "      <td>Days_on_market</td>\n",
       "      <td>Rating</td>\n",
       "      <td>Distance</td>\n",
       "      <td>Color</td>\n",
       "      <td>Drivetrain</td>\n",
       "      <td>Engine</td>\n",
       "      <td>Make</td>\n",
       "      <td>Mileage</td>\n",
       "      <td>Model</td>\n",
       "      <td>Transmission</td>\n",
       "      <td>Additional_features</td>\n",
       "      <td>Previous_owners</td>\n",
       "      <td>Price_drops</td>\n",
       "      <td>Photos</td>\n",
       "      <td>Seats</td>\n",
       "      <td>Seller_type</td>\n",
       "      <td>Trim</td>\n",
       "      <td>Price</td>\n",
       "    </tr>\n",
       "    <tr>\n",
       "      <th>14743</th>\n",
       "      <td>Id</td>\n",
       "      <td>Accidents</td>\n",
       "      <td>Body_type</td>\n",
       "      <td>Year</td>\n",
       "      <td>Fuel_economy_combined</td>\n",
       "      <td>Days_on_market</td>\n",
       "      <td>Rating</td>\n",
       "      <td>Distance</td>\n",
       "      <td>Color</td>\n",
       "      <td>Drivetrain</td>\n",
       "      <td>Engine</td>\n",
       "      <td>Make</td>\n",
       "      <td>Mileage</td>\n",
       "      <td>Model</td>\n",
       "      <td>Transmission</td>\n",
       "      <td>Additional_features</td>\n",
       "      <td>Previous_owners</td>\n",
       "      <td>Price_drops</td>\n",
       "      <td>Photos</td>\n",
       "      <td>Seats</td>\n",
       "      <td>Seller_type</td>\n",
       "      <td>Trim</td>\n",
       "      <td>Price</td>\n",
       "    </tr>\n",
       "    <tr>\n",
       "      <th>15644</th>\n",
       "      <td>Id</td>\n",
       "      <td>Accidents</td>\n",
       "      <td>Body_type</td>\n",
       "      <td>Year</td>\n",
       "      <td>Fuel_economy_combined</td>\n",
       "      <td>Days_on_market</td>\n",
       "      <td>Rating</td>\n",
       "      <td>Distance</td>\n",
       "      <td>Color</td>\n",
       "      <td>Drivetrain</td>\n",
       "      <td>Engine</td>\n",
       "      <td>Make</td>\n",
       "      <td>Mileage</td>\n",
       "      <td>Model</td>\n",
       "      <td>Transmission</td>\n",
       "      <td>Additional_features</td>\n",
       "      <td>Previous_owners</td>\n",
       "      <td>Price_drops</td>\n",
       "      <td>Photos</td>\n",
       "      <td>Seats</td>\n",
       "      <td>Seller_type</td>\n",
       "      <td>Trim</td>\n",
       "      <td>Price</td>\n",
       "    </tr>\n",
       "    <tr>\n",
       "      <th>16381</th>\n",
       "      <td>Id</td>\n",
       "      <td>Accidents</td>\n",
       "      <td>Body_type</td>\n",
       "      <td>Year</td>\n",
       "      <td>Fuel_economy_combined</td>\n",
       "      <td>Days_on_market</td>\n",
       "      <td>Rating</td>\n",
       "      <td>Distance</td>\n",
       "      <td>Color</td>\n",
       "      <td>Drivetrain</td>\n",
       "      <td>Engine</td>\n",
       "      <td>Make</td>\n",
       "      <td>Mileage</td>\n",
       "      <td>Model</td>\n",
       "      <td>Transmission</td>\n",
       "      <td>Additional_features</td>\n",
       "      <td>Previous_owners</td>\n",
       "      <td>Price_drops</td>\n",
       "      <td>Photos</td>\n",
       "      <td>Seats</td>\n",
       "      <td>Seller_type</td>\n",
       "      <td>Trim</td>\n",
       "      <td>Price</td>\n",
       "    </tr>\n",
       "    <tr>\n",
       "      <th>17282</th>\n",
       "      <td>Id</td>\n",
       "      <td>Accidents</td>\n",
       "      <td>Body_type</td>\n",
       "      <td>Year</td>\n",
       "      <td>Fuel_economy_combined</td>\n",
       "      <td>Days_on_market</td>\n",
       "      <td>Rating</td>\n",
       "      <td>Distance</td>\n",
       "      <td>Color</td>\n",
       "      <td>Drivetrain</td>\n",
       "      <td>Engine</td>\n",
       "      <td>Make</td>\n",
       "      <td>Mileage</td>\n",
       "      <td>Model</td>\n",
       "      <td>Transmission</td>\n",
       "      <td>Additional_features</td>\n",
       "      <td>Previous_owners</td>\n",
       "      <td>Price_drops</td>\n",
       "      <td>Photos</td>\n",
       "      <td>Seats</td>\n",
       "      <td>Seller_type</td>\n",
       "      <td>Trim</td>\n",
       "      <td>Price</td>\n",
       "    </tr>\n",
       "    <tr>\n",
       "      <th>18183</th>\n",
       "      <td>Id</td>\n",
       "      <td>Accidents</td>\n",
       "      <td>Body_type</td>\n",
       "      <td>Year</td>\n",
       "      <td>Fuel_economy_combined</td>\n",
       "      <td>Days_on_market</td>\n",
       "      <td>Rating</td>\n",
       "      <td>Distance</td>\n",
       "      <td>Color</td>\n",
       "      <td>Drivetrain</td>\n",
       "      <td>Engine</td>\n",
       "      <td>Make</td>\n",
       "      <td>Mileage</td>\n",
       "      <td>Model</td>\n",
       "      <td>Transmission</td>\n",
       "      <td>Additional_features</td>\n",
       "      <td>Previous_owners</td>\n",
       "      <td>Price_drops</td>\n",
       "      <td>Photos</td>\n",
       "      <td>Seats</td>\n",
       "      <td>Seller_type</td>\n",
       "      <td>Trim</td>\n",
       "      <td>Price</td>\n",
       "    </tr>\n",
       "  </tbody>\n",
       "</table>\n",
       "</div>"
      ],
      "text/plain": [
       "       Id  Accidents  Body_type  Year  Fuel_economy_combined  Days_on_market  \\\n",
       "900    Id  Accidents  Body_type  Year  Fuel_economy_combined  Days_on_market   \n",
       "1801   Id  Accidents  Body_type  Year  Fuel_economy_combined  Days_on_market   \n",
       "2702   Id  Accidents  Body_type  Year  Fuel_economy_combined  Days_on_market   \n",
       "3603   Id  Accidents  Body_type  Year  Fuel_economy_combined  Days_on_market   \n",
       "4504   Id  Accidents  Body_type  Year  Fuel_economy_combined  Days_on_market   \n",
       "4987   Id  Accidents  Body_type  Year  Fuel_economy_combined  Days_on_market   \n",
       "5132   Id  Accidents  Body_type  Year  Fuel_economy_combined  Days_on_market   \n",
       "6033   Id  Accidents  Body_type  Year  Fuel_economy_combined  Days_on_market   \n",
       "6934   Id  Accidents  Body_type  Year  Fuel_economy_combined  Days_on_market   \n",
       "7835   Id  Accidents  Body_type  Year  Fuel_economy_combined  Days_on_market   \n",
       "8736   Id  Accidents  Body_type  Year  Fuel_economy_combined  Days_on_market   \n",
       "9637   Id  Accidents  Body_type  Year  Fuel_economy_combined  Days_on_market   \n",
       "10538  Id  Accidents  Body_type  Year  Fuel_economy_combined  Days_on_market   \n",
       "11439  Id  Accidents  Body_type  Year  Fuel_economy_combined  Days_on_market   \n",
       "12340  Id  Accidents  Body_type  Year  Fuel_economy_combined  Days_on_market   \n",
       "13241  Id  Accidents  Body_type  Year  Fuel_economy_combined  Days_on_market   \n",
       "13842  Id  Accidents  Body_type  Year  Fuel_economy_combined  Days_on_market   \n",
       "14743  Id  Accidents  Body_type  Year  Fuel_economy_combined  Days_on_market   \n",
       "15644  Id  Accidents  Body_type  Year  Fuel_economy_combined  Days_on_market   \n",
       "16381  Id  Accidents  Body_type  Year  Fuel_economy_combined  Days_on_market   \n",
       "17282  Id  Accidents  Body_type  Year  Fuel_economy_combined  Days_on_market   \n",
       "18183  Id  Accidents  Body_type  Year  Fuel_economy_combined  Days_on_market   \n",
       "\n",
       "       Rating  Distance  Color  Drivetrain  Engine  Make  Mileage  Model  \\\n",
       "900    Rating  Distance  Color  Drivetrain  Engine  Make  Mileage  Model   \n",
       "1801   Rating  Distance  Color  Drivetrain  Engine  Make  Mileage  Model   \n",
       "2702   Rating  Distance  Color  Drivetrain  Engine  Make  Mileage  Model   \n",
       "3603   Rating  Distance  Color  Drivetrain  Engine  Make  Mileage  Model   \n",
       "4504   Rating  Distance  Color  Drivetrain  Engine  Make  Mileage  Model   \n",
       "4987   Rating  Distance  Color  Drivetrain  Engine  Make  Mileage  Model   \n",
       "5132   Rating  Distance  Color  Drivetrain  Engine  Make  Mileage  Model   \n",
       "6033   Rating  Distance  Color  Drivetrain  Engine  Make  Mileage  Model   \n",
       "6934   Rating  Distance  Color  Drivetrain  Engine  Make  Mileage  Model   \n",
       "7835   Rating  Distance  Color  Drivetrain  Engine  Make  Mileage  Model   \n",
       "8736   Rating  Distance  Color  Drivetrain  Engine  Make  Mileage  Model   \n",
       "9637   Rating  Distance  Color  Drivetrain  Engine  Make  Mileage  Model   \n",
       "10538  Rating  Distance  Color  Drivetrain  Engine  Make  Mileage  Model   \n",
       "11439  Rating  Distance  Color  Drivetrain  Engine  Make  Mileage  Model   \n",
       "12340  Rating  Distance  Color  Drivetrain  Engine  Make  Mileage  Model   \n",
       "13241  Rating  Distance  Color  Drivetrain  Engine  Make  Mileage  Model   \n",
       "13842  Rating  Distance  Color  Drivetrain  Engine  Make  Mileage  Model   \n",
       "14743  Rating  Distance  Color  Drivetrain  Engine  Make  Mileage  Model   \n",
       "15644  Rating  Distance  Color  Drivetrain  Engine  Make  Mileage  Model   \n",
       "16381  Rating  Distance  Color  Drivetrain  Engine  Make  Mileage  Model   \n",
       "17282  Rating  Distance  Color  Drivetrain  Engine  Make  Mileage  Model   \n",
       "18183  Rating  Distance  Color  Drivetrain  Engine  Make  Mileage  Model   \n",
       "\n",
       "       Transmission  Additional_features  Previous_owners  Price_drops  \\\n",
       "900    Transmission  Additional_features  Previous_owners  Price_drops   \n",
       "1801   Transmission  Additional_features  Previous_owners  Price_drops   \n",
       "2702   Transmission  Additional_features  Previous_owners  Price_drops   \n",
       "3603   Transmission  Additional_features  Previous_owners  Price_drops   \n",
       "4504   Transmission  Additional_features  Previous_owners  Price_drops   \n",
       "4987   Transmission  Additional_features  Previous_owners  Price_drops   \n",
       "5132   Transmission  Additional_features  Previous_owners  Price_drops   \n",
       "6033   Transmission  Additional_features  Previous_owners  Price_drops   \n",
       "6934   Transmission  Additional_features  Previous_owners  Price_drops   \n",
       "7835   Transmission  Additional_features  Previous_owners  Price_drops   \n",
       "8736   Transmission  Additional_features  Previous_owners  Price_drops   \n",
       "9637   Transmission  Additional_features  Previous_owners  Price_drops   \n",
       "10538  Transmission  Additional_features  Previous_owners  Price_drops   \n",
       "11439  Transmission  Additional_features  Previous_owners  Price_drops   \n",
       "12340  Transmission  Additional_features  Previous_owners  Price_drops   \n",
       "13241  Transmission  Additional_features  Previous_owners  Price_drops   \n",
       "13842  Transmission  Additional_features  Previous_owners  Price_drops   \n",
       "14743  Transmission  Additional_features  Previous_owners  Price_drops   \n",
       "15644  Transmission  Additional_features  Previous_owners  Price_drops   \n",
       "16381  Transmission  Additional_features  Previous_owners  Price_drops   \n",
       "17282  Transmission  Additional_features  Previous_owners  Price_drops   \n",
       "18183  Transmission  Additional_features  Previous_owners  Price_drops   \n",
       "\n",
       "       Photos  Seats  Seller_type  Trim  Price  \n",
       "900    Photos  Seats  Seller_type  Trim  Price  \n",
       "1801   Photos  Seats  Seller_type  Trim  Price  \n",
       "2702   Photos  Seats  Seller_type  Trim  Price  \n",
       "3603   Photos  Seats  Seller_type  Trim  Price  \n",
       "4504   Photos  Seats  Seller_type  Trim  Price  \n",
       "4987   Photos  Seats  Seller_type  Trim  Price  \n",
       "5132   Photos  Seats  Seller_type  Trim  Price  \n",
       "6033   Photos  Seats  Seller_type  Trim  Price  \n",
       "6934   Photos  Seats  Seller_type  Trim  Price  \n",
       "7835   Photos  Seats  Seller_type  Trim  Price  \n",
       "8736   Photos  Seats  Seller_type  Trim  Price  \n",
       "9637   Photos  Seats  Seller_type  Trim  Price  \n",
       "10538  Photos  Seats  Seller_type  Trim  Price  \n",
       "11439  Photos  Seats  Seller_type  Trim  Price  \n",
       "12340  Photos  Seats  Seller_type  Trim  Price  \n",
       "13241  Photos  Seats  Seller_type  Trim  Price  \n",
       "13842  Photos  Seats  Seller_type  Trim  Price  \n",
       "14743  Photos  Seats  Seller_type  Trim  Price  \n",
       "15644  Photos  Seats  Seller_type  Trim  Price  \n",
       "16381  Photos  Seats  Seller_type  Trim  Price  \n",
       "17282  Photos  Seats  Seller_type  Trim  Price  \n",
       "18183  Photos  Seats  Seller_type  Trim  Price  "
      ]
     },
     "execution_count": 13,
     "metadata": {},
     "output_type": "execute_result"
    }
   ],
   "source": [
    "df.loc[df[\"Id\"] == \"Id\"]"
   ]
  },
  {
   "cell_type": "code",
   "execution_count": 14,
   "metadata": {},
   "outputs": [],
   "source": [
    "df.drop(index = df[df[\"Id\"] == \"Id\"].index,inplace=True)"
   ]
  },
  {
   "cell_type": "code",
   "execution_count": 15,
   "metadata": {},
   "outputs": [],
   "source": [
    "df.drop_duplicates(inplace=True)"
   ]
  },
  {
   "cell_type": "code",
   "execution_count": 16,
   "metadata": {},
   "outputs": [
    {
     "data": {
      "text/plain": [
       "Id                       object\n",
       "Accidents                object\n",
       "Body_type                object\n",
       "Year                     object\n",
       "Fuel_economy_combined    object\n",
       "Days_on_market           object\n",
       "Rating                   object\n",
       "Distance                 object\n",
       "Color                    object\n",
       "Drivetrain               object\n",
       "Engine                   object\n",
       "Make                     object\n",
       "Mileage                  object\n",
       "Model                    object\n",
       "Transmission             object\n",
       "Additional_features      object\n",
       "Previous_owners          object\n",
       "Price_drops              object\n",
       "Photos                   object\n",
       "Seats                    object\n",
       "Seller_type              object\n",
       "Trim                     object\n",
       "Price                    object\n",
       "dtype: object"
      ]
     },
     "execution_count": 16,
     "metadata": {},
     "output_type": "execute_result"
    }
   ],
   "source": [
    "df.dtypes"
   ]
  },
  {
   "cell_type": "markdown",
   "metadata": {},
   "source": [
    "### Some of them are numerical columns while some are categorical ones. We need to change the types before we could do any feature engineering. Pandas doesn't let us change the dtype to int when there are null values in the column. Let's change all the numerical columns to float type"
   ]
  },
  {
   "cell_type": "markdown",
   "metadata": {},
   "source": [
    "Numerical feature Fuel_economy_combined has MPG at the end. Let's get rid of the MPG from the column"
   ]
  },
  {
   "cell_type": "code",
   "execution_count": 17,
   "metadata": {},
   "outputs": [],
   "source": [
    "df[\"Fuel_economy_combined\"]=df[\"Fuel_economy_combined\"].str.replace(\"MPG\",\"\")"
   ]
  },
  {
   "cell_type": "code",
   "execution_count": 18,
   "metadata": {},
   "outputs": [],
   "source": [
    "columns_to_float = [\"Fuel_economy_combined\",\"Accidents\",\"Year\",\"Days_on_market\",\"Distance\",\"Mileage\",\n",
    "                    \"Additional_features\",\"Previous_owners\",\"Seats\",\"Price\"]"
   ]
  },
  {
   "cell_type": "code",
   "execution_count": 19,
   "metadata": {},
   "outputs": [],
   "source": [
    "df[columns_to_float] = df[columns_to_float].astype(np.float)\n",
    "# Use this instead"
   ]
  },
  {
   "cell_type": "code",
   "execution_count": null,
   "metadata": {},
   "outputs": [],
   "source": [
    "#df[\"Fuel_economy_combined\"] = df[\"Fuel_economy_combined\"].astype(np.float)\n",
    "#df[\"Accidents\"] = df[\"Accidents\"].astype(np.float)\n",
    "#df[\"Year\"] = df[\"Year\"].astype(np.float)\n",
    "#df[\"Days_on_market\"] = df[\"Days_on_market\"].astype(np.float)\n",
    "#df[\"Distance\"] = df[\"Distance\"].astype(np.float)\n",
    "#df[\"Mileage\"] = df[\"Mileage\"].astype(np.float)\n",
    "#df[\"Additional_features\"] = df[\"Additional_features\"].astype(np.float)\n",
    "#df[\"Previous_owners\"] = df[\"Previous_owners\"].astype(np.float)\n",
    "#df[\"Seats\"] = df[\"Seats\"].astype(np.float)\n",
    "#df[\"Price\"] = df[\"Price\"].astype(np.float)"
   ]
  },
  {
   "cell_type": "markdown",
   "metadata": {},
   "source": []
  },
  {
   "cell_type": "code",
   "execution_count": 20,
   "metadata": {},
   "outputs": [
    {
     "data": {
      "text/plain": [
       "Id                        object\n",
       "Accidents                float64\n",
       "Body_type                 object\n",
       "Year                     float64\n",
       "Fuel_economy_combined    float64\n",
       "Days_on_market           float64\n",
       "Rating                    object\n",
       "Distance                 float64\n",
       "Color                     object\n",
       "Drivetrain                object\n",
       "Engine                    object\n",
       "Make                      object\n",
       "Mileage                  float64\n",
       "Model                     object\n",
       "Transmission              object\n",
       "Additional_features      float64\n",
       "Previous_owners          float64\n",
       "Price_drops               object\n",
       "Photos                    object\n",
       "Seats                    float64\n",
       "Seller_type               object\n",
       "Trim                      object\n",
       "Price                    float64\n",
       "dtype: object"
      ]
     },
     "execution_count": 20,
     "metadata": {},
     "output_type": "execute_result"
    }
   ],
   "source": [
    "df.dtypes"
   ]
  },
  {
   "cell_type": "code",
   "execution_count": null,
   "metadata": {},
   "outputs": [],
   "source": []
  },
  {
   "cell_type": "code",
   "execution_count": 21,
   "metadata": {},
   "outputs": [
    {
     "data": {
      "text/plain": [
       "<matplotlib.axes._subplots.AxesSubplot at 0x106aae8d0>"
      ]
     },
     "execution_count": 21,
     "metadata": {},
     "output_type": "execute_result"
    },
    {
     "data": {
      "image/png": "[encoded data removed]",
      "text/plain": [
       "<Figure size 1080x576 with 1 Axes>"
      ]
     },
     "metadata": {},
     "output_type": "display_data"
    }
   ],
   "source": [
    "# Let's look at the missing values\n",
    "plt.figure(figsize=(15,8))\n",
    "sns.heatmap(df.isnull(),cbar=False,cmap='viridis')"
   ]
  },
  {
   "cell_type": "code",
   "execution_count": 24,
   "metadata": {},
   "outputs": [],
   "source": [
    "df.drop(\"Price_drops\",axis=1,inplace=True) "
   ]
  },
  {
   "cell_type": "markdown",
   "metadata": {},
   "source": [
    "### Let's look at each of the columns and see how we can impute the missing values"
   ]
  },
  {
   "cell_type": "code",
   "execution_count": 25,
   "metadata": {},
   "outputs": [],
   "source": [
    "missing = df.isnull().sum().sort_values(ascending=False)"
   ]
  },
  {
   "cell_type": "code",
   "execution_count": null,
   "metadata": {},
   "outputs": [],
   "source": []
  },
  {
   "cell_type": "code",
   "execution_count": 26,
   "metadata": {},
   "outputs": [
    {
     "data": {
      "text/plain": [
       "Fuel_economy_combined    10.887228\n",
       "Photos                    7.057740\n",
       "Drivetrain                5.644026\n",
       "Rating                    2.637851\n",
       "Price                     1.614126\n",
       "Previous_owners           1.603293\n",
       "Seats                     1.359549\n",
       "Engine                    1.267468\n",
       "Transmission              1.083306\n",
       "Trim                      1.029141\n",
       "Accidents                 0.411656\n",
       "Mileage                   0.259994\n",
       "Body_type                 0.075831\n",
       "Model                     0.000000\n",
       "Make                      0.000000\n",
       "Color                     0.000000\n",
       "Distance                  0.000000\n",
       "Additional_features       0.000000\n",
       "Days_on_market            0.000000\n",
       "Seller_type               0.000000\n",
       "Year                      0.000000\n",
       "Id                        0.000000\n",
       "dtype: float64"
      ]
     },
     "execution_count": 26,
     "metadata": {},
     "output_type": "execute_result"
    }
   ],
   "source": [
    "missing/len(df)*100   # In terms of percentage"
   ]
  },
  {
   "cell_type": "markdown",
   "metadata": {},
   "source": [
    "### 1. Fuel economy"
   ]
  },
  {
   "cell_type": "code",
   "execution_count": 27,
   "metadata": {},
   "outputs": [
    {
     "data": {
      "text/plain": [
       "<matplotlib.axes._subplots.AxesSubplot at 0x11d47ec50>"
      ]
     },
     "execution_count": 27,
     "metadata": {},
     "output_type": "execute_result"
    },
    {
     "data": {
      "image/png": "[encoded data removed]",
      "text/plain": [
       "<Figure size 432x288 with 1 Axes>"
      ]
     },
     "metadata": {},
     "output_type": "display_data"
    }
   ],
   "source": [
    "#Fuel economy\n",
    "sns.distplot(df[\"Fuel_economy_combined\"],fit = norm)"
   ]
  },
  {
   "cell_type": "code",
   "execution_count": 28,
   "metadata": {},
   "outputs": [
    {
     "data": {
      "text/plain": [
       "27.238208120593242"
      ]
     },
     "execution_count": 28,
     "metadata": {},
     "output_type": "execute_result"
    }
   ],
   "source": [
    "# Looks more or less normally distributed. We can impute the missing values with the mean\n",
    "df[\"Fuel_economy_combined\"].mean()"
   ]
  },
  {
   "cell_type": "code",
   "execution_count": 29,
   "metadata": {},
   "outputs": [],
   "source": [
    "df['Fuel_economy_combined'].fillna(df[\"Fuel_economy_combined\"].mean(),inplace = True)"
   ]
  },
  {
   "cell_type": "markdown",
   "metadata": {},
   "source": [
    "### 2. Photos"
   ]
  },
  {
   "cell_type": "code",
   "execution_count": 30,
   "metadata": {},
   "outputs": [],
   "source": [
    "df[\"Photos\"].fillna(0,inplace = True)"
   ]
  },
  {
   "cell_type": "code",
   "execution_count": 31,
   "metadata": {},
   "outputs": [],
   "source": [
    "df[\"Photos\"].replace(\"True\",1,inplace=True)"
   ]
  },
  {
   "cell_type": "markdown",
   "metadata": {},
   "source": [
    "### 3. Drivetrain"
   ]
  },
  {
   "cell_type": "code",
   "execution_count": 32,
   "metadata": {},
   "outputs": [
    {
     "data": {
      "text/plain": [
       "FRONT_WHEEL_DRIVE    8837\n",
       "ALL_WHEEL_DRIVE      7077\n",
       "FOUR_WHEEL_DRIVE     1465\n",
       "REAR_WHEEL_DRIVE       24\n",
       "FOUR_BY_TWO            17\n",
       "Name: Drivetrain, dtype: int64"
      ]
     },
     "execution_count": 32,
     "metadata": {},
     "output_type": "execute_result"
    }
   ],
   "source": [
    "df[\"Drivetrain\"].value_counts()"
   ]
  },
  {
   "cell_type": "markdown",
   "metadata": {},
   "source": [
    "Four wheel drive is same as all wheel drive. Also, Four by Two is similar to FWD or RWD and switches in between."
   ]
  },
  {
   "cell_type": "code",
   "execution_count": 33,
   "metadata": {},
   "outputs": [],
   "source": [
    "df[\"Drivetrain\"].replace(\"FOUR_WHEEL_DRIVE\",\"ALL_WHEEL_DRIVE\",inplace = True)\n",
    "df[\"Drivetrain\"].replace(\"FOUR_BY_TWO\",\"FRONT_WHEEL_DRIVE\",inplace = True)"
   ]
  },
  {
   "cell_type": "code",
   "execution_count": 34,
   "metadata": {},
   "outputs": [
    {
     "data": {
      "text/plain": [
       "<matplotlib.axes._subplots.AxesSubplot at 0x11c7cb8d0>"
      ]
     },
     "execution_count": 34,
     "metadata": {},
     "output_type": "execute_result"
    },
    {
     "data": {
      "image/png": "[encoded data removed]",
      "text/plain": [
       "<Figure size 432x288 with 1 Axes>"
      ]
     },
     "metadata": {},
     "output_type": "display_data"
    }
   ],
   "source": [
    "sns.boxplot(x = \"Drivetrain\",y =\"Price\",data =df)"
   ]
  },
  {
   "cell_type": "code",
   "execution_count": null,
   "metadata": {},
   "outputs": [],
   "source": []
  },
  {
   "cell_type": "code",
   "execution_count": 35,
   "metadata": {},
   "outputs": [],
   "source": [
    "#ok, that's why\n",
    "df[\"Drivetrain\"].replace(\"REAR_WHEEL_DRIVE\",\"FRONT_WHEEL_DRIVE\",inplace = True)"
   ]
  },
  {
   "cell_type": "code",
   "execution_count": 36,
   "metadata": {},
   "outputs": [
    {
     "data": {
      "text/plain": [
       "FRONT_WHEEL_DRIVE    8878\n",
       "ALL_WHEEL_DRIVE      8542\n",
       "Name: Drivetrain, dtype: int64"
      ]
     },
     "execution_count": 36,
     "metadata": {},
     "output_type": "execute_result"
    }
   ],
   "source": [
    "df[\"Drivetrain\"].value_counts()"
   ]
  },
  {
   "cell_type": "code",
   "execution_count": 37,
   "metadata": {},
   "outputs": [
    {
     "data": {
      "text/plain": [
       "1042"
      ]
     },
     "execution_count": 37,
     "metadata": {},
     "output_type": "execute_result"
    }
   ],
   "source": [
    "df[\"Drivetrain\"].isnull().sum() #check for missing values"
   ]
  },
  {
   "cell_type": "code",
   "execution_count": 38,
   "metadata": {},
   "outputs": [
    {
     "data": {
      "text/plain": [
       "Body_type        Drivetrain       \n",
       "SUV / Crossover  ALL_WHEEL_DRIVE      7498\n",
       "                 FRONT_WHEEL_DRIVE    1668\n",
       "Sedan            FRONT_WHEEL_DRIVE    7210\n",
       "                 ALL_WHEEL_DRIVE      1044\n",
       "Name: Drivetrain, dtype: int64"
      ]
     },
     "execution_count": 38,
     "metadata": {},
     "output_type": "execute_result"
    }
   ],
   "source": [
    "df.groupby(\"Body_type\")[\"Drivetrain\"].value_counts() # See how does the drivetrain stack up against the bodytype"
   ]
  },
  {
   "cell_type": "markdown",
   "metadata": {},
   "source": [
    "Looks like more SUVs have AWD while sedans predominantly have FWD.\n",
    "So, let's impute the missing value with AWD when the bodytype is suv and FWD when sedan."
   ]
  },
  {
   "cell_type": "code",
   "execution_count": 39,
   "metadata": {},
   "outputs": [],
   "source": [
    "# No need to create a new one! Make changes in the original column\n",
    "#df[\"Drivetrain_imputed\"] = df[\"Drivetrain\"].copy()"
   ]
  },
  {
   "cell_type": "code",
   "execution_count": 40,
   "metadata": {},
   "outputs": [
    {
     "data": {
      "text/plain": [
       "1042"
      ]
     },
     "execution_count": 40,
     "metadata": {},
     "output_type": "execute_result"
    }
   ],
   "source": [
    "pd.isnull(df[\"Drivetrain\"]).sum()"
   ]
  },
  {
   "cell_type": "code",
   "execution_count": 41,
   "metadata": {},
   "outputs": [],
   "source": [
    "# Function to impute missing values in the drivetrain column based on the kind of bodytype\n",
    "def impute_drive_train(columns):\n",
    "    body_type = columns[0]\n",
    "    drive_train = columns[1]\n",
    "    if pd.isnull(drive_train):\n",
    "        if body_type == \"SUV / Crossover\":\n",
    "            return \"ALL_WHEEL_DRIVE\"\n",
    "        else:\n",
    "            return \"FRONT_WHEEL_DRIVE\"\n",
    "    else:\n",
    "        return drive_train    "
   ]
  },
  {
   "cell_type": "code",
   "execution_count": 42,
   "metadata": {},
   "outputs": [],
   "source": [
    "df[\"Drivetrain\"] = df[[\"Body_type\",\"Drivetrain\"]].apply(impute_drive_train,axis=1)"
   ]
  },
  {
   "cell_type": "code",
   "execution_count": 43,
   "metadata": {},
   "outputs": [
    {
     "data": {
      "text/plain": [
       "FRONT_WHEEL_DRIVE    9359\n",
       "ALL_WHEEL_DRIVE      9103\n",
       "Name: Drivetrain, dtype: int64"
      ]
     },
     "execution_count": 43,
     "metadata": {},
     "output_type": "execute_result"
    }
   ],
   "source": [
    "df[\"Drivetrain\"].value_counts()  # No need for this line"
   ]
  },
  {
   "cell_type": "markdown",
   "metadata": {},
   "source": [
    "### 4. Rating"
   ]
  },
  {
   "cell_type": "code",
   "execution_count": 44,
   "metadata": {},
   "outputs": [
    {
     "data": {
      "text/plain": [
       "FAIR_PRICE     9598\n",
       "GOOD_PRICE     6606\n",
       "GREAT_PRICE    1111\n",
       "POOR_PRICE      519\n",
       "OVERPRICED      114\n",
       "OUTLIER          27\n",
       "Name: Rating, dtype: int64"
      ]
     },
     "execution_count": 44,
     "metadata": {},
     "output_type": "execute_result"
    }
   ],
   "source": [
    "# Rating\n",
    "df[\"Rating\"].value_counts()"
   ]
  },
  {
   "cell_type": "code",
   "execution_count": 45,
   "metadata": {},
   "outputs": [
    {
     "data": {
      "text/plain": [
       "<matplotlib.axes._subplots.AxesSubplot at 0x109ef9b50>"
      ]
     },
     "execution_count": 45,
     "metadata": {},
     "output_type": "execute_result"
    },
    {
     "data": {
      "image/png": "[encoded data removed]",
      "text/plain": [
       "<Figure size 576x432 with 1 Axes>"
      ]
     },
     "metadata": {},
     "output_type": "display_data"
    }
   ],
   "source": [
    "plt.figure(figsize=(8,6))\n",
    "sns.boxplot(x = \"Rating\",y = \"Price\",data =df)"
   ]
  },
  {
   "cell_type": "code",
   "execution_count": 46,
   "metadata": {},
   "outputs": [],
   "source": [
    "df[\"Rating\"].replace(dict.fromkeys([\"FAIR_PRICE\",\"GOOD_PRICE\",\"GREAT_PRICE\"],\"Great_Price\"),inplace = True)\n",
    "df[\"Rating\"].replace(dict.fromkeys([\"POOR_PRICE\",\"OVERPRICED\",\"OUTLIER\"],\"Poor_Price\"),inplace = True)"
   ]
  },
  {
   "cell_type": "code",
   "execution_count": 47,
   "metadata": {},
   "outputs": [],
   "source": [
    "df[\"Rating\"].fillna(\"Great_Price\",inplace=True)"
   ]
  },
  {
   "cell_type": "markdown",
   "metadata": {},
   "source": [
    "### 5. Previous owners"
   ]
  },
  {
   "cell_type": "code",
   "execution_count": null,
   "metadata": {},
   "outputs": [],
   "source": []
  },
  {
   "cell_type": "code",
   "execution_count": 48,
   "metadata": {},
   "outputs": [
    {
     "data": {
      "text/plain": [
       "<matplotlib.axes._subplots.AxesSubplot at 0x11d112590>"
      ]
     },
     "execution_count": 48,
     "metadata": {},
     "output_type": "execute_result"
    },
    {
     "data": {
      "image/png": "[encoded data removed]",
      "text/plain": [
       "<Figure size 432x288 with 1 Axes>"
      ]
     },
     "metadata": {},
     "output_type": "display_data"
    }
   ],
   "source": [
    "sns.distplot(df[\"Previous_owners\"])"
   ]
  },
  {
   "cell_type": "code",
   "execution_count": 49,
   "metadata": {},
   "outputs": [
    {
     "data": {
      "text/plain": [
       "1.0    11522\n",
       "2.0     4671\n",
       "3.0     1485\n",
       "4.0      371\n",
       "5.0       86\n",
       "6.0       24\n",
       "7.0        6\n",
       "8.0        1\n",
       "Name: Previous_owners, dtype: int64"
      ]
     },
     "execution_count": 49,
     "metadata": {},
     "output_type": "execute_result"
    }
   ],
   "source": [
    "df[\"Previous_owners\"].value_counts()"
   ]
  },
  {
   "cell_type": "code",
   "execution_count": 50,
   "metadata": {},
   "outputs": [],
   "source": [
    "df[\"Previous_owners\"].fillna(1.0,inplace=True)"
   ]
  },
  {
   "cell_type": "markdown",
   "metadata": {},
   "source": [
    "## The rest of the columns have less than 1.5% of missing values. Let's drop the rows with the missing values."
   ]
  },
  {
   "cell_type": "code",
   "execution_count": 51,
   "metadata": {},
   "outputs": [],
   "source": [
    "df.dropna(inplace=True)"
   ]
  },
  {
   "cell_type": "code",
   "execution_count": 52,
   "metadata": {},
   "outputs": [
    {
     "data": {
      "text/plain": [
       "<matplotlib.axes._subplots.AxesSubplot at 0x11c5061d0>"
      ]
     },
     "execution_count": 52,
     "metadata": {},
     "output_type": "execute_result"
    },
    {
     "data": {
      "image/png": "[encoded data removed]",
      "text/plain": [
       "<Figure size 720x576 with 1 Axes>"
      ]
     },
     "metadata": {},
     "output_type": "display_data"
    }
   ],
   "source": [
    "plt.figure(figsize=(10,8))\n",
    "sns.heatmap(df.isnull(),cbar=False,cmap='viridis') # Checking one more time for any missing value."
   ]
  },
  {
   "cell_type": "code",
   "execution_count": null,
   "metadata": {},
   "outputs": [],
   "source": []
  },
  {
   "cell_type": "code",
   "execution_count": null,
   "metadata": {},
   "outputs": [],
   "source": []
  },
  {
   "cell_type": "code",
   "execution_count": null,
   "metadata": {},
   "outputs": [],
   "source": []
  },
  {
   "cell_type": "markdown",
   "metadata": {},
   "source": [
    "## Categorical features"
   ]
  },
  {
   "cell_type": "code",
   "execution_count": 53,
   "metadata": {},
   "outputs": [
    {
     "data": {
      "text/plain": [
       "I4    12493\n",
       "V6     2952\n",
       "H4     1635\n",
       "V8      218\n",
       "I5       75\n",
       "I3       61\n",
       "H6       40\n",
       "I6        6\n",
       "Name: Engine, dtype: int64"
      ]
     },
     "execution_count": 53,
     "metadata": {},
     "output_type": "execute_result"
    }
   ],
   "source": [
    "# Engine\n",
    "df[\"Engine\"].value_counts()"
   ]
  },
  {
   "cell_type": "code",
   "execution_count": 54,
   "metadata": {},
   "outputs": [],
   "source": [
    "df[\"Engine\"].replace(dict.fromkeys([\"I3\",\"I5\",\"I4\"],\"I4\"),inplace = True)\n",
    "df[\"Engine\"].replace(dict.fromkeys([\"V6\",\"V8\",\"I6\"],\"V6\"),inplace = True)\n",
    "df[\"Engine\"].replace(dict.fromkeys([\"H4\",\"H6\"],\"H4\"),inplace = True)"
   ]
  },
  {
   "cell_type": "code",
   "execution_count": 55,
   "metadata": {},
   "outputs": [
    {
     "data": {
      "text/plain": [
       "6-Speed Automatic                     5111\n",
       "Automatic                             5019\n",
       "Continuously Variable Transmission    4039\n",
       "6-Speed Automatic Overdrive            650\n",
       "5-Speed Automatic                      608\n",
       "8-Speed Automatic                      421\n",
       "4-Speed Automatic                      336\n",
       "9-Speed Automatic                      273\n",
       "6-Speed Manual                         199\n",
       "6-Speed Dual Clutch                    173\n",
       "5-Speed Automatic Overdrive            167\n",
       "5-Speed Manual                         121\n",
       "Manual                                 102\n",
       "7-Speed Automatic                       92\n",
       "4-Speed Automatic Overdrive             43\n",
       "7-Speed CVT                             37\n",
       "6-Speed CVT                             18\n",
       "6-Speed Manual Overdrive                15\n",
       "9-Speed Automatic Overdrive             14\n",
       "8-Speed CVT                              9\n",
       "8-Speed Automatic Overdrive              7\n",
       "5-Speed Manual Overdrive                 6\n",
       "1-Speed Automatic                        4\n",
       "7-Speed Dual Clutch                      3\n",
       "7-Speed Automatic Overdrive              3\n",
       "1-Speed CVT                              3\n",
       "2-Speed Automatic                        2\n",
       "4-Speed Manual                           2\n",
       "1-Speed Dual Clutch                      1\n",
       "4-Speed CVT                              1\n",
       "7-Speed Manual                           1\n",
       "Name: Transmission, dtype: int64"
      ]
     },
     "execution_count": 55,
     "metadata": {},
     "output_type": "execute_result"
    }
   ],
   "source": [
    "# Transmission\n",
    "df[\"Transmission\"].value_counts()"
   ]
  },
  {
   "cell_type": "markdown",
   "metadata": {},
   "source": [
    "Lots of different names for the same kind of transmission.\n",
    "The three main categories are:\n",
    "1. Automatic\n",
    "2. Manual\n",
    "3. Continuous Variable Transmission(CVT)"
   ]
  },
  {
   "cell_type": "markdown",
   "metadata": {},
   "source": [
    "Let's create a mask for each of them"
   ]
  },
  {
   "cell_type": "code",
   "execution_count": 56,
   "metadata": {},
   "outputs": [
    {
     "name": "stderr",
     "output_type": "stream",
     "text": [
      "/Users/axr524/anaconda2/envs/scrape_env/lib/python3.7/site-packages/pandas/core/strings.py:1954: UserWarning: This pattern has match groups. To actually get the groups, use str.extract.\n",
      "  return func(self, *args, **kwargs)\n"
     ]
    }
   ],
   "source": [
    "mask_automatic = df[\"Transmission\"].value_counts().index.str.contains(\"Automatic\",case=False,regex=False)\n",
    "mask_manual = df[\"Transmission\"].value_counts().index.str.contains(\"(Manual|Clutch)\",case=False,regex=True)\n",
    "mask_cvt = df[\"Transmission\"].value_counts().index.str.contains(\"(Continuous|CVT)\",case=False,regex=True)"
   ]
  },
  {
   "cell_type": "code",
   "execution_count": 57,
   "metadata": {},
   "outputs": [],
   "source": [
    "auto_list = df[\"Transmission\"].value_counts().index[mask_automatic].tolist()\n",
    "manual_list = df[\"Transmission\"].value_counts().index[mask_manual].tolist()\n",
    "cvt_list = df[\"Transmission\"].value_counts().index[mask_cvt].tolist()"
   ]
  },
  {
   "cell_type": "code",
   "execution_count": null,
   "metadata": {},
   "outputs": [],
   "source": []
  },
  {
   "cell_type": "code",
   "execution_count": 58,
   "metadata": {},
   "outputs": [],
   "source": [
    "df[\"Transmission\"].replace(dict.fromkeys(auto_list,\"Automatic\"),inplace = True)\n",
    "df[\"Transmission\"].replace(dict.fromkeys(manual_list,\"Manual\"),inplace = True)\n",
    "df[\"Transmission\"].replace(dict.fromkeys(cvt_list,\"CVT\"),inplace = True)"
   ]
  },
  {
   "cell_type": "code",
   "execution_count": 59,
   "metadata": {},
   "outputs": [
    {
     "data": {
      "text/plain": [
       "Automatic    12750\n",
       "CVT           4107\n",
       "Manual         623\n",
       "Name: Transmission, dtype: int64"
      ]
     },
     "execution_count": 59,
     "metadata": {},
     "output_type": "execute_result"
    }
   ],
   "source": [
    "df[\"Transmission\"].value_counts()"
   ]
  },
  {
   "cell_type": "code",
   "execution_count": 60,
   "metadata": {},
   "outputs": [
    {
     "data": {
      "image/png": "[encoded data removed]",
      "text/plain": [
       "<Figure size 720x432 with 1 Axes>"
      ]
     },
     "metadata": {},
     "output_type": "display_data"
    }
   ],
   "source": [
    "plt.figure(figsize=(10,6))\n",
    "sns.boxplot(df[\"Transmission\"],df[\"Price\"])\n",
    "plt.xticks(rotation=0)\n",
    "plt.tight_layout()"
   ]
  },
  {
   "cell_type": "markdown",
   "metadata": {},
   "source": [
    "### Seller type"
   ]
  },
  {
   "cell_type": "code",
   "execution_count": 61,
   "metadata": {},
   "outputs": [
    {
     "data": {
      "text/plain": [
       "DEALER     17423\n",
       "PRIVATE       57\n",
       "Name: Seller_type, dtype: int64"
      ]
     },
     "execution_count": 61,
     "metadata": {},
     "output_type": "execute_result"
    }
   ],
   "source": [
    "df[\"Seller_type\"].value_counts()"
   ]
  },
  {
   "cell_type": "code",
   "execution_count": 62,
   "metadata": {},
   "outputs": [
    {
     "data": {
      "text/plain": [
       "<matplotlib.axes._subplots.AxesSubplot at 0x11c805d90>"
      ]
     },
     "execution_count": 62,
     "metadata": {},
     "output_type": "execute_result"
    },
    {
     "data": {
      "image/png": "[encoded data removed]",
      "text/plain": [
       "<Figure size 432x288 with 1 Axes>"
      ]
     },
     "metadata": {},
     "output_type": "display_data"
    }
   ],
   "source": [
    "sns.boxplot(x = \"Seller_type\",y = \"Price\", data = df)"
   ]
  },
  {
   "cell_type": "markdown",
   "metadata": {},
   "source": [
    "The spread of price when buying from a dealer is quite large which is expected. However, regardless of the other factors, a vehicle bought from a private party is almost always lower, interesting!"
   ]
  },
  {
   "cell_type": "markdown",
   "metadata": {},
   "source": [
    "## Make, Model and Trim levels"
   ]
  },
  {
   "cell_type": "code",
   "execution_count": 63,
   "metadata": {},
   "outputs": [
    {
     "data": {
      "text/plain": [
       "Hyundai       1776\n",
       "Chevrolet     1771\n",
       "Honda         1757\n",
       "Kia           1752\n",
       "Ford          1729\n",
       "Toyota        1715\n",
       "Subaru        1675\n",
       "Nissan        1674\n",
       "Mazda         1219\n",
       "Volkswagen     864\n",
       "Jeep           861\n",
       "Mitsubishi     687\n",
       "Name: Make, dtype: int64"
      ]
     },
     "execution_count": 63,
     "metadata": {},
     "output_type": "execute_result"
    }
   ],
   "source": [
    "df['Make'].value_counts()"
   ]
  },
  {
   "cell_type": "code",
   "execution_count": 64,
   "metadata": {},
   "outputs": [
    {
     "data": {
      "text/plain": [
       "<matplotlib.axes._subplots.AxesSubplot at 0x11d1f8850>"
      ]
     },
     "execution_count": 64,
     "metadata": {},
     "output_type": "execute_result"
    },
    {
     "data": {
      "image/png": "[encoded data removed]",
      "text/plain": [
       "<Figure size 1080x576 with 1 Axes>"
      ]
     },
     "metadata": {},
     "output_type": "display_data"
    }
   ],
   "source": [
    "plt.figure(figsize=(15,8))\n",
    "sns.boxplot(df[\"Make\"],df[\"Price\"],hue = df[\"Body_type\"])"
   ]
  },
  {
   "cell_type": "markdown",
   "metadata": {},
   "source": [
    "### Almost all the automakers are represented in both the sedan as well as the suv segment except Jeep which only builds suvs and Volkswagen which is known for building sedans."
   ]
  },
  {
   "cell_type": "markdown",
   "metadata": {},
   "source": [
    "### For almost all the makes, the respective SUVs tend to be slightly expensive as compared with their sedans."
   ]
  },
  {
   "cell_type": "code",
   "execution_count": 77,
   "metadata": {},
   "outputs": [
    {
     "data": {
      "text/plain": [
       "Make\n",
       "Jeep          16982.505226\n",
       "Subaru        16306.595224\n",
       "Mazda         16191.030353\n",
       "Toyota        15297.636735\n",
       "Honda         14723.656801\n",
       "Ford          13997.481781\n",
       "Mitsubishi    13961.628821\n",
       "Nissan        13691.411589\n",
       "Chevrolet     13596.844720\n",
       "Kia           13447.441210\n",
       "Hyundai       12887.360360\n",
       "Volkswagen    11639.137731\n",
       "Name: Price, dtype: float64"
      ]
     },
     "execution_count": 77,
     "metadata": {},
     "output_type": "execute_result"
    },
    {
     "data": {
      "text/plain": [
       "<Figure size 720x432 with 0 Axes>"
      ]
     },
     "metadata": {},
     "output_type": "display_data"
    }
   ],
   "source": [
    "plt.figure(figsize=(10,6))\n",
    "df.groupby(\"Make\")[\"Price\"].mean().sort_values(ascending = False)"
   ]
  },
  {
   "cell_type": "markdown",
   "metadata": {},
   "source": [
    "Except for Jeep and Volkswagen, the mean price for the rest of the automakers is hovering in the 13k to 16k mark."
   ]
  },
  {
   "cell_type": "markdown",
   "metadata": {},
   "source": [
    "Since Jeep sells suvs, it's obvious that the average price of their vehicles are the highest.\n",
    "Similarly, Volkawagen is at the bottom because it sells only sedans."
   ]
  },
  {
   "cell_type": "markdown",
   "metadata": {},
   "source": [
    "Each carmaker has a trim level! We need to change it to numeric values so that we can make use of them."
   ]
  },
  {
   "cell_type": "code",
   "execution_count": null,
   "metadata": {},
   "outputs": [],
   "source": []
  },
  {
   "cell_type": "code",
   "execution_count": 81,
   "metadata": {},
   "outputs": [
    {
     "data": {
      "text/plain": [
       "array(['EX-T', 'EX w/ Navigation', 'LX', 'EX-L', 'LX FWD', 'EX Sedan FWD',\n",
       "       'EX', 'LX-S', 'EX with Leather', '1.5T Sport FWD', 'Sport',\n",
       "       'EX V6 with Nav', 'Si', 'LX-P', 'EX-L V6', 'SE', 'Sport FWD',\n",
       "       'Touring Sedan FWD', 'EX FWD', 'V6 Touring FWD', 'DX-VP',\n",
       "       '1.5T LX FWD', '1.5T EX FWD', 'Sedan', 'Sport SE FWD', 'Touring',\n",
       "       'Value Package', '2.0T EX-L FWD', 'Special Edition',\n",
       "       '2.0T Sport FWD', 'V6 Touring', 'LX with Honda Sensing',\n",
       "       '1.5T Touring FWD', 'Si with Summer Tires', 'EX-L FWD',\n",
       "       'EX with Navigation', 'EX with Honda Sensing',\n",
       "       'EX FWD with Honda Sensing', 'LX Sedan FWD', 'EX V6', 'SI', 'HF',\n",
       "       'EX-L V6 with Nav', '1.5T EX-L FWD', 'EX-L with Navigation',\n",
       "       'V6 EX-L FWD', 'FWD with Navigation', '2.0T Touring FWD',\n",
       "       'FWD with Leather', 'EX-L FWD with Navigation and Honda Sensing',\n",
       "       'GX', 'SI with Summer Tires', 'FWD', 'LX FWD with Honda Sensing',\n",
       "       'EX-L with Nav', 'Si FWD', 'EX-L with Honda Sensing', 'EX-L AWD',\n",
       "       'EX AWD', 'LX AWD', 'EX-L AWD with Navigation', 'LX 4WD',\n",
       "       'Touring AWD', 'Touring 4WD', 'EX-L V6 AWD w/ Navi', 'EX-L 4WD',\n",
       "       'SE AWD', 'EX 4WD', 'EX-L V6 with Navi', 'Sport AWD',\n",
       "       'EX-L AWD with RES', '4 Dr EX-L 4X4', 'EX-L with DVD 4WD',\n",
       "       'Touring with Nav and DVD 4WD', 'EX-L V6 AWD', 'Elite AWD',\n",
       "       'EX-L AWD with Navigation and RES', 'Touring with Navi 4WD',\n",
       "       'EX-L 4WD with Navigation', 'EX-L with Nav AWD',\n",
       "       'EX-L with Nav 4WD', 'SE 4WD', 'EX-P AWD', 'EX-L V6 AWD with Navi',\n",
       "       'Touring 8-Seat AWD', 'Touring FWD', 'EX-L AWD with Honda Sensing',\n",
       "       'Touring with Nav 4WD', 'EX-L AWD with Nav', 'Touring 7-Seat AWD'],\n",
       "      dtype=object)"
      ]
     },
     "execution_count": 81,
     "metadata": {},
     "output_type": "execute_result"
    }
   ],
   "source": [
    "df[df[\"Make\"] == \"Honda\"][\"Trim\"].unique()"
   ]
  },
  {
   "cell_type": "code",
   "execution_count": 90,
   "metadata": {},
   "outputs": [
    {
     "data": {
      "text/plain": [
       "array(['LT Sedan FWD', 'LTZ FWD', 'LTZ 1LZ FWD', 'Police Sedan RWD',\n",
       "       'LT FWD', 'LTZ 2LZ FWD', '1LT FWD', 'LS Sedan FWD', 'LS FWD',\n",
       "       'LT Diesel Sedan FWD', '2LT FWD', 'Premier Sedan FWD',\n",
       "       'LS Fleet FWD', '1LT Sedan FWD', 'Limited LT FWD', 'Premier FWD',\n",
       "       'Eco 1SA FWD', 'LTZ Sedan FWD', '2LT Sedan FWD', 'LT Fleet FWD',\n",
       "       'Diesel Sedan FWD', 'LT Fleet Sedan FWD', 'Limited LTZ FWD',\n",
       "       'LTZ 1LZ Sedan FWD', 'Limited LS FWD', '3LT FWD', 'L Sedan FWD',\n",
       "       'L FWD', 'FWD', 'Unmarked Police FWD', 'Eco Sedan FWD',\n",
       "       '2LS Sedan FWD', 'RS Sedan FWD', 'LT AWD', 'LS AWD', 'Z71 4WD',\n",
       "       '1LT AWD', 'LTZ AWD', '1.5T LT AWD', '2LT AWD', 'LTZ 4WD',\n",
       "       'LT 4WD', '1.5T LS AWD', 'Premier AWD', '1500 LT 4WD',\n",
       "       '1.5T LT FWD', 'RS AWD', '1500 LS 4WD', '1500 LT RWD',\n",
       "       '1.5T Premier AWD', '2.0T Premier AWD', '1.6T Diesel Premier FWD',\n",
       "       '1500 LTZ RWD', 'LS 4WD', '1500 LTZ 4WD', 'LS Fleet 4WD', '2LS',\n",
       "       'LT', '2.0T LT AWD', '2.0T LT FWD', 'LT Cloth FWD', '3SS AWD',\n",
       "       'LT Leather AWD', 'RS FWD', '2LT 4WD', '1500 Premier 4WD',\n",
       "       '1.5T Premier FWD', 'Premier 4WD', 'LTZ', '2.0T Premier FWD',\n",
       "       '4WD', '1.5T LS FWD', 'Sport AWD', 'LT RWD'], dtype=object)"
      ]
     },
     "execution_count": 90,
     "metadata": {},
     "output_type": "execute_result"
    }
   ],
   "source": [
    "df[df[\"Make\"] == \"Chevrolet\"][\"Trim\"].unique()"
   ]
  },
  {
   "cell_type": "code",
   "execution_count": 98,
   "metadata": {},
   "outputs": [
    {
     "name": "stdout",
     "output_type": "stream",
     "text": [
      "The make is: Chevrolet and the trims are: ['LT Sedan FWD' 'LTZ FWD' 'LTZ 1LZ FWD' 'Police Sedan RWD' 'LT FWD'\n",
      " 'LTZ 2LZ FWD' '1LT FWD' 'LS Sedan FWD' 'LS FWD' 'LT Diesel Sedan FWD'\n",
      " '2LT FWD' 'Premier Sedan FWD' 'LS Fleet FWD' '1LT Sedan FWD'\n",
      " 'Limited LT FWD' 'Premier FWD' 'Eco 1SA FWD' 'LTZ Sedan FWD'\n",
      " '2LT Sedan FWD' 'LT Fleet FWD' 'Diesel Sedan FWD' 'LT Fleet Sedan FWD'\n",
      " 'Limited LTZ FWD' 'LTZ 1LZ Sedan FWD' 'Limited LS FWD' '3LT FWD'\n",
      " 'L Sedan FWD' 'L FWD' 'FWD' 'Unmarked Police FWD' 'Eco Sedan FWD'\n",
      " '2LS Sedan FWD' 'RS Sedan FWD' 'LT AWD' 'LS AWD' 'Z71 4WD' '1LT AWD'\n",
      " 'LTZ AWD' '1.5T LT AWD' '2LT AWD' 'LTZ 4WD' 'LT 4WD' '1.5T LS AWD'\n",
      " 'Premier AWD' '1500 LT 4WD' '1.5T LT FWD' 'RS AWD' '1500 LS 4WD'\n",
      " '1500 LT RWD' '1.5T Premier AWD' '2.0T Premier AWD'\n",
      " '1.6T Diesel Premier FWD' '1500 LTZ RWD' 'LS 4WD' '1500 LTZ 4WD'\n",
      " 'LS Fleet 4WD' '2LS' 'LT' '2.0T LT AWD' '2.0T LT FWD' 'LT Cloth FWD'\n",
      " '3SS AWD' 'LT Leather AWD' 'RS FWD' '2LT 4WD' '1500 Premier 4WD'\n",
      " '1.5T Premier FWD' 'Premier 4WD' 'LTZ' '2.0T Premier FWD' '4WD'\n",
      " '1.5T LS FWD' 'Sport AWD' 'LT RWD']\n",
      "The make is: Ford and the trims are: ['SE' 'Titanium AWD' 'SEL AWD' 'Titanium FWD' 'SEL' 'SE FWD' 'SE AWD'\n",
      " 'FWD' 'Limited AWD' 'SEL V6 AWD' 'SHO AWD' 'S' 'SEL FWD' 'Platinum'\n",
      " 'Sport' 'Limited FWD' 'Titanium' 'S FWD' 'Sport AWD' 'Limited'\n",
      " 'Platinum AWD' 'SEL V6' 'SES' 'SE Luxury' 'Sport V6' 'SE V6'\n",
      " 'Sport V6 AWD' 'XLT 4WD' 'Limited EcoBoost AWD' 'Base' 'XLT'\n",
      " 'Limited 4WD' 'EL Limited 4WD' 'XLT AWD' 'Base 4WD' 'Sport 4WD'\n",
      " 'King Ranch 4WD' 'Titanium AWD with Ecoboost' 'SES AWD' 'MAX XLT 4WD'\n",
      " 'Platinum 4WD' 'XLT V6 AWD' 'Limited V6 AWD' 'S AWD'\n",
      " 'Limited AWD with Ecoboost' 'Eddie Bauer V6 4WD' 'MAX Limited 4WD'\n",
      " 'ST AWD' 'AWD' 'XLS AWD' 'XLT FWD' 'Eddie Bauer 4WD'\n",
      " 'Limited AWD w/ Ecoboost' 'Police Interceptor AWD' 'EL XLT 4WD']\n",
      "The make is: Honda and the trims are: ['EX-T' 'EX w/ Navigation' 'LX' 'EX-L' 'LX FWD' 'EX Sedan FWD' 'EX' 'LX-S'\n",
      " 'EX with Leather' '1.5T Sport FWD' 'Sport' 'EX V6 with Nav' 'Si' 'LX-P'\n",
      " 'EX-L V6' 'SE' 'Sport FWD' 'Touring Sedan FWD' 'EX FWD' 'V6 Touring FWD'\n",
      " 'DX-VP' '1.5T LX FWD' '1.5T EX FWD' 'Sedan' 'Sport SE FWD' 'Touring'\n",
      " 'Value Package' '2.0T EX-L FWD' 'Special Edition' '2.0T Sport FWD'\n",
      " 'V6 Touring' 'LX with Honda Sensing' '1.5T Touring FWD'\n",
      " 'Si with Summer Tires' 'EX-L FWD' 'EX with Navigation'\n",
      " 'EX with Honda Sensing' 'EX FWD with Honda Sensing' 'LX Sedan FWD'\n",
      " 'EX V6' 'SI' 'HF' 'EX-L V6 with Nav' '1.5T EX-L FWD'\n",
      " 'EX-L with Navigation' 'V6 EX-L FWD' 'FWD with Navigation'\n",
      " '2.0T Touring FWD' 'FWD with Leather'\n",
      " 'EX-L FWD with Navigation and Honda Sensing' 'GX' 'SI with Summer Tires'\n",
      " 'FWD' 'LX FWD with Honda Sensing' 'EX-L with Nav' 'Si FWD'\n",
      " 'EX-L with Honda Sensing' 'EX-L AWD' 'EX AWD' 'LX AWD'\n",
      " 'EX-L AWD with Navigation' 'LX 4WD' 'Touring AWD' 'Touring 4WD'\n",
      " 'EX-L V6 AWD w/ Navi' 'EX-L 4WD' 'SE AWD' 'EX 4WD' 'EX-L V6 with Navi'\n",
      " 'Sport AWD' 'EX-L AWD with RES' '4 Dr EX-L 4X4' 'EX-L with DVD 4WD'\n",
      " 'Touring with Nav and DVD 4WD' 'EX-L V6 AWD' 'Elite AWD'\n",
      " 'EX-L AWD with Navigation and RES' 'Touring with Navi 4WD'\n",
      " 'EX-L 4WD with Navigation' 'EX-L with Nav AWD' 'EX-L with Nav 4WD'\n",
      " 'SE 4WD' 'EX-P AWD' 'EX-L V6 AWD with Navi' 'Touring 8-Seat AWD'\n",
      " 'Touring FWD' 'EX-L AWD with Honda Sensing' 'Touring with Nav 4WD'\n",
      " 'EX-L AWD with Nav' 'Touring 7-Seat AWD']\n",
      "The make is: Hyundai and the trims are: ['GLS Sedan FWD' 'Sport FWD' 'SE Value Edition Sedan FWD' 'SE Sedan FWD'\n",
      " 'SEL Sedan FWD' 'V6 SE FWD' 'Signature RWD' 'Limited FWD' 'SE FWD'\n",
      " 'Limited Sedan FWD' 'Sport Sedan FWD' 'GLS FWD' '3.8 RWD' '3.8 AWD'\n",
      " 'Value Edition Sedan FWD' 'FWD' 'SEL FWD' 'GL FWD' '5.0 RWD'\n",
      " '2.0T SE FWD' '2.0T Sport FWD with Black Leather Interior'\n",
      " '2.0T Sport FWD' 'Limited FWD with Blue Pearl Interior' '5.0 R-Spec RWD'\n",
      " '2.0T Limited FWD' 'V6 Limited FWD' '2018.5 Sport+ FWD' 'Eco FWD'\n",
      " '2.0T Ultimate AWD' '2.4L AWD' '3.5L Limited FWD' '3.3L SE AWD'\n",
      " '3.5L Limited AWD' '1.6T Limited FWD' '3.3L Limited AWD' '2.4L FWD'\n",
      " 'The Walking Dead Edition AWD' '2.4L SEL Plus AWD' '2.0T FWD'\n",
      " 'Limited AWD' '2.7L GLS AWD' 'GLS AWD' '1.6T Eco AWD' 'SE AWD' 'SEL AWD'\n",
      " 'SE Ultimate FWD' '1.6T Limited AWD' 'Value FWD' '3.3L SE FWD'\n",
      " '3.3L Limited FWD' '2.0L SE AWD' 'GL 2WD' '2.0L SE AWD with Beige Seats'\n",
      " '2.0L SEL Plus AWD' '2.4L SEL AWD' '1.6T Sport AWD with Beige Seats'\n",
      " '1.6T Sport AWD' '2.0L SE Plus AWD' '2.0L SE FWD' '2.0T AWD'\n",
      " '4 Dr SE 4X4' '2.4L GLS AWD' '1.6T Night AWD' '1.6T Eco FWD'\n",
      " 'Limited Ultimate AWD' '2.7L GLS FWD' '2.4L GLS FWD' '2.4L SE AWD' 'SE'\n",
      " '3.5L SE AWD' '2.0L SEL FWD' 'Limited' '1.6T Value AWD' '2.0L SEL AWD'\n",
      " '3.5L SE FWD' '1.6T Sport FWD' 'GLS 4WD' 'GLS' 'Value AWD'\n",
      " '2.0T Ultimate FWD' 'Ultimate AWD' '2.4L SE FWD' '1.6T Value FWD'\n",
      " '2.0L SE FWD with Beige Seats' 'Ultimate FWD' 'SE Ultimate AWD'\n",
      " '2.4L Ultimate AWD' '2.4L Limited FWD' '2.0L SE Plus FWD'\n",
      " '2.4L Sport AWD' '3.5L LX AWD' '4 Dr GLS' '1.6T Night FWD']\n",
      "The make is: Kia and the trims are: ['Premium' 'EX' 'LX' 'LXS FWD' 'S' 'SX Turbo' 'SXL Turbo' 'SX' 'LX FWD'\n",
      " 'Technology FWD' 'S FWD' 'Limited' 'Premium AWD' 'GT2 AWD' 'EX Turbo'\n",
      " 'FE FWD' 'SX V6' 'LX Turbo' 'GT1 AWD' 'V6 Premium' 'Premium FWD'\n",
      " 'SX Turbo FWD' 'LX AWD' 'LX 4WD' 'EX AWD' 'L FWD' 'EX V6 AWD'\n",
      " 'SX Limited AWD' 'EX V6 4WD' 'LX V6 AWD' 'SX AWD' '2.0T EX AWD'\n",
      " 'SX Turbo AWD' 'SX V6 AWD' 'LX V6' 'Touring' 'FE' 'LX V6 4WD' 'EX V6'\n",
      " 'SX 4WD' 'LX V6 FWD' 'L' 'SX Limited V6 AWD' 'GT-Line FWD' 'EX FWD'\n",
      " 'Touring Launch Edition' 'Base' 'S V6 FWD' 'LX V6 4X4' 'EX 4WD'\n",
      " 'EX V6 FWD' 'V6 SX Limited AWD' 'SX Limited' 'S AWD']\n",
      "The make is: Mazda and the trims are: ['i Sport' 'i Grand Touring' 'i Touring' 'Touring Sedan FWD'\n",
      " '2017.5 Touring Sedan FWD' 'Grand Touring' 'Touring FWD' 'Hatchback FWD'\n",
      " 'Sport Sedan FWD' 'Sedan FWD' 'i SV' 'Sport' 'i Sport Sport'\n",
      " 'Grand Touring Sedan FWD' 's Sport' 'Touring' 's Grand Touring'\n",
      " 'Grand Touring FWD' 'Premium Sedan FWD' 'Select Sedan FWD'\n",
      " 'Grand Touring Reserve Sedan FWD' '2017.5 Grand Touring Sedan FWD'\n",
      " 'i Touring with R Production' 's Touring' 'i Touring Value'\n",
      " 'i Touring Plus' '2017.5 Sport Sedan FWD' 'Select Sedan AWD' 's'\n",
      " 's 4dr Sedan' 'i 4dr Sedan' 'i Sport - Grand Touring' 's Sport - Touring'\n",
      " 'i Sport - Sport' 'Grand Touring Reserve FWD' 'Preferred Sedan FWD'\n",
      " 'Signature Sedan FWD' 'Signature FWD' 'Sport AWD' 'Touring AWD'\n",
      " 'Grand Touring AWD' 'Signature AWD' 's AWD' 's Grand Touring 4WD'\n",
      " 'Sport FWD' 'Grand Select AWD' 'Grand Select' 'Signature Diesel AWD'\n",
      " 's Grand Touring AWD' 'Sport 4WD' 'i Grand Touring 4WD' 'Premium AWD'\n",
      " 'Touring 4WD' 'Grand Touring 4WD' 's Touring AWD' 's 4WD']\n",
      "The make is: Mitsubishi and the trims are: ['SE' 'ES FWD' 'ES' 'MR' 'SE FWD' 'SE AWC' 'ES AWD' 'SE AWD' 'GSR'\n",
      " 'AWD Final Edition' 'SEL AWD' 'GT' 'Ralliart' 'GTS' 'IX' 'RF FWD' 'FE'\n",
      " 'Sport V6' 'DE' 'Limited AWD' 'GT AWD' 'SE S-AWC AWD' 'ES AWC AWD'\n",
      " 'LS AWD' 'LE AWD' 'SEL FWD' 'SE 4WD' '2.4 ES AWD' 'SEL S-AWC AWD'\n",
      " '2.4 ES' 'LE S-AWC AWD' 'LS' 'XLS AWD' 'GT S-AWC AWD' 'LE' 'SEL' 'XLS'\n",
      " 'LS 4WD' 'Limited 4WD' 'LE FWD' 'ES 4WD']\n",
      "The make is: Nissan and the trims are: ['2.5 SR FWD' '2.5 S' 'SV FWD' 'S Plus FWD' 'SV' 'S' 'SR Turbo FWD'\n",
      " '2.5 SL' 'SL' '1.6 SL' '2.5 SV' '3.5 SL' 'S Plus' '2.0 SR' '2.5 SR'\n",
      " '2.5 SR AWD' '2.5' '2017.5 SV FWD' 'SR' 'FE+ S' 'SR FWD' '2.5 SL FWD'\n",
      " '2.0 S' '2017.5 2.5 SV' 'SL FWD' '2018.5 SV' 'Platinum FWD' '2.0' 'S FWD'\n",
      " 'SR Turbo' '2.5 S FWD' '1.6 S' '2017.5 2.5 SR' '2017.5 2.5 S' '1.6 SV'\n",
      " '1.6 S Plus' '3.5 SR' 'FWD' '2017.5 2.5 SL' 'S 1.8' '2.5 SV FWD'\n",
      " '2.5 S AWD' '2.5 SV AWD' 'FE+ 2.0 S' '2.5 Platinum FWD' 'NISMO FWD'\n",
      " 'NISMO' '2.5 Platinum AWD' 'X 4WD' 'SV AWD' 'Platinum 4WD' 'LE 4X4'\n",
      " 'S AWD' 'SL AWD' 'S Krom Edition AWD' '2017.5 SL' '2017.5 Platinum'\n",
      " '2017.5 Platinum AWD' 'Platinum' 'SL 4WD' 'SV 4WD' 'LE AWD'\n",
      " '2017.5 SL AWD' '2017.5 SV AWD' '2018.5 SL AWD' '2017.5 S AWD'\n",
      " 'Platinum AWD' 'S 4WD' '2018.5 SV AWD' 'Silver Edition 4WD' 'Pro-4X'\n",
      " 'SV with SL AWD' 'SE 4X4' 'SL 4X4' 'SE 4WD' '2018.5 S FWD'\n",
      " 'Platinum Edition AWD' 'Off Road' 'S 4X4' 'SE AWD' 'NISMO AWD'\n",
      " 'Titanium 4WD' 'LE V6 4WD' '2018.5 S AWD' 'Base' '2017.5 S'\n",
      " '2017.5 S FWD']\n",
      "The make is: Subaru and the trims are: ['Sedan' 'Premium Package' 'Limited' '2.5i' '2.0i Premium'\n",
      " '2.0i Sedan AWD' '2.5i Premium' '3.6R Limited' '2.0i Sport'\n",
      " '2.5i Limited' 'Premium' '3.6R Limited AWD' '2.5i Special Edition' '2.0i'\n",
      " '2.5i Premium AWD' 'Base' 'AWD' '2.0i Sport Sedan AWD' '2.5i Sport AWD'\n",
      " '2.0i Premium Sedan AWD' 'Limited AWD' '2.5i Limited AWD' 'Premium AWD'\n",
      " '2.5 i Limited' '2.0i Limited' 'Limited with Wing Spoiler' '2.5i Sport'\n",
      " '2.5 i Special Edition' 'Limited with Low Profile Spoiler' '2.5 i'\n",
      " '2.5 RS' 'Limited Sedan AWD' 'Limited AWD with Low Profile Spoiler'\n",
      " '2.0i Limited Sedan AWD' 'Turbo AWD' 'Base AWD' '2.5i AWD'\n",
      " '2.5GT Limited' 'Type RA AWD' 'Limited AWD with Wing Spoiler' 'Sedan AWD'\n",
      " '2.5 RS Sport' '2.5i Premium Package' '2.5 GT Limited' 'S209 AWD'\n",
      " '2.5i Limited Sedan AWD' '3.6R Premium' 'Limited 7-Passenger AWD'\n",
      " '2.0i Premium AWD' '2.5X Premium' '2.5i Touring'\n",
      " 'Touring 7-Passenger AWD' '2.5 X' '2.0XT Touring' '5-Passenger'\n",
      " '2.5 X Limited' '2.5X Limited' '2.0i Limited AWD' '2.0XT Premium'\n",
      " '2.5i Touring AWD' '2.5 X Premium' 'Premium 8-Passenger AWD'\n",
      " '4 Dr Limited 7-Passenger AWD' 'LTD 5-Passenger' 'Touring AWD'\n",
      " '2.0i Base AWD' '2.5 X Premium Package' 'Premium 7-Passenger AWD' '2.5X'\n",
      " '2.5XT Touring' '2.5 X L.L. Bean Edition' '8-Passenger AWD' 'Sports 2.5X'\n",
      " '2.5 X Sports' '5-Passenger Special Edition' 'Limited 8-Passenger AWD'\n",
      " 'LTD 7-Passenger' 'Limited 5 Passenger' 'Onyx Edition XT AWD'\n",
      " 'Limited 5-Passenger' 'Touring' '2.5 XT Limited']\n",
      "The make is: Toyota and the trims are: ['Limited' 'LE' 'SE' 'XSE FWD' 'Sedan' 'LE FWD' 'L' 'XL' 'FWD' 'XLE V6'\n",
      " 'S' 'CE' 'XLE' 'SE FWD' 'Base' 'XLE FWD' 'XSE' 'Limited FWD' 'S Premium'\n",
      " 'LE Eco' 'XLE Touring FWD' 'XSE V6' 'L Sedan FWD' 'Touring FWD' 'XLS'\n",
      " 'S Plus' 'LE Premium' 'LE V6' 'XLE Premium' 'Touring' 'SE V6' 'LE Plus'\n",
      " 'XLE Premium FWD' 'XSE V6 FWD' '50th Anniversary Edition' 'LE Sedan FWD'\n",
      " 'SE Sport' 'SE Sport Limited Edition' 'XLE Touring' 'XLE Plus'\n",
      " 'S Special Edition' 'L FWD' 'SR5 4WD' 'AWD' 'Limited V6 4WD' 'V6 AWD'\n",
      " 'LE AWD' 'XLE AWD' 'Limited Platinum AWD' 'Base 4WD' 'SE AWD'\n",
      " 'Base V6 4WD' 'TRD Off-Road Premium 4WD' 'Limited AWD' 'SR5 Premium 4WD'\n",
      " 'Sport V6 AWD' '4WD' 'TRD Pro 4WD' 'Limited V6 AWD' 'Limited 4WD'\n",
      " 'SR5 V6 4WD' 'LE i4' 'V6 XLE AWD' 'SR5 V6' 'Limited Platinum'\n",
      " 'LE Plus AWD' 'Platinum FFV 4WD' 'Sport 4WD' 'XLE V6 AWD'\n",
      " 'V6 Limited AWD' 'SR5 FFV 4WD' 'Adventure AWD' 'V6 4x4 SR5' 'Sport'\n",
      " 'SE V6 AWD' 'SR5' 'Plus V6 AWD' 'TRD Off-Road 4WD' 'Trail Premium 4WD'\n",
      " 'Limited FFV 4WD' 'Platinum 4WD' 'XSE AWD' 'V6 4x2 SR5' 'I4 AWD'\n",
      " 'LE i4 FWD' 'Sport AWD' '4 Dr Limited V8 4WD' 'LE V6 AWD' 'Base AWD'\n",
      " 'Sport V6 4WD' 'SE V6 4WD' 'Limited V6' 'SR5 5.7L 4WD' 'TRD Off-Road AWD'\n",
      " 'Base V6' 'Sport V6' '2WD' 'Limited Nightshade 4WD']\n",
      "The make is: Volkswagen and the trims are: ['TDI SEL Premium' 'TDI' '1.4T S FWD' 'TDI SE' 'S' '2.0T Luxury FWD'\n",
      " 'SE 1.8' 'TDI with Premium' '1.8T S' '1.4T SE FWD' 'SE'\n",
      " '1.4T Wolfsburg Edition FWD' '2.0T Sport FWD' 'SEL Premium'\n",
      " '2.0T SEL FWD' 'SE with Sunroof and Nav' 'SE with Sunroof'\n",
      " '1.8T Sport FWD' '1.8T SE' '1.8T SEL FWD' 'Wolfsburg Edition'\n",
      " '1.4T R-Line FWD' '2.0T GLI FWD' 'TDI SE with Sunroof' '2.0T SE FWD'\n",
      " 'SE with Connectivity' 'SEL V6 Premium' 'Base' 'S 1.8' 'VR6 4Motion'\n",
      " '1.8T SE with Technology Pkg' '2.0T Wolfsburg FWD'\n",
      " 'TDI with Premium and Nav' '1.8T SE with Technology'\n",
      " 'TDI SE with Sunroof and Nav' 'SEL' 'GLI Autobahn' 'TDI S'\n",
      " '1.8T SEL Premium' 'Wolfsburg Edition 1.8' 'Komfort' 'Limited Edition'\n",
      " '2.0T R-Line FWD' 'R-Line' 'GLI'\n",
      " '2.0T SEL Premium 4Motion AWD with R-Line' '1.8T SEL' 'TDI SEL'\n",
      " '1.4T S FWD with Technology' '2.0T Lux Plus FWD' '1.8T SEL Premium FWD'\n",
      " '2.0T S FWD' 'VR6 Executive 4Motion AWD' '1.8T R-Line' 'V6 SEL Premium'\n",
      " '2.0T Lux FWD' 'SEL Premium FWD' '2.0T Sport Plus FWD' '2.0T GLI SE FWD'\n",
      " 'S with Appearance' '2.0T SEL 4Motion AWD' '2.0T GLI SEL FWD'\n",
      " 'GLI Autobahn with Nav' '2.0T Trend FWD'\n",
      " 'SE with Connectivity and Sunroof' 'TDI SE with Connectivity'\n",
      " 'SEL with Sunroof' 'TDI Value Edition' '2.0T SEL Premium FWD'\n",
      " '2.0T Executive FWD' '1.4T SE FWD with Connectivity' '1.8T SE Sport FWD'\n",
      " '1.4T SEL FWD']\n",
      "The make is: Jeep and the trims are: ['Trailhawk 4WD' 'Altitude 4WD' 'Limited 4WD' 'X High Altitude 4WD'\n",
      " 'SRT 4WD' 'Laredo 4WD' 'Laredo E 4WD' 'Latitude 4WD' 'Latitude FWD'\n",
      " 'Overland 4WD' 'Sport Altitude 4WD' 'High Altitude Edition 4WD'\n",
      " 'Sport 4WD' 'High Altitude FWD' 'X 4WD' 'Sport' 'Sterling Edition 4WD'\n",
      " 'Sport FWD' 'X Sport' 'Sahara 4WD' '70th Anniversary 4WD' 'Latitude'\n",
      " 'Summit 4WD' 'High Altitude 4WD' 'Trailhawk L Plus 4WD' 'Trackhawk 4WD'\n",
      " 'SE' 'Sport SE FWD' 'Latitude Plus 4WD' 'X' 'High Altitude Edition'\n",
      " 'North Edition 4WD' 'Upland 4WD' 'Base 4WD' 'Limited FWD' 'Laredo'\n",
      " 'Rubicon 4WD' 'X High Altitude' 'Altitude' 'Latitude X 4WD'\n",
      " 'Trailhawk Elite 4WD' 'Sport Jet 4WD' 'Limited 75th Anniversary 4WD'\n",
      " 'X Sport SE 4WD' 'Limited' 'Sport 75th Anniversary' 'Limited 4X4'\n",
      " 'Laredo X 4WD' '75th Anniversary Edition 4WD'\n",
      " 'Latitude 75th Anniversary 4WD' 'Limited RWD' 'Sahara'\n",
      " 'Overland Summit 4WD' 'Deserthawk 4WD' 'Altitude Edition 4WD'\n",
      " 'Laredo 75th Anniversary 4WD' 'Limited Jet 4WD' 'Renegade 4WD' 'Rubicon'\n",
      " 'Unlimited' 'X Latitude' 'Limited X 4WD' 'Backcountry 4WD' 'Base 4X4']\n"
     ]
    }
   ],
   "source": [
    "for make in df[\"Make\"].unique():\n",
    "    print(\"The make is: {} and the trims are: {}\".format(make,df[df[\"Make\"] == make][\"Trim\"].unique()))"
   ]
  },
  {
   "cell_type": "code",
   "execution_count": null,
   "metadata": {},
   "outputs": [],
   "source": []
  },
  {
   "cell_type": "code",
   "execution_count": 96,
   "metadata": {},
   "outputs": [
    {
     "data": {
      "text/plain": [
       "'Chevrolet'"
      ]
     },
     "execution_count": 96,
     "metadata": {},
     "output_type": "execute_result"
    }
   ],
   "source": [
    "df[\"Make\"].unique()"
   ]
  },
  {
   "cell_type": "code",
   "execution_count": null,
   "metadata": {},
   "outputs": [],
   "source": []
  },
  {
   "cell_type": "code",
   "execution_count": null,
   "metadata": {},
   "outputs": [],
   "source": []
  },
  {
   "cell_type": "code",
   "execution_count": 83,
   "metadata": {},
   "outputs": [],
   "source": [
    "df[\"Trim_copy\"] = df[\"Trim\"].copy()"
   ]
  },
  {
   "cell_type": "code",
   "execution_count": 89,
   "metadata": {},
   "outputs": [
    {
     "data": {
      "text/plain": [
       "array([False,  True, False, False,  True, False,  True, False, False,\n",
       "       False, False, False, False, False, False, False, False, False,\n",
       "       False, False, False,  True,  True, False, False, False, False,\n",
       "       False, False,  True, False, False, False, False, False, False,\n",
       "       False, False, False, False, False, False,  True, False, False,\n",
       "       False, False, False, False, False, False, False, False, False,\n",
       "       False, False, False, False, False, False, False,  True, False,\n",
       "       False, False, False, False, False, False, False, False, False,\n",
       "       False, False, False,  True, False, False, False, False, False,\n",
       "       False, False, False,  True, False, False, False, False, False])"
      ]
     },
     "execution_count": 89,
     "metadata": {},
     "output_type": "execute_result"
    }
   ],
   "source": [
    "df[df[\"Make\"]==\"Honda\"][\"Trim_copy\"].value_counts().index.str.contains(\"LX\")"
   ]
  },
  {
   "cell_type": "code",
   "execution_count": null,
   "metadata": {},
   "outputs": [],
   "source": []
  },
  {
   "cell_type": "markdown",
   "metadata": {},
   "source": [
    "### Color"
   ]
  },
  {
   "cell_type": "code",
   "execution_count": 101,
   "metadata": {},
   "outputs": [
    {
     "data": {
      "text/plain": [
       "BLACK      18.529748\n",
       "SILVER     16.744851\n",
       "WHITE      15.331808\n",
       "GRAY       14.073227\n",
       "BLUE       11.195652\n",
       "RED        10.783753\n",
       "UNKNOWN     9.914188\n",
       "BROWN       1.315789\n",
       "GREEN       0.972540\n",
       "GOLD        0.411899\n",
       "ORANGE      0.314645\n",
       "TEAL        0.274600\n",
       "PURPLE      0.097254\n",
       "YELLOW      0.040046\n",
       "Name: Color, dtype: float64"
      ]
     },
     "execution_count": 101,
     "metadata": {},
     "output_type": "execute_result"
    }
   ],
   "source": [
    "df[\"Color\"].value_counts()/len(df)*100"
   ]
  },
  {
   "cell_type": "code",
   "execution_count": 102,
   "metadata": {},
   "outputs": [
    {
     "data": {
      "text/plain": [
       "<matplotlib.axes._subplots.AxesSubplot at 0x1291601d0>"
      ]
     },
     "execution_count": 102,
     "metadata": {},
     "output_type": "execute_result"
    },
    {
     "data": {
      "image/png": "[encoded data removed]",
      "text/plain": [
       "<Figure size 432x288 with 1 Axes>"
      ]
     },
     "metadata": {},
     "output_type": "display_data"
    }
   ],
   "source": [
    "sns.boxplot(df[\"Color\"],df[\"Price\"])"
   ]
  },
  {
   "cell_type": "markdown",
   "metadata": {},
   "source": [
    "## Color doesn't seem to affect the sales much here in our case.\n",
    "## Let's drop it "
   ]
  },
  {
   "cell_type": "code",
   "execution_count": 103,
   "metadata": {},
   "outputs": [],
   "source": [
    "df.drop(\"Color\",axis=1,inplace=True)"
   ]
  },
  {
   "cell_type": "code",
   "execution_count": null,
   "metadata": {},
   "outputs": [],
   "source": []
  },
  {
   "cell_type": "markdown",
   "metadata": {},
   "source": [
    "## Now on to the numerical features"
   ]
  },
  {
   "cell_type": "code",
   "execution_count": 104,
   "metadata": {},
   "outputs": [
    {
     "data": {
      "text/plain": [
       "<matplotlib.axes._subplots.AxesSubplot at 0x128e2d390>"
      ]
     },
     "execution_count": 104,
     "metadata": {},
     "output_type": "execute_result"
    },
    {
     "data": {
      "image/png": "[encoded data removed]",
      "text/plain": [
       "<Figure size 1080x720 with 2 Axes>"
      ]
     },
     "metadata": {},
     "output_type": "display_data"
    }
   ],
   "source": [
    "plt.figure(figsize = (15,10))\n",
    "sns.heatmap(df.corr(),annot=True,linewidths=1,cmap = \"coolwarm\")"
   ]
  },
  {
   "cell_type": "code",
   "execution_count": 109,
   "metadata": {},
   "outputs": [
    {
     "data": {
      "text/plain": [
       "Price                    1.000000\n",
       "Year                     0.678290\n",
       "Additional_features      0.447112\n",
       "Seats                    0.240168\n",
       "Distance                 0.111819\n",
       "Photos                   0.035993\n",
       "Days_on_market          -0.012846\n",
       "Fuel_economy_combined   -0.130001\n",
       "Accidents               -0.158132\n",
       "Previous_owners         -0.441762\n",
       "Mileage                 -0.670072\n",
       "Name: Price, dtype: float64"
      ]
     },
     "execution_count": 109,
     "metadata": {},
     "output_type": "execute_result"
    }
   ],
   "source": [
    "df.corr()[\"Price\"].sort_values(ascending = False)"
   ]
  },
  {
   "cell_type": "code",
   "execution_count": 110,
   "metadata": {},
   "outputs": [
    {
     "data": {
      "text/html": [
       "<div>\n",
       "<style scoped>\n",
       "    .dataframe tbody tr th:only-of-type {\n",
       "        vertical-align: middle;\n",
       "    }\n",
       "\n",
       "    .dataframe tbody tr th {\n",
       "        vertical-align: top;\n",
       "    }\n",
       "\n",
       "    .dataframe thead th {\n",
       "        text-align: right;\n",
       "    }\n",
       "</style>\n",
       "<table border=\"1\" class=\"dataframe\">\n",
       "  <thead>\n",
       "    <tr style=\"text-align: right;\">\n",
       "      <th></th>\n",
       "      <th>Accidents</th>\n",
       "      <th>Year</th>\n",
       "      <th>Fuel_economy_combined</th>\n",
       "      <th>Days_on_market</th>\n",
       "      <th>Distance</th>\n",
       "      <th>Mileage</th>\n",
       "      <th>Additional_features</th>\n",
       "      <th>Previous_owners</th>\n",
       "      <th>Photos</th>\n",
       "      <th>Seats</th>\n",
       "      <th>Price</th>\n",
       "    </tr>\n",
       "  </thead>\n",
       "  <tbody>\n",
       "    <tr>\n",
       "      <th>0</th>\n",
       "      <td>0.0</td>\n",
       "      <td>2017.0</td>\n",
       "      <td>29.000000</td>\n",
       "      <td>37.0</td>\n",
       "      <td>97.736984</td>\n",
       "      <td>49516.0</td>\n",
       "      <td>5.0</td>\n",
       "      <td>2.0</td>\n",
       "      <td>1</td>\n",
       "      <td>5.0</td>\n",
       "      <td>7495.0</td>\n",
       "    </tr>\n",
       "    <tr>\n",
       "      <th>1</th>\n",
       "      <td>0.0</td>\n",
       "      <td>2009.0</td>\n",
       "      <td>27.000000</td>\n",
       "      <td>10.0</td>\n",
       "      <td>171.237120</td>\n",
       "      <td>132196.0</td>\n",
       "      <td>5.0</td>\n",
       "      <td>2.0</td>\n",
       "      <td>1</td>\n",
       "      <td>5.0</td>\n",
       "      <td>3997.0</td>\n",
       "    </tr>\n",
       "    <tr>\n",
       "      <th>2</th>\n",
       "      <td>2.0</td>\n",
       "      <td>2015.0</td>\n",
       "      <td>26.000000</td>\n",
       "      <td>28.0</td>\n",
       "      <td>116.382470</td>\n",
       "      <td>20833.0</td>\n",
       "      <td>6.0</td>\n",
       "      <td>1.0</td>\n",
       "      <td>1</td>\n",
       "      <td>5.0</td>\n",
       "      <td>15995.0</td>\n",
       "    </tr>\n",
       "    <tr>\n",
       "      <th>3</th>\n",
       "      <td>2.0</td>\n",
       "      <td>2012.0</td>\n",
       "      <td>27.238208</td>\n",
       "      <td>97.0</td>\n",
       "      <td>13.022558</td>\n",
       "      <td>71347.0</td>\n",
       "      <td>1.0</td>\n",
       "      <td>1.0</td>\n",
       "      <td>1</td>\n",
       "      <td>5.0</td>\n",
       "      <td>5995.0</td>\n",
       "    </tr>\n",
       "    <tr>\n",
       "      <th>4</th>\n",
       "      <td>0.0</td>\n",
       "      <td>2017.0</td>\n",
       "      <td>31.000000</td>\n",
       "      <td>86.0</td>\n",
       "      <td>126.891470</td>\n",
       "      <td>31152.0</td>\n",
       "      <td>4.0</td>\n",
       "      <td>1.0</td>\n",
       "      <td>1</td>\n",
       "      <td>5.0</td>\n",
       "      <td>12925.0</td>\n",
       "    </tr>\n",
       "    <tr>\n",
       "      <th>...</th>\n",
       "      <td>...</td>\n",
       "      <td>...</td>\n",
       "      <td>...</td>\n",
       "      <td>...</td>\n",
       "      <td>...</td>\n",
       "      <td>...</td>\n",
       "      <td>...</td>\n",
       "      <td>...</td>\n",
       "      <td>...</td>\n",
       "      <td>...</td>\n",
       "      <td>...</td>\n",
       "    </tr>\n",
       "    <tr>\n",
       "      <th>19079</th>\n",
       "      <td>0.0</td>\n",
       "      <td>2007.0</td>\n",
       "      <td>17.000000</td>\n",
       "      <td>15.0</td>\n",
       "      <td>186.085860</td>\n",
       "      <td>113256.0</td>\n",
       "      <td>1.0</td>\n",
       "      <td>1.0</td>\n",
       "      <td>1</td>\n",
       "      <td>5.0</td>\n",
       "      <td>14056.0</td>\n",
       "    </tr>\n",
       "    <tr>\n",
       "      <th>19080</th>\n",
       "      <td>0.0</td>\n",
       "      <td>2017.0</td>\n",
       "      <td>18.000000</td>\n",
       "      <td>60.0</td>\n",
       "      <td>176.379930</td>\n",
       "      <td>31792.0</td>\n",
       "      <td>3.0</td>\n",
       "      <td>2.0</td>\n",
       "      <td>1</td>\n",
       "      <td>7.0</td>\n",
       "      <td>30855.0</td>\n",
       "    </tr>\n",
       "    <tr>\n",
       "      <th>19081</th>\n",
       "      <td>0.0</td>\n",
       "      <td>2019.0</td>\n",
       "      <td>24.000000</td>\n",
       "      <td>110.0</td>\n",
       "      <td>10.958632</td>\n",
       "      <td>5358.0</td>\n",
       "      <td>1.0</td>\n",
       "      <td>1.0</td>\n",
       "      <td>1</td>\n",
       "      <td>8.0</td>\n",
       "      <td>26500.0</td>\n",
       "    </tr>\n",
       "    <tr>\n",
       "      <th>19082</th>\n",
       "      <td>0.0</td>\n",
       "      <td>2019.0</td>\n",
       "      <td>40.000000</td>\n",
       "      <td>47.0</td>\n",
       "      <td>128.102250</td>\n",
       "      <td>8847.0</td>\n",
       "      <td>3.0</td>\n",
       "      <td>1.0</td>\n",
       "      <td>1</td>\n",
       "      <td>5.0</td>\n",
       "      <td>33500.0</td>\n",
       "    </tr>\n",
       "    <tr>\n",
       "      <th>19083</th>\n",
       "      <td>0.0</td>\n",
       "      <td>2015.0</td>\n",
       "      <td>25.000000</td>\n",
       "      <td>30.0</td>\n",
       "      <td>154.744860</td>\n",
       "      <td>50540.0</td>\n",
       "      <td>2.0</td>\n",
       "      <td>1.0</td>\n",
       "      <td>1</td>\n",
       "      <td>5.0</td>\n",
       "      <td>18443.0</td>\n",
       "    </tr>\n",
       "  </tbody>\n",
       "</table>\n",
       "<p>17480 rows × 11 columns</p>\n",
       "</div>"
      ],
      "text/plain": [
       "       Accidents    Year  Fuel_economy_combined  Days_on_market    Distance  \\\n",
       "0            0.0  2017.0              29.000000            37.0   97.736984   \n",
       "1            0.0  2009.0              27.000000            10.0  171.237120   \n",
       "2            2.0  2015.0              26.000000            28.0  116.382470   \n",
       "3            2.0  2012.0              27.238208            97.0   13.022558   \n",
       "4            0.0  2017.0              31.000000            86.0  126.891470   \n",
       "...          ...     ...                    ...             ...         ...   \n",
       "19079        0.0  2007.0              17.000000            15.0  186.085860   \n",
       "19080        0.0  2017.0              18.000000            60.0  176.379930   \n",
       "19081        0.0  2019.0              24.000000           110.0   10.958632   \n",
       "19082        0.0  2019.0              40.000000            47.0  128.102250   \n",
       "19083        0.0  2015.0              25.000000            30.0  154.744860   \n",
       "\n",
       "        Mileage  Additional_features  Previous_owners  Photos  Seats    Price  \n",
       "0       49516.0                  5.0              2.0       1    5.0   7495.0  \n",
       "1      132196.0                  5.0              2.0       1    5.0   3997.0  \n",
       "2       20833.0                  6.0              1.0       1    5.0  15995.0  \n",
       "3       71347.0                  1.0              1.0       1    5.0   5995.0  \n",
       "4       31152.0                  4.0              1.0       1    5.0  12925.0  \n",
       "...         ...                  ...              ...     ...    ...      ...  \n",
       "19079  113256.0                  1.0              1.0       1    5.0  14056.0  \n",
       "19080   31792.0                  3.0              2.0       1    7.0  30855.0  \n",
       "19081    5358.0                  1.0              1.0       1    8.0  26500.0  \n",
       "19082    8847.0                  3.0              1.0       1    5.0  33500.0  \n",
       "19083   50540.0                  2.0              1.0       1    5.0  18443.0  \n",
       "\n",
       "[17480 rows x 11 columns]"
      ]
     },
     "execution_count": 110,
     "metadata": {},
     "output_type": "execute_result"
    }
   ],
   "source": [
    "df[df.corr()[\"Price\"].index]"
   ]
  },
  {
   "cell_type": "code",
   "execution_count": 111,
   "metadata": {},
   "outputs": [
    {
     "data": {
      "text/plain": [
       "<seaborn.axisgrid.JointGrid at 0x129189d50>"
      ]
     },
     "execution_count": 111,
     "metadata": {},
     "output_type": "execute_result"
    },
    {
     "data": {
      "image/png": "[encoded data removed]",
      "text/plain": [
       "<Figure size 432x432 with 3 Axes>"
      ]
     },
     "metadata": {},
     "output_type": "display_data"
    }
   ],
   "source": [
    "sns.jointplot(df[\"Mileage\"],df[\"Price\"])"
   ]
  },
  {
   "cell_type": "code",
   "execution_count": 112,
   "metadata": {},
   "outputs": [
    {
     "data": {
      "text/plain": [
       "<matplotlib.axes._subplots.AxesSubplot at 0x12a18d910>"
      ]
     },
     "execution_count": 112,
     "metadata": {},
     "output_type": "execute_result"
    },
    {
     "data": {
      "image/png": "[encoded data removed]",
      "text/plain": [
       "<Figure size 432x288 with 1 Axes>"
      ]
     },
     "metadata": {},
     "output_type": "display_data"
    }
   ],
   "source": [
    "sns.distplot(df[\"Fuel_economy_combined\"])"
   ]
  },
  {
   "cell_type": "code",
   "execution_count": 113,
   "metadata": {},
   "outputs": [
    {
     "data": {
      "text/plain": [
       "<seaborn.axisgrid.JointGrid at 0x129781f10>"
      ]
     },
     "execution_count": 113,
     "metadata": {},
     "output_type": "execute_result"
    },
    {
     "data": {
      "image/png": "[encoded data removed]",
      "text/plain": [
       "<Figure size 432x432 with 3 Axes>"
      ]
     },
     "metadata": {},
     "output_type": "display_data"
    }
   ],
   "source": [
    "sns.jointplot(df[\"Fuel_economy_combined\"],df[\"Price\"])"
   ]
  },
  {
   "cell_type": "code",
   "execution_count": 114,
   "metadata": {},
   "outputs": [
    {
     "data": {
      "text/plain": [
       "<matplotlib.axes._subplots.AxesSubplot at 0x12a1171d0>"
      ]
     },
     "execution_count": 114,
     "metadata": {},
     "output_type": "execute_result"
    },
    {
     "data": {
      "image/png": "[encoded data removed]",
      "text/plain": [
       "<Figure size 432x288 with 1 Axes>"
      ]
     },
     "metadata": {},
     "output_type": "display_data"
    }
   ],
   "source": [
    "sns.distplot(df[\"Seats\"])"
   ]
  },
  {
   "cell_type": "code",
   "execution_count": null,
   "metadata": {},
   "outputs": [],
   "source": [
    "df"
   ]
  },
  {
   "cell_type": "code",
   "execution_count": 108,
   "metadata": {},
   "outputs": [
    {
     "data": {
      "text/plain": [
       "Body_type\n",
       "SUV / Crossover    24.673616\n",
       "Sedan              30.178099\n",
       "Name: Fuel_economy_combined, dtype: float64"
      ]
     },
     "execution_count": 108,
     "metadata": {},
     "output_type": "execute_result"
    }
   ],
   "source": [
    "df.groupby(\"Body_type\")[\"Fuel_economy_combined\"].mean()"
   ]
  },
  {
   "cell_type": "code",
   "execution_count": 107,
   "metadata": {},
   "outputs": [
    {
     "data": {
      "text/plain": [
       "<matplotlib.axes._subplots.AxesSubplot at 0x129290790>"
      ]
     },
     "execution_count": 107,
     "metadata": {},
     "output_type": "execute_result"
    },
    {
     "data": {
      "image/png": "[encoded data removed]",
      "text/plain": [
       "<Figure size 432x288 with 1 Axes>"
      ]
     },
     "metadata": {},
     "output_type": "display_data"
    }
   ],
   "source": [
    "sns.boxplot(df[\"Photos\"],df[\"Price\"])"
   ]
  },
  {
   "cell_type": "code",
   "execution_count": null,
   "metadata": {},
   "outputs": [],
   "source": []
  }
 ],
 "metadata": {
  "kernelspec": {
   "display_name": "Python 3",
   "language": "python",
   "name": "python3"
  },
  "language_info": {
   "codemirror_mode": {
    "name": "ipython",
    "version": 3
   },
   "file_extension": ".py",
   "mimetype": "text/x-python",
   "name": "python",
   "nbconvert_exporter": "python",
   "pygments_lexer": "ipython3",
   "version": "3.7.7"
  }
 },
 "nbformat": 4,
 "nbformat_minor": 4
}
