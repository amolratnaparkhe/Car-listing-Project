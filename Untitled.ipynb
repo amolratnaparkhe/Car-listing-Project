{
 "cells": [
  {
   "cell_type": "code",
   "execution_count": 1,
   "metadata": {},
   "outputs": [],
   "source": [
    "import numpy as np\n",
    "import pandas as pd\n",
    "import matplotlib.pyplot as plt\n",
    "import seaborn as sns\n",
    "from scipy.stats import norm\n",
    "%matplotlib inline"
   ]
  },
  {
   "cell_type": "code",
   "execution_count": null,
   "metadata": {},
   "outputs": [],
   "source": []
  },
  {
   "cell_type": "code",
   "execution_count": 114,
   "metadata": {},
   "outputs": [],
   "source": [
    "sns.set_style(\"whitegrid\")"
   ]
  },
  {
   "cell_type": "code",
   "execution_count": 2,
   "metadata": {},
   "outputs": [
    {
     "data": {
      "text/html": [
       "<div>\n",
       "<style scoped>\n",
       "    .dataframe tbody tr th:only-of-type {\n",
       "        vertical-align: middle;\n",
       "    }\n",
       "\n",
       "    .dataframe tbody tr th {\n",
       "        vertical-align: top;\n",
       "    }\n",
       "\n",
       "    .dataframe thead th {\n",
       "        text-align: right;\n",
       "    }\n",
       "</style>\n",
       "<table border=\"1\" class=\"dataframe\">\n",
       "  <thead>\n",
       "    <tr style=\"text-align: right;\">\n",
       "      <th></th>\n",
       "      <th>Id</th>\n",
       "      <th>Accidents</th>\n",
       "      <th>Body_type</th>\n",
       "      <th>Year</th>\n",
       "      <th>Fuel_economy_combined</th>\n",
       "      <th>Days_on_market</th>\n",
       "      <th>Rating</th>\n",
       "      <th>Distance</th>\n",
       "      <th>Color</th>\n",
       "      <th>Drivetrain</th>\n",
       "      <th>Engine</th>\n",
       "      <th>Make</th>\n",
       "      <th>Mileage</th>\n",
       "      <th>Model</th>\n",
       "      <th>Transmission</th>\n",
       "      <th>Additional_features</th>\n",
       "      <th>Previous_owners</th>\n",
       "      <th>Price_drops</th>\n",
       "      <th>Photos</th>\n",
       "      <th>Seats</th>\n",
       "      <th>Seller_type</th>\n",
       "      <th>Trim</th>\n",
       "      <th>Price</th>\n",
       "    </tr>\n",
       "  </thead>\n",
       "  <tbody>\n",
       "    <tr>\n",
       "      <th>0</th>\n",
       "      <td>271936521</td>\n",
       "      <td>0</td>\n",
       "      <td>Sedan</td>\n",
       "      <td>2017</td>\n",
       "      <td>29 MPG</td>\n",
       "      <td>37</td>\n",
       "      <td>GREAT_PRICE</td>\n",
       "      <td>97.736984</td>\n",
       "      <td>BLACK</td>\n",
       "      <td>FRONT_WHEEL_DRIVE</td>\n",
       "      <td>I4</td>\n",
       "      <td>Chevrolet</td>\n",
       "      <td>49516</td>\n",
       "      <td>Sonic</td>\n",
       "      <td>Automatic</td>\n",
       "      <td>5</td>\n",
       "      <td>2</td>\n",
       "      <td>NaN</td>\n",
       "      <td>True</td>\n",
       "      <td>5</td>\n",
       "      <td>DEALER</td>\n",
       "      <td>LT Sedan FWD</td>\n",
       "      <td>7495.0</td>\n",
       "    </tr>\n",
       "    <tr>\n",
       "      <th>1</th>\n",
       "      <td>273738682</td>\n",
       "      <td>0</td>\n",
       "      <td>Sedan</td>\n",
       "      <td>2009</td>\n",
       "      <td>27 MPG</td>\n",
       "      <td>10</td>\n",
       "      <td>GREAT_PRICE</td>\n",
       "      <td>171.23712</td>\n",
       "      <td>SILVER</td>\n",
       "      <td>FRONT_WHEEL_DRIVE</td>\n",
       "      <td>I4</td>\n",
       "      <td>Chevrolet</td>\n",
       "      <td>132196</td>\n",
       "      <td>Malibu</td>\n",
       "      <td>Automatic</td>\n",
       "      <td>5</td>\n",
       "      <td>2</td>\n",
       "      <td>NaN</td>\n",
       "      <td>True</td>\n",
       "      <td>5</td>\n",
       "      <td>DEALER</td>\n",
       "      <td>LTZ FWD</td>\n",
       "      <td>3997.0</td>\n",
       "    </tr>\n",
       "    <tr>\n",
       "      <th>2</th>\n",
       "      <td>272560966</td>\n",
       "      <td>2</td>\n",
       "      <td>Sedan</td>\n",
       "      <td>2015</td>\n",
       "      <td>26 MPG</td>\n",
       "      <td>28</td>\n",
       "      <td>GREAT_PRICE</td>\n",
       "      <td>116.38247</td>\n",
       "      <td>BROWN</td>\n",
       "      <td>FRONT_WHEEL_DRIVE</td>\n",
       "      <td>I4</td>\n",
       "      <td>Chevrolet</td>\n",
       "      <td>20833</td>\n",
       "      <td>Impala</td>\n",
       "      <td>Automatic</td>\n",
       "      <td>6</td>\n",
       "      <td>1</td>\n",
       "      <td>NaN</td>\n",
       "      <td>True</td>\n",
       "      <td>5</td>\n",
       "      <td>DEALER</td>\n",
       "      <td>LTZ 1LZ FWD</td>\n",
       "      <td>15995.0</td>\n",
       "    </tr>\n",
       "    <tr>\n",
       "      <th>3</th>\n",
       "      <td>268734916</td>\n",
       "      <td>2</td>\n",
       "      <td>Sedan</td>\n",
       "      <td>2012</td>\n",
       "      <td>NaN</td>\n",
       "      <td>97</td>\n",
       "      <td>GREAT_PRICE</td>\n",
       "      <td>13.022558</td>\n",
       "      <td>BLACK</td>\n",
       "      <td>REAR_WHEEL_DRIVE</td>\n",
       "      <td>V6</td>\n",
       "      <td>Chevrolet</td>\n",
       "      <td>71347</td>\n",
       "      <td>Caprice</td>\n",
       "      <td>6-Speed Automatic</td>\n",
       "      <td>1</td>\n",
       "      <td>1</td>\n",
       "      <td>NaN</td>\n",
       "      <td>True</td>\n",
       "      <td>5</td>\n",
       "      <td>DEALER</td>\n",
       "      <td>Police Sedan RWD</td>\n",
       "      <td>5995.0</td>\n",
       "    </tr>\n",
       "    <tr>\n",
       "      <th>4</th>\n",
       "      <td>269505576</td>\n",
       "      <td>0</td>\n",
       "      <td>Sedan</td>\n",
       "      <td>2017</td>\n",
       "      <td>31 MPG</td>\n",
       "      <td>86</td>\n",
       "      <td>GREAT_PRICE</td>\n",
       "      <td>126.89147</td>\n",
       "      <td>SILVER</td>\n",
       "      <td>FRONT_WHEEL_DRIVE</td>\n",
       "      <td>I4</td>\n",
       "      <td>Chevrolet</td>\n",
       "      <td>31152</td>\n",
       "      <td>Malibu</td>\n",
       "      <td>6-Speed Automatic</td>\n",
       "      <td>4</td>\n",
       "      <td>1</td>\n",
       "      <td>NaN</td>\n",
       "      <td>True</td>\n",
       "      <td>5</td>\n",
       "      <td>DEALER</td>\n",
       "      <td>LT FWD</td>\n",
       "      <td>12925.0</td>\n",
       "    </tr>\n",
       "  </tbody>\n",
       "</table>\n",
       "</div>"
      ],
      "text/plain": [
       "          Id Accidents Body_type  Year Fuel_economy_combined Days_on_market  \\\n",
       "0  271936521         0     Sedan  2017                29 MPG             37   \n",
       "1  273738682         0     Sedan  2009                27 MPG             10   \n",
       "2  272560966         2     Sedan  2015                26 MPG             28   \n",
       "3  268734916         2     Sedan  2012                   NaN             97   \n",
       "4  269505576         0     Sedan  2017                31 MPG             86   \n",
       "\n",
       "        Rating   Distance   Color         Drivetrain Engine       Make  \\\n",
       "0  GREAT_PRICE  97.736984   BLACK  FRONT_WHEEL_DRIVE     I4  Chevrolet   \n",
       "1  GREAT_PRICE  171.23712  SILVER  FRONT_WHEEL_DRIVE     I4  Chevrolet   \n",
       "2  GREAT_PRICE  116.38247   BROWN  FRONT_WHEEL_DRIVE     I4  Chevrolet   \n",
       "3  GREAT_PRICE  13.022558   BLACK   REAR_WHEEL_DRIVE     V6  Chevrolet   \n",
       "4  GREAT_PRICE  126.89147  SILVER  FRONT_WHEEL_DRIVE     I4  Chevrolet   \n",
       "\n",
       "  Mileage    Model       Transmission Additional_features Previous_owners  \\\n",
       "0   49516    Sonic          Automatic                   5               2   \n",
       "1  132196   Malibu          Automatic                   5               2   \n",
       "2   20833   Impala          Automatic                   6               1   \n",
       "3   71347  Caprice  6-Speed Automatic                   1               1   \n",
       "4   31152   Malibu  6-Speed Automatic                   4               1   \n",
       "\n",
       "  Price_drops Photos Seats Seller_type              Trim    Price  \n",
       "0         NaN   True     5      DEALER      LT Sedan FWD   7495.0  \n",
       "1         NaN   True     5      DEALER           LTZ FWD   3997.0  \n",
       "2         NaN   True     5      DEALER       LTZ 1LZ FWD  15995.0  \n",
       "3         NaN   True     5      DEALER  Police Sedan RWD   5995.0  \n",
       "4         NaN   True     5      DEALER            LT FWD  12925.0  "
      ]
     },
     "execution_count": 2,
     "metadata": {},
     "output_type": "execute_result"
    }
   ],
   "source": [
    "df = pd.read_csv(\"cars.csv\")\n",
    "pd.set_option('display.max_columns', None)\n",
    "df.head()"
   ]
  },
  {
   "cell_type": "code",
   "execution_count": 3,
   "metadata": {},
   "outputs": [
    {
     "data": {
      "text/plain": [
       "(19502, 23)"
      ]
     },
     "execution_count": 3,
     "metadata": {},
     "output_type": "execute_result"
    }
   ],
   "source": [
    "df.shape"
   ]
  },
  {
   "cell_type": "code",
   "execution_count": 4,
   "metadata": {},
   "outputs": [
    {
     "data": {
      "text/plain": [
       "Index(['Id', 'Accidents', 'Body_type', 'Year', 'Fuel_economy_combined',\n",
       "       'Days_on_market', 'Rating', 'Distance', 'Color', 'Drivetrain', 'Engine',\n",
       "       'Make', 'Mileage', 'Model', 'Transmission', 'Additional_features',\n",
       "       'Previous_owners', 'Price_drops', 'Photos', 'Seats', 'Seller_type',\n",
       "       'Trim', 'Price'],\n",
       "      dtype='object')"
      ]
     },
     "execution_count": 4,
     "metadata": {},
     "output_type": "execute_result"
    }
   ],
   "source": [
    "df.columns"
   ]
  },
  {
   "cell_type": "code",
   "execution_count": 5,
   "metadata": {},
   "outputs": [
    {
     "data": {
      "text/html": [
       "<div>\n",
       "<style scoped>\n",
       "    .dataframe tbody tr th:only-of-type {\n",
       "        vertical-align: middle;\n",
       "    }\n",
       "\n",
       "    .dataframe tbody tr th {\n",
       "        vertical-align: top;\n",
       "    }\n",
       "\n",
       "    .dataframe thead th {\n",
       "        text-align: right;\n",
       "    }\n",
       "</style>\n",
       "<table border=\"1\" class=\"dataframe\">\n",
       "  <thead>\n",
       "    <tr style=\"text-align: right;\">\n",
       "      <th></th>\n",
       "      <th>Id</th>\n",
       "      <th>Accidents</th>\n",
       "      <th>Body_type</th>\n",
       "      <th>Year</th>\n",
       "      <th>Fuel_economy_combined</th>\n",
       "      <th>Days_on_market</th>\n",
       "      <th>Rating</th>\n",
       "      <th>Distance</th>\n",
       "      <th>Color</th>\n",
       "      <th>Drivetrain</th>\n",
       "      <th>Engine</th>\n",
       "      <th>Make</th>\n",
       "      <th>Mileage</th>\n",
       "      <th>Model</th>\n",
       "      <th>Transmission</th>\n",
       "      <th>Additional_features</th>\n",
       "      <th>Previous_owners</th>\n",
       "      <th>Price_drops</th>\n",
       "      <th>Photos</th>\n",
       "      <th>Seats</th>\n",
       "      <th>Seller_type</th>\n",
       "      <th>Trim</th>\n",
       "      <th>Price</th>\n",
       "    </tr>\n",
       "  </thead>\n",
       "  <tbody>\n",
       "    <tr>\n",
       "      <th>count</th>\n",
       "      <td>19502</td>\n",
       "      <td>19418</td>\n",
       "      <td>19488</td>\n",
       "      <td>19502</td>\n",
       "      <td>17464</td>\n",
       "      <td>19502</td>\n",
       "      <td>18999</td>\n",
       "      <td>19502</td>\n",
       "      <td>19502</td>\n",
       "      <td>18401</td>\n",
       "      <td>19269</td>\n",
       "      <td>19502</td>\n",
       "      <td>19461</td>\n",
       "      <td>19502</td>\n",
       "      <td>19307</td>\n",
       "      <td>19502</td>\n",
       "      <td>19190</td>\n",
       "      <td>2055</td>\n",
       "      <td>18123</td>\n",
       "      <td>19232</td>\n",
       "      <td>19502</td>\n",
       "      <td>19318</td>\n",
       "      <td>19165</td>\n",
       "    </tr>\n",
       "    <tr>\n",
       "      <th>unique</th>\n",
       "      <td>17981</td>\n",
       "      <td>7</td>\n",
       "      <td>3</td>\n",
       "      <td>18</td>\n",
       "      <td>38</td>\n",
       "      <td>514</td>\n",
       "      <td>7</td>\n",
       "      <td>2217</td>\n",
       "      <td>15</td>\n",
       "      <td>6</td>\n",
       "      <td>9</td>\n",
       "      <td>13</td>\n",
       "      <td>16401</td>\n",
       "      <td>160</td>\n",
       "      <td>32</td>\n",
       "      <td>25</td>\n",
       "      <td>8</td>\n",
       "      <td>2</td>\n",
       "      <td>2</td>\n",
       "      <td>7</td>\n",
       "      <td>3</td>\n",
       "      <td>727</td>\n",
       "      <td>6421</td>\n",
       "    </tr>\n",
       "    <tr>\n",
       "      <th>top</th>\n",
       "      <td>Id</td>\n",
       "      <td>0</td>\n",
       "      <td>SUV / Crossover</td>\n",
       "      <td>2017</td>\n",
       "      <td>29 MPG</td>\n",
       "      <td>4</td>\n",
       "      <td>FAIR_PRICE</td>\n",
       "      <td>180.90224</td>\n",
       "      <td>BLACK</td>\n",
       "      <td>FRONT_WHEEL_DRIVE</td>\n",
       "      <td>I4</td>\n",
       "      <td>Kia</td>\n",
       "      <td>Mileage</td>\n",
       "      <td>CX-5</td>\n",
       "      <td>6-Speed Automatic</td>\n",
       "      <td>3</td>\n",
       "      <td>1</td>\n",
       "      <td>True</td>\n",
       "      <td>True</td>\n",
       "      <td>5</td>\n",
       "      <td>DEALER</td>\n",
       "      <td>LX</td>\n",
       "      <td>7995.0</td>\n",
       "    </tr>\n",
       "    <tr>\n",
       "      <th>freq</th>\n",
       "      <td>22</td>\n",
       "      <td>16087</td>\n",
       "      <td>11227</td>\n",
       "      <td>4982</td>\n",
       "      <td>1580</td>\n",
       "      <td>475</td>\n",
       "      <td>10162</td>\n",
       "      <td>120</td>\n",
       "      <td>3596</td>\n",
       "      <td>8700</td>\n",
       "      <td>13847</td>\n",
       "      <td>2400</td>\n",
       "      <td>22</td>\n",
       "      <td>1196</td>\n",
       "      <td>5906</td>\n",
       "      <td>4858</td>\n",
       "      <td>12308</td>\n",
       "      <td>2033</td>\n",
       "      <td>18101</td>\n",
       "      <td>16157</td>\n",
       "      <td>19419</td>\n",
       "      <td>935</td>\n",
       "      <td>151</td>\n",
       "    </tr>\n",
       "  </tbody>\n",
       "</table>\n",
       "</div>"
      ],
      "text/plain": [
       "           Id Accidents        Body_type   Year Fuel_economy_combined  \\\n",
       "count   19502     19418            19488  19502                 17464   \n",
       "unique  17981         7                3     18                    38   \n",
       "top        Id         0  SUV / Crossover   2017                29 MPG   \n",
       "freq       22     16087            11227   4982                  1580   \n",
       "\n",
       "       Days_on_market      Rating   Distance  Color         Drivetrain Engine  \\\n",
       "count           19502       18999      19502  19502              18401  19269   \n",
       "unique            514           7       2217     15                  6      9   \n",
       "top                 4  FAIR_PRICE  180.90224  BLACK  FRONT_WHEEL_DRIVE     I4   \n",
       "freq              475       10162        120   3596               8700  13847   \n",
       "\n",
       "         Make  Mileage  Model       Transmission Additional_features  \\\n",
       "count   19502    19461  19502              19307               19502   \n",
       "unique     13    16401    160                 32                  25   \n",
       "top       Kia  Mileage   CX-5  6-Speed Automatic                   3   \n",
       "freq     2400       22   1196               5906                4858   \n",
       "\n",
       "       Previous_owners Price_drops Photos  Seats Seller_type   Trim   Price  \n",
       "count            19190        2055  18123  19232       19502  19318   19165  \n",
       "unique               8           2      2      7           3    727    6421  \n",
       "top                  1        True   True      5      DEALER     LX  7995.0  \n",
       "freq             12308        2033  18101  16157       19419    935     151  "
      ]
     },
     "execution_count": 5,
     "metadata": {},
     "output_type": "execute_result"
    }
   ],
   "source": [
    "df.describe()"
   ]
  },
  {
   "cell_type": "code",
   "execution_count": 6,
   "metadata": {},
   "outputs": [
    {
     "name": "stdout",
     "output_type": "stream",
     "text": [
      "<class 'pandas.core.frame.DataFrame'>\n",
      "RangeIndex: 19502 entries, 0 to 19501\n",
      "Data columns (total 23 columns):\n",
      " #   Column                 Non-Null Count  Dtype \n",
      "---  ------                 --------------  ----- \n",
      " 0   Id                     19502 non-null  object\n",
      " 1   Accidents              19418 non-null  object\n",
      " 2   Body_type              19488 non-null  object\n",
      " 3   Year                   19502 non-null  object\n",
      " 4   Fuel_economy_combined  17464 non-null  object\n",
      " 5   Days_on_market         19502 non-null  object\n",
      " 6   Rating                 18999 non-null  object\n",
      " 7   Distance               19502 non-null  object\n",
      " 8   Color                  19502 non-null  object\n",
      " 9   Drivetrain             18401 non-null  object\n",
      " 10  Engine                 19269 non-null  object\n",
      " 11  Make                   19502 non-null  object\n",
      " 12  Mileage                19461 non-null  object\n",
      " 13  Model                  19502 non-null  object\n",
      " 14  Transmission           19307 non-null  object\n",
      " 15  Additional_features    19502 non-null  object\n",
      " 16  Previous_owners        19190 non-null  object\n",
      " 17  Price_drops            2055 non-null   object\n",
      " 18  Photos                 18123 non-null  object\n",
      " 19  Seats                  19232 non-null  object\n",
      " 20  Seller_type            19502 non-null  object\n",
      " 21  Trim                   19318 non-null  object\n",
      " 22  Price                  19165 non-null  object\n",
      "dtypes: object(23)\n",
      "memory usage: 3.4+ MB\n"
     ]
    }
   ],
   "source": [
    "df.info()"
   ]
  },
  {
   "cell_type": "code",
   "execution_count": null,
   "metadata": {},
   "outputs": [],
   "source": []
  },
  {
   "cell_type": "markdown",
   "metadata": {},
   "source": [
    "## ID for each vehicle must be unique. Looks like we have a few duplicates"
   ]
  },
  {
   "cell_type": "code",
   "execution_count": 7,
   "metadata": {},
   "outputs": [
    {
     "data": {
      "text/plain": [
       "Id           22\n",
       "273946444     2\n",
       "274586656     2\n",
       "264942090     2\n",
       "274294186     2\n",
       "             ..\n",
       "273337971     1\n",
       "255873104     1\n",
       "271272822     1\n",
       "271868523     1\n",
       "268159116     1\n",
       "Name: Id, Length: 17981, dtype: int64"
      ]
     },
     "execution_count": 7,
     "metadata": {},
     "output_type": "execute_result"
    }
   ],
   "source": [
    "df[\"Id\"].value_counts()"
   ]
  },
  {
   "cell_type": "markdown",
   "metadata": {},
   "source": [
    "Looks like the labels also got scraped for each of the vehicle kinds"
   ]
  },
  {
   "cell_type": "code",
   "execution_count": 8,
   "metadata": {},
   "outputs": [
    {
     "data": {
      "text/html": [
       "<div>\n",
       "<style scoped>\n",
       "    .dataframe tbody tr th:only-of-type {\n",
       "        vertical-align: middle;\n",
       "    }\n",
       "\n",
       "    .dataframe tbody tr th {\n",
       "        vertical-align: top;\n",
       "    }\n",
       "\n",
       "    .dataframe thead th {\n",
       "        text-align: right;\n",
       "    }\n",
       "</style>\n",
       "<table border=\"1\" class=\"dataframe\">\n",
       "  <thead>\n",
       "    <tr style=\"text-align: right;\">\n",
       "      <th></th>\n",
       "      <th>Id</th>\n",
       "      <th>Accidents</th>\n",
       "      <th>Body_type</th>\n",
       "      <th>Year</th>\n",
       "      <th>Fuel_economy_combined</th>\n",
       "      <th>Days_on_market</th>\n",
       "      <th>Rating</th>\n",
       "      <th>Distance</th>\n",
       "      <th>Color</th>\n",
       "      <th>Drivetrain</th>\n",
       "      <th>Engine</th>\n",
       "      <th>Make</th>\n",
       "      <th>Mileage</th>\n",
       "      <th>Model</th>\n",
       "      <th>Transmission</th>\n",
       "      <th>Additional_features</th>\n",
       "      <th>Previous_owners</th>\n",
       "      <th>Price_drops</th>\n",
       "      <th>Photos</th>\n",
       "      <th>Seats</th>\n",
       "      <th>Seller_type</th>\n",
       "      <th>Trim</th>\n",
       "      <th>Price</th>\n",
       "    </tr>\n",
       "  </thead>\n",
       "  <tbody>\n",
       "    <tr>\n",
       "      <th>900</th>\n",
       "      <td>Id</td>\n",
       "      <td>Accidents</td>\n",
       "      <td>Body_type</td>\n",
       "      <td>Year</td>\n",
       "      <td>Fuel_economy_combined</td>\n",
       "      <td>Days_on_market</td>\n",
       "      <td>Rating</td>\n",
       "      <td>Distance</td>\n",
       "      <td>Color</td>\n",
       "      <td>Drivetrain</td>\n",
       "      <td>Engine</td>\n",
       "      <td>Make</td>\n",
       "      <td>Mileage</td>\n",
       "      <td>Model</td>\n",
       "      <td>Transmission</td>\n",
       "      <td>Additional_features</td>\n",
       "      <td>Previous_owners</td>\n",
       "      <td>Price_drops</td>\n",
       "      <td>Photos</td>\n",
       "      <td>Seats</td>\n",
       "      <td>Seller_type</td>\n",
       "      <td>Trim</td>\n",
       "      <td>Price</td>\n",
       "    </tr>\n",
       "    <tr>\n",
       "      <th>1801</th>\n",
       "      <td>Id</td>\n",
       "      <td>Accidents</td>\n",
       "      <td>Body_type</td>\n",
       "      <td>Year</td>\n",
       "      <td>Fuel_economy_combined</td>\n",
       "      <td>Days_on_market</td>\n",
       "      <td>Rating</td>\n",
       "      <td>Distance</td>\n",
       "      <td>Color</td>\n",
       "      <td>Drivetrain</td>\n",
       "      <td>Engine</td>\n",
       "      <td>Make</td>\n",
       "      <td>Mileage</td>\n",
       "      <td>Model</td>\n",
       "      <td>Transmission</td>\n",
       "      <td>Additional_features</td>\n",
       "      <td>Previous_owners</td>\n",
       "      <td>Price_drops</td>\n",
       "      <td>Photos</td>\n",
       "      <td>Seats</td>\n",
       "      <td>Seller_type</td>\n",
       "      <td>Trim</td>\n",
       "      <td>Price</td>\n",
       "    </tr>\n",
       "    <tr>\n",
       "      <th>2702</th>\n",
       "      <td>Id</td>\n",
       "      <td>Accidents</td>\n",
       "      <td>Body_type</td>\n",
       "      <td>Year</td>\n",
       "      <td>Fuel_economy_combined</td>\n",
       "      <td>Days_on_market</td>\n",
       "      <td>Rating</td>\n",
       "      <td>Distance</td>\n",
       "      <td>Color</td>\n",
       "      <td>Drivetrain</td>\n",
       "      <td>Engine</td>\n",
       "      <td>Make</td>\n",
       "      <td>Mileage</td>\n",
       "      <td>Model</td>\n",
       "      <td>Transmission</td>\n",
       "      <td>Additional_features</td>\n",
       "      <td>Previous_owners</td>\n",
       "      <td>Price_drops</td>\n",
       "      <td>Photos</td>\n",
       "      <td>Seats</td>\n",
       "      <td>Seller_type</td>\n",
       "      <td>Trim</td>\n",
       "      <td>Price</td>\n",
       "    </tr>\n",
       "    <tr>\n",
       "      <th>3603</th>\n",
       "      <td>Id</td>\n",
       "      <td>Accidents</td>\n",
       "      <td>Body_type</td>\n",
       "      <td>Year</td>\n",
       "      <td>Fuel_economy_combined</td>\n",
       "      <td>Days_on_market</td>\n",
       "      <td>Rating</td>\n",
       "      <td>Distance</td>\n",
       "      <td>Color</td>\n",
       "      <td>Drivetrain</td>\n",
       "      <td>Engine</td>\n",
       "      <td>Make</td>\n",
       "      <td>Mileage</td>\n",
       "      <td>Model</td>\n",
       "      <td>Transmission</td>\n",
       "      <td>Additional_features</td>\n",
       "      <td>Previous_owners</td>\n",
       "      <td>Price_drops</td>\n",
       "      <td>Photos</td>\n",
       "      <td>Seats</td>\n",
       "      <td>Seller_type</td>\n",
       "      <td>Trim</td>\n",
       "      <td>Price</td>\n",
       "    </tr>\n",
       "    <tr>\n",
       "      <th>4504</th>\n",
       "      <td>Id</td>\n",
       "      <td>Accidents</td>\n",
       "      <td>Body_type</td>\n",
       "      <td>Year</td>\n",
       "      <td>Fuel_economy_combined</td>\n",
       "      <td>Days_on_market</td>\n",
       "      <td>Rating</td>\n",
       "      <td>Distance</td>\n",
       "      <td>Color</td>\n",
       "      <td>Drivetrain</td>\n",
       "      <td>Engine</td>\n",
       "      <td>Make</td>\n",
       "      <td>Mileage</td>\n",
       "      <td>Model</td>\n",
       "      <td>Transmission</td>\n",
       "      <td>Additional_features</td>\n",
       "      <td>Previous_owners</td>\n",
       "      <td>Price_drops</td>\n",
       "      <td>Photos</td>\n",
       "      <td>Seats</td>\n",
       "      <td>Seller_type</td>\n",
       "      <td>Trim</td>\n",
       "      <td>Price</td>\n",
       "    </tr>\n",
       "    <tr>\n",
       "      <th>5405</th>\n",
       "      <td>Id</td>\n",
       "      <td>Accidents</td>\n",
       "      <td>Body_type</td>\n",
       "      <td>Year</td>\n",
       "      <td>Fuel_economy_combined</td>\n",
       "      <td>Days_on_market</td>\n",
       "      <td>Rating</td>\n",
       "      <td>Distance</td>\n",
       "      <td>Color</td>\n",
       "      <td>Drivetrain</td>\n",
       "      <td>Engine</td>\n",
       "      <td>Make</td>\n",
       "      <td>Mileage</td>\n",
       "      <td>Model</td>\n",
       "      <td>Transmission</td>\n",
       "      <td>Additional_features</td>\n",
       "      <td>Previous_owners</td>\n",
       "      <td>Price_drops</td>\n",
       "      <td>Photos</td>\n",
       "      <td>Seats</td>\n",
       "      <td>Seller_type</td>\n",
       "      <td>Trim</td>\n",
       "      <td>Price</td>\n",
       "    </tr>\n",
       "    <tr>\n",
       "      <th>5550</th>\n",
       "      <td>Id</td>\n",
       "      <td>Accidents</td>\n",
       "      <td>Body_type</td>\n",
       "      <td>Year</td>\n",
       "      <td>Fuel_economy_combined</td>\n",
       "      <td>Days_on_market</td>\n",
       "      <td>Rating</td>\n",
       "      <td>Distance</td>\n",
       "      <td>Color</td>\n",
       "      <td>Drivetrain</td>\n",
       "      <td>Engine</td>\n",
       "      <td>Make</td>\n",
       "      <td>Mileage</td>\n",
       "      <td>Model</td>\n",
       "      <td>Transmission</td>\n",
       "      <td>Additional_features</td>\n",
       "      <td>Previous_owners</td>\n",
       "      <td>Price_drops</td>\n",
       "      <td>Photos</td>\n",
       "      <td>Seats</td>\n",
       "      <td>Seller_type</td>\n",
       "      <td>Trim</td>\n",
       "      <td>Price</td>\n",
       "    </tr>\n",
       "    <tr>\n",
       "      <th>6451</th>\n",
       "      <td>Id</td>\n",
       "      <td>Accidents</td>\n",
       "      <td>Body_type</td>\n",
       "      <td>Year</td>\n",
       "      <td>Fuel_economy_combined</td>\n",
       "      <td>Days_on_market</td>\n",
       "      <td>Rating</td>\n",
       "      <td>Distance</td>\n",
       "      <td>Color</td>\n",
       "      <td>Drivetrain</td>\n",
       "      <td>Engine</td>\n",
       "      <td>Make</td>\n",
       "      <td>Mileage</td>\n",
       "      <td>Model</td>\n",
       "      <td>Transmission</td>\n",
       "      <td>Additional_features</td>\n",
       "      <td>Previous_owners</td>\n",
       "      <td>Price_drops</td>\n",
       "      <td>Photos</td>\n",
       "      <td>Seats</td>\n",
       "      <td>Seller_type</td>\n",
       "      <td>Trim</td>\n",
       "      <td>Price</td>\n",
       "    </tr>\n",
       "    <tr>\n",
       "      <th>7352</th>\n",
       "      <td>Id</td>\n",
       "      <td>Accidents</td>\n",
       "      <td>Body_type</td>\n",
       "      <td>Year</td>\n",
       "      <td>Fuel_economy_combined</td>\n",
       "      <td>Days_on_market</td>\n",
       "      <td>Rating</td>\n",
       "      <td>Distance</td>\n",
       "      <td>Color</td>\n",
       "      <td>Drivetrain</td>\n",
       "      <td>Engine</td>\n",
       "      <td>Make</td>\n",
       "      <td>Mileage</td>\n",
       "      <td>Model</td>\n",
       "      <td>Transmission</td>\n",
       "      <td>Additional_features</td>\n",
       "      <td>Previous_owners</td>\n",
       "      <td>Price_drops</td>\n",
       "      <td>Photos</td>\n",
       "      <td>Seats</td>\n",
       "      <td>Seller_type</td>\n",
       "      <td>Trim</td>\n",
       "      <td>Price</td>\n",
       "    </tr>\n",
       "    <tr>\n",
       "      <th>8253</th>\n",
       "      <td>Id</td>\n",
       "      <td>Accidents</td>\n",
       "      <td>Body_type</td>\n",
       "      <td>Year</td>\n",
       "      <td>Fuel_economy_combined</td>\n",
       "      <td>Days_on_market</td>\n",
       "      <td>Rating</td>\n",
       "      <td>Distance</td>\n",
       "      <td>Color</td>\n",
       "      <td>Drivetrain</td>\n",
       "      <td>Engine</td>\n",
       "      <td>Make</td>\n",
       "      <td>Mileage</td>\n",
       "      <td>Model</td>\n",
       "      <td>Transmission</td>\n",
       "      <td>Additional_features</td>\n",
       "      <td>Previous_owners</td>\n",
       "      <td>Price_drops</td>\n",
       "      <td>Photos</td>\n",
       "      <td>Seats</td>\n",
       "      <td>Seller_type</td>\n",
       "      <td>Trim</td>\n",
       "      <td>Price</td>\n",
       "    </tr>\n",
       "    <tr>\n",
       "      <th>9154</th>\n",
       "      <td>Id</td>\n",
       "      <td>Accidents</td>\n",
       "      <td>Body_type</td>\n",
       "      <td>Year</td>\n",
       "      <td>Fuel_economy_combined</td>\n",
       "      <td>Days_on_market</td>\n",
       "      <td>Rating</td>\n",
       "      <td>Distance</td>\n",
       "      <td>Color</td>\n",
       "      <td>Drivetrain</td>\n",
       "      <td>Engine</td>\n",
       "      <td>Make</td>\n",
       "      <td>Mileage</td>\n",
       "      <td>Model</td>\n",
       "      <td>Transmission</td>\n",
       "      <td>Additional_features</td>\n",
       "      <td>Previous_owners</td>\n",
       "      <td>Price_drops</td>\n",
       "      <td>Photos</td>\n",
       "      <td>Seats</td>\n",
       "      <td>Seller_type</td>\n",
       "      <td>Trim</td>\n",
       "      <td>Price</td>\n",
       "    </tr>\n",
       "    <tr>\n",
       "      <th>10055</th>\n",
       "      <td>Id</td>\n",
       "      <td>Accidents</td>\n",
       "      <td>Body_type</td>\n",
       "      <td>Year</td>\n",
       "      <td>Fuel_economy_combined</td>\n",
       "      <td>Days_on_market</td>\n",
       "      <td>Rating</td>\n",
       "      <td>Distance</td>\n",
       "      <td>Color</td>\n",
       "      <td>Drivetrain</td>\n",
       "      <td>Engine</td>\n",
       "      <td>Make</td>\n",
       "      <td>Mileage</td>\n",
       "      <td>Model</td>\n",
       "      <td>Transmission</td>\n",
       "      <td>Additional_features</td>\n",
       "      <td>Previous_owners</td>\n",
       "      <td>Price_drops</td>\n",
       "      <td>Photos</td>\n",
       "      <td>Seats</td>\n",
       "      <td>Seller_type</td>\n",
       "      <td>Trim</td>\n",
       "      <td>Price</td>\n",
       "    </tr>\n",
       "    <tr>\n",
       "      <th>10956</th>\n",
       "      <td>Id</td>\n",
       "      <td>Accidents</td>\n",
       "      <td>Body_type</td>\n",
       "      <td>Year</td>\n",
       "      <td>Fuel_economy_combined</td>\n",
       "      <td>Days_on_market</td>\n",
       "      <td>Rating</td>\n",
       "      <td>Distance</td>\n",
       "      <td>Color</td>\n",
       "      <td>Drivetrain</td>\n",
       "      <td>Engine</td>\n",
       "      <td>Make</td>\n",
       "      <td>Mileage</td>\n",
       "      <td>Model</td>\n",
       "      <td>Transmission</td>\n",
       "      <td>Additional_features</td>\n",
       "      <td>Previous_owners</td>\n",
       "      <td>Price_drops</td>\n",
       "      <td>Photos</td>\n",
       "      <td>Seats</td>\n",
       "      <td>Seller_type</td>\n",
       "      <td>Trim</td>\n",
       "      <td>Price</td>\n",
       "    </tr>\n",
       "    <tr>\n",
       "      <th>11857</th>\n",
       "      <td>Id</td>\n",
       "      <td>Accidents</td>\n",
       "      <td>Body_type</td>\n",
       "      <td>Year</td>\n",
       "      <td>Fuel_economy_combined</td>\n",
       "      <td>Days_on_market</td>\n",
       "      <td>Rating</td>\n",
       "      <td>Distance</td>\n",
       "      <td>Color</td>\n",
       "      <td>Drivetrain</td>\n",
       "      <td>Engine</td>\n",
       "      <td>Make</td>\n",
       "      <td>Mileage</td>\n",
       "      <td>Model</td>\n",
       "      <td>Transmission</td>\n",
       "      <td>Additional_features</td>\n",
       "      <td>Previous_owners</td>\n",
       "      <td>Price_drops</td>\n",
       "      <td>Photos</td>\n",
       "      <td>Seats</td>\n",
       "      <td>Seller_type</td>\n",
       "      <td>Trim</td>\n",
       "      <td>Price</td>\n",
       "    </tr>\n",
       "    <tr>\n",
       "      <th>12758</th>\n",
       "      <td>Id</td>\n",
       "      <td>Accidents</td>\n",
       "      <td>Body_type</td>\n",
       "      <td>Year</td>\n",
       "      <td>Fuel_economy_combined</td>\n",
       "      <td>Days_on_market</td>\n",
       "      <td>Rating</td>\n",
       "      <td>Distance</td>\n",
       "      <td>Color</td>\n",
       "      <td>Drivetrain</td>\n",
       "      <td>Engine</td>\n",
       "      <td>Make</td>\n",
       "      <td>Mileage</td>\n",
       "      <td>Model</td>\n",
       "      <td>Transmission</td>\n",
       "      <td>Additional_features</td>\n",
       "      <td>Previous_owners</td>\n",
       "      <td>Price_drops</td>\n",
       "      <td>Photos</td>\n",
       "      <td>Seats</td>\n",
       "      <td>Seller_type</td>\n",
       "      <td>Trim</td>\n",
       "      <td>Price</td>\n",
       "    </tr>\n",
       "    <tr>\n",
       "      <th>13659</th>\n",
       "      <td>Id</td>\n",
       "      <td>Accidents</td>\n",
       "      <td>Body_type</td>\n",
       "      <td>Year</td>\n",
       "      <td>Fuel_economy_combined</td>\n",
       "      <td>Days_on_market</td>\n",
       "      <td>Rating</td>\n",
       "      <td>Distance</td>\n",
       "      <td>Color</td>\n",
       "      <td>Drivetrain</td>\n",
       "      <td>Engine</td>\n",
       "      <td>Make</td>\n",
       "      <td>Mileage</td>\n",
       "      <td>Model</td>\n",
       "      <td>Transmission</td>\n",
       "      <td>Additional_features</td>\n",
       "      <td>Previous_owners</td>\n",
       "      <td>Price_drops</td>\n",
       "      <td>Photos</td>\n",
       "      <td>Seats</td>\n",
       "      <td>Seller_type</td>\n",
       "      <td>Trim</td>\n",
       "      <td>Price</td>\n",
       "    </tr>\n",
       "    <tr>\n",
       "      <th>14260</th>\n",
       "      <td>Id</td>\n",
       "      <td>Accidents</td>\n",
       "      <td>Body_type</td>\n",
       "      <td>Year</td>\n",
       "      <td>Fuel_economy_combined</td>\n",
       "      <td>Days_on_market</td>\n",
       "      <td>Rating</td>\n",
       "      <td>Distance</td>\n",
       "      <td>Color</td>\n",
       "      <td>Drivetrain</td>\n",
       "      <td>Engine</td>\n",
       "      <td>Make</td>\n",
       "      <td>Mileage</td>\n",
       "      <td>Model</td>\n",
       "      <td>Transmission</td>\n",
       "      <td>Additional_features</td>\n",
       "      <td>Previous_owners</td>\n",
       "      <td>Price_drops</td>\n",
       "      <td>Photos</td>\n",
       "      <td>Seats</td>\n",
       "      <td>Seller_type</td>\n",
       "      <td>Trim</td>\n",
       "      <td>Price</td>\n",
       "    </tr>\n",
       "    <tr>\n",
       "      <th>15161</th>\n",
       "      <td>Id</td>\n",
       "      <td>Accidents</td>\n",
       "      <td>Body_type</td>\n",
       "      <td>Year</td>\n",
       "      <td>Fuel_economy_combined</td>\n",
       "      <td>Days_on_market</td>\n",
       "      <td>Rating</td>\n",
       "      <td>Distance</td>\n",
       "      <td>Color</td>\n",
       "      <td>Drivetrain</td>\n",
       "      <td>Engine</td>\n",
       "      <td>Make</td>\n",
       "      <td>Mileage</td>\n",
       "      <td>Model</td>\n",
       "      <td>Transmission</td>\n",
       "      <td>Additional_features</td>\n",
       "      <td>Previous_owners</td>\n",
       "      <td>Price_drops</td>\n",
       "      <td>Photos</td>\n",
       "      <td>Seats</td>\n",
       "      <td>Seller_type</td>\n",
       "      <td>Trim</td>\n",
       "      <td>Price</td>\n",
       "    </tr>\n",
       "    <tr>\n",
       "      <th>16062</th>\n",
       "      <td>Id</td>\n",
       "      <td>Accidents</td>\n",
       "      <td>Body_type</td>\n",
       "      <td>Year</td>\n",
       "      <td>Fuel_economy_combined</td>\n",
       "      <td>Days_on_market</td>\n",
       "      <td>Rating</td>\n",
       "      <td>Distance</td>\n",
       "      <td>Color</td>\n",
       "      <td>Drivetrain</td>\n",
       "      <td>Engine</td>\n",
       "      <td>Make</td>\n",
       "      <td>Mileage</td>\n",
       "      <td>Model</td>\n",
       "      <td>Transmission</td>\n",
       "      <td>Additional_features</td>\n",
       "      <td>Previous_owners</td>\n",
       "      <td>Price_drops</td>\n",
       "      <td>Photos</td>\n",
       "      <td>Seats</td>\n",
       "      <td>Seller_type</td>\n",
       "      <td>Trim</td>\n",
       "      <td>Price</td>\n",
       "    </tr>\n",
       "    <tr>\n",
       "      <th>16799</th>\n",
       "      <td>Id</td>\n",
       "      <td>Accidents</td>\n",
       "      <td>Body_type</td>\n",
       "      <td>Year</td>\n",
       "      <td>Fuel_economy_combined</td>\n",
       "      <td>Days_on_market</td>\n",
       "      <td>Rating</td>\n",
       "      <td>Distance</td>\n",
       "      <td>Color</td>\n",
       "      <td>Drivetrain</td>\n",
       "      <td>Engine</td>\n",
       "      <td>Make</td>\n",
       "      <td>Mileage</td>\n",
       "      <td>Model</td>\n",
       "      <td>Transmission</td>\n",
       "      <td>Additional_features</td>\n",
       "      <td>Previous_owners</td>\n",
       "      <td>Price_drops</td>\n",
       "      <td>Photos</td>\n",
       "      <td>Seats</td>\n",
       "      <td>Seller_type</td>\n",
       "      <td>Trim</td>\n",
       "      <td>Price</td>\n",
       "    </tr>\n",
       "    <tr>\n",
       "      <th>17700</th>\n",
       "      <td>Id</td>\n",
       "      <td>Accidents</td>\n",
       "      <td>Body_type</td>\n",
       "      <td>Year</td>\n",
       "      <td>Fuel_economy_combined</td>\n",
       "      <td>Days_on_market</td>\n",
       "      <td>Rating</td>\n",
       "      <td>Distance</td>\n",
       "      <td>Color</td>\n",
       "      <td>Drivetrain</td>\n",
       "      <td>Engine</td>\n",
       "      <td>Make</td>\n",
       "      <td>Mileage</td>\n",
       "      <td>Model</td>\n",
       "      <td>Transmission</td>\n",
       "      <td>Additional_features</td>\n",
       "      <td>Previous_owners</td>\n",
       "      <td>Price_drops</td>\n",
       "      <td>Photos</td>\n",
       "      <td>Seats</td>\n",
       "      <td>Seller_type</td>\n",
       "      <td>Trim</td>\n",
       "      <td>Price</td>\n",
       "    </tr>\n",
       "    <tr>\n",
       "      <th>18601</th>\n",
       "      <td>Id</td>\n",
       "      <td>Accidents</td>\n",
       "      <td>Body_type</td>\n",
       "      <td>Year</td>\n",
       "      <td>Fuel_economy_combined</td>\n",
       "      <td>Days_on_market</td>\n",
       "      <td>Rating</td>\n",
       "      <td>Distance</td>\n",
       "      <td>Color</td>\n",
       "      <td>Drivetrain</td>\n",
       "      <td>Engine</td>\n",
       "      <td>Make</td>\n",
       "      <td>Mileage</td>\n",
       "      <td>Model</td>\n",
       "      <td>Transmission</td>\n",
       "      <td>Additional_features</td>\n",
       "      <td>Previous_owners</td>\n",
       "      <td>Price_drops</td>\n",
       "      <td>Photos</td>\n",
       "      <td>Seats</td>\n",
       "      <td>Seller_type</td>\n",
       "      <td>Trim</td>\n",
       "      <td>Price</td>\n",
       "    </tr>\n",
       "  </tbody>\n",
       "</table>\n",
       "</div>"
      ],
      "text/plain": [
       "       Id  Accidents  Body_type  Year  Fuel_economy_combined  Days_on_market  \\\n",
       "900    Id  Accidents  Body_type  Year  Fuel_economy_combined  Days_on_market   \n",
       "1801   Id  Accidents  Body_type  Year  Fuel_economy_combined  Days_on_market   \n",
       "2702   Id  Accidents  Body_type  Year  Fuel_economy_combined  Days_on_market   \n",
       "3603   Id  Accidents  Body_type  Year  Fuel_economy_combined  Days_on_market   \n",
       "4504   Id  Accidents  Body_type  Year  Fuel_economy_combined  Days_on_market   \n",
       "5405   Id  Accidents  Body_type  Year  Fuel_economy_combined  Days_on_market   \n",
       "5550   Id  Accidents  Body_type  Year  Fuel_economy_combined  Days_on_market   \n",
       "6451   Id  Accidents  Body_type  Year  Fuel_economy_combined  Days_on_market   \n",
       "7352   Id  Accidents  Body_type  Year  Fuel_economy_combined  Days_on_market   \n",
       "8253   Id  Accidents  Body_type  Year  Fuel_economy_combined  Days_on_market   \n",
       "9154   Id  Accidents  Body_type  Year  Fuel_economy_combined  Days_on_market   \n",
       "10055  Id  Accidents  Body_type  Year  Fuel_economy_combined  Days_on_market   \n",
       "10956  Id  Accidents  Body_type  Year  Fuel_economy_combined  Days_on_market   \n",
       "11857  Id  Accidents  Body_type  Year  Fuel_economy_combined  Days_on_market   \n",
       "12758  Id  Accidents  Body_type  Year  Fuel_economy_combined  Days_on_market   \n",
       "13659  Id  Accidents  Body_type  Year  Fuel_economy_combined  Days_on_market   \n",
       "14260  Id  Accidents  Body_type  Year  Fuel_economy_combined  Days_on_market   \n",
       "15161  Id  Accidents  Body_type  Year  Fuel_economy_combined  Days_on_market   \n",
       "16062  Id  Accidents  Body_type  Year  Fuel_economy_combined  Days_on_market   \n",
       "16799  Id  Accidents  Body_type  Year  Fuel_economy_combined  Days_on_market   \n",
       "17700  Id  Accidents  Body_type  Year  Fuel_economy_combined  Days_on_market   \n",
       "18601  Id  Accidents  Body_type  Year  Fuel_economy_combined  Days_on_market   \n",
       "\n",
       "       Rating  Distance  Color  Drivetrain  Engine  Make  Mileage  Model  \\\n",
       "900    Rating  Distance  Color  Drivetrain  Engine  Make  Mileage  Model   \n",
       "1801   Rating  Distance  Color  Drivetrain  Engine  Make  Mileage  Model   \n",
       "2702   Rating  Distance  Color  Drivetrain  Engine  Make  Mileage  Model   \n",
       "3603   Rating  Distance  Color  Drivetrain  Engine  Make  Mileage  Model   \n",
       "4504   Rating  Distance  Color  Drivetrain  Engine  Make  Mileage  Model   \n",
       "5405   Rating  Distance  Color  Drivetrain  Engine  Make  Mileage  Model   \n",
       "5550   Rating  Distance  Color  Drivetrain  Engine  Make  Mileage  Model   \n",
       "6451   Rating  Distance  Color  Drivetrain  Engine  Make  Mileage  Model   \n",
       "7352   Rating  Distance  Color  Drivetrain  Engine  Make  Mileage  Model   \n",
       "8253   Rating  Distance  Color  Drivetrain  Engine  Make  Mileage  Model   \n",
       "9154   Rating  Distance  Color  Drivetrain  Engine  Make  Mileage  Model   \n",
       "10055  Rating  Distance  Color  Drivetrain  Engine  Make  Mileage  Model   \n",
       "10956  Rating  Distance  Color  Drivetrain  Engine  Make  Mileage  Model   \n",
       "11857  Rating  Distance  Color  Drivetrain  Engine  Make  Mileage  Model   \n",
       "12758  Rating  Distance  Color  Drivetrain  Engine  Make  Mileage  Model   \n",
       "13659  Rating  Distance  Color  Drivetrain  Engine  Make  Mileage  Model   \n",
       "14260  Rating  Distance  Color  Drivetrain  Engine  Make  Mileage  Model   \n",
       "15161  Rating  Distance  Color  Drivetrain  Engine  Make  Mileage  Model   \n",
       "16062  Rating  Distance  Color  Drivetrain  Engine  Make  Mileage  Model   \n",
       "16799  Rating  Distance  Color  Drivetrain  Engine  Make  Mileage  Model   \n",
       "17700  Rating  Distance  Color  Drivetrain  Engine  Make  Mileage  Model   \n",
       "18601  Rating  Distance  Color  Drivetrain  Engine  Make  Mileage  Model   \n",
       "\n",
       "       Transmission  Additional_features  Previous_owners  Price_drops  \\\n",
       "900    Transmission  Additional_features  Previous_owners  Price_drops   \n",
       "1801   Transmission  Additional_features  Previous_owners  Price_drops   \n",
       "2702   Transmission  Additional_features  Previous_owners  Price_drops   \n",
       "3603   Transmission  Additional_features  Previous_owners  Price_drops   \n",
       "4504   Transmission  Additional_features  Previous_owners  Price_drops   \n",
       "5405   Transmission  Additional_features  Previous_owners  Price_drops   \n",
       "5550   Transmission  Additional_features  Previous_owners  Price_drops   \n",
       "6451   Transmission  Additional_features  Previous_owners  Price_drops   \n",
       "7352   Transmission  Additional_features  Previous_owners  Price_drops   \n",
       "8253   Transmission  Additional_features  Previous_owners  Price_drops   \n",
       "9154   Transmission  Additional_features  Previous_owners  Price_drops   \n",
       "10055  Transmission  Additional_features  Previous_owners  Price_drops   \n",
       "10956  Transmission  Additional_features  Previous_owners  Price_drops   \n",
       "11857  Transmission  Additional_features  Previous_owners  Price_drops   \n",
       "12758  Transmission  Additional_features  Previous_owners  Price_drops   \n",
       "13659  Transmission  Additional_features  Previous_owners  Price_drops   \n",
       "14260  Transmission  Additional_features  Previous_owners  Price_drops   \n",
       "15161  Transmission  Additional_features  Previous_owners  Price_drops   \n",
       "16062  Transmission  Additional_features  Previous_owners  Price_drops   \n",
       "16799  Transmission  Additional_features  Previous_owners  Price_drops   \n",
       "17700  Transmission  Additional_features  Previous_owners  Price_drops   \n",
       "18601  Transmission  Additional_features  Previous_owners  Price_drops   \n",
       "\n",
       "       Photos  Seats  Seller_type  Trim  Price  \n",
       "900    Photos  Seats  Seller_type  Trim  Price  \n",
       "1801   Photos  Seats  Seller_type  Trim  Price  \n",
       "2702   Photos  Seats  Seller_type  Trim  Price  \n",
       "3603   Photos  Seats  Seller_type  Trim  Price  \n",
       "4504   Photos  Seats  Seller_type  Trim  Price  \n",
       "5405   Photos  Seats  Seller_type  Trim  Price  \n",
       "5550   Photos  Seats  Seller_type  Trim  Price  \n",
       "6451   Photos  Seats  Seller_type  Trim  Price  \n",
       "7352   Photos  Seats  Seller_type  Trim  Price  \n",
       "8253   Photos  Seats  Seller_type  Trim  Price  \n",
       "9154   Photos  Seats  Seller_type  Trim  Price  \n",
       "10055  Photos  Seats  Seller_type  Trim  Price  \n",
       "10956  Photos  Seats  Seller_type  Trim  Price  \n",
       "11857  Photos  Seats  Seller_type  Trim  Price  \n",
       "12758  Photos  Seats  Seller_type  Trim  Price  \n",
       "13659  Photos  Seats  Seller_type  Trim  Price  \n",
       "14260  Photos  Seats  Seller_type  Trim  Price  \n",
       "15161  Photos  Seats  Seller_type  Trim  Price  \n",
       "16062  Photos  Seats  Seller_type  Trim  Price  \n",
       "16799  Photos  Seats  Seller_type  Trim  Price  \n",
       "17700  Photos  Seats  Seller_type  Trim  Price  \n",
       "18601  Photos  Seats  Seller_type  Trim  Price  "
      ]
     },
     "execution_count": 8,
     "metadata": {},
     "output_type": "execute_result"
    }
   ],
   "source": [
    "df.loc[df[\"Id\"] == \"Id\"]"
   ]
  },
  {
   "cell_type": "code",
   "execution_count": 9,
   "metadata": {},
   "outputs": [],
   "source": [
    "df.drop(index = df[df[\"Id\"] == \"Id\"].index,inplace=True)"
   ]
  },
  {
   "cell_type": "code",
   "execution_count": 10,
   "metadata": {},
   "outputs": [],
   "source": [
    "df.drop_duplicates(inplace=True)"
   ]
  },
  {
   "cell_type": "code",
   "execution_count": 12,
   "metadata": {},
   "outputs": [
    {
     "data": {
      "text/plain": [
       "Id                       object\n",
       "Accidents                object\n",
       "Body_type                object\n",
       "Year                     object\n",
       "Fuel_economy_combined    object\n",
       "Days_on_market           object\n",
       "Rating                   object\n",
       "Distance                 object\n",
       "Color                    object\n",
       "Drivetrain               object\n",
       "Engine                   object\n",
       "Make                     object\n",
       "Mileage                  object\n",
       "Model                    object\n",
       "Transmission             object\n",
       "Additional_features      object\n",
       "Previous_owners          object\n",
       "Price_drops              object\n",
       "Photos                   object\n",
       "Seats                    object\n",
       "Seller_type              object\n",
       "Trim                     object\n",
       "Price                    object\n",
       "dtype: object"
      ]
     },
     "execution_count": 12,
     "metadata": {},
     "output_type": "execute_result"
    }
   ],
   "source": [
    "df.dtypes"
   ]
  },
  {
   "cell_type": "markdown",
   "metadata": {},
   "source": [
    "### Some of them are numerical columns while some are categorical ones. We need to change the types before we could do any feature engineering. Pandas doesn't let us change the dtype to int when there are null values in the column. Let's change all the numerical columns to float type"
   ]
  },
  {
   "cell_type": "markdown",
   "metadata": {},
   "source": [
    "Numerical feature Fuel_economy_combined has MPG at the end. Let's get rid of the MPG from the column"
   ]
  },
  {
   "cell_type": "code",
   "execution_count": 13,
   "metadata": {},
   "outputs": [],
   "source": [
    "df[\"Fuel_economy_combined\"]=df[\"Fuel_economy_combined\"].str.replace(\"MPG\",\"\")"
   ]
  },
  {
   "cell_type": "code",
   "execution_count": 14,
   "metadata": {},
   "outputs": [],
   "source": [
    "df[\"Fuel_economy_combined\"] = df[\"Fuel_economy_combined\"].astype(np.float)\n",
    "df[\"Accidents\"] = df[\"Accidents\"].astype(np.float)\n",
    "df[\"Year\"] = df[\"Year\"].astype(np.float)\n",
    "df[\"Days_on_market\"] = df[\"Days_on_market\"].astype(np.float)\n",
    "df[\"Distance\"] = df[\"Distance\"].astype(np.float)\n",
    "df[\"Mileage\"] = df[\"Mileage\"].astype(np.float)\n",
    "df[\"Additional_features\"] = df[\"Additional_features\"].astype(np.float)\n",
    "df[\"Previous_owners\"] = df[\"Previous_owners\"].astype(np.float)\n",
    "df[\"Seats\"] = df[\"Seats\"].astype(np.float)\n",
    "df[\"Price\"] = df[\"Price\"].astype(np.float)"
   ]
  },
  {
   "cell_type": "markdown",
   "metadata": {},
   "source": []
  },
  {
   "cell_type": "code",
   "execution_count": 15,
   "metadata": {},
   "outputs": [
    {
     "data": {
      "text/plain": [
       "Id                        object\n",
       "Accidents                float64\n",
       "Body_type                 object\n",
       "Year                     float64\n",
       "Fuel_economy_combined    float64\n",
       "Days_on_market           float64\n",
       "Rating                    object\n",
       "Distance                 float64\n",
       "Color                     object\n",
       "Drivetrain                object\n",
       "Engine                    object\n",
       "Make                      object\n",
       "Mileage                  float64\n",
       "Model                     object\n",
       "Transmission              object\n",
       "Additional_features      float64\n",
       "Previous_owners          float64\n",
       "Price_drops               object\n",
       "Photos                    object\n",
       "Seats                    float64\n",
       "Seller_type               object\n",
       "Trim                      object\n",
       "Price                    float64\n",
       "dtype: object"
      ]
     },
     "execution_count": 15,
     "metadata": {},
     "output_type": "execute_result"
    }
   ],
   "source": [
    "df.dtypes"
   ]
  },
  {
   "cell_type": "code",
   "execution_count": null,
   "metadata": {},
   "outputs": [],
   "source": []
  },
  {
   "cell_type": "code",
   "execution_count": null,
   "metadata": {},
   "outputs": [],
   "source": []
  },
  {
   "cell_type": "code",
   "execution_count": 16,
   "metadata": {},
   "outputs": [
    {
     "data": {
      "text/plain": [
       "<matplotlib.axes._subplots.AxesSubplot at 0x11e4a8950>"
      ]
     },
     "execution_count": 16,
     "metadata": {},
     "output_type": "execute_result"
    },
    {
     "data": {
      "image/png": "[encoded data removed]",
      "text/plain": [
       "<Figure size 1080x576 with 1 Axes>"
      ]
     },
     "metadata": {
      "needs_background": "light"
     },
     "output_type": "display_data"
    }
   ],
   "source": [
    "# Let's look at the missing values\n",
    "plt.figure(figsize=(15,8))\n",
    "sns.heatmap(df.isnull(),cbar=False,cmap='viridis')"
   ]
  },
  {
   "cell_type": "code",
   "execution_count": 17,
   "metadata": {},
   "outputs": [],
   "source": [
    "df.drop(\"Price_drops\",axis=1,inplace=True) "
   ]
  },
  {
   "cell_type": "markdown",
   "metadata": {},
   "source": [
    "### Let's look at each of the columns and see how we can impute the missing values"
   ]
  },
  {
   "cell_type": "code",
   "execution_count": 18,
   "metadata": {},
   "outputs": [],
   "source": [
    "missing = df.isnull().sum().sort_values(ascending=False)"
   ]
  },
  {
   "cell_type": "code",
   "execution_count": null,
   "metadata": {},
   "outputs": [],
   "source": []
  },
  {
   "cell_type": "code",
   "execution_count": 19,
   "metadata": {},
   "outputs": [
    {
     "data": {
      "text/plain": [
       "Fuel_economy_combined    10.792927\n",
       "Photos                    6.889457\n",
       "Drivetrain                5.510454\n",
       "Rating                    2.307607\n",
       "Previous_owners           1.595863\n",
       "Price                     1.467972\n",
       "Seats                     1.345641\n",
       "Engine                    1.184386\n",
       "Transmission              1.056495\n",
       "Trim                      1.006450\n",
       "Accidents                 0.400356\n",
       "Mileage                   0.189057\n",
       "Body_type                 0.077847\n",
       "Model                     0.000000\n",
       "Make                      0.000000\n",
       "Color                     0.000000\n",
       "Distance                  0.000000\n",
       "Additional_features       0.000000\n",
       "Days_on_market            0.000000\n",
       "Seller_type               0.000000\n",
       "Year                      0.000000\n",
       "Id                        0.000000\n",
       "dtype: float64"
      ]
     },
     "execution_count": 19,
     "metadata": {},
     "output_type": "execute_result"
    }
   ],
   "source": [
    "missing/len(df)*100   # In terms of percentage"
   ]
  },
  {
   "cell_type": "markdown",
   "metadata": {},
   "source": [
    "### 1. Fuel economy"
   ]
  },
  {
   "cell_type": "code",
   "execution_count": 20,
   "metadata": {},
   "outputs": [
    {
     "data": {
      "text/plain": [
       "<matplotlib.axes._subplots.AxesSubplot at 0x11e7e7210>"
      ]
     },
     "execution_count": 20,
     "metadata": {},
     "output_type": "execute_result"
    },
    {
     "data": {
      "image/png": "[encoded data removed]",
      "text/plain": [
       "<Figure size 432x288 with 1 Axes>"
      ]
     },
     "metadata": {
      "needs_background": "light"
     },
     "output_type": "display_data"
    }
   ],
   "source": [
    "#Fuel economy\n",
    "sns.distplot(df[\"Fuel_economy_combined\"],fit = norm)"
   ]
  },
  {
   "cell_type": "code",
   "execution_count": 21,
   "metadata": {},
   "outputs": [
    {
     "data": {
      "text/plain": [
       "27.15608053356604"
      ]
     },
     "execution_count": 21,
     "metadata": {},
     "output_type": "execute_result"
    }
   ],
   "source": [
    "# Looks more or less normally distributed. We can impute the missing values with the mean\n",
    "df[\"Fuel_economy_combined\"].mean()"
   ]
  },
  {
   "cell_type": "code",
   "execution_count": 22,
   "metadata": {},
   "outputs": [],
   "source": [
    "df['Fuel_economy_combined'].fillna(df[\"Fuel_economy_combined\"].mean(),inplace = True)"
   ]
  },
  {
   "cell_type": "markdown",
   "metadata": {},
   "source": [
    "### 2. Photos"
   ]
  },
  {
   "cell_type": "code",
   "execution_count": 23,
   "metadata": {},
   "outputs": [],
   "source": [
    "df[\"Photos\"].fillna(0,inplace = True)"
   ]
  },
  {
   "cell_type": "code",
   "execution_count": 24,
   "metadata": {},
   "outputs": [],
   "source": [
    "df[\"Photos\"].replace(True,1,inplace=True)"
   ]
  },
  {
   "cell_type": "markdown",
   "metadata": {},
   "source": [
    "### 3. Drivetrain"
   ]
  },
  {
   "cell_type": "code",
   "execution_count": 25,
   "metadata": {},
   "outputs": [
    {
     "data": {
      "text/plain": [
       "FRONT_WHEEL_DRIVE    8407\n",
       "ALL_WHEEL_DRIVE      7080\n",
       "FOUR_WHEEL_DRIVE     1465\n",
       "REAR_WHEEL_DRIVE       24\n",
       "FOUR_BY_TWO            17\n",
       "Name: Drivetrain, dtype: int64"
      ]
     },
     "execution_count": 25,
     "metadata": {},
     "output_type": "execute_result"
    }
   ],
   "source": [
    "df[\"Drivetrain\"].value_counts()"
   ]
  },
  {
   "cell_type": "markdown",
   "metadata": {},
   "source": [
    "Four wheel drive is same as all wheel drive. Also, Four by Two is similar to FWD or RWD and switches in between."
   ]
  },
  {
   "cell_type": "code",
   "execution_count": 26,
   "metadata": {},
   "outputs": [],
   "source": [
    "df[\"Drivetrain\"].replace(\"FOUR_WHEEL_DRIVE\",\"ALL_WHEEL_DRIVE\",inplace = True)\n",
    "df[\"Drivetrain\"].replace(\"FOUR_BY_TWO\",\"FRONT_WHEEL_DRIVE\",inplace = True)"
   ]
  },
  {
   "cell_type": "code",
   "execution_count": 115,
   "metadata": {},
   "outputs": [
    {
     "data": {
      "text/plain": [
       "<matplotlib.axes._subplots.AxesSubplot at 0x130c87d10>"
      ]
     },
     "execution_count": 115,
     "metadata": {},
     "output_type": "execute_result"
    },
    {
     "data": {
      "image/png": "[encoded data removed]",
      "text/plain": [
       "<Figure size 432x288 with 1 Axes>"
      ]
     },
     "metadata": {},
     "output_type": "display_data"
    }
   ],
   "source": [
    "sns.boxplot(x = \"Drivetrain\",y =\"Price\",data =df)"
   ]
  },
  {
   "cell_type": "code",
   "execution_count": null,
   "metadata": {},
   "outputs": [],
   "source": []
  },
  {
   "cell_type": "code",
   "execution_count": 28,
   "metadata": {},
   "outputs": [],
   "source": [
    "#ok, that's why\n",
    "df[\"Drivetrain\"].replace(\"REAR_WHEEL_DRIVE\",\"FRONT_WHEEL_DRIVE\",inplace = True)"
   ]
  },
  {
   "cell_type": "code",
   "execution_count": 29,
   "metadata": {},
   "outputs": [
    {
     "data": {
      "text/plain": [
       "ALL_WHEEL_DRIVE      8545\n",
       "FRONT_WHEEL_DRIVE    8448\n",
       "Name: Drivetrain, dtype: int64"
      ]
     },
     "execution_count": 29,
     "metadata": {},
     "output_type": "execute_result"
    }
   ],
   "source": [
    "df[\"Drivetrain\"].value_counts()"
   ]
  },
  {
   "cell_type": "code",
   "execution_count": 30,
   "metadata": {},
   "outputs": [
    {
     "data": {
      "text/plain": [
       "991"
      ]
     },
     "execution_count": 30,
     "metadata": {},
     "output_type": "execute_result"
    }
   ],
   "source": [
    "df[\"Drivetrain\"].isnull().sum() #check for missing values"
   ]
  },
  {
   "cell_type": "code",
   "execution_count": 31,
   "metadata": {},
   "outputs": [
    {
     "data": {
      "text/plain": [
       "Body_type        Drivetrain       \n",
       "SUV / Crossover  ALL_WHEEL_DRIVE      7502\n",
       "                 FRONT_WHEEL_DRIVE    1668\n",
       "Sedan            FRONT_WHEEL_DRIVE    6780\n",
       "                 ALL_WHEEL_DRIVE      1043\n",
       "Name: Drivetrain, dtype: int64"
      ]
     },
     "execution_count": 31,
     "metadata": {},
     "output_type": "execute_result"
    }
   ],
   "source": [
    "df.groupby(\"Body_type\")[\"Drivetrain\"].value_counts() # See how does the drivetrain stack up against the bodytype"
   ]
  },
  {
   "cell_type": "markdown",
   "metadata": {},
   "source": [
    "Looks like more SUVs have AWD while sedans predominantly have FWD.\n",
    "So, let's impute the missing value with AWD when the bodytype is suv and FWD when sedan."
   ]
  },
  {
   "cell_type": "code",
   "execution_count": null,
   "metadata": {},
   "outputs": [],
   "source": [
    "# No need to create a new one! Make changes in the original column\n",
    "#df[\"Drivetrain_imputed\"] = df[\"Drivetrain\"].copy()"
   ]
  },
  {
   "cell_type": "code",
   "execution_count": 32,
   "metadata": {},
   "outputs": [
    {
     "data": {
      "text/plain": [
       "991"
      ]
     },
     "execution_count": 32,
     "metadata": {},
     "output_type": "execute_result"
    }
   ],
   "source": [
    "pd.isnull(df[\"Drivetrain\"]).sum()"
   ]
  },
  {
   "cell_type": "code",
   "execution_count": 33,
   "metadata": {},
   "outputs": [],
   "source": [
    "# Function to impute missing values in the drivetrain column based on the kind of bodytype\n",
    "def impute_drive_train(columns):\n",
    "    body_type = columns[0]\n",
    "    drive_train = columns[1]\n",
    "    if pd.isnull(drive_train):\n",
    "        if body_type == \"SUV / Crossover\":\n",
    "            return \"ALL_WHEEL_DRIVE\"\n",
    "        else:\n",
    "            return \"FRONT_WHEEL_DRIVE\"\n",
    "    else:\n",
    "        return drive_train    "
   ]
  },
  {
   "cell_type": "code",
   "execution_count": 34,
   "metadata": {},
   "outputs": [],
   "source": [
    "df[\"Drivetrain\"] = df[[\"Body_type\",\"Drivetrain\"]].apply(impute_drive_train,axis=1)"
   ]
  },
  {
   "cell_type": "code",
   "execution_count": 35,
   "metadata": {},
   "outputs": [
    {
     "data": {
      "text/plain": [
       "ALL_WHEEL_DRIVE      9106\n",
       "FRONT_WHEEL_DRIVE    8878\n",
       "Name: Drivetrain, dtype: int64"
      ]
     },
     "execution_count": 35,
     "metadata": {},
     "output_type": "execute_result"
    }
   ],
   "source": [
    "df[\"Drivetrain\"].value_counts()  # No need for this line"
   ]
  },
  {
   "cell_type": "markdown",
   "metadata": {},
   "source": [
    "### 4. Rating"
   ]
  },
  {
   "cell_type": "code",
   "execution_count": 36,
   "metadata": {},
   "outputs": [
    {
     "data": {
      "text/plain": [
       "FAIR_PRICE     9340\n",
       "GOOD_PRICE     6567\n",
       "GREAT_PRICE    1100\n",
       "POOR_PRICE      447\n",
       "OVERPRICED       93\n",
       "OUTLIER          22\n",
       "Name: Rating, dtype: int64"
      ]
     },
     "execution_count": 36,
     "metadata": {},
     "output_type": "execute_result"
    }
   ],
   "source": [
    "# Rating\n",
    "df[\"Rating\"].value_counts()"
   ]
  },
  {
   "cell_type": "code",
   "execution_count": 37,
   "metadata": {},
   "outputs": [
    {
     "data": {
      "text/plain": [
       "<matplotlib.axes._subplots.AxesSubplot at 0x11ee1ad10>"
      ]
     },
     "execution_count": 37,
     "metadata": {},
     "output_type": "execute_result"
    },
    {
     "data": {
      "image/png": "[encoded data removed]",
      "text/plain": [
       "<Figure size 576x432 with 1 Axes>"
      ]
     },
     "metadata": {
      "needs_background": "light"
     },
     "output_type": "display_data"
    }
   ],
   "source": [
    "plt.figure(figsize=(8,6))\n",
    "sns.boxplot(x = \"Rating\",y = \"Price\",data =df)"
   ]
  },
  {
   "cell_type": "code",
   "execution_count": 38,
   "metadata": {},
   "outputs": [],
   "source": [
    "df[\"Rating\"].replace(dict.fromkeys([\"FAIR_PRICE\",\"GOOD_PRICE\",\"GREAT_PRICE\"],\"Great_Price\"),inplace = True)\n",
    "df[\"Rating\"].replace(dict.fromkeys([\"POOR_PRICE\",\"OVERPRICED\",\"OUTLIER\"],\"Poor_Price\"),inplace = True)"
   ]
  },
  {
   "cell_type": "code",
   "execution_count": 48,
   "metadata": {},
   "outputs": [],
   "source": [
    "df[\"Rating\"].fillna(\"Great_Price\",inplace=True)"
   ]
  },
  {
   "cell_type": "markdown",
   "metadata": {},
   "source": [
    "### 5. Previous owners"
   ]
  },
  {
   "cell_type": "code",
   "execution_count": null,
   "metadata": {},
   "outputs": [],
   "source": []
  },
  {
   "cell_type": "code",
   "execution_count": 51,
   "metadata": {},
   "outputs": [
    {
     "data": {
      "text/plain": [
       "<matplotlib.axes._subplots.AxesSubplot at 0x1286e4b90>"
      ]
     },
     "execution_count": 51,
     "metadata": {},
     "output_type": "execute_result"
    },
    {
     "data": {
      "image/png": "[encoded data removed]",
      "text/plain": [
       "<Figure size 432x288 with 1 Axes>"
      ]
     },
     "metadata": {},
     "output_type": "display_data"
    }
   ],
   "source": [
    "sns.distplot(df[\"Previous_owners\"])"
   ]
  },
  {
   "cell_type": "code",
   "execution_count": 50,
   "metadata": {},
   "outputs": [
    {
     "data": {
      "text/plain": [
       "1.0    11254\n",
       "2.0     4551\n",
       "3.0     1429\n",
       "4.0      352\n",
       "5.0       82\n",
       "6.0       23\n",
       "7.0        6\n",
       "Name: Previous_owners, dtype: int64"
      ]
     },
     "execution_count": 50,
     "metadata": {},
     "output_type": "execute_result"
    }
   ],
   "source": [
    "df[\"Previous_owners\"].value_counts()"
   ]
  },
  {
   "cell_type": "code",
   "execution_count": 52,
   "metadata": {},
   "outputs": [],
   "source": [
    "df[\"Previous_owners\"].fillna(1.0,inplace=True)"
   ]
  },
  {
   "cell_type": "markdown",
   "metadata": {},
   "source": [
    "## The rest of the columns have less than 1.5% of missing values. Let's drop the rows with the missing values."
   ]
  },
  {
   "cell_type": "code",
   "execution_count": 53,
   "metadata": {},
   "outputs": [],
   "source": [
    "df.dropna(inplace=True)"
   ]
  },
  {
   "cell_type": "code",
   "execution_count": 57,
   "metadata": {},
   "outputs": [
    {
     "data": {
      "text/plain": [
       "<matplotlib.axes._subplots.AxesSubplot at 0x12877aad0>"
      ]
     },
     "execution_count": 57,
     "metadata": {},
     "output_type": "execute_result"
    },
    {
     "data": {
      "image/png": "[encoded data removed]",
      "text/plain": [
       "<Figure size 720x576 with 1 Axes>"
      ]
     },
     "metadata": {},
     "output_type": "display_data"
    }
   ],
   "source": [
    "plt.figure(figsize=(10,8))\n",
    "sns.heatmap(df.isnull(),cbar=False,cmap='viridis') # Checking one more time for any missing value."
   ]
  },
  {
   "cell_type": "code",
   "execution_count": null,
   "metadata": {},
   "outputs": [],
   "source": []
  },
  {
   "cell_type": "code",
   "execution_count": null,
   "metadata": {},
   "outputs": [],
   "source": []
  },
  {
   "cell_type": "code",
   "execution_count": null,
   "metadata": {},
   "outputs": [],
   "source": []
  },
  {
   "cell_type": "markdown",
   "metadata": {},
   "source": [
    "# Let's look at the categorical columns first"
   ]
  },
  {
   "cell_type": "code",
   "execution_count": 39,
   "metadata": {},
   "outputs": [
    {
     "data": {
      "text/plain": [
       "I4    12576\n",
       "V6     3022\n",
       "H4     1742\n",
       "V8      223\n",
       "I5       79\n",
       "I3       77\n",
       "H6       46\n",
       "I6        6\n",
       "Name: Engine, dtype: int64"
      ]
     },
     "execution_count": 39,
     "metadata": {},
     "output_type": "execute_result"
    }
   ],
   "source": [
    "# Engine\n",
    "df[\"Engine\"].value_counts()"
   ]
  },
  {
   "cell_type": "code",
   "execution_count": 40,
   "metadata": {},
   "outputs": [],
   "source": [
    "df[\"Engine\"].replace(dict.fromkeys([\"I3\",\"I5\",\"I4\"],\"I4\"),inplace = True)\n",
    "df[\"Engine\"].replace(dict.fromkeys([\"V6\",\"V8\",\"I6\"],\"V6\"),inplace = True)\n",
    "df[\"Engine\"].replace(dict.fromkeys([\"H4\",\"H6\"],\"H4\"),inplace = True)"
   ]
  },
  {
   "cell_type": "code",
   "execution_count": 108,
   "metadata": {},
   "outputs": [
    {
     "data": {
      "text/plain": [
       "Automatic                             4907\n",
       "6-Speed Automatic                     4896\n",
       "Continuously Variable Transmission    4039\n",
       "6-Speed Automatic Overdrive            650\n",
       "5-Speed Automatic                      579\n",
       "8-Speed Automatic                      421\n",
       "4-Speed Automatic                      328\n",
       "9-Speed Automatic                      273\n",
       "6-Speed Manual                         185\n",
       "6-Speed Dual Clutch                    173\n",
       "5-Speed Automatic Overdrive            156\n",
       "5-Speed Manual                         117\n",
       "Manual                                  99\n",
       "7-Speed Automatic                       92\n",
       "4-Speed Automatic Overdrive             42\n",
       "7-Speed CVT                             37\n",
       "6-Speed CVT                             18\n",
       "9-Speed Automatic Overdrive             14\n",
       "6-Speed Manual Overdrive                12\n",
       "8-Speed CVT                              9\n",
       "8-Speed Automatic Overdrive              7\n",
       "5-Speed Manual Overdrive                 5\n",
       "1-Speed Automatic                        4\n",
       "7-Speed Automatic Overdrive              3\n",
       "1-Speed CVT                              3\n",
       "7-Speed Dual Clutch                      3\n",
       "2-Speed Automatic                        2\n",
       "4-Speed Manual                           2\n",
       "7-Speed Manual                           1\n",
       "1-Speed Dual Clutch                      1\n",
       "4-Speed CVT                              1\n",
       "Name: Transmission, dtype: int64"
      ]
     },
     "execution_count": 108,
     "metadata": {},
     "output_type": "execute_result"
    }
   ],
   "source": [
    "# Transmission\n",
    "df[\"Transmission\"].value_counts()"
   ]
  },
  {
   "cell_type": "markdown",
   "metadata": {},
   "source": [
    "Lots of different names for the same kind of transmission.\n",
    "The three main categories are:\n",
    "1. Automatic\n",
    "2. Manual\n",
    "3. Continuous Variable Transmission(CVT)"
   ]
  },
  {
   "cell_type": "markdown",
   "metadata": {},
   "source": [
    "Let's create a mask for each of them"
   ]
  },
  {
   "cell_type": "code",
   "execution_count": 103,
   "metadata": {},
   "outputs": [
    {
     "name": "stderr",
     "output_type": "stream",
     "text": [
      "/Users/axr524/anaconda2/envs/scrape_env/lib/python3.7/site-packages/pandas/core/strings.py:1954: UserWarning: This pattern has match groups. To actually get the groups, use str.extract.\n",
      "  return func(self, *args, **kwargs)\n"
     ]
    }
   ],
   "source": [
    "mask_automatic = df[\"Transmission\"].value_counts().index.str.contains(\"Automatic\",case=False,regex=False)\n",
    "mask_manual = df[\"Transmission\"].value_counts().index.str.contains(\"(Manual|Clutch)\",case=False,regex=True)\n",
    "mask_cvt = df[\"Transmission\"].value_counts().index.str.contains(\"(Continuous|CVT)\",case=False,regex=True)"
   ]
  },
  {
   "cell_type": "code",
   "execution_count": 104,
   "metadata": {},
   "outputs": [],
   "source": [
    "auto_list = df[\"Transmission\"].value_counts().index[mask_automatic].tolist()\n",
    "manual_list = df[\"Transmission\"].value_counts().index[mask_manual].tolist()\n",
    "cvt_list = df[\"Transmission\"].value_counts().index[mask_cvt].tolist()"
   ]
  },
  {
   "cell_type": "code",
   "execution_count": null,
   "metadata": {},
   "outputs": [],
   "source": []
  },
  {
   "cell_type": "code",
   "execution_count": 109,
   "metadata": {},
   "outputs": [],
   "source": [
    "df[\"Transmission\"].replace(dict.fromkeys(auto_list,\"Automatic\"),inplace = True)\n",
    "df[\"Transmission\"].replace(dict.fromkeys(manual_list,\"Manual\"),inplace = True)\n",
    "df[\"Transmission\"].replace(dict.fromkeys(cvt_list,\"CVT\"),inplace = True)"
   ]
  },
  {
   "cell_type": "code",
   "execution_count": 110,
   "metadata": {},
   "outputs": [
    {
     "data": {
      "text/plain": [
       "Automatic    12374\n",
       "CVT           4107\n",
       "Manual         598\n",
       "Name: Transmission, dtype: int64"
      ]
     },
     "execution_count": 110,
     "metadata": {},
     "output_type": "execute_result"
    }
   ],
   "source": [
    "df[\"Transmission\"].value_counts()"
   ]
  },
  {
   "cell_type": "code",
   "execution_count": 113,
   "metadata": {},
   "outputs": [
    {
     "data": {
      "image/png": "[encoded data removed]",
      "text/plain": [
       "<Figure size 720x432 with 1 Axes>"
      ]
     },
     "metadata": {},
     "output_type": "display_data"
    }
   ],
   "source": [
    "plt.figure(figsize=(10,6))\n",
    "sns.boxplot(df[\"Transmission\"],df[\"Price\"])\n",
    "plt.xticks(rotation=0)\n",
    "plt.tight_layout()"
   ]
  },
  {
   "cell_type": "code",
   "execution_count": null,
   "metadata": {},
   "outputs": [],
   "source": []
  },
  {
   "cell_type": "code",
   "execution_count": null,
   "metadata": {},
   "outputs": [],
   "source": []
  },
  {
   "cell_type": "code",
   "execution_count": null,
   "metadata": {},
   "outputs": [],
   "source": []
  },
  {
   "cell_type": "code",
   "execution_count": null,
   "metadata": {},
   "outputs": [],
   "source": []
  },
  {
   "cell_type": "code",
   "execution_count": null,
   "metadata": {},
   "outputs": [],
   "source": []
  },
  {
   "cell_type": "code",
   "execution_count": null,
   "metadata": {},
   "outputs": [],
   "source": []
  },
  {
   "cell_type": "code",
   "execution_count": null,
   "metadata": {},
   "outputs": [],
   "source": []
  },
  {
   "cell_type": "code",
   "execution_count": null,
   "metadata": {},
   "outputs": [],
   "source": []
  },
  {
   "cell_type": "code",
   "execution_count": null,
   "metadata": {},
   "outputs": [],
   "source": []
  },
  {
   "cell_type": "code",
   "execution_count": null,
   "metadata": {},
   "outputs": [],
   "source": []
  },
  {
   "cell_type": "code",
   "execution_count": null,
   "metadata": {},
   "outputs": [],
   "source": []
  },
  {
   "cell_type": "code",
   "execution_count": null,
   "metadata": {},
   "outputs": [],
   "source": [
    "plt.figure(figsize = (15,10))\n",
    "sns.heatmap(df.corr(),annot=True,linewidths=1,cmap = \"coolwarm\")"
   ]
  },
  {
   "cell_type": "code",
   "execution_count": null,
   "metadata": {},
   "outputs": [],
   "source": [
    "df.corr()[\"Price\"].sort_values(ascending = False)"
   ]
  },
  {
   "cell_type": "code",
   "execution_count": null,
   "metadata": {},
   "outputs": [],
   "source": [
    "df[df.corr()[\"Price\"].index]"
   ]
  },
  {
   "cell_type": "code",
   "execution_count": null,
   "metadata": {},
   "outputs": [],
   "source": [
    "sns.jointplot(df[\"Mileage\"],df[\"Price\"])"
   ]
  },
  {
   "cell_type": "code",
   "execution_count": null,
   "metadata": {},
   "outputs": [],
   "source": [
    "sns.distplot(df[\"Fuel_economy_combined\"])"
   ]
  },
  {
   "cell_type": "code",
   "execution_count": null,
   "metadata": {},
   "outputs": [],
   "source": [
    "sns.jointplot(df[\"Fuel_economy_combined\"],df[\"Price\"])"
   ]
  },
  {
   "cell_type": "code",
   "execution_count": null,
   "metadata": {},
   "outputs": [],
   "source": [
    "sns.distplot(df[\"Seats\"])"
   ]
  },
  {
   "cell_type": "code",
   "execution_count": null,
   "metadata": {},
   "outputs": [],
   "source": [
    "df"
   ]
  },
  {
   "cell_type": "code",
   "execution_count": 55,
   "metadata": {},
   "outputs": [
    {
     "data": {
      "text/plain": [
       "Body_type\n",
       "SUV / Crossover    24.665921\n",
       "Sedan              30.165622\n",
       "Name: Fuel_economy_combined, dtype: float64"
      ]
     },
     "execution_count": 55,
     "metadata": {},
     "output_type": "execute_result"
    }
   ],
   "source": [
    "df.groupby(\"Body_type\")[\"Fuel_economy_combined\"].mean()"
   ]
  },
  {
   "cell_type": "code",
   "execution_count": null,
   "metadata": {},
   "outputs": [],
   "source": [
    "sns.jointplot(df[\"Photos\"],df[\"Price\"])"
   ]
  },
  {
   "cell_type": "code",
   "execution_count": null,
   "metadata": {},
   "outputs": [],
   "source": []
  }
 ],
 "metadata": {
  "kernelspec": {
   "display_name": "Python 3",
   "language": "python",
   "name": "python3"
  },
  "language_info": {
   "codemirror_mode": {
    "name": "ipython",
    "version": 3
   },
   "file_extension": ".py",
   "mimetype": "text/x-python",
   "name": "python",
   "nbconvert_exporter": "python",
   "pygments_lexer": "ipython3",
   "version": "3.7.7"
  }
 },
 "nbformat": 4,
 "nbformat_minor": 4
}
